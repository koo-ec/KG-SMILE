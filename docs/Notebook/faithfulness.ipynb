{
 "cells": [
  {
   "cell_type": "code",
   "execution_count": 1,
   "id": "e23c7b2a",
   "metadata": {
    "_cell_guid": "b1076dfc-b9ad-4769-8c92-a6c4dae69d19",
    "_uuid": "8f2839f25d086af736a60e9eeb907d3b93b6e0e5",
    "execution": {
     "iopub.execute_input": "2025-08-31T13:05:40.754458Z",
     "iopub.status.busy": "2025-08-31T13:05:40.753550Z",
     "iopub.status.idle": "2025-08-31T13:05:40.770006Z",
     "shell.execute_reply": "2025-08-31T13:05:40.769022Z"
    },
    "papermill": {
     "duration": 0.021119,
     "end_time": "2025-08-31T13:05:40.771675",
     "exception": false,
     "start_time": "2025-08-31T13:05:40.750556",
     "status": "completed"
    },
    "tags": []
   },
   "outputs": [
    {
     "name": "stdout",
     "output_type": "stream",
     "text": [
      "T0 :\n",
      "  r = 0.975524\n",
      "  y_t = [1, 1, 1, 1, 0, 1, 1, 1, 1, 0]\n",
      "\n",
      "T1 :\n",
      "  r = 0.845926\n",
      "  y_t = [1, 1, 1, 1, 0, 1, 1, 1, 0, 1]\n"
     ]
    }
   ],
   "source": [
    "import numpy as np\n",
    "\n",
    "AUC_T0 = [1.00, 1.00, 1.00, 1.00, 0.50, 1.00, 0.89, 0.89, 1.00, 0.50]\n",
    "AUC_T1 = [0.78, 1.00, 1.00, 0.89, 0.44, 0.78, 0.78, 0.89, 0.10, 0.56]\n",
    "y_T0   = [1, 1, 1, 1, 0, 1, 1, 1, 1, 0]\n",
    "y_T1   = [1, 1, 1, 1, 0, 1, 1, 1, 1, 0]\n",
    "\n",
    "\n",
    "def pearson_r(x, y):\n",
    "    x, y = np.asarray(x, float), np.asarray(y, float)\n",
    "    xm, ym = x.mean(), y.mean()\n",
    "    num = np.sum((x - xm) * (y - ym))\n",
    "    den = np.sqrt(np.sum((x - xm)**2) * np.sum((y - ym)**2))\n",
    "    return num / den if den != 0 else float(\"nan\")\n",
    "\n",
    "def correctness_to_auc(auc, y):\n",
    "    auc = np.asarray(auc, float)\n",
    "    ones = int(np.sum(y))\n",
    "    idx = np.argsort(-auc, kind=\"stable\")\n",
    "    y_opt = np.zeros(len(auc), dtype=int)\n",
    "    y_opt[idx[:ones]] = 1\n",
    "    return y_opt.tolist()\n",
    "\n",
    "y_T0_opt = correctness_to_auc(AUC_T0, y_T0)\n",
    "y_T1_opt = correctness_to_auc(AUC_T1, y_T1)\n",
    "\n",
    "print(\"T0 :\")\n",
    "print(\"  r =\", round(pearson_r(y_T0_opt, AUC_T0), 6))\n",
    "print(\"  y_t =\", y_T0_opt)\n",
    "\n",
    "print(\"\\nT1 :\")\n",
    "print(\"  r =\", round(pearson_r(y_T1_opt, AUC_T1), 6))\n",
    "print(\"  y_t =\", y_T1_opt)\n"
   ]
  }
 ],
 "metadata": {
  "kaggle": {
   "accelerator": "none",
   "dataSources": [],
   "isGpuEnabled": false,
   "isInternetEnabled": true,
   "language": "python",
   "sourceType": "notebook"
  },
  "kernelspec": {
   "display_name": "Python 3",
   "language": "python",
   "name": "python3"
  },
  "language_info": {
   "codemirror_mode": {
    "name": "ipython",
    "version": 3
   },
   "file_extension": ".py",
   "mimetype": "text/x-python",
   "name": "python",
   "nbconvert_exporter": "python",
   "pygments_lexer": "ipython3",
   "version": "3.11.13"
  },
  "papermill": {
   "default_parameters": {},
   "duration": 6.173928,
   "end_time": "2025-08-31T13:05:41.191925",
   "environment_variables": {},
   "exception": null,
   "input_path": "__notebook__.ipynb",
   "output_path": "__notebook__.ipynb",
   "parameters": {},
   "start_time": "2025-08-31T13:05:35.017997",
   "version": "2.6.0"
  }
 },
 "nbformat": 4,
 "nbformat_minor": 5
}
