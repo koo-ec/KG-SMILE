{
 "cells": [
  {
   "cell_type": "code",
   "execution_count": 9,
   "id": "uWz0SMuX5FFp",
   "metadata": {
    "colab": {
     "base_uri": "https://localhost:8080/"
    },
    "id": "uWz0SMuX5FFp",
    "outputId": "bf5567d7-1482-48bf-84a0-76535e79a1f5"
   },
   "outputs": [],
   "source": [
    "# Install the OpenAI and LangChain libraries\n",
    "# - `openai`: Provides access to OpenAI's GPT models for tasks like text generation, embeddings, and completions.\n",
    "# - `langchain`: A framework for building applications using large language models (LLMs).\n",
    "#                Includes tools for chaining prompts, memory, and integrations like knowledge graphs.\n",
    "!pip install -q openai langchain\n",
    "# Attempt to install the LangChain Community library\n",
    "# - `langchain-community`: This may refer to a community-supported version or extensions of LangChain.\n",
    "#   Ensure this package exists and is maintained if errors occur during installation.\n",
    "!pip install -q langchain-community"
   ]
  },
  {
   "cell_type": "markdown",
   "id": "5fa45a12-bf97-4b57-85ef-b8bd04ce5d9c",
   "metadata": {
    "id": "5fa45a12-bf97-4b57-85ef-b8bd04ce5d9c"
   },
   "source": [
    "This script initializes the OpenAI API client and defines a function to interact with the GPT model. The get_chat_response function sends a user-provided text input to the GPT model (gpt-3.5-turbo) and returns the model's response."
   ]
  },
  {
   "cell_type": "code",
   "execution_count": 10,
   "id": "v2VIfINowvpp",
   "metadata": {
    "id": "v2VIfINowvpp"
   },
   "outputs": [],
   "source": [
    "import os\n",
    "from openai import OpenAI\n",
    "\n",
    "# Set the API key in the environment variable\n",
    "os.environ[\"OPENAI_API_KEY\"] = \"sk-MNL1gYbV6CyXkh2rwPxao_D7n8nSxwW4_0wozr5sUtT3BlbkFJoEpwVXUH_Z3deg71NI-mM8QqSOkOGzQ5WDXmQ8FQEA\" # Replace with your actual API key\n",
    "\n",
    "client = OpenAI()\n",
    "\n",
    "def get_chat_response(text):\n",
    "    \"\"\"\n",
    "    This function takes a text input and returns the chat completion message.\n",
    "    \"\"\"\n",
    "    chat_completion = client.chat.completions.create(\n",
    "        messages=[\n",
    "            {\n",
    "                \"role\": \"user\",\n",
    "                \"content\": text,\n",
    "            }\n",
    "        ],\n",
    "        model=\"gpt-3.5-turbo\",\n",
    "    )\n",
    "    return chat_completion.choices[0].message.content\n"
   ]
  },
  {
   "cell_type": "code",
   "execution_count": null,
   "id": "d292c1a5-9e7d-4231-b908-8f3950b8c259",
   "metadata": {
    "id": "d292c1a5-9e7d-4231-b908-8f3950b8c259"
   },
   "outputs": [],
   "source": [
    "import networkx as nx  # For creating and analyzing graphs/networks.\n",
    "\n",
    "import matplotlib.pyplot as plt  # For data visualization and plotting.\n",
    "\n",
    "import numpy as np  # For numerical operations and array handling.\n",
    "\n",
    "import seaborn as sns\n",
    "\n",
    "import pandas as pd\n",
    "\n",
    "import random  # For generating random numbers.\n",
    "\n",
    "from langchain.llms import OpenAI\n",
    "\n",
    "from langchain.graphs.networkx_graph import NetworkxEntityGraph, KnowledgeTriple # Represents (subject, predicate, object) triples.\n",
    "\n",
    "from scipy.spatial.distance import cosine  # For cosine similarity/distance between vectors.\n",
    "\n",
    "from scipy.stats import wasserstein_distance  # For Wasserstein distance (probability distribution comparison).\n",
    "\n",
    "from sklearn.metrics.pairwise import cosine_similarity\n",
    "\n",
    "from sklearn.linear_model import LinearRegression, BayesianRidge  # Regression models.\n",
    "\n",
    "from sklearn.datasets import fetch_20newsgroups  # Fetch the 20 Newsgroups text dataset.\n",
    "\n",
    "from sklearn.metrics import mean_absolute_error, mean_squared_error, r2_score  # Model performance metrics.\n",
    "\n",
    "import matplotlib.colors as mcolors  # For handling and customizing colors in visualizations.\n",
    "\n",
    "import sklearn.metrics  # For evaluation metrics like accuracy, precision, recall, etc.\n",
    "\n",
    "import matplotlib.colors as mcolors  # For handling color schemes in plots\n",
    "\n",
    "import textwrap  # For wrapping text into fixed-width lines\n",
    "\n",
    "from sklearn.metrics import roc_curve, auc\n",
    "\n",
    "from langchain.chains import GraphQAChain  # For question answering over knowledge graphs.\n",
    "\n",
    "# Prompt Engineering\n",
    "from langchain.prompts import PromptTemplate  # To define templates for LLM prompts.\n"
   ]
  },
  {
   "cell_type": "code",
   "execution_count": null,
   "id": "tmp-lg-yHhMc",
   "metadata": {
    "colab": {
     "base_uri": "https://localhost:8080/"
    },
    "id": "tmp-lg-yHhMc",
    "outputId": "68a760c5-eea2-4fd5-dc08-504ea9ab09db"
   },
   "outputs": [],
   "source": [
    "!pip install  rdflib  SPARQLWrapper"
   ]
  },
  {
   "cell_type": "markdown",
   "id": "38451a30-0f18-44af-acd0-e085ab5ed48a",
   "metadata": {
    "id": "38451a30-0f18-44af-acd0-e085ab5ed48a"
   },
   "source": [
    "This script defines a knowledge graph using a set of triples representing entities (nodes) and their relationships (edges). The triples are categorized into parts based on themes, such as LLMs in the legal context, RAG integration, collaborations, and key people involved. The knowledge graph is constructed programmatically by adding these triples into the graph index, which allows for efficient querying and analysis."
   ]
  },
  {
   "cell_type": "code",
   "execution_count": null,
   "id": "aa1R_DL-vTgv",
   "metadata": {
    "colab": {
     "base_uri": "https://localhost:8080/"
    },
    "id": "aa1R_DL-vTgv",
    "outputId": "0e678c1d-1792-4d7e-9969-9ea4d77e1982"
   },
   "outputs": [],
   "source": [
    "from SPARQLWrapper import SPARQLWrapper, JSON\n",
    "\n",
    "# Set up the DBpedia SPARQL endpoint\n",
    "sparql = SPARQLWrapper(\"https://dbpedia.org/sparql\")\n",
    "\n",
    "# SPARQL Query: Retrieve cybersecurity-related concepts and their triples\n",
    "query = \"\"\"\n",
    "PREFIX dbo: <http://dbpedia.org/ontology/>\n",
    "PREFIX dbr: <http://dbpedia.org/resource/>\n",
    "PREFIX rdf: <http://www.w3.org/1999/02/22-rdf-syntax-ns#>\n",
    "PREFIX rdfs: <http://www.w3.org/2000/01/rdf-schema#>\n",
    "\n",
    "SELECT ?concept ?label ?abstract\n",
    "WHERE {\n",
    "  ?concept rdf:type dbo:Software .\n",
    "  ?concept rdfs:label ?label .\n",
    "  ?concept dbo:abstract ?abstract .\n",
    "  FILTER (LANG(?label) = 'en' && LANG(?abstract) = 'en')\n",
    "  FILTER (CONTAINS(LCASE(?label), \"cyber\") || CONTAINS(LCASE(?label), \"security\") || CONTAINS(LCASE(?label), \"malware\"))\n",
    "}\n",
    "LIMIT 10\n",
    "\"\"\"\n",
    "\n",
    "# Execute the query\n",
    "sparql.setQuery(query)\n",
    "sparql.setReturnFormat(JSON)\n",
    "results = sparql.query().convert()\n",
    "\n",
    "# Initialize Knowledge Graph (KG) and portion tracking\n",
    "kg = []\n",
    "portion_indices = {}\n",
    "portion_counter = 1  # Start portion numbering\n",
    "triple_index = 0  # Track overall index\n",
    "\n",
    "print(\"\\nStructured Knowledge Graph:\\n\")\n",
    "\n",
    "for result in results[\"results\"][\"bindings\"]:\n",
    "    concept = result[\"concept\"][\"value\"].split(\"/\")[-1]  # Extracts entity name\n",
    "    label = result[\"label\"][\"value\"]\n",
    "    abstract = result[\"abstract\"][\"value\"]  # Store full abstract without truncation\n",
    "\n",
    "    # Store portion index range\n",
    "    start_index = triple_index\n",
    "    portion_indices[f\"Part {portion_counter}\"] = range(start_index, start_index + 3)  # Each part has 3 triples\n",
    "\n",
    "    # Print structured output\n",
    "    print(f\"\\n# Part {portion_counter}\")\n",
    "    print(f\"({concept}) → (type) → (Software)\")\n",
    "    print(f\"({concept}) → (label) → ({label})\")\n",
    "    print(f\"({concept}) → (abstract) →\")\n",
    "    print(abstract)  # Print full abstract with line breaks\n",
    "    print(\"-\" * 80)\n",
    "\n",
    "    # Store in KG\n",
    "    kg.append((concept, \"type\", \"Software\"))\n",
    "    kg.append((concept, \"label\", label))\n",
    "    kg.append((concept, \"abstract\", abstract))  # Store full abstract\n",
    "\n",
    "    # Increment indices\n",
    "    triple_index += 3\n",
    "    portion_counter += 1\n",
    "\n",
    "# Print portion indices separately\n",
    "print(\"\\nPortion Indices:\\n\")\n",
    "for part, index_range in portion_indices.items():\n",
    "    print(f\"{part}: {index_range}\")\n",
    "\n",
    "# Save KG to a text file\n",
    "with open(\"knowledge_graph_output.txt\", \"w\", encoding=\"utf-8\") as f:\n",
    "    for triple in kg:\n",
    "        f.write(f\"( {triple[0]} , {triple[1]} , {triple[2]})\\n\\n\")  # Ensuring full visibility\n",
    "\n",
    "print(\"\\nFinal Knowledge Graph saved as 'knowledge_graph_output.txt'.\")\n",
    "\n",
    "# Print the final KG in a readable format\n",
    "print(\"\\nFinal Knowledge Graph List:\\n\")\n",
    "for triple in kg:\n",
    "  print(\"(\", triple[0],\",\", triple[1],\", \",triple[2], \")\")  # Print without truncation"
   ]
  },
  {
   "cell_type": "code",
   "execution_count": null,
   "id": "oh4wABT8q8UP",
   "metadata": {
    "colab": {
     "base_uri": "https://localhost:8080/"
    },
    "id": "oh4wABT8q8UP",
    "outputId": "16c36cd2-ee2d-43bd-a4e1-7844dacfce5a"
   },
   "outputs": [],
   "source": [
    "print(\"Original KG node count:\", len(set(node for triple in kg for node in (triple[0], triple[2]))))"
   ]
  },
  {
   "cell_type": "code",
   "execution_count": null,
   "id": "4efG9suFIBXH",
   "metadata": {
    "id": "4efG9suFIBXH"
   },
   "outputs": [],
   "source": [
    "part_indices ={\n",
    "\"Part 1\": range(0, 3),\n",
    "\"Part 2\": range(3, 6),\n",
    "\"Part 3\": range(6, 9),\n",
    "\"Part 4\": range(9, 12),\n",
    "\"Part 5\": range(12, 15),\n",
    "\"Part 6\": range(15, 18),\n",
    "\"Part 7\": range(18, 21),\n",
    "\"Part 8\": range(21, 24),\n",
    "\"Part 9\": range(24, 27),\n",
    "\"Part 10\": range(27, 30)\n",
    "}\n",
    "part_names = list(part_indices.keys())\n",
    "\n",
    "# Instantiate the graph\n",
    "graph = NetworkxEntityGraph()\n",
    "\n",
    "# Build the graph from the knowledge triples\n",
    "for (node1, relation, node2) in kg:\n",
    "    graph.add_triple(KnowledgeTriple(node1, relation, node2))"
   ]
  },
  {
   "cell_type": "raw",
   "id": "818a9197-5541-4b89-ba45-330c0da504a5",
   "metadata": {
    "id": "818a9197-5541-4b89-ba45-330c0da504a5"
   },
   "source": [
    " two different methods for working with knowledge graphs (KGs)\n",
    "\n",
    "| Feature                   | NetworkX (`nx.DiGraph`)                        | Knowledge Graph Framework (`add_triple`)      |\n",
    "|---------------------------|-----------------------------------------------|----------------------------------------------|\n",
    "| **Primary Purpose**       | General-purpose graph operations.             | Semantic knowledge representation and reasoning. |\n",
    "| **Edge Representation**   | Relation stored as edge attribute (`label`).  | Explicitly stores as a `KnowledgeTriple`.    |\n",
    "| **Scalability**           | Efficient for smaller graphs.                 | Often optimized for large-scale KGs.         |\n",
    "| **Functionality**         | Basic graph analysis (e.g., paths, cycles).   | Advanced reasoning, semantic queries, or RAG.|\n",
    "| **Ease of Use**           | Simple and intuitive.                         | May require setup and specific tooling.      |\n",
    "\n",
    "---\n",
    "\n",
    "Which to Use?\n",
    "\n",
    "- Use **NetworkX** if you:\n",
    "  - Need quick, general-purpose graph creation and manipulation.\n",
    "  - Plan to perform basic analysis or visualization.\n",
    "\n",
    "- Use a **dedicated KG framework** if you:\n",
    "  - Are working on semantic reasoning, ontology-based querying, or RAG.\n",
    "  - Need advanced features like integration with NLP pipelines or search engines."
   ]
  },
  {
   "cell_type": "markdown",
   "id": "a265c98e-4c73-4429-bf6e-0dab5e3a566b",
   "metadata": {
    "id": "a265c98e-4c73-4429-bf6e-0dab5e3a566b"
   },
   "source": [
    "Visualizes the knowledge graph as a directed graph using NetworkX and Matplotlib. Nodes represent entities, and edges depict relationships with labels for clarity. The layout uses spring positioning with increased spacing for readability. Custom node colors and labeled edges enhance the visualization, displayed without axes."
   ]
  },
  {
   "cell_type": "code",
   "execution_count": null,
   "id": "C-KMAYlwYZBV",
   "metadata": {
    "id": "C-KMAYlwYZBV"
   },
   "outputs": [],
   "source": [
    "def wrap_text(text, max_words=8):\n",
    "    \"\"\"Wrap text if it contains more than `max_words` words.\"\"\"\n",
    "    words = text.split()\n",
    "    return \"Explanation\" if len(words) > max_words else text\n",
    "\n",
    "def visualize_graph_with_chains(kg, part_indices):\n",
    "    \"\"\"\n",
    "    Visualize a directed graph highlighting nodes and edges by chain membership.\n",
    "\n",
    "    Parameters:\n",
    "        kg (list of tuples): The knowledge graph as a list of (node1, relation, node2).\n",
    "        part_indices (dict): A dictionary where keys are chain names and values are lists of indices\n",
    "                             corresponding to the `kg` entries in each chain.\n",
    "    Returns:\n",
    "        None\n",
    "    \"\"\"\n",
    "    # Create graph\n",
    "    G = nx.DiGraph()\n",
    "    for node1, relation, node2 in kg:\n",
    "        G.add_edge(node1, node2, label=relation)\n",
    "\n",
    "    # Generate positions for the graph\n",
    "    pos = nx.spring_layout(G, k=8, iterations=100, seed=0)\n",
    "\n",
    "    # Define color maps\n",
    "    chain_cmap = mcolors.LinearSegmentedColormap.from_list('chain_colors', ['#66c2a5', '#fc8d62', '#8da0cb', '#e78ac3', '#a6d854'])\n",
    "    chain_norm = mcolors.Normalize(vmin=0, vmax=len(part_indices) - 1)\n",
    "\n",
    "    # Initialize node and edge colors\n",
    "    node_colors = ['lightblue'] * len(G.nodes())\n",
    "    edge_colors = ['gray'] * len(G.edges())\n",
    "\n",
    "    # Step 1: Assign distinct colors for each chain\n",
    "    chain_color_map = {}\n",
    "    for i, (chain_name, indices) in enumerate(part_indices.items()):\n",
    "        color = chain_cmap(chain_norm(i))\n",
    "        chain_color_map[chain_name] = color\n",
    "\n",
    "    # Step 2: Color nodes based on the chain they belong to\n",
    "    node_chain_map = {}\n",
    "    for chain_name, indices in part_indices.items():\n",
    "        color = chain_color_map[chain_name]\n",
    "        for idx in indices:\n",
    "            node1, relation, node2 = kg[idx]\n",
    "\n",
    "            # Update node colors based on chain\n",
    "            if node1 in G.nodes:\n",
    "                node_chain_map[node1] = chain_name\n",
    "                node_colors[list(G.nodes).index(node1)] = color\n",
    "            if node2 in G.nodes:\n",
    "                node_chain_map[node2] = chain_name\n",
    "                node_colors[list(G.nodes).index(node2)] = color\n",
    "\n",
    "    # Step 3: Assign edge colors based on the chain\n",
    "    for i, (node1, node2) in enumerate(G.edges()):\n",
    "        for chain_name, indices in part_indices.items():\n",
    "            color = chain_color_map[chain_name]\n",
    "            for idx in indices:\n",
    "                n1, _, n2 = kg[idx]\n",
    "                if (node1, node2) == (n1, n2):\n",
    "                    edge_colors[i] = color\n",
    "                    break\n",
    "\n",
    "    # Apply label filtering\n",
    "    wrapped_labels = {node: wrap_text(node) for node in G.nodes()}\n",
    "\n",
    "    # Create the figure with subplots\n",
    "    fig, axs = plt.subplots(1, 2, figsize=(20, 8), dpi=600)\n",
    "\n",
    "    # Left: Original Knowledge Graph\n",
    "    nx.draw_networkx_nodes(G, pos, node_color='lightblue', node_size=1200, ax=axs[0])\n",
    "    nx.draw_networkx_edges(G, pos, edge_color='gray', width=1.2, ax=axs[0])\n",
    "    nx.draw_networkx_labels(G, pos, labels=wrapped_labels, font_size=6, ax=axs[0])\n",
    "    edge_labels = nx.get_edge_attributes(G, 'label')\n",
    "    wrapped_edge_labels = {edge: wrap_text(label) for edge, label in edge_labels.items()}\n",
    "    nx.draw_networkx_edge_labels(G, pos, edge_labels=wrapped_edge_labels, font_size=6, ax=axs[0])\n",
    "    axs[0].set_title(\"Original Knowledge Graph\", fontsize=10)\n",
    "    axs[0].axis('off')\n",
    "\n",
    "    # Right: Highlighted Nodes Based on Chains\n",
    "    nx.draw_networkx_nodes(G, pos, node_color=node_colors, node_size=1200, ax=axs[1], edgecolors='black')\n",
    "    nx.draw_networkx_edges(G, pos, edge_color=edge_colors, width=1.5, ax=axs[1])\n",
    "    nx.draw_networkx_labels(G, pos, labels=wrapped_labels, font_size=6, ax=axs[1])\n",
    "    nx.draw_networkx_edge_labels(G, pos, edge_labels=wrapped_edge_labels, font_size=6, ax=axs[1])\n",
    "    axs[1].set_title(\"Graph Highlighted by Chain Membership\", fontsize=10)\n",
    "    axs[1].axis('off')\n",
    "\n",
    "    # Create a legend for chain colors\n",
    "    handles = [plt.Line2D([0], [0], marker='o', color=color, markersize=10, linestyle='', label=chain_name)\n",
    "               for chain_name, color in chain_color_map.items()]\n",
    "    axs[1].legend(handles=handles, title=\"Chains\", loc='upper right', fontsize=8)\n",
    "\n",
    "    # Display the plot\n",
    "    plt.show()\n",
    "\n",
    "    # Print which nodes belong to which chain\n",
    "    print(\"\\n--- Node Chain Mapping ---\")\n",
    "    for node, chain in node_chain_map.items():\n",
    "        print(f\"Node '{node}' belongs to chain '{chain}'.\")\n"
   ]
  },
  {
   "cell_type": "code",
   "execution_count": null,
   "id": "ZEIk-T9uYg9r",
   "metadata": {
    "colab": {
     "base_uri": "https://localhost:8080/",
     "height": 1000
    },
    "id": "ZEIk-T9uYg9r",
    "outputId": "96c42b8f-c404-4163-c4ef-bfc3157ce2ee"
   },
   "outputs": [],
   "source": [
    "visualize_graph_with_chains(kg, part_indices)"
   ]
  },
  {
   "cell_type": "markdown",
   "id": "2d728dc4-f242-451f-94db-b1a5fcd14243",
   "metadata": {
    "id": "2d728dc4-f242-451f-94db-b1a5fcd14243"
   },
   "source": [
    "Defines a function to perturb the knowledge graph by selectively removing triples belonging to specified parts. This allows testing the impact of missing information on downstream tasks or analysis. The function filters out triples associated with the indices of the parts to be removed and returns the modified knowledge graph."
   ]
  },
  {
   "cell_type": "code",
   "execution_count": null,
   "id": "A39WF0Pa_OYY",
   "metadata": {
    "id": "A39WF0Pa_OYY"
   },
   "outputs": [],
   "source": [
    "def perturb_kg_by_removing_parts(kg, parts_to_remove):\n",
    "    \"\"\"\n",
    "    Perturbs the knowledge graph by removing triples from the specified parts.\n",
    "\n",
    "    Parameters:\n",
    "    - kg: The full knowledge graph triples list\n",
    "    - parts_to_remove: List of part names to remove\n",
    "\n",
    "    Returns:\n",
    "    - perturbed_kg: The perturbed KG without the specified parts\n",
    "    \"\"\"\n",
    "    perturbed_kg = []\n",
    "\n",
    "    # Collect indices of the triples to keep based on parts to remove\n",
    "    indices_to_remove = set()\n",
    "    for part in parts_to_remove:\n",
    "        indices_to_remove.update(part_indices[part])\n",
    "\n",
    "    # Add triples that are not in the indices to remove\n",
    "    perturbed_kg = [triple for i, triple in enumerate(kg) if i not in indices_to_remove]\n",
    "\n",
    "    return perturbed_kg"
   ]
  },
  {
   "cell_type": "markdown",
   "id": "69d447e4-a68c-493e-9d49-b3a99a97dc19",
   "metadata": {
    "id": "69d447e4-a68c-493e-9d49-b3a99a97dc19"
   },
   "source": [
    "This function computes the embedding for a given text using a specified model. It processes the text by removing newline characters and queries the OpenAI embeddings API to generate a vector representation, useful for similarity comparisons and downstream tasks."
   ]
  },
  {
   "cell_type": "code",
   "execution_count": null,
   "id": "TLLTyp-y_UFV",
   "metadata": {
    "id": "TLLTyp-y_UFV"
   },
   "outputs": [],
   "source": [
    "import random\n",
    "import json\n",
    "import unicodedata\n",
    "import re\n",
    "embedding_cache = {}\n",
    "EMBEDDING_MODEL = \"text-embedding-3-small\"\n",
    "def normalize_text(text):\n",
    "    \"\"\"\n",
    "    Normalize text by removing excessive spaces, normalizing Unicode characters,\n",
    "    and converting to lowercase.\n",
    "    \"\"\"\n",
    "    text = text.replace(\"\\n\", \" \").strip()  # Remove newlines and extra spaces\n",
    "    text = unicodedata.normalize(\"NFKC\", text)  # Normalize Unicode characters\n",
    "    text = re.sub(r\"\\s+\", \" \", text)  # Replace multiple spaces with a single space\n",
    "    text = text.lower()  # Convert to lowercase (optional but recommended)\n",
    "    return text\n",
    "\n",
    "def get_embedding(text):\n",
    "    text = normalize_text(text)\n",
    "    if text in embedding_cache:\n",
    "        return embedding_cache[text]  # Return cached embedding\n",
    "    embedding = client.embeddings.create(input=[text], model=EMBEDDING_MODEL).data[0].embedding\n",
    "    embedding_cache[text] = embedding  # Store result in cache\n",
    "    return embedding"
   ]
  },
  {
   "cell_type": "markdown",
   "id": "2993aae2-97cc-4198-bdcb-7f950a011929",
   "metadata": {
    "id": "2993aae2-97cc-4198-bdcb-7f950a011929"
   },
   "source": [
    "Defines a function to query a GraphQAChain with a question and temperature setting, returning the answer and its embedding. The function initializes the chain with a specified graph and temperature, processes the question, and computes the embedding for the returned answer, facilitating downstream analysis or comparison"
   ]
  },
  {
   "cell_type": "code",
   "execution_count": null,
   "id": "2286902d-b91b-41d1-ae21-c450a91a5c86",
   "metadata": {
    "id": "2286902d-b91b-41d1-ae21-c450a91a5c86"
   },
   "outputs": [],
   "source": [
    "def get_answer_and_embedding(question: str, temp: float, graph):\n",
    "    \"\"\"\n",
    "    Sends a question and temperature to the GraphQAChain and returns the original answer string\n",
    "    and its embedding as separate outputs.\n",
    "\n",
    "    Args:\n",
    "        question (str): The question to ask the chain.\n",
    "        temp (float): The temperature setting for the OpenAI model.\n",
    "        graph: The graph object for the GraphQAChain.\n",
    "\n",
    "    Returns:\n",
    "        Tuple[str, list]: The original answer as a string and its embedding as a list.\n",
    "    \"\"\"\n",
    "    # Initialize the GraphQAChain with the specified temperature\n",
    "    chain = GraphQAChain.from_llm(OpenAI(temperature=temp), graph=graph, verbose=False)\n",
    "\n",
    "    # Run the question through the chain to get the answer\n",
    "    original_answer = chain.run(question)\n",
    "    original_answer_str = str(original_answer)\n",
    "\n",
    "    # Compute the embedding for the original answer\n",
    "    original_answer_embedding = get_embedding(original_answer)\n",
    "\n",
    "    # Return both answer and embedding separately\n",
    "    return original_answer_str, original_answer_embedding\n"
   ]
  },
  {
   "cell_type": "markdown",
   "id": "1639f196-e0d0-44f9-bc9e-9f03be830357",
   "metadata": {
    "id": "1639f196-e0d0-44f9-bc9e-9f03be830357"
   },
   "source": [
    "This function visualizes the explainability of a knowledge graph by displaying the original graph and an enhanced graph with nodes and edges colored based on their importance coefficients. It leverages a directed graph structure, wraps node labels for readability, adjusts node sizes based on connectivity, and applies a custom colormap to represent the significance of graph components. The visualization is presented in a two-panel layout, highlighting both the original structure and the explainability features derived from Simple SMILE GraphRAG analysis. A color bar provides a reference for importance coefficients"
   ]
  },
  {
   "cell_type": "code",
   "execution_count": null,
   "id": "c1bf9039-4d7b-4772-8763-32dd9b773597",
   "metadata": {
    "id": "c1bf9039-4d7b-4772-8763-32dd9b773597"
   },
   "outputs": [],
   "source": [
    "def plot_knowledge_graph_explainability(kg, part_indices, coeff):\n",
    "    \"\"\"\n",
    "    Improved visualization of a knowledge graph with explainability features.\n",
    "\n",
    "    Parameters:\n",
    "        kg (list): Knowledge graph triplets (node1, relation, node2).\n",
    "        part_indices (dict): Mapping of part names to indices.\n",
    "        coeff (list): Importance coefficients for each part.\n",
    "    \"\"\"\n",
    "    # Create graph\n",
    "    G = nx.DiGraph()\n",
    "    for node1, relation, node2 in kg:\n",
    "        G.add_edge(node1, node2, label=relation)\n",
    "\n",
    "    # Generate positions for the graph with increased spacing\n",
    "    pos = nx.spring_layout(G, k=8, iterations=100, seed=0)\n",
    "\n",
    "    # Create color map (blue for negative, red for positive)\n",
    "    cmap = mcolors.LinearSegmentedColormap.from_list('red_blue', ['blue',  '#d3d3d3', 'red'])\n",
    "    norm = mcolors.Normalize(vmin=-1, vmax=1)\n",
    "\n",
    "    # Adjust node size based on degree (number of connections)\n",
    "    node_sizes = [1500 + 100 * G.degree(node) for node in G.nodes()]\n",
    "\n",
    "    # Assign node and edge colors based on the importance of each part\n",
    "    node_colors = []\n",
    "    edge_colors = []\n",
    "    for node in G.nodes():\n",
    "        for part_name, indices in part_indices.items():\n",
    "            part_idx = int(part_name.split()[-1]) - 1\n",
    "            coeff_value = coeff[part_idx]\n",
    "            color = cmap(norm(coeff_value))\n",
    "            if node in [kg[i][0] for i in indices] or node in [kg[i][2] for i in indices]:\n",
    "                node_colors.append(color)\n",
    "                break\n",
    "        else:\n",
    "            node_colors.append('#8da0cb')  # Default color if no match found\n",
    "\n",
    "    for i, (node1, node2) in enumerate(G.edges()):\n",
    "        for part_name, indices in part_indices.items():\n",
    "            part_idx = int(part_name.split()[-1]) - 1\n",
    "            coeff_value = coeff[part_idx]\n",
    "            color = cmap(norm(coeff_value))\n",
    "            if i in indices:\n",
    "                edge_colors.append(color)\n",
    "                break\n",
    "        else:\n",
    "            edge_colors.append('gray')  # Default color if no match found\n",
    "\n",
    "    # Wrap the text labels\n",
    "    wrapped_labels = {node: wrap_text(node) for node in G.nodes()}\n",
    "\n",
    "    # Create the figure with subplots\n",
    "    fig, axs = plt.subplots(1, 2, figsize=(24, 10), dpi=600, gridspec_kw={'width_ratios': [1, 1.3]})\n",
    "\n",
    "    # Left: Original Knowledge Graph\n",
    "    nx.draw_networkx_nodes(G, pos, node_color= '#d3d3d3', node_size=node_sizes, ax=axs[0])\n",
    "    nx.draw_networkx_edges(G, pos, edge_color='gray', width=1.5, ax=axs[0])\n",
    "    nx.draw_networkx_labels(G, pos, labels=wrapped_labels, font_size=8, ax=axs[0])\n",
    "    edge_labels = nx.get_edge_attributes(G, 'label')\n",
    "    wrapped_edge_labels = {edge: wrap_text(label) for edge, label in edge_labels.items()}\n",
    "    nx.draw_networkx_edge_labels(G, pos, edge_labels=wrapped_edge_labels, font_size=8, ax=axs[0])\n",
    "    axs[0].set_title(\"Original Knowledge Graph\", fontsize=12)\n",
    "    axs[0].axis('off')\n",
    "\n",
    "    # Right: SMILE Explainability with Node and Edge Colors\n",
    "    nx.draw_networkx_nodes(G, pos, node_color=node_colors, node_size=node_sizes, ax=axs[1])\n",
    "    nx.draw_networkx_edges(G, pos, edge_color=edge_colors, width=1.8, ax=axs[1])\n",
    "    nx.draw_networkx_labels(G, pos, labels=wrapped_labels, font_size=8, ax=axs[1])\n",
    "    nx.draw_networkx_edge_labels(G, pos, edge_labels=wrapped_edge_labels, font_size=8, ax=axs[1])\n",
    "    axs[1].set_title(\"Simple SMILE GraphRAG Explainability\", fontsize=12)\n",
    "    axs[1].axis('off')\n",
    "\n",
    "    # Show the color bar\n",
    "    sm = plt.cm.ScalarMappable(cmap=cmap, norm=norm)\n",
    "    sm.set_array([])\n",
    "    fig.colorbar(sm, ax=axs[1], label='Importance Coefficients')\n",
    "\n",
    "    # Save the figure\n",
    "    plt.savefig('knowledge_graph_explainability_improved.png', bbox_inches='tight')\n",
    "\n",
    "    # Display the plot\n",
    "    plt.show()\n"
   ]
  },
  {
   "cell_type": "markdown",
   "id": "4ecce233-c67e-4748-b742-a66dd99f80b4",
   "metadata": {
    "id": "4ecce233-c67e-4748-b742-a66dd99f80b4"
   },
   "source": [
    "Defines the question to query the GraphQAChain or knowledge retrieval system. Here, the question seeks information about it, a framework that integrates external knowledge bases to improve the accuracy and reliability of AI-generated responses"
   ]
  },
  {
   "cell_type": "code",
   "execution_count": null,
   "id": "c9b16783-7c57-42d0-9bfb-ea298af379f0",
   "metadata": {
    "id": "c9b16783-7c57-42d0-9bfb-ea298af379f0"
   },
   "outputs": [],
   "source": [
    "question = \"what is Network_Security_Services?\"\n",
    "#Portion 3"
   ]
  },
  {
   "cell_type": "markdown",
   "id": "5cffabbe-3a4e-420c-aeb9-0a13ddfe3306",
   "metadata": {
    "id": "5cffabbe-3a4e-420c-aeb9-0a13ddfe3306"
   },
   "source": [
    "This snippet sets the temperature parameter to 0 for deterministic response generation and queries the GraphQAChain with the question. The function get_answer_and_embedding returns the original answer as a string along with its embedding. The answer is then printed for review.\n"
   ]
  },
  {
   "cell_type": "code",
   "execution_count": null,
   "id": "10979ac4",
   "metadata": {
    "colab": {
     "base_uri": "https://localhost:8080/"
    },
    "id": "10979ac4",
    "outputId": "6187b3c8-3d23-4c4d-f09a-7b640c0b93cb"
   },
   "outputs": [],
   "source": [
    "# Initialize the LLM\n",
    "llm = OpenAI(temperature=0)\n",
    "temp = 0\n",
    "original_answer_str, original_answer_embedding = get_answer_and_embedding(question, temp, graph)\n",
    "print(original_answer_str)"
   ]
  },
  {
   "cell_type": "code",
   "execution_count": null,
   "id": "caab5a60-2b82-4f71-ba5d-b97972336298",
   "metadata": {
    "id": "caab5a60-2b82-4f71-ba5d-b97972336298"
   },
   "outputs": [],
   "source": [
    "# Define the original vector (all parts present)\n",
    "original = np.array([1, 1, 1, 1, 1,1, 1, 1, 1, 1])\n",
    "original = original.reshape(1, -1)  # Shape becomes (1, 10)"
   ]
  },
  {
   "cell_type": "markdown",
   "id": "5f4cb52d-42cc-4153-a414-5c252c45a11e",
   "metadata": {
    "id": "5f4cb52d-42cc-4153-a414-5c252c45a11e"
   },
   "source": [
    "This function calculates the importance coefficients for perturbations on a knowledge graph while providing\n",
    "detailed logging at each iteration. It removes random parts of the knowledge graph, generates perturbed\n",
    "responses, computes similarities to the original answer, and fits a linear regression model to calculate\n",
    "coefficients. The function includes:\n",
    "\n",
    "- Temperature (`temp`) parameter to adjust the behavior of the GraphQAChain.\n",
    "- Iterative logs showing the removed parts, perturbed responses, and calculated similarities.\n",
    "- A summary of all similarities and weights after processing.\n",
    "The coefficients provide insights into the contribution of each part of the knowledge graph to response fidelity."
   ]
  },
  {
   "cell_type": "code",
   "execution_count": null,
   "id": "AE0bAqgYjHgv",
   "metadata": {
    "id": "AE0bAqgYjHgv"
   },
   "outputs": [],
   "source": [
    "def calculate_coefficients_print_Temerature(temp, original, kg, part_names, question, original_answer_embedding, original_answer_str):\n",
    "    \"\"\"\n",
    "    Function to calculate coefficients for perturbations on a knowledge graph.\n",
    "    It removes parts of the KG, generates perturbed responses, and calculates coefficients.\n",
    "\n",
    "    Parameters:\n",
    "    - temp: Temperature value (0 or 1)\n",
    "    - original: Original vector (numpy array)\n",
    "    - kg: Knowledge graph (list of triples)\n",
    "    - part_names: List of part names in the KG\n",
    "    - question: Question for GraphQAChain\n",
    "    - original_answer_embedding: Embedding of the original answer\n",
    "    - original_answer_str: Original answer text\n",
    "\n",
    "    Returns:\n",
    "    - coeff: Coefficients from linear regression\n",
    "    \"\"\"\n",
    "        # Define the original vector (all parts present)\n",
    "    original = np.array([1, 1, 1, 1, 1,1, 1, 1, 1, 1])\n",
    "    original = original.reshape(1, -1)  # Shape becomes (1, 10)\n",
    "    similarities_wd = []\n",
    "    perturbations_vect2 = []\n",
    "    perturbation_texts = []\n",
    "    generated_embeddings = []\n",
    "    epsilon = 1e-6\n",
    "\n",
    "    for i in range(20):  # Number of perturbations\n",
    "        perturbation_vector = original.copy().flatten()\n",
    "        num_parts_to_remove = random.randint(1, len(part_names))\n",
    "        parts_to_remove_indices = random.sample(range(len(part_names)), num_parts_to_remove)\n",
    "\n",
    "        for part_idx in parts_to_remove_indices:\n",
    "            perturbation_vector[part_idx] = 0\n",
    "\n",
    "        perturbations_vect2.append(perturbation_vector)\n",
    "        parts_to_remove = [part_names[idx] for idx in parts_to_remove_indices]\n",
    "\n",
    "        # Call the perturb_kg_by_removing_parts function directly\n",
    "        perturbed_kg = perturb_kg_by_removing_parts(kg, parts_to_remove)\n",
    "\n",
    "        graph_temp = NetworkxEntityGraph()\n",
    "\n",
    "        for (node1, relation, node2) in perturbed_kg:\n",
    "            graph_temp.add_triple(KnowledgeTriple(node1, relation, node2))\n",
    "\n",
    "        chain = GraphQAChain.from_llm(OpenAI(temperature=temp), graph=graph_temp, verbose=False)\n",
    "        temp_response = chain.run(question)\n",
    "\n",
    "        perturbation_texts.append(temp_response)\n",
    "\n",
    "        # Call the get_embedding function directly\n",
    "        temp_response_embedding = get_embedding(temp_response)\n",
    "        generated_embeddings.append(temp_response_embedding)\n",
    "\n",
    "        # Calculate Wasserstein distance\n",
    "        similarity_wd = wasserstein_distance(original_answer_embedding, temp_response_embedding)\n",
    "        similarities_wd.append(similarity_wd)\n",
    "\n",
    "        # Print progress for each iteration\n",
    "        print(f\"Iteration {i + 1}\")  # Fixed to use `i` defined in the loop\n",
    "        print(f\"Parts removed: {parts_to_remove}\")\n",
    "        print(f\"original_answer response: {original_answer_str}\")\n",
    "        print(f\"Perturbed response: {temp_response}\")\n",
    "        print(f\"Distancee with original answer: {similarity_wd}\\n\")\n",
    "\n",
    "    perturbations_vect2 = np.array(perturbations_vect2)\n",
    "    distances = sklearn.metrics.pairwise_distances(perturbations_vect2, original, metric='cosine').ravel()\n",
    "\n",
    "    kernel_width = 0.25\n",
    "    weights = np.sqrt(np.exp(-(distances**2) / kernel_width**2))\n",
    "\n",
    "    # Print all similarities and weights\n",
    "    print(f\"similarities_wd: {similarities_wd}\")\n",
    "    print(f\"Weights: {weights}\")\n",
    "\n",
    "    # Calculate inverse Wasserstein distances\n",
    "    inverse_similarities_wd = [1.0 / (dist + epsilon) for dist in similarities_wd]\n",
    "\n",
    "    # Scale inverse Wasserstein distances\n",
    "    min_value = min(inverse_similarities_wd)\n",
    "    max_value = max(inverse_similarities_wd)\n",
    "    if min_value == max_value:\n",
    "      print(\"Warning: min_value and max_value are equal. Avoiding division by zero.\")\n",
    "      scaled_inverse_similarities_wd = [1.0 for _ in inverse_similarities_wd]  # Assign a constant\n",
    "    else:\n",
    "      scaled_inverse_similarities_wd = [\n",
    "          (value - min_value) / (max_value - min_value) for value in inverse_similarities_wd\n",
    "      ]\n",
    "    # Linear regression for cosine similarities\n",
    "    simpler_model = LinearRegression()\n",
    "    # Linear regression for scaled inverse Wasserstein distances\n",
    "    simpler_model.fit(X=perturbations_vect2, y=scaled_inverse_similarities_wd, sample_weight=weights)\n",
    "    coeff = simpler_model.coef_\n",
    "    return coeff\n"
   ]
  },
  {
   "cell_type": "markdown",
   "id": "7a9d788b-9e18-4669-bba8-11df7a0de491",
   "metadata": {
    "id": "7a9d788b-9e18-4669-bba8-11df7a0de491"
   },
   "source": [
    "# Accuracy: How well the explanation matches the model's actual decision-making process."
   ]
  },
  {
   "cell_type": "markdown",
   "id": "4a5ebce1-6a93-47e4-9ac0-b97eb9ed16b4",
   "metadata": {
    "id": "4a5ebce1-6a93-47e4-9ac0-b97eb9ed16b4"
   },
   "source": [
    "This function computes and visualizes the Receiver Operating Characteristic (ROC) curve for binary classification models.\n",
    "It calculates the False Positive Rate (FPR), True Positive Rate (TPR), and Area Under the Curve (AUC) to evaluate the\n",
    "discriminative power of the model. The ROC curve is plotted along with a diagonal line indicating random guessing,\n",
    "providing an intuitive visual representation of model performance."
   ]
  },
  {
   "cell_type": "code",
   "execution_count": null,
   "id": "0259d806-efba-4189-8762-c01081e9699b",
   "metadata": {
    "id": "0259d806-efba-4189-8762-c01081e9699b"
   },
   "outputs": [],
   "source": [
    "def plot_roc_curve(y_true, y_scores):\n",
    "    \"\"\"\n",
    "    Computes the ROC curve, AUC, and plots the ROC curve.\n",
    "\n",
    "    Parameters:\n",
    "    - y_true: Ground truth binary labels (array-like).\n",
    "    - y_scores: Predicted probabilities or scores (array-like).\n",
    "\n",
    "    Returns:\n",
    "    - roc_auc: The computed Area Under the Curve (AUC) value.\n",
    "    \"\"\"\n",
    "    # Compute False Positive Rate (FPR), True Positive Rate (TPR), and thresholds\n",
    "    fpr, tpr, thresholds = roc_curve(y_true, y_scores)\n",
    "\n",
    "    # Compute AUC\n",
    "    roc_auc = auc(fpr, tpr)\n",
    "\n",
    "    # Print AUC\n",
    "    print(f\"AUC: {roc_auc:.3f}\")\n",
    "\n",
    "    # Plot ROC Curve\n",
    "    plt.figure()\n",
    "    plt.plot(fpr, tpr, color='darkorange', lw=2, label=f'ROC curve (AUC = {roc_auc:.2f})')\n",
    "    plt.plot([0, 1], [0, 1], color='navy', lw=2, linestyle='--')  # Diagonal line for random guessing\n",
    "    plt.xlim([0.0, 1.0])\n",
    "    plt.ylim([0.0, 1.05])\n",
    "    plt.xlabel('False Positive Rate')\n",
    "    plt.ylabel('True Positive Rate')\n",
    "    plt.title('Receiver Operating Characteristic (ROC) Curve')\n",
    "    plt.legend(loc=\"lower right\")\n",
    "    plt.show()\n",
    "\n",
    "    return roc_auc\n"
   ]
  },
  {
   "cell_type": "markdown",
   "id": "a3db6ac4-fee7-41cd-86c6-180cb36a1b7f",
   "metadata": {
    "id": "a3db6ac4-fee7-41cd-86c6-180cb36a1b7f"
   },
   "source": [
    "## Accuracy: Evaluate how well the explanation for \"what is Network_Security_Services?\" (Temp 0) aligns with the ground truth using similarity metrics. We have  original_answer_embedding and original_answer_str calculated before."
   ]
  },
  {
   "cell_type": "code",
   "execution_count": null,
   "id": "6c66cd53-790c-4689-b78b-0bab6c78607d",
   "metadata": {
    "id": "6c66cd53-790c-4689-b78b-0bab6c78607d"
   },
   "outputs": [],
   "source": [
    "question = \"what is Network_Security_Services?\"\n",
    "#Portion 3"
   ]
  },
  {
   "cell_type": "markdown",
   "id": "d9b25f9d-a24e-4286-afa1-996fb0d2c5c8",
   "metadata": {
    "id": "d9b25f9d-a24e-4286-afa1-996fb0d2c5c8"
   },
   "source": [
    "This script runs the `calculate_coefficients_print_Temerature` function with a temperature (`temp`) of 0,\n",
    "which ensures deterministic outputs from the GraphQAChain. It processes the original knowledge graph,\n",
    "perturbs it, and calculates coefficients through a linear regression model. The function provides detailed\n",
    "iteration-wise logs, including removed parts, perturbed responses, similarities, and weights, offering a\n",
    "comprehensive understanding of the model's behavior and the impact of perturbations on the response fidelity."
   ]
  },
  {
   "cell_type": "code",
   "execution_count": null,
   "id": "Yx2rj2dL1zGT",
   "metadata": {
    "colab": {
     "base_uri": "https://localhost:8080/"
    },
    "id": "Yx2rj2dL1zGT",
    "outputId": "5569377a-c557-4bad-8732-89943e23d8de"
   },
   "outputs": [],
   "source": [
    "temp = 0\n",
    "original_answer_str, original_answer_embedding = get_answer_and_embedding(question, temp, graph)\n",
    "print(original_answer_str)"
   ]
  },
  {
   "cell_type": "code",
   "execution_count": null,
   "id": "RAnzNV9S5J07",
   "metadata": {
    "colab": {
     "base_uri": "https://localhost:8080/"
    },
    "id": "RAnzNV9S5J07",
    "outputId": "8698905b-544c-468a-9942-2e16045f4670"
   },
   "outputs": [],
   "source": [
    "temp= 0\n",
    "coeff = calculate_coefficients_print_Temerature(\n",
    "    temp= temp,\n",
    "    original=original,\n",
    "    kg=kg,\n",
    "    part_names=part_names,\n",
    "    question=question,\n",
    "    original_answer_embedding=original_answer_embedding,\n",
    "    original_answer_str = original_answer_str,\n",
    ")"
   ]
  },
  {
   "cell_type": "code",
   "execution_count": null,
   "id": "YqFrfo-6Csk7",
   "metadata": {
    "colab": {
     "base_uri": "https://localhost:8080/"
    },
    "id": "YqFrfo-6Csk7",
    "outputId": "bac79b65-c6e3-4c39-e7d1-c76dabff9e72"
   },
   "outputs": [],
   "source": [
    "print(coeff)\n",
    "# Format the coefficients to a specific number format (e.g., rounding to 3 decimal places)\n",
    "formatted_coeff = np.round(coeff, 3)  # Rounds to 3 decimal places\n",
    "formatted_coeff\n"
   ]
  },
  {
   "cell_type": "markdown",
   "id": "809d9288-5061-4650-a2ff-c8637addef10",
   "metadata": {
    "id": "809d9288-5061-4650-a2ff-c8637addef10"
   },
   "source": [
    "This script uses the `plot_roc_curve` function to compute and visualize the ROC curve for a binary classification problem.\n",
    "The `y_true` array contains the ground truth labels, while `y_scores` holds the predicted probabilities or scores\n",
    "(e.g., coefficients). The function calculates the AUC value and plots the ROC curve, providing a quantitative\n",
    "and visual assessment of model performance. The computed AUC value is also printed for reference."
   ]
  },
  {
   "cell_type": "code",
   "execution_count": null,
   "id": "u3lZWSDsilP5",
   "metadata": {
    "colab": {
     "base_uri": "https://localhost:8080/",
     "height": 507
    },
    "id": "u3lZWSDsilP5",
    "outputId": "c2992d24-bf46-42bb-a23b-6938d7075abf"
   },
   "outputs": [],
   "source": [
    "#  Ground truth (true labels) and predicted probabilities\n",
    "y_true = np.array([0, 0, 1, 0, 0,0,0,0,0,0])  # Ground truth (0: negative, 1: positive)\n",
    "y_scores = formatted_coeff # Predicted probabilities\n",
    "\n",
    "# Call the function to compute and plot ROC curve\n",
    "roc_auc_value = plot_roc_curve(y_true, y_scores)\n",
    "print(f\"Computed AUC: {roc_auc_value:.3f}\")"
   ]
  },
  {
   "cell_type": "markdown",
   "id": "99f1d915-3225-409f-b191-b8a50302d7b7",
   "metadata": {
    "id": "99f1d915-3225-409f-b191-b8a50302d7b7"
   },
   "source": [
    "This code defines a set of importance coefficients (`coeff`) representing the contribution of each part\n",
    "of the knowledge graph to response fidelity. Using the `plot_knowledge_graph_explainability` function,\n",
    "the graph is visualized with nodes and edges color-coded based on these coefficients. The visualization\n",
    "highlights the most and least influential components, aiding in the interpretability of the knowledge graph.\n"
   ]
  },
  {
   "cell_type": "code",
   "execution_count": null,
   "id": "LltdX116_qNP",
   "metadata": {
    "colab": {
     "base_uri": "https://localhost:8080/",
     "height": 649
    },
    "id": "LltdX116_qNP",
    "outputId": "e17687c9-8faa-4991-dd64-f802759220aa"
   },
   "outputs": [],
   "source": [
    "# Call the function\n",
    "plot_knowledge_graph_explainability(kg, part_indices, coeff)"
   ]
  },
  {
   "cell_type": "markdown",
   "id": "d86d849e-0f44-4280-896a-5c92f3778c21",
   "metadata": {
    "id": "d86d849e-0f44-4280-896a-5c92f3778c21"
   },
   "source": [
    "## Accuracy: Assess the explanation for \"what is Network_Security_Services?\" (Temp 1) by comparing it to the ground truth, accounting for potential variability due to higher randomness."
   ]
  },
  {
   "cell_type": "code",
   "execution_count": null,
   "id": "fb239b92-e3f8-46b0-ba28-e5189013273d",
   "metadata": {
    "id": "fb239b92-e3f8-46b0-ba28-e5189013273d"
   },
   "outputs": [],
   "source": [
    "question = \"what is Network_Security_Services?\"\n",
    "#Portion 3"
   ]
  },
  {
   "cell_type": "code",
   "execution_count": null,
   "id": "48e902b7",
   "metadata": {
    "colab": {
     "base_uri": "https://localhost:8080/"
    },
    "id": "48e902b7",
    "outputId": "e207f752-e7d0-400f-e2d4-66c117ecca80"
   },
   "outputs": [],
   "source": [
    "temp = 1\n",
    "original_answer_str, original_answer_embedding = get_answer_and_embedding(question, temp, graph)\n",
    "print(original_answer_str)"
   ]
  },
  {
   "cell_type": "code",
   "execution_count": null,
   "id": "a056aab4",
   "metadata": {
    "colab": {
     "base_uri": "https://localhost:8080/"
    },
    "id": "a056aab4",
    "outputId": "6f674d7f-d2dd-494c-df7a-8502661d7cf3"
   },
   "outputs": [],
   "source": [
    "coeff = calculate_coefficients_print_Temerature(\n",
    "    temp= temp,\n",
    "    original=original,\n",
    "    kg=kg,\n",
    "    part_names=part_names,\n",
    "    question=question,\n",
    "    original_answer_embedding=original_answer_embedding,\n",
    "    original_answer_str=original_answer_str,\n",
    ")"
   ]
  },
  {
   "cell_type": "code",
   "execution_count": null,
   "id": "6c6ce65d",
   "metadata": {
    "colab": {
     "base_uri": "https://localhost:8080/"
    },
    "id": "6c6ce65d",
    "outputId": "f405fcc8-a7d0-4e39-9382-d77e7ae6abd8"
   },
   "outputs": [],
   "source": [
    "print(coeff)\n",
    "formatted_coeff = np.round(coeff, 3)  # Rounds to 3 decimal places\n",
    "formatted_coeff"
   ]
  },
  {
   "cell_type": "code",
   "execution_count": null,
   "id": "4f3d02f3",
   "metadata": {
    "colab": {
     "base_uri": "https://localhost:8080/",
     "height": 507
    },
    "id": "4f3d02f3",
    "outputId": "6ce290cb-3a7a-4724-9284-86d64b70eadf"
   },
   "outputs": [],
   "source": [
    "# Ground truth (true labels) and predicted probabilities\n",
    "y_true = np.array([0, 0, 1, 0, 0,0,0,0,0,0])  # Ground truth (0: negative, 1: positive)\n",
    "y_scores = formatted_coeff # Predicted probabilities\n",
    "\n",
    "# Call the function to compute and plot ROC curve\n",
    "roc_auc_value = plot_roc_curve(y_true, y_scores)\n",
    "print(f\"Computed AUC: {roc_auc_value:.3f}\")"
   ]
  },
  {
   "cell_type": "code",
   "execution_count": null,
   "id": "9011f4fd",
   "metadata": {
    "colab": {
     "base_uri": "https://localhost:8080/",
     "height": 649
    },
    "id": "9011f4fd",
    "outputId": "457c8d40-dc9c-4af4-ced0-3a5d23119fd3"
   },
   "outputs": [],
   "source": [
    "# Call the function\n",
    "plot_knowledge_graph_explainability(kg, part_indices, coeff)"
   ]
  },
  {
   "cell_type": "markdown",
   "id": "10feb42f-64b9-4423-b557-87298e49a36d",
   "metadata": {
    "id": "10feb42f-64b9-4423-b557-87298e49a36d"
   },
   "source": [
    "## Accuracy: Evaluate the explanation for \"What is the type of  Scooby-Doo_and_the_Cyber_Chase_(video_game)?\" (Temp 0) by comparing it with the verified ground truth for alignment and correctness."
   ]
  },
  {
   "cell_type": "code",
   "execution_count": null,
   "id": "a32cab73",
   "metadata": {
    "id": "a32cab73"
   },
   "outputs": [],
   "source": [
    "question = \"What is the type of  Scooby-Doo_and_the_Cyber_Chase_(video_game)?\""
   ]
  },
  {
   "cell_type": "code",
   "execution_count": null,
   "id": "jQrRDg8W4BWg",
   "metadata": {
    "colab": {
     "base_uri": "https://localhost:8080/"
    },
    "id": "jQrRDg8W4BWg",
    "outputId": "2c86caf9-d987-4d8c-d80e-9fb3bb436571"
   },
   "outputs": [],
   "source": [
    "temp = 0\n",
    "original_answer_str, original_answer_embedding = get_answer_and_embedding(question, temp, graph)\n",
    "print(original_answer_str)"
   ]
  },
  {
   "cell_type": "code",
   "execution_count": null,
   "id": "1f100ac6",
   "metadata": {
    "colab": {
     "base_uri": "https://localhost:8080/"
    },
    "id": "1f100ac6",
    "outputId": "b5dcd618-1857-40be-88ce-b8099cfc058d"
   },
   "outputs": [],
   "source": [
    "coeff = calculate_coefficients_print_Temerature(\n",
    "    temp= temp,\n",
    "    original=original,\n",
    "    kg=kg,\n",
    "    part_names=part_names,\n",
    "    question=question,\n",
    "    original_answer_embedding=original_answer_embedding,\n",
    "    original_answer_str=original_answer_str,\n",
    ")"
   ]
  },
  {
   "cell_type": "code",
   "execution_count": null,
   "id": "24df7d12",
   "metadata": {
    "colab": {
     "base_uri": "https://localhost:8080/"
    },
    "id": "24df7d12",
    "outputId": "ca5544d3-dba5-47d3-ad70-9a14f7a5a643"
   },
   "outputs": [],
   "source": [
    "print(coeff)\n",
    "formatted_coeff = np.round(coeff, 3)  # Rounds to 3 decimal places\n",
    "formatted_coeff"
   ]
  },
  {
   "cell_type": "code",
   "execution_count": null,
   "id": "1f99f696",
   "metadata": {
    "colab": {
     "base_uri": "https://localhost:8080/",
     "height": 507
    },
    "id": "1f99f696",
    "outputId": "a9de8831-5e23-4a98-b17b-23035c49149f"
   },
   "outputs": [],
   "source": [
    "# Ground truth (true labels) and predicted probabilities\n",
    "y_true = np.array([1, 0, 0, 0, 0,0, 0, 0, 0, 0])  # Ground truth (0: negative, 1: positive)\n",
    "y_scores = formatted_coeff # Predicted probabilities\n",
    "\n",
    "# Call the function to compute and plot ROC curve\n",
    "roc_auc_value = plot_roc_curve(y_true, y_scores)\n",
    "print(f\"Computed AUC: {roc_auc_value:.3f}\")"
   ]
  },
  {
   "cell_type": "code",
   "execution_count": null,
   "id": "y8ItNK-szBrI",
   "metadata": {
    "colab": {
     "base_uri": "https://localhost:8080/",
     "height": 649
    },
    "id": "y8ItNK-szBrI",
    "outputId": "f5f53091-87c2-420a-c6f0-d5f59ae5eb25"
   },
   "outputs": [],
   "source": [
    "coeff=np.array([ 1., -0.,  0., -0.,  0.,  0.,  0., -0., -0.,  0.])\n",
    "# Call the function\n",
    "plot_knowledge_graph_explainability(kg, part_indices, coeff)"
   ]
  },
  {
   "cell_type": "markdown",
   "id": "vM5VDCJyAWnC",
   "metadata": {
    "id": "vM5VDCJyAWnC"
   },
   "source": [
    "## Accuracy: Assess the explanation for \" \"What is the type of  Scooby-Doo_and_the_Cyber_Chase_(video_game)?\" (Temp 1) by comparing it with the ground truth, considering increased variability due to higher randomness."
   ]
  },
  {
   "cell_type": "code",
   "execution_count": null,
   "id": "_BiW9hio0wEM",
   "metadata": {
    "id": "_BiW9hio0wEM"
   },
   "outputs": [],
   "source": [
    "question =  \"What is the type of  Scooby-Doo_and_the_Cyber_Chase_(video_game)?\""
   ]
  },
  {
   "cell_type": "code",
   "execution_count": null,
   "id": "d60796d8",
   "metadata": {
    "colab": {
     "base_uri": "https://localhost:8080/"
    },
    "id": "d60796d8",
    "outputId": "fbe84d11-dfa7-443c-b3a2-3d0e9fca1e8d"
   },
   "outputs": [],
   "source": [
    "temp = 1\n",
    "original_answer_str, original_answer_embedding = get_answer_and_embedding(question, temp, graph)\n",
    "print(f\"Original answer: {original_answer_str}\")"
   ]
  },
  {
   "cell_type": "code",
   "execution_count": null,
   "id": "17bfb256",
   "metadata": {
    "colab": {
     "base_uri": "https://localhost:8080/"
    },
    "id": "17bfb256",
    "outputId": "4dacb476-534d-43f6-d34f-a9ce865383be"
   },
   "outputs": [],
   "source": [
    "coeff = calculate_coefficients_print_Temerature(\n",
    "    temp= temp,\n",
    "    original=original,\n",
    "    kg=kg,\n",
    "    part_names=part_names,\n",
    "    question=question,\n",
    "    original_answer_embedding=original_answer_embedding,\n",
    "    original_answer_str=original_answer_str,\n",
    ")"
   ]
  },
  {
   "cell_type": "code",
   "execution_count": null,
   "id": "1bed3e16",
   "metadata": {
    "colab": {
     "base_uri": "https://localhost:8080/"
    },
    "id": "1bed3e16",
    "outputId": "24d0f738-4ec1-47a5-acbd-e757f93334fd"
   },
   "outputs": [],
   "source": [
    "print(coeff)\n",
    "formatted_coeff = np.round(coeff, 3)  # Rounds to 3 decimal places\n",
    "formatted_coeff\n"
   ]
  },
  {
   "cell_type": "code",
   "execution_count": null,
   "id": "20e5f4ef",
   "metadata": {
    "colab": {
     "base_uri": "https://localhost:8080/",
     "height": 507
    },
    "id": "20e5f4ef",
    "outputId": "f867d538-d8e1-4c9b-8c71-88d7a09838c7"
   },
   "outputs": [],
   "source": [
    "#  Ground truth (true labels) and predicted probabilities\n",
    "y_true = np.array([1, 0, 0, 0, 0,0, 0, 0, 0, 0])  # Ground truth (0: negative, 1: positive)\n",
    "y_scores = formatted_coeff # Predicted probabilities\n",
    "\n",
    "# Call the function to compute and plot ROC curve\n",
    "roc_auc_value = plot_roc_curve(y_true, y_scores)\n",
    "print(f\"Computed AUC: {roc_auc_value:.3f}\")"
   ]
  },
  {
   "cell_type": "code",
   "execution_count": null,
   "id": "3fd674a1",
   "metadata": {
    "colab": {
     "base_uri": "https://localhost:8080/",
     "height": 649
    },
    "id": "3fd674a1",
    "outputId": "e3b22d08-5bbe-4999-e3ac-46e9906df155"
   },
   "outputs": [],
   "source": [
    "coeff=np.array([ 0.154, -0.286,  0.253,  0.293, -0.007,  0.187,  0.121, -0.24 ,\n",
    "        0.086, -0.422])\n",
    "# Call the function\n",
    "plot_knowledge_graph_explainability(kg, part_indices, coeff)"
   ]
  },
  {
   "cell_type": "markdown",
   "id": "3da51cf4-89e7-44c4-8d0c-76c5ce03ebf7",
   "metadata": {
    "id": "3da51cf4-89e7-44c4-8d0c-76c5ce03ebf7"
   },
   "source": [
    "## Accuracy: Evaluate the explanation for \"What is  Mirai ?\" (Temp 0) by comparing it to the ground truth for precision and alignment.\n"
   ]
  },
  {
   "cell_type": "code",
   "execution_count": null,
   "id": "vavWwSoaqA_R",
   "metadata": {
    "id": "vavWwSoaqA_R"
   },
   "outputs": [],
   "source": [
    "question = \"IS Mirai from the Japanese word?\""
   ]
  },
  {
   "cell_type": "code",
   "execution_count": null,
   "id": "611947ab",
   "metadata": {
    "colab": {
     "base_uri": "https://localhost:8080/"
    },
    "id": "611947ab",
    "outputId": "6e89a02d-8804-45db-aece-44ce1f8ebbca"
   },
   "outputs": [],
   "source": [
    "temp = 0\n",
    "original_answer_str, original_answer_embedding = get_answer_and_embedding(question, temp, graph)\n",
    "print(f\"Original answer: {original_answer_str}\")"
   ]
  },
  {
   "cell_type": "code",
   "execution_count": null,
   "id": "0b8a9b96",
   "metadata": {
    "colab": {
     "base_uri": "https://localhost:8080/"
    },
    "id": "0b8a9b96",
    "outputId": "9d0dc2cf-68d3-409f-8560-637507e44767"
   },
   "outputs": [],
   "source": [
    "coeff = calculate_coefficients_print_Temerature(\n",
    "    temp= temp,\n",
    "    original=original,\n",
    "    kg=kg,\n",
    "    part_names=part_names,\n",
    "    question=question,\n",
    "    original_answer_embedding=original_answer_embedding,\n",
    "    original_answer_str=original_answer_str,\n",
    ")"
   ]
  },
  {
   "cell_type": "code",
   "execution_count": null,
   "id": "625101ad",
   "metadata": {
    "colab": {
     "base_uri": "https://localhost:8080/"
    },
    "id": "625101ad",
    "outputId": "4395af15-e893-4627-f22a-2e157c4f22f9"
   },
   "outputs": [],
   "source": [
    "print(coeff)\n",
    "formatted_coeff = np.round(coeff, 3)  # Rounds to 3 decimal places\n",
    "formatted_coeff"
   ]
  },
  {
   "cell_type": "code",
   "execution_count": null,
   "id": "4bc474e3",
   "metadata": {
    "colab": {
     "base_uri": "https://localhost:8080/",
     "height": 507
    },
    "id": "4bc474e3",
    "outputId": "8d14a97a-aa67-4a3f-aec8-d964959386a8"
   },
   "outputs": [],
   "source": [
    "# Ground truth (true labels) and predicted probabilities\n",
    "y_true = np.array([0, 1, 0, 0, 0,0, 0, 0, 0, 0])  # Ground truth (0: negative, 1: positive)\n",
    "y_scores = formatted_coeff # Predicted probabilities\n",
    "\n",
    "# Call the function to compute and plot ROC curve\n",
    "roc_auc_value = plot_roc_curve(y_true, y_scores)\n",
    "print(f\"Computed AUC: {roc_auc_value:.3f}\")"
   ]
  },
  {
   "cell_type": "code",
   "execution_count": null,
   "id": "ffd8e38b",
   "metadata": {
    "colab": {
     "base_uri": "https://localhost:8080/",
     "height": 649
    },
    "id": "ffd8e38b",
    "outputId": "eb8a180e-7678-449a-f946-9430d1b86242"
   },
   "outputs": [],
   "source": [
    "coeff=np.array([-0.686,  0.119, -0.289,  0.235,  0.877, -0.096,  0.116,  0.117, 0.217, -0.826])\n",
    "# Call the function\n",
    "plot_knowledge_graph_explainability(kg, part_indices, coeff)"
   ]
  },
  {
   "cell_type": "markdown",
   "id": "31f3f8b8-ba92-4cf7-a684-46ed2910b09e",
   "metadata": {
    "id": "31f3f8b8-ba92-4cf7-a684-46ed2910b09e"
   },
   "source": [
    "## Accuracy: Assess the explanation for \"question = \"What is Mirai?\" (Temp 1) by comparing it with the ground truth, accounting for variability due to higher randomness.\n"
   ]
  },
  {
   "cell_type": "code",
   "execution_count": null,
   "id": "fd2c0dd7",
   "metadata": {
    "id": "fd2c0dd7"
   },
   "outputs": [],
   "source": [
    "question = \" IS Mirai from the Japanese word?\""
   ]
  },
  {
   "cell_type": "code",
   "execution_count": null,
   "id": "586d67f6",
   "metadata": {
    "colab": {
     "base_uri": "https://localhost:8080/"
    },
    "id": "586d67f6",
    "outputId": "f5eef819-1746-4f80-9037-6b7bc024d12a"
   },
   "outputs": [],
   "source": [
    "temp = 1\n",
    "original_answer_str, original_answer_embedding = get_answer_and_embedding(question, temp, graph)\n",
    "print(f\"Original answer: {original_answer_str}\")"
   ]
  },
  {
   "cell_type": "code",
   "execution_count": null,
   "id": "7d70ba23",
   "metadata": {
    "colab": {
     "base_uri": "https://localhost:8080/"
    },
    "id": "7d70ba23",
    "outputId": "ffa8fdbd-8420-4c02-afcb-94242633da68"
   },
   "outputs": [],
   "source": [
    "coeff = calculate_coefficients_print_Temerature(\n",
    "    temp= temp,\n",
    "    original=original,\n",
    "    kg=kg,\n",
    "    part_names=part_names,\n",
    "    question=question,\n",
    "    original_answer_embedding=original_answer_embedding,\n",
    "    original_answer_str=original_answer_str,\n",
    ")"
   ]
  },
  {
   "cell_type": "code",
   "execution_count": null,
   "id": "94d3cba2",
   "metadata": {
    "colab": {
     "base_uri": "https://localhost:8080/"
    },
    "id": "94d3cba2",
    "outputId": "2e695e97-bce7-4d0d-8863-3aa49d1e6187"
   },
   "outputs": [],
   "source": [
    "print(coeff)\n",
    "formatted_coeff = np.round(coeff, 3)  # Rounds to 3 decimal places\n",
    "formatted_coeff"
   ]
  },
  {
   "cell_type": "code",
   "execution_count": null,
   "id": "731026a3",
   "metadata": {
    "colab": {
     "base_uri": "https://localhost:8080/",
     "height": 507
    },
    "id": "731026a3",
    "outputId": "4e0228ef-bbe5-4a0e-a725-b1ee3b86e1ad"
   },
   "outputs": [],
   "source": [
    "#  Ground truth (true labels) and predicted probabilities\n",
    "y_true = np.array([0, 1, 0, 0, 0,0, 0, 0, 0, 0])  # Ground truth (0: negative, 1: positive)\n",
    "y_scores = formatted_coeff # Predicted probabilities\n",
    "# Call the function to compute and plot ROC curve\n",
    "roc_auc_value = plot_roc_curve(y_true, y_scores)\n",
    "print(f\"Computed AUC: {roc_auc_value:.3f}\")"
   ]
  },
  {
   "cell_type": "code",
   "execution_count": null,
   "id": "3792854f",
   "metadata": {
    "colab": {
     "base_uri": "https://localhost:8080/",
     "height": 649
    },
    "id": "3792854f",
    "outputId": "1607209e-bb82-4e42-ce72-4636b2b6c991"
   },
   "outputs": [],
   "source": [
    "coeff= np.array([ 0.239,  0.175,  0.002, -0.071,  0.135,  0.177, -0.038, -0.011,\n",
    "        0.314, -0.215])\n",
    "# Call the function\n",
    "plot_knowledge_graph_explainability(kg, part_indices, coeff)"
   ]
  },
  {
   "cell_type": "markdown",
   "id": "7cf02150-3608-477d-bfaf-b46571d0e21e",
   "metadata": {
    "id": "7cf02150-3608-477d-bfaf-b46571d0e21e"
   },
   "source": [
    "## Accuracy: Evaluate the explanation for \"What is MS Antivirus ? \" (Temp 0) by comparing it to the ground truth for precision and alignment.\n"
   ]
  },
  {
   "cell_type": "code",
   "execution_count": null,
   "id": "3gd88ZgR6uCd",
   "metadata": {
    "id": "3gd88ZgR6uCd"
   },
   "outputs": [],
   "source": [
    "question = \"What is MS Antivirus?\""
   ]
  },
  {
   "cell_type": "code",
   "execution_count": null,
   "id": "9d0b5c6d",
   "metadata": {
    "colab": {
     "base_uri": "https://localhost:8080/"
    },
    "id": "9d0b5c6d",
    "outputId": "b607d81f-713d-41d7-e363-266f9a2b1515"
   },
   "outputs": [],
   "source": [
    "temp = 0\n",
    "original_answer_str, original_answer_embedding = get_answer_and_embedding(question, temp, graph)\n",
    "print(original_answer_str)"
   ]
  },
  {
   "cell_type": "code",
   "execution_count": null,
   "id": "3a8ebaf1",
   "metadata": {
    "colab": {
     "base_uri": "https://localhost:8080/"
    },
    "id": "3a8ebaf1",
    "outputId": "b1bc6446-5945-4e4a-f894-ce4990b90159"
   },
   "outputs": [],
   "source": [
    "coeff = calculate_coefficients_print_Temerature(\n",
    "    temp= temp,\n",
    "    original=original,\n",
    "    kg=kg,\n",
    "    part_names=part_names,\n",
    "    question=question,\n",
    "    original_answer_embedding=original_answer_embedding,\n",
    "    original_answer_str=original_answer_str,\n",
    ")"
   ]
  },
  {
   "cell_type": "code",
   "execution_count": null,
   "id": "f0cb4f11",
   "metadata": {
    "colab": {
     "base_uri": "https://localhost:8080/"
    },
    "id": "f0cb4f11",
    "outputId": "1f3797c3-e99d-4cfa-e1fc-c329e2398396"
   },
   "outputs": [],
   "source": [
    "print(coeff)\n",
    "formatted_coeff = np.round(coeff, 3)  # Rounds to 3 decimal places\n",
    "formatted_coeff"
   ]
  },
  {
   "cell_type": "code",
   "execution_count": null,
   "id": "f21ee8c7",
   "metadata": {
    "colab": {
     "base_uri": "https://localhost:8080/",
     "height": 507
    },
    "id": "f21ee8c7",
    "outputId": "d76dcf51-ea65-48a2-a96b-3299908baf8e"
   },
   "outputs": [],
   "source": [
    "# Ground truth (true labels) and predicted probabilities\n",
    "y_true = np.array([0, 0, 0, 1, 0,0, 0, 0, 0, 0])  # Ground truth (0: negative, 1: positive)\n",
    "y_scores = formatted_coeff # Predicted probabilities\n",
    "\n",
    "# Call the function to compute and plot ROC curve\n",
    "roc_auc_value = plot_roc_curve(y_true, y_scores)\n",
    "print(f\"Computed AUC: {roc_auc_value:.3f}\")\n"
   ]
  },
  {
   "cell_type": "code",
   "execution_count": null,
   "id": "6ZBu0XZa4oRM",
   "metadata": {
    "colab": {
     "base_uri": "https://localhost:8080/",
     "height": 649
    },
    "id": "6ZBu0XZa4oRM",
    "outputId": "8f479d3f-51e1-4b35-9086-afd4432869d2"
   },
   "outputs": [],
   "source": [
    "coeff=np.array([ 0.047, -0.389, -0.825,  0.848,  0.169,  0.559, -0.401,  0.639,\n",
    "        0.165, -0.074])\n",
    "# Call the function\n",
    "plot_knowledge_graph_explainability(kg, part_indices, coeff)"
   ]
  },
  {
   "cell_type": "markdown",
   "id": "17e8c476-b025-47de-8770-7900e60aa549",
   "metadata": {
    "id": "17e8c476-b025-47de-8770-7900e60aa549"
   },
   "source": [
    "## Accuracy: Assess the explanation for \"What is MS Antivirus?\" (Temp 1) by comparing it with the ground truth, considering variability due to higher randomness.\n"
   ]
  },
  {
   "cell_type": "code",
   "execution_count": null,
   "id": "6c13f997",
   "metadata": {
    "id": "6c13f997"
   },
   "outputs": [],
   "source": [
    "question = \"What is MS Antivirus?\""
   ]
  },
  {
   "cell_type": "code",
   "execution_count": null,
   "id": "6334d527",
   "metadata": {
    "colab": {
     "base_uri": "https://localhost:8080/"
    },
    "id": "6334d527",
    "outputId": "5b251e6c-0953-4bbb-ae74-5c9c285d1621"
   },
   "outputs": [],
   "source": [
    "temp = 1\n",
    "original_answer_str, original_answer_embedding = get_answer_and_embedding(question, temp, graph)\n",
    "print(f\"Original answer: {original_answer_str}\")"
   ]
  },
  {
   "cell_type": "code",
   "execution_count": null,
   "id": "7d257194",
   "metadata": {
    "colab": {
     "base_uri": "https://localhost:8080/"
    },
    "id": "7d257194",
    "outputId": "cc0f4395-11d0-44a1-bf57-9d0438bd98a6"
   },
   "outputs": [],
   "source": [
    "coeff = calculate_coefficients_print_Temerature(\n",
    "    temp= temp,\n",
    "    original=original,\n",
    "    kg=kg,\n",
    "    part_names=part_names,\n",
    "    question=question,\n",
    "    original_answer_embedding=original_answer_embedding,\n",
    "    original_answer_str=original_answer_str,\n",
    ")"
   ]
  },
  {
   "cell_type": "code",
   "execution_count": null,
   "id": "5f057fc9",
   "metadata": {
    "colab": {
     "base_uri": "https://localhost:8080/"
    },
    "id": "5f057fc9",
    "outputId": "b824a2a9-e763-41a3-d691-b646269633a4"
   },
   "outputs": [],
   "source": [
    "print(coeff)\n",
    "formatted_coeff = np.round(coeff, 3)  # Rounds to 3 decimal places\n",
    "formatted_coeff"
   ]
  },
  {
   "cell_type": "code",
   "execution_count": null,
   "id": "f626ca32",
   "metadata": {
    "colab": {
     "base_uri": "https://localhost:8080/",
     "height": 507
    },
    "id": "f626ca32",
    "outputId": "8e9944b8-1f7b-4bc2-fd0d-b86dc1562601"
   },
   "outputs": [],
   "source": [
    "# Ground truth (true labels) and predicted probabilities\n",
    "y_true = np.array([0, 0, 0, 1,0,0, 0, 0, 0,0])  # Ground truth (0: negative, 1: positive)\n",
    "y_scores = formatted_coeff # Predicted probabilities\n",
    "\n",
    "# Call the function to compute and plot ROC curve\n",
    "roc_auc_value = plot_roc_curve(y_true, y_scores)\n",
    "print(f\"Computed AUC: {roc_auc_value:.3f}\")"
   ]
  },
  {
   "cell_type": "code",
   "execution_count": null,
   "id": "6e51ad9c",
   "metadata": {
    "colab": {
     "base_uri": "https://localhost:8080/",
     "height": 649
    },
    "id": "6e51ad9c",
    "outputId": "0a228b29-1017-4739-c57a-361ab336fa2e"
   },
   "outputs": [],
   "source": [
    "coeff=np.array([ 0.099,  0.359, -0.139, -0.405, -0.031,  0.409,  0.016, -0.133,\n",
    "       -0.015,  0.032])\n",
    "plot_knowledge_graph_explainability(kg, part_indices, coeff)"
   ]
  },
  {
   "cell_type": "markdown",
   "id": "84b35d9d-626e-46f7-a2f6-e4862e0d0143",
   "metadata": {
    "id": "84b35d9d-626e-46f7-a2f6-e4862e0d0143"
   },
   "source": [
    "## Accuracy: Evaluate the explanation for \"What is CyberCIEGE?\" (Temp 0) by comparing it to the ground truth for precision and alignment.\n"
   ]
  },
  {
   "cell_type": "code",
   "execution_count": null,
   "id": "583eac5e",
   "metadata": {
    "id": "583eac5e"
   },
   "outputs": [],
   "source": [
    "question = \"What is CyberCIEGE?\""
   ]
  },
  {
   "cell_type": "code",
   "execution_count": null,
   "id": "cc832a34",
   "metadata": {
    "colab": {
     "base_uri": "https://localhost:8080/"
    },
    "id": "cc832a34",
    "outputId": "84a5d7f3-e6fb-463d-8b28-bcd3299f2456"
   },
   "outputs": [],
   "source": [
    "temp = 0\n",
    "original_answer_str, original_answer_embedding = get_answer_and_embedding(question, temp, graph)\n",
    "print(original_answer_str)"
   ]
  },
  {
   "cell_type": "code",
   "execution_count": null,
   "id": "fc06eb9f",
   "metadata": {
    "colab": {
     "base_uri": "https://localhost:8080/"
    },
    "id": "fc06eb9f",
    "outputId": "4ed7b094-3e99-4ca2-ae8f-ac8ad171283b"
   },
   "outputs": [],
   "source": [
    "temp= 0\n",
    "coeff = calculate_coefficients_print_Temerature(\n",
    "    temp= temp,\n",
    "    original=original,\n",
    "    kg=kg,\n",
    "    part_names=part_names,\n",
    "    question=question,\n",
    "    original_answer_embedding=original_answer_embedding,\n",
    "    original_answer_str=original_answer_str,\n",
    ")"
   ]
  },
  {
   "cell_type": "code",
   "execution_count": null,
   "id": "92029e10",
   "metadata": {
    "colab": {
     "base_uri": "https://localhost:8080/"
    },
    "id": "92029e10",
    "outputId": "54342474-86a3-4808-cb4d-ec024b4310f8"
   },
   "outputs": [],
   "source": [
    "print(coeff)\n",
    "formatted_coeff = np.round(coeff, 3)  # Rounds to 3 decimal places\n",
    "formatted_coeff"
   ]
  },
  {
   "cell_type": "code",
   "execution_count": null,
   "id": "75120eee",
   "metadata": {
    "colab": {
     "base_uri": "https://localhost:8080/",
     "height": 507
    },
    "id": "75120eee",
    "outputId": "64539774-deff-4df6-fd30-b8d60c4f3eba"
   },
   "outputs": [],
   "source": [
    "# Ground truth (true labels) and predicted probabilities\n",
    "y_true = np.array([0, 0, 0,0,1,0, 0, 0, 0,0])  # Ground truth (0: negative, 1: positive)\n",
    "y_scores = formatted_coeff # Predicted probabilities\n",
    "# Call the function to compute and plot ROC curve\n",
    "roc_auc_value = plot_roc_curve(y_true, y_scores)\n",
    "print(f\"Computed AUC: {roc_auc_value:.3f}\")"
   ]
  },
  {
   "cell_type": "code",
   "execution_count": null,
   "id": "0255f9b1",
   "metadata": {
    "colab": {
     "base_uri": "https://localhost:8080/",
     "height": 649
    },
    "id": "0255f9b1",
    "outputId": "21ec3c7d-ed96-4cc8-c550-e0d6b112682d"
   },
   "outputs": [],
   "source": [
    "coeff=np.array([-0.,  0.,  0.,  0.,  1.,  0., -0., -0.,  0., -0.])\n",
    "# Call the function\n",
    "plot_knowledge_graph_explainability(kg, part_indices, coeff)"
   ]
  },
  {
   "cell_type": "markdown",
   "id": "464bf9fb-fc2b-4d91-a667-4b6c60a4323b",
   "metadata": {
    "id": "464bf9fb-fc2b-4d91-a667-4b6c60a4323b"
   },
   "source": [
    "## Accuracy: Assess the explanation for \" What is CyberCIEGE?\" (Temp 1) by comparing it with the ground truth, considering variability due to higher randomness.\n"
   ]
  },
  {
   "cell_type": "code",
   "execution_count": null,
   "id": "c2e0ff4a",
   "metadata": {
    "id": "c2e0ff4a"
   },
   "outputs": [],
   "source": [
    "question = \" What is CyberCIEGE?\""
   ]
  },
  {
   "cell_type": "code",
   "execution_count": null,
   "id": "0f009744",
   "metadata": {
    "colab": {
     "base_uri": "https://localhost:8080/"
    },
    "id": "0f009744",
    "outputId": "ac451113-54fd-40c7-c456-682aff8bb1cf"
   },
   "outputs": [],
   "source": [
    "temp = 1\n",
    "original_answer_str, original_answer_embedding = get_answer_and_embedding(question, temp, graph)\n",
    "print(f\"Original answer: {original_answer_str}\")"
   ]
  },
  {
   "cell_type": "code",
   "execution_count": null,
   "id": "9e38eaf5",
   "metadata": {
    "colab": {
     "base_uri": "https://localhost:8080/"
    },
    "id": "9e38eaf5",
    "outputId": "fc3f3b5d-2656-448e-a9f5-4c966e39327e"
   },
   "outputs": [],
   "source": [
    "coeff = calculate_coefficients_print_Temerature(\n",
    "    temp= temp,\n",
    "    original=original,\n",
    "    kg=kg,\n",
    "    part_names=part_names,\n",
    "    question=question,\n",
    "    original_answer_embedding=original_answer_embedding,\n",
    "    original_answer_str=original_answer_str,\n",
    ")"
   ]
  },
  {
   "cell_type": "code",
   "execution_count": null,
   "id": "b1c2e877",
   "metadata": {
    "colab": {
     "base_uri": "https://localhost:8080/"
    },
    "id": "b1c2e877",
    "outputId": "89482e5c-6911-4e37-f968-16de99133fd6"
   },
   "outputs": [],
   "source": [
    "print(coeff)\n",
    "formatted_coeff = np.round(coeff, 3)  # Rounds to 3 decimal places\n",
    "formatted_coeff"
   ]
  },
  {
   "cell_type": "code",
   "execution_count": null,
   "id": "d20fc113",
   "metadata": {
    "colab": {
     "base_uri": "https://localhost:8080/",
     "height": 507
    },
    "id": "d20fc113",
    "outputId": "20d72890-7381-41c8-8fc1-8eb44cbe4615"
   },
   "outputs": [],
   "source": [
    "# Ground truth (true labels) and predicted probabilities\n",
    "y_true = np.array([0, 0, 0, 0,1,0, 0, 0, 0,0])  # Ground truth (0: negative, 1: positive)\n",
    "y_scores = formatted_coeff # Predicted probabilities\n",
    "# Call the function to compute and plot ROC curve\n",
    "roc_auc_value = plot_roc_curve(y_true, y_scores)\n",
    "print(f\"Computed AUC: {roc_auc_value:.3f}\")"
   ]
  },
  {
   "cell_type": "code",
   "execution_count": null,
   "id": "d38a7928",
   "metadata": {
    "colab": {
     "base_uri": "https://localhost:8080/",
     "height": 649
    },
    "id": "d38a7928",
    "outputId": "3cdb54f0-113c-4501-8126-103c751d1913"
   },
   "outputs": [],
   "source": [
    "coeff=np.array([ 0.232, -0.024,  0.023, -0.175,  0.024, -0.188, -0.051, -0.314,\n",
    "       -0.011, -0.163])\n",
    "# Call the function\n",
    "plot_knowledge_graph_explainability(kg, part_indices, coeff)"
   ]
  },
  {
   "cell_type": "markdown",
   "id": "0e714ca9-70c6-498c-b50a-2f90ec50df7d",
   "metadata": {
    "id": "0e714ca9-70c6-498c-b50a-2f90ec50df7d"
   },
   "source": [
    "## Accuracy: Evaluate the explanation for \"What is CyberExtension?\" (Temp 0) by comparing it to the ground truth for precision and alignment.\n"
   ]
  },
  {
   "cell_type": "code",
   "execution_count": null,
   "id": "8a8995bc",
   "metadata": {
    "id": "8a8995bc"
   },
   "outputs": [],
   "source": [
    "question = \"What is CyberExtension?\""
   ]
  },
  {
   "cell_type": "code",
   "execution_count": null,
   "id": "c6b8213a",
   "metadata": {
    "colab": {
     "base_uri": "https://localhost:8080/"
    },
    "id": "c6b8213a",
    "outputId": "640b6241-0924-4288-a13f-75b99a1fb1b1"
   },
   "outputs": [],
   "source": [
    "temp = 0\n",
    "original_answer_str, original_answer_embedding = get_answer_and_embedding(question, temp, graph)\n",
    "print(original_answer_str)"
   ]
  },
  {
   "cell_type": "code",
   "execution_count": null,
   "id": "492e889d",
   "metadata": {
    "colab": {
     "base_uri": "https://localhost:8080/"
    },
    "id": "492e889d",
    "outputId": "039b35c8-0b34-432b-ccf1-fe186d934265"
   },
   "outputs": [],
   "source": [
    "coeff = calculate_coefficients_print_Temerature(\n",
    "    temp= temp,\n",
    "    original=original,\n",
    "    kg=kg,\n",
    "    part_names=part_names,\n",
    "    question=question,\n",
    "    original_answer_embedding=original_answer_embedding,\n",
    "    original_answer_str=original_answer_str,\n",
    ")"
   ]
  },
  {
   "cell_type": "code",
   "execution_count": null,
   "id": "46c7a759",
   "metadata": {
    "colab": {
     "base_uri": "https://localhost:8080/"
    },
    "id": "46c7a759",
    "outputId": "44422103-0c4b-4a70-ae16-a08a204cad36"
   },
   "outputs": [],
   "source": [
    "print(coeff)\n",
    "formatted_coeff = np.round(coeff, 3)  # Rounds to 3 decimal places\n",
    "formatted_coeff"
   ]
  },
  {
   "cell_type": "code",
   "execution_count": null,
   "id": "fee49142",
   "metadata": {
    "colab": {
     "base_uri": "https://localhost:8080/",
     "height": 507
    },
    "id": "fee49142",
    "outputId": "7f33799d-260c-4e9f-c34b-693071615943"
   },
   "outputs": [],
   "source": [
    "#  Ground truth (true labels) and predicted probabilities\n",
    "y_true = np.array([0, 0, 0, 0,0,1, 0, 0, 0,0])  # Ground truth (0: negative, 1: positive)\n",
    "y_scores = formatted_coeff # Predicted probabilities\n",
    "# Call the function to compute and plot ROC curve\n",
    "roc_auc_value = plot_roc_curve(y_true, y_scores)\n",
    "print(f\"Computed AUC: {roc_auc_value:.3f}\")"
   ]
  },
  {
   "cell_type": "code",
   "execution_count": null,
   "id": "906dc7ca",
   "metadata": {
    "colab": {
     "base_uri": "https://localhost:8080/",
     "height": 649
    },
    "id": "906dc7ca",
    "outputId": "207c463c-5186-4d1c-d99e-25d0f3fe7940"
   },
   "outputs": [],
   "source": [
    "coeff=np.array([ 0., -0.,  0., -0., -0.,  1., -0.,  0., -0.,  0.])\n",
    "# Call the function\n",
    "plot_knowledge_graph_explainability(kg, part_indices, coeff)"
   ]
  },
  {
   "cell_type": "markdown",
   "id": "1008de85-20fa-4431-8190-ab8b32d850f5",
   "metadata": {
    "id": "1008de85-20fa-4431-8190-ab8b32d850f5"
   },
   "source": [
    "## Accuracy: Assess the explanation for \"What is CyberExtension?\" (Temp 1) by comparing it with the ground truth, considering variability due to higher randomness.\n"
   ]
  },
  {
   "cell_type": "code",
   "execution_count": null,
   "id": "af9a136a",
   "metadata": {
    "id": "af9a136a"
   },
   "outputs": [],
   "source": [
    "question = \"What is CyberExtension?\""
   ]
  },
  {
   "cell_type": "code",
   "execution_count": null,
   "id": "3dff5a13",
   "metadata": {
    "colab": {
     "base_uri": "https://localhost:8080/"
    },
    "id": "3dff5a13",
    "outputId": "94a532e1-db44-43c8-f9f8-a2bd3c34890a"
   },
   "outputs": [],
   "source": [
    "temp = 1\n",
    "original_answer_str, original_answer_embedding = get_answer_and_embedding(question, temp, graph)\n",
    "print(f\"Original answer: {original_answer_str}\")"
   ]
  },
  {
   "cell_type": "code",
   "execution_count": null,
   "id": "17fa0e31",
   "metadata": {
    "colab": {
     "base_uri": "https://localhost:8080/"
    },
    "id": "17fa0e31",
    "outputId": "28a36989-db13-466a-8077-8a27e0e69f6c"
   },
   "outputs": [],
   "source": [
    "coeff = calculate_coefficients_print_Temerature(\n",
    "    temp= temp,\n",
    "    original=original,\n",
    "    kg=kg,\n",
    "    part_names=part_names,\n",
    "    question=question,\n",
    "    original_answer_embedding=original_answer_embedding,\n",
    "    original_answer_str=original_answer_str,\n",
    ")"
   ]
  },
  {
   "cell_type": "code",
   "execution_count": null,
   "id": "de9549e9",
   "metadata": {
    "colab": {
     "base_uri": "https://localhost:8080/"
    },
    "id": "de9549e9",
    "outputId": "210a1994-fd6e-4082-a4ee-8340840bc367"
   },
   "outputs": [],
   "source": [
    "print(coeff)\n",
    "formatted_coeff = np.round(coeff, 3)  # Rounds to 3 decimal places\n",
    "formatted_coeff"
   ]
  },
  {
   "cell_type": "code",
   "execution_count": null,
   "id": "c301d151",
   "metadata": {
    "colab": {
     "base_uri": "https://localhost:8080/",
     "height": 507
    },
    "id": "c301d151",
    "outputId": "be16e615-e454-4d95-8886-4b4a54df88fa"
   },
   "outputs": [],
   "source": [
    "#  Ground truth (true labels) and predicted probabilities\n",
    "y_true = np.array([0, 0, 0, 0,0,1, 0, 0, 0,0])  # Ground truth (0: negative, 1: positive)\n",
    "y_scores = formatted_coeff # Predicted probabilities\n",
    "# Call the function to compute and plot ROC curve\n",
    "roc_auc_value = plot_roc_curve(y_true, y_scores)\n",
    "print(f\"Computed AUC: {roc_auc_value:.3f}\")"
   ]
  },
  {
   "cell_type": "code",
   "execution_count": null,
   "id": "fde64a73",
   "metadata": {
    "colab": {
     "base_uri": "https://localhost:8080/",
     "height": 649
    },
    "id": "fde64a73",
    "outputId": "4d57ef85-9c32-480b-fc42-e3590519844c"
   },
   "outputs": [],
   "source": [
    "coeff=np.array([ 0.132,  0.344, -0.497, -0.605, -0.371, -0.067,  0.009,  0.081,\n",
    "        0.207,  0.244])\n",
    "# Call the function\n",
    "plot_knowledge_graph_explainability(kg, part_indices, coeff)"
   ]
  },
  {
   "cell_type": "markdown",
   "id": "189e5871-3f14-4270-b176-3d9499f7e106",
   "metadata": {
    "id": "189e5871-3f14-4270-b176-3d9499f7e106"
   },
   "source": [
    "## Accuracy: Evaluate the explanation for \"What is CyberGladiators?\" (Temp 0) by comparing it to the ground truth for precision and alignment.\n"
   ]
  },
  {
   "cell_type": "code",
   "execution_count": null,
   "id": "1850fb30",
   "metadata": {
    "id": "1850fb30"
   },
   "outputs": [],
   "source": [
    "question = \"What is CyberGladiators?\""
   ]
  },
  {
   "cell_type": "code",
   "execution_count": null,
   "id": "dad9b5d8",
   "metadata": {
    "colab": {
     "base_uri": "https://localhost:8080/"
    },
    "id": "dad9b5d8",
    "outputId": "7f637c4e-93c3-4b72-b995-5a68599fc046"
   },
   "outputs": [],
   "source": [
    "temp = 0\n",
    "original_answer_str, original_answer_embedding = get_answer_and_embedding(question, temp, graph)\n",
    "print(f\"Original answer: {original_answer_str}\")"
   ]
  },
  {
   "cell_type": "code",
   "execution_count": null,
   "id": "41284ee0",
   "metadata": {
    "colab": {
     "base_uri": "https://localhost:8080/"
    },
    "id": "41284ee0",
    "outputId": "f6c24d04-2318-41a3-9e4b-639898e85d5d"
   },
   "outputs": [],
   "source": [
    "coeff = calculate_coefficients_print_Temerature(\n",
    "    temp= temp,\n",
    "    original=original,\n",
    "    kg=kg,\n",
    "    part_names=part_names,\n",
    "    question=question,\n",
    "    original_answer_embedding=original_answer_embedding,\n",
    "    original_answer_str=original_answer_str,\n",
    ")"
   ]
  },
  {
   "cell_type": "code",
   "execution_count": null,
   "id": "56ba3515",
   "metadata": {
    "colab": {
     "base_uri": "https://localhost:8080/"
    },
    "id": "56ba3515",
    "outputId": "b5a8ba4b-5c45-4a0d-ae41-d4a5a7458e2a"
   },
   "outputs": [],
   "source": [
    "print(coeff)\n",
    "formatted_coeff = np.round(coeff, 3)  # Rounds to 3 decimal places\n",
    "formatted_coeff\n"
   ]
  },
  {
   "cell_type": "code",
   "execution_count": null,
   "id": "89ce27d4",
   "metadata": {
    "colab": {
     "base_uri": "https://localhost:8080/",
     "height": 507
    },
    "id": "89ce27d4",
    "outputId": "ed692135-a77d-4af8-c1e6-2a7e5a89cfab"
   },
   "outputs": [],
   "source": [
    "# Ground truth (true labels) and predicted probabilities\n",
    "y_true = np.array([0, 0, 0, 0,0,0, 1, 0, 0,0])  # Ground truth (0: negative, 1: positive)\n",
    "y_scores = formatted_coeff # Predicted probabilities\n",
    "\n",
    "# Call the function to compute and plot ROC curve\n",
    "roc_auc_value = plot_roc_curve(y_true, y_scores)\n",
    "print(f\"Computed AUC: {roc_auc_value:.3f}\")"
   ]
  },
  {
   "cell_type": "code",
   "execution_count": null,
   "id": "7f9ef674",
   "metadata": {
    "colab": {
     "base_uri": "https://localhost:8080/",
     "height": 649
    },
    "id": "7f9ef674",
    "outputId": "5891ba72-41ba-4457-bd0b-9d586e274bf0"
   },
   "outputs": [],
   "source": [
    "coeff=np.array([ 0., -0.,  0., -0., -0.,  0.,  1., -0., -0., -0.])\n",
    "# Call the function\n",
    "plot_knowledge_graph_explainability(kg, part_indices, coeff)"
   ]
  },
  {
   "cell_type": "markdown",
   "id": "15f27b61-0090-4911-be0b-b20f3fa282c4",
   "metadata": {
    "id": "15f27b61-0090-4911-be0b-b20f3fa282c4"
   },
   "source": [
    "## Accuracy: Assess the explanation for \"\"What is CyberGladiators?\" (Temp 1) by comparing it with the ground truth, considering variability due to higher randomness.\n"
   ]
  },
  {
   "cell_type": "code",
   "execution_count": null,
   "id": "1f42a488",
   "metadata": {
    "colab": {
     "base_uri": "https://localhost:8080/"
    },
    "id": "1f42a488",
    "outputId": "88130fd2-466a-4e3f-bf56-3e36f1c7c011"
   },
   "outputs": [],
   "source": [
    "question = \"What is CyberGladiators?"
   ]
  },
  {
   "cell_type": "code",
   "execution_count": null,
   "id": "716c421e",
   "metadata": {
    "colab": {
     "base_uri": "https://localhost:8080/"
    },
    "id": "716c421e",
    "outputId": "f462690a-52a4-44ac-871c-74e0c2e12f2d"
   },
   "outputs": [],
   "source": [
    "temp = 1\n",
    "original_answer_str, original_answer_embedding = get_answer_and_embedding(question, temp, graph)\n",
    "print(f\"Original answer: {original_answer_str}\")"
   ]
  },
  {
   "cell_type": "code",
   "execution_count": null,
   "id": "8a56e0d0",
   "metadata": {
    "colab": {
     "base_uri": "https://localhost:8080/"
    },
    "id": "8a56e0d0",
    "outputId": "b893de89-bde4-416c-ac06-622128f08a2a"
   },
   "outputs": [],
   "source": [
    "coeff = calculate_coefficients_print_Temerature(\n",
    "    temp= temp,\n",
    "    original=original,\n",
    "    kg=kg,\n",
    "    part_names=part_names,\n",
    "    question=question,\n",
    "    original_answer_embedding=original_answer_embedding,\n",
    "    original_answer_str=original_answer_str,\n",
    ")"
   ]
  },
  {
   "cell_type": "code",
   "execution_count": null,
   "id": "be70ad3e",
   "metadata": {
    "colab": {
     "base_uri": "https://localhost:8080/"
    },
    "id": "be70ad3e",
    "outputId": "2b9231ec-adc8-4bd2-f0fe-ea10efb8e4a4"
   },
   "outputs": [],
   "source": [
    "print(coeff)\n",
    "formatted_coeff = np.round(coeff, 3)  # Rounds to 3 decimal places\n",
    "formatted_coeff\n"
   ]
  },
  {
   "cell_type": "code",
   "execution_count": null,
   "id": "adbb7935",
   "metadata": {
    "colab": {
     "base_uri": "https://localhost:8080/",
     "height": 507
    },
    "id": "adbb7935",
    "outputId": "7b2f6c57-2574-415e-e317-0b2a83c11703"
   },
   "outputs": [],
   "source": [
    "# Ground truth (true labels) and predicted probabilities\n",
    "y_true = np.array([0, 0, 0, 0,0,0, 1, 0, 0,0])  # Ground truth (0: negative, 1: positive)\n",
    "y_scores = formatted_coeff # Predicted probabilities\n",
    "# Call the function to compute and plot ROC curve\n",
    "roc_auc_value = plot_roc_curve(y_true, y_scores)\n",
    "print(f\"Computed AUC: {roc_auc_value:.3f}\")"
   ]
  },
  {
   "cell_type": "code",
   "execution_count": null,
   "id": "89ae17c2",
   "metadata": {
    "colab": {
     "base_uri": "https://localhost:8080/",
     "height": 649
    },
    "id": "89ae17c2",
    "outputId": "bb603e87-bb15-4fe7-cf72-b2d070ab2e4d"
   },
   "outputs": [],
   "source": [
    "coeff=np.array([ 0.326,  0.148, -0.284,  0.386,  0.115, -0.338,  0.612, -0.397,\n",
    "        0.299, -0.037])\n",
    "# Call the function\n",
    "plot_knowledge_graph_explainability(kg, part_indices, coeff)"
   ]
  },
  {
   "cell_type": "markdown",
   "id": "03196197-9068-4281-8213-90fe62474cf1",
   "metadata": {
    "id": "03196197-9068-4281-8213-90fe62474cf1"
   },
   "source": [
    "## Accuracy: Evaluate the explanation for \"What is CyberLink_MediaShow?\" (Temp 0) by comparing it to the ground truth for precision and alignment.\n"
   ]
  },
  {
   "cell_type": "code",
   "execution_count": null,
   "id": "d3f377a1",
   "metadata": {
    "id": "d3f377a1"
   },
   "outputs": [],
   "source": [
    "question =\"What is CyberLink_MediaShow?\""
   ]
  },
  {
   "cell_type": "code",
   "execution_count": null,
   "id": "03749f44",
   "metadata": {
    "colab": {
     "base_uri": "https://localhost:8080/"
    },
    "id": "03749f44",
    "outputId": "4c8a870a-8965-4767-d584-9b1f4744baba"
   },
   "outputs": [],
   "source": [
    "temp = 0\n",
    "original_answer_str, original_answer_embedding = get_answer_and_embedding(question, temp, graph)\n",
    "print(\"Original answer:\", original_answer_str)"
   ]
  },
  {
   "cell_type": "code",
   "execution_count": null,
   "id": "8667a386",
   "metadata": {
    "colab": {
     "base_uri": "https://localhost:8080/"
    },
    "id": "8667a386",
    "outputId": "6370442e-2e5d-4ee3-99d5-62f3b316aff2"
   },
   "outputs": [],
   "source": [
    "temp= 0\n",
    "coeff = calculate_coefficients_print_Temerature(\n",
    "    temp= temp,\n",
    "    original=original,\n",
    "    kg=kg,\n",
    "    part_names=part_names,\n",
    "    question=question,\n",
    "    original_answer_embedding=original_answer_embedding,\n",
    "    original_answer_str=original_answer_str,\n",
    ")"
   ]
  },
  {
   "cell_type": "code",
   "execution_count": null,
   "id": "5bb183df",
   "metadata": {
    "colab": {
     "base_uri": "https://localhost:8080/"
    },
    "id": "5bb183df",
    "outputId": "2fe969d6-1e2e-47c1-b15b-96b06bb539d2"
   },
   "outputs": [],
   "source": [
    "print(coeff)\n",
    "formatted_coeff = np.round(coeff, 3)  # Rounds to 3 decimal places\n",
    "formatted_coeff\n"
   ]
  },
  {
   "cell_type": "code",
   "execution_count": null,
   "id": "a253c0e6",
   "metadata": {
    "colab": {
     "base_uri": "https://localhost:8080/",
     "height": 507
    },
    "id": "a253c0e6",
    "outputId": "d58f2377-729e-4016-8884-af9ff5fadb54"
   },
   "outputs": [],
   "source": [
    "# Ground truth (true labels) and predicted probabilities\n",
    "y_true = np.array([0, 0, 0, 0,0,0, 0, 1, 0,0])  # Ground truth (0: negative, 1: positive)\n",
    "y_scores = formatted_coeff # Predicted probabilities\n",
    "\n",
    "# Call the function to compute and plot ROC curve\n",
    "roc_auc_value = plot_roc_curve(y_true, y_scores)\n",
    "print(f\"Computed AUC: {roc_auc_value:.3f}\")"
   ]
  },
  {
   "cell_type": "code",
   "execution_count": null,
   "id": "b7c9ab04",
   "metadata": {
    "colab": {
     "base_uri": "https://localhost:8080/",
     "height": 649
    },
    "id": "b7c9ab04",
    "outputId": "fa01bc64-f55a-4436-cc86-965c6af6b757"
   },
   "outputs": [],
   "source": [
    "coeff=np.array([-0., -0.,  0.,  0.,  0., -0., -0.,  1., -0., -0.])\n",
    "# Call the function\n",
    "plot_knowledge_graph_explainability(kg, part_indices, coeff)"
   ]
  },
  {
   "cell_type": "markdown",
   "id": "40aed16f-a97f-4239-8133-6b3a12a6d819",
   "metadata": {
    "id": "40aed16f-a97f-4239-8133-6b3a12a6d819"
   },
   "source": [
    "## Accuracy: Assess the explanation for \"What is CyberLink_MediaShow?\" (Temp 1) by comparing it with the ground truth, considering variability due to higher randomness.\n"
   ]
  },
  {
   "cell_type": "code",
   "execution_count": null,
   "id": "74ea0988",
   "metadata": {
    "id": "74ea0988"
   },
   "outputs": [],
   "source": [
    "question = \"What is CyberLink_MediaShow?\""
   ]
  },
  {
   "cell_type": "code",
   "execution_count": null,
   "id": "fff4cce1",
   "metadata": {
    "colab": {
     "base_uri": "https://localhost:8080/"
    },
    "id": "fff4cce1",
    "outputId": "788a31c0-ea92-407b-f9e5-6130a59f08e7"
   },
   "outputs": [],
   "source": [
    "temp = 1\n",
    "original_answer_str, original_answer_embedding = get_answer_and_embedding(question, temp, graph)\n",
    "print(f\"Original answer: {original_answer_str}\")"
   ]
  },
  {
   "cell_type": "code",
   "execution_count": null,
   "id": "3677d970",
   "metadata": {
    "colab": {
     "base_uri": "https://localhost:8080/"
    },
    "id": "3677d970",
    "outputId": "2af18250-10a7-443e-b862-5a665d67f59d"
   },
   "outputs": [],
   "source": [
    "temp= 1\n",
    "coeff = calculate_coefficients_print_Temerature(\n",
    "    temp= temp,\n",
    "    original=original,\n",
    "    kg=kg,\n",
    "    part_names=part_names,\n",
    "    question=question,\n",
    "    original_answer_embedding=original_answer_embedding,\n",
    "    original_answer_str=original_answer_str,\n",
    ")"
   ]
  },
  {
   "cell_type": "code",
   "execution_count": null,
   "id": "1a3bebd3",
   "metadata": {
    "colab": {
     "base_uri": "https://localhost:8080/"
    },
    "id": "1a3bebd3",
    "outputId": "9fa1e07a-6ec1-4922-87f8-6a5c6c09484c"
   },
   "outputs": [],
   "source": [
    "print(coeff)\n",
    "formatted_coeff = np.round(coeff, 3)  # Rounds to 3 decimal places\n",
    "formatted_coeff\n"
   ]
  },
  {
   "cell_type": "code",
   "execution_count": null,
   "id": "f38523f7",
   "metadata": {
    "colab": {
     "base_uri": "https://localhost:8080/",
     "height": 507
    },
    "id": "f38523f7",
    "outputId": "373b90f4-9adf-46a9-9a6a-266de4a3004c"
   },
   "outputs": [],
   "source": [
    "#Ground truth (true labels) and predicted probabilities\n",
    "y_true = np.array([0, 0, 0, 0,0,0, 0, 1, 0,0])  # Ground truth (0: negative, 1: positive)\n",
    "y_scores = formatted_coeff # Predicted probabilities\n",
    "\n",
    "# Call the function to compute and plot ROC curve\n",
    "roc_auc_value = plot_roc_curve(y_true, y_scores)\n",
    "print(f\"Computed AUC: {roc_auc_value:.3f}\")"
   ]
  },
  {
   "cell_type": "code",
   "execution_count": null,
   "id": "ba0a39ee",
   "metadata": {
    "colab": {
     "base_uri": "https://localhost:8080/",
     "height": 649
    },
    "id": "ba0a39ee",
    "outputId": "c61ae906-a70b-4c2a-a06b-3b4bceabe4a5"
   },
   "outputs": [],
   "source": [
    "coeff=np.array([-0.082, -0.044, -0.065,  0.097,  0.05 ,  0.164, -0.195,  0.071,\n",
    "       -0.097, -0.186])\n",
    "# Call the functaion\n",
    "plot_knowledge_graph_explainability(kg, part_indices, coeff)"
   ]
  },
  {
   "cell_type": "markdown",
   "id": "695f380b-1a79-4a7b-85cd-27040ba9e7d8",
   "metadata": {
    "id": "695f380b-1a79-4a7b-85cd-27040ba9e7d8"
   },
   "source": [
    "## Accuracy: Evaluate the explanation for \"What is CyberQuery?\" (Temp 0) by comparing it to the ground truth for precision and alignment.\n"
   ]
  },
  {
   "cell_type": "code",
   "execution_count": null,
   "id": "921346b3",
   "metadata": {
    "id": "921346b3"
   },
   "outputs": [],
   "source": [
    "question = \"What is CyberQuery?\""
   ]
  },
  {
   "cell_type": "code",
   "execution_count": null,
   "id": "4b57b076",
   "metadata": {
    "colab": {
     "base_uri": "https://localhost:8080/"
    },
    "id": "4b57b076",
    "outputId": "37b8ad2c-2bfa-4c4d-877c-c45c68b6f419"
   },
   "outputs": [],
   "source": [
    "temp = 0\n",
    "original_answer_str, original_answer_embedding = get_answer_and_embedding(question, temp, graph)\n",
    "print(f\"Original answer: {original_answer_str}\")"
   ]
  },
  {
   "cell_type": "code",
   "execution_count": null,
   "id": "c4528698",
   "metadata": {
    "colab": {
     "base_uri": "https://localhost:8080/"
    },
    "id": "c4528698",
    "outputId": "a29d68ec-8f94-47c3-e541-8fca7148126a"
   },
   "outputs": [],
   "source": [
    "temp= 0\n",
    "coeff = calculate_coefficients_print_Temerature(\n",
    "    temp= temp,\n",
    "    original=original,\n",
    "    kg=kg,\n",
    "    part_names=part_names,\n",
    "    question=question,\n",
    "    original_answer_embedding=original_answer_embedding,\n",
    "    original_answer_str=original_answer_str,\n",
    ")"
   ]
  },
  {
   "cell_type": "code",
   "execution_count": null,
   "id": "812e8196",
   "metadata": {
    "colab": {
     "base_uri": "https://localhost:8080/"
    },
    "id": "812e8196",
    "outputId": "6b16bbf4-e219-4aa5-969f-39534ebbc218"
   },
   "outputs": [],
   "source": [
    "print(coeff)\n",
    "\n",
    "formatted_coeff = np.round(coeff, 3)  # Rounds to 3 decimal places\n",
    "formatted_coeff"
   ]
  },
  {
   "cell_type": "code",
   "execution_count": null,
   "id": "2bd9ad22",
   "metadata": {
    "colab": {
     "base_uri": "https://localhost:8080/",
     "height": 507
    },
    "id": "2bd9ad22",
    "outputId": "2fbe67cf-0535-41b8-89b1-83114ccc34f3"
   },
   "outputs": [],
   "source": [
    "# Ground truth (true labels) and predicted probabilities\n",
    "y_true = np.array([0, 0, 0, 0,0,0,0,0,1,0])  # Ground truth (0: negative, 1: positive)\n",
    "y_scores = formatted_coeff # Predicted probabilities\n",
    "\n",
    "# Call the function to compute and plot ROC curve\n",
    "roc_auc_value = plot_roc_curve(y_true, y_scores)\n",
    "print(f\"Computed AUC: {roc_auc_value:.3f}\")"
   ]
  },
  {
   "cell_type": "code",
   "execution_count": null,
   "id": "ca23f543",
   "metadata": {
    "colab": {
     "base_uri": "https://localhost:8080/",
     "height": 649
    },
    "id": "ca23f543",
    "outputId": "bbbca7e6-a47c-48da-96d9-feadf4e93118"
   },
   "outputs": [],
   "source": [
    "coeff=np.array([ 0.,  0., -0., -0., -0.,  0., -0.,  0.,  1.,  0.])\n",
    "# Call the functaion\n",
    "plot_knowledge_graph_explainability(kg, part_indices, coeff)"
   ]
  },
  {
   "cell_type": "markdown",
   "id": "449607b6-6d6a-44a8-9e2a-a253f9429bb5",
   "metadata": {
    "id": "449607b6-6d6a-44a8-9e2a-a253f9429bb5"
   },
   "source": [
    "## Accuracy: Assess the explanation for \"\"What is CyberQuery?\" (Temp 1) by comparing it with the ground truth, considering variability due to higher randomness.\n"
   ]
  },
  {
   "cell_type": "code",
   "execution_count": null,
   "id": "9d4c24b1",
   "metadata": {
    "id": "9d4c24b1"
   },
   "outputs": [],
   "source": [
    "question = \"What is CyberQuery?\""
   ]
  },
  {
   "cell_type": "code",
   "execution_count": null,
   "id": "54b48f5a",
   "metadata": {
    "colab": {
     "base_uri": "https://localhost:8080/"
    },
    "id": "54b48f5a",
    "outputId": "28ad9c23-5037-4fbd-8b57-7baeecbedd3e"
   },
   "outputs": [],
   "source": [
    "temp = 1\n",
    "original_answer_str, original_answer_embedding = get_answer_and_embedding(question, temp, graph)\n",
    "print(f\"Original answer: {original_answer_str}\")"
   ]
  },
  {
   "cell_type": "code",
   "execution_count": null,
   "id": "d59e0f14",
   "metadata": {
    "colab": {
     "base_uri": "https://localhost:8080/"
    },
    "id": "d59e0f14",
    "outputId": "2f794390-b052-4f2e-b86a-df302fa2f074"
   },
   "outputs": [],
   "source": [
    "temp= 1\n",
    "coeff = calculate_coefficients_print_Temerature(\n",
    "    temp= temp,\n",
    "    original=original,\n",
    "    kg=kg,\n",
    "    part_names=part_names,\n",
    "    question=question,\n",
    "    original_answer_embedding=original_answer_embedding,\n",
    "    original_answer_str=original_answer_str,\n",
    ")"
   ]
  },
  {
   "cell_type": "code",
   "execution_count": null,
   "id": "b4009912",
   "metadata": {
    "colab": {
     "base_uri": "https://localhost:8080/"
    },
    "id": "b4009912",
    "outputId": "aa045952-b6ba-425c-aa53-3cb83320c0c2"
   },
   "outputs": [],
   "source": [
    "print(coeff)\n",
    "formatted_coeff = np.round(coeff, 3)  # Rounds to 3 decimal places\n",
    "formatted_coeff"
   ]
  },
  {
   "cell_type": "code",
   "execution_count": null,
   "id": "30f7c685",
   "metadata": {
    "colab": {
     "base_uri": "https://localhost:8080/",
     "height": 507
    },
    "id": "30f7c685",
    "outputId": "a10b1641-5cf0-4a01-b956-a3cc5e306ba2"
   },
   "outputs": [],
   "source": [
    "#  Ground truth (true labels) and predicted probabilities\n",
    "y_true = np.array([0,0,0,0,0,0,0,0,1,0])  # Ground truth (0: negative, 1: positive)\n",
    "y_scores = formatted_coeff # Predicted probabilities\n",
    "\n",
    "# Call the function to compute and plot ROC curve\n",
    "roc_auc_value = plot_roc_curve(y_true, y_scores)\n",
    "print(f\"Computed AUC: {roc_auc_value:.3f}\")"
   ]
  },
  {
   "cell_type": "code",
   "execution_count": null,
   "id": "b0a16d78",
   "metadata": {
    "colab": {
     "base_uri": "https://localhost:8080/",
     "height": 649
    },
    "id": "b0a16d78",
    "outputId": "0b3ab1e3-6e5d-4f49-974a-08a697753b38"
   },
   "outputs": [],
   "source": [
    "coeff=np.array([-0.19 , -0.323,  0.029,  0.07 ,  0.156,  0.175, -0.374, -0.211,\n",
    "        0.461,  0.235])\n",
    "# Call the functaion\n",
    "plot_knowledge_graph_explainability(kg, part_indices, coeff)"
   ]
  },
  {
   "cell_type": "markdown",
   "id": "eb1301f0-4ef1-4da4-af3b-a12298d0b3d8",
   "metadata": {
    "id": "eb1301f0-4ef1-4da4-af3b-a12298d0b3d8"
   },
   "source": [
    "## Accuracy: Assess the explanation for \"What is CyberStrike?\" (Temp 1) by comparing it with the ground truth, considering variability due to higher randomness.\n"
   ]
  },
  {
   "cell_type": "code",
   "execution_count": null,
   "id": "0addfb46",
   "metadata": {
    "id": "0addfb46"
   },
   "outputs": [],
   "source": [
    "question = \"What is CyberStrike?\""
   ]
  },
  {
   "cell_type": "code",
   "execution_count": null,
   "id": "39799da6",
   "metadata": {
    "colab": {
     "base_uri": "https://localhost:8080/"
    },
    "id": "39799da6",
    "outputId": "0362b769-bdb5-4364-c89d-223e681baf38"
   },
   "outputs": [],
   "source": [
    "temp = 1\n",
    "original_answer_str, original_answer_embedding = get_answer_and_embedding(question, temp, graph)\n",
    "print(f\"Original answer: {original_answer_str}\")"
   ]
  },
  {
   "cell_type": "code",
   "execution_count": null,
   "id": "1d603d05",
   "metadata": {
    "colab": {
     "base_uri": "https://localhost:8080/"
    },
    "id": "1d603d05",
    "outputId": "2ab92c87-fc6b-4a3e-e5c1-83e505f02ca4"
   },
   "outputs": [],
   "source": [
    "coeff = calculate_coefficients_print_Temerature(\n",
    "    temp= temp,\n",
    "    original=original,\n",
    "    kg=kg,\n",
    "    part_names=part_names,\n",
    "    question=question,\n",
    "    original_answer_embedding=original_answer_embedding,\n",
    "    original_answer_str=original_answer_str,\n",
    ")"
   ]
  },
  {
   "cell_type": "code",
   "execution_count": null,
   "id": "b4dde474",
   "metadata": {
    "colab": {
     "base_uri": "https://localhost:8080/"
    },
    "id": "b4dde474",
    "outputId": "d9ce04da-e883-49e8-855e-f4fecba9a336"
   },
   "outputs": [],
   "source": [
    "print(coeff)\n",
    "formatted_coeff = np.round(coeff, 3)  # Rounds to 3 decimal places\n",
    "formatted_coeff\n"
   ]
  },
  {
   "cell_type": "code",
   "execution_count": null,
   "id": "29ed4662",
   "metadata": {
    "colab": {
     "base_uri": "https://localhost:8080/",
     "height": 507
    },
    "id": "29ed4662",
    "outputId": "ad98722e-f601-44b2-f885-0f0807fe337d"
   },
   "outputs": [],
   "source": [
    "# Ground truth (true labels) and predicted probabilities\n",
    "y_true = np.array([0, 0, 0, 0,0,0,0,0,0,1])  # Ground truth (0: negative, 1: positive)\n",
    "y_scores = formatted_coeff # Predicted probabilities\n",
    "\n",
    "# Call the function to compute and plot ROC curve\n",
    "roc_auc_value = plot_roc_curve(y_true, y_scores)\n",
    "print(f\"Computed AUC: {roc_auc_value:.3f}\")"
   ]
  },
  {
   "cell_type": "code",
   "execution_count": null,
   "id": "513b6979",
   "metadata": {
    "colab": {
     "base_uri": "https://localhost:8080/",
     "height": 649
    },
    "id": "513b6979",
    "outputId": "a70ca884-c064-4def-8c44-1adefcbf637c"
   },
   "outputs": [],
   "source": [
    "coeff=np.array([ 0.369, -0.342,  0.157, -0.186,  0.283,  0.405, -0.057,  0.321,\n",
    "       -0.41 ,  0.189])\n",
    "# Call the functaion\n",
    "plot_knowledge_graph_explainability(kg, part_indices, coeff)"
   ]
  },
  {
   "cell_type": "markdown",
   "id": "a1d1d72d-41a5-47ab-bfe4-882dbb550b04",
   "metadata": {
    "id": "a1d1d72d-41a5-47ab-bfe4-882dbb550b04"
   },
   "source": [
    "## Accuracy: Evaluate the explanation for \"What is CyberStrike?\" (Temp 0) by comparing it to the ground truth for precision and alignment.\n"
   ]
  },
  {
   "cell_type": "code",
   "execution_count": null,
   "id": "5cd30ffe",
   "metadata": {
    "id": "5cd30ffe"
   },
   "outputs": [],
   "source": [
    "question = \"What is CyberStrike?\""
   ]
  },
  {
   "cell_type": "code",
   "execution_count": null,
   "id": "a4f30910",
   "metadata": {
    "colab": {
     "base_uri": "https://localhost:8080/"
    },
    "id": "a4f30910",
    "outputId": "a8052eae-b0b2-4057-d7d5-fe6a54b6cebb"
   },
   "outputs": [],
   "source": [
    "temp = 0\n",
    "original_answer_str, original_answer_embedding = get_answer_and_embedding(question, temp, graph)\n",
    "print(f\"Original answer: {original_answer_str}\")"
   ]
  },
  {
   "cell_type": "code",
   "execution_count": null,
   "id": "cd4c9978",
   "metadata": {
    "colab": {
     "base_uri": "https://localhost:8080/"
    },
    "id": "cd4c9978",
    "outputId": "e5a0451b-ca8b-43f6-f7a8-04415aae8699"
   },
   "outputs": [],
   "source": [
    "temp= 0\n",
    "coeff = calculate_coefficients_print_Temerature(\n",
    "    temp= temp,\n",
    "    original=original,\n",
    "    kg=kg,\n",
    "    part_names=part_names,\n",
    "    question=question,\n",
    "    original_answer_embedding=original_answer_embedding,\n",
    "    original_answer_str=original_answer_str,\n",
    ")"
   ]
  },
  {
   "cell_type": "code",
   "execution_count": null,
   "id": "6a354a69",
   "metadata": {
    "colab": {
     "base_uri": "https://localhost:8080/"
    },
    "id": "6a354a69",
    "outputId": "9fcb76c4-fecf-46fd-c410-6be24bba31a5"
   },
   "outputs": [],
   "source": [
    "print(coeff)\n",
    "# Format the coefficients to a specific number format (e.g., rounding to 3 decimal places)\n",
    "formatted_coeff = np.round(coeff, 3)  # Rounds to 3 decimal places\n",
    "formatted_coeff\n"
   ]
  },
  {
   "cell_type": "code",
   "execution_count": null,
   "id": "4a3684a3",
   "metadata": {
    "colab": {
     "base_uri": "https://localhost:8080/",
     "height": 507
    },
    "id": "4a3684a3",
    "outputId": "585049a1-8604-4c7e-921c-a419c3df50df"
   },
   "outputs": [],
   "source": [
    "#  Ground truth (true labels) and predicted probabilities\n",
    "y_true = np.array([0, 0, 0, 0,0,0,0,0,0,1])  # Ground truth (0: negative, 1: positive)\n",
    "y_scores = formatted_coeff # Predicted probabilities\n",
    "# Call the function to compute and plot ROC curve\n",
    "roc_auc_value = plot_roc_curve(y_true, y_scores)\n",
    "print(f\"Computed AUC: {roc_auc_value:.3f}\")"
   ]
  },
  {
   "cell_type": "code",
   "execution_count": null,
   "id": "eac15257",
   "metadata": {
    "colab": {
     "base_uri": "https://localhost:8080/",
     "height": 649
    },
    "id": "eac15257",
    "outputId": "7db0cadf-92fd-4ad1-b78d-aad8194175d9"
   },
   "outputs": [],
   "source": [
    "coeff=np.array([ 0., -0., -0.,  0., -0., -0., -0., -0.,  0.,  1.])\n",
    "# Call the functaion\n",
    "plot_knowledge_graph_explainability(kg, part_indices, coeff)"
   ]
  },
  {
   "cell_type": "code",
   "execution_count": null,
   "id": "d27696ea-391c-41de-8b8f-5c1c602f302f",
   "metadata": {},
   "outputs": [],
   "source": []
  }
 ],
 "metadata": {
  "colab": {
   "collapsed_sections": [
    "eb1301f0-4ef1-4da4-af3b-a12298d0b3d8"
   ],
   "provenance": []
  },
  "kernelspec": {
   "display_name": "Python 3 (ipykernel)",
   "language": "python",
   "name": "python3"
  },
  "language_info": {
   "codemirror_mode": {
    "name": "ipython",
    "version": 3
   },
   "file_extension": ".py",
   "mimetype": "text/x-python",
   "name": "python",
   "nbconvert_exporter": "python",
   "pygments_lexer": "ipython3",
   "version": "3.12.1"
  }
 },
 "nbformat": 4,
 "nbformat_minor": 5
}
