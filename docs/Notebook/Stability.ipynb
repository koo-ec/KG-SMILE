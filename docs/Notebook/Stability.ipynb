{
 "cells": [
  {
   "cell_type": "code",
   "execution_count": 3,
   "id": "uWz0SMuX5FFp",
   "metadata": {
    "colab": {
     "base_uri": "https://localhost:8080/"
    },
    "id": "uWz0SMuX5FFp",
    "outputId": "bf5567d7-1482-48bf-84a0-76535e79a1f5"
   },
   "outputs": [],
   "source": [
    "# Install the OpenAI and LangChain libraries\n",
    "# - `openai`: Provides access to OpenAI's GPT models for tasks like text generation, embeddings, and completions.\n",
    "# - `langchain`: A framework for building applications using large language models (LLMs).\n",
    "#                Includes tools for chaining prompts, memory, and integrations like knowledge graphs.\n",
    "!pip install -q openai langchain\n",
    "# Attempt to install the LangChain Community library\n",
    "# - `langchain-community`: This may refer to a community-supported version or extensions of LangChain.\n",
    "#   Ensure this package exists and is maintained if errors occur during installation.\n",
    "!pip install -q langchain-community"
   ]
  },
  {
   "cell_type": "markdown",
   "id": "5fa45a12-bf97-4b57-85ef-b8bd04ce5d9c",
   "metadata": {
    "id": "5fa45a12-bf97-4b57-85ef-b8bd04ce5d9c"
   },
   "source": [
    "This script initializes the OpenAI API client and defines a function to interact with the GPT model. The get_chat_response function sends a user-provided text input to the GPT model (gpt-3.5-turbo) and returns the model's response."
   ]
  },
  {
   "cell_type": "code",
   "execution_count": 4,
   "id": "v2VIfINowvpp",
   "metadata": {
    "id": "v2VIfINowvpp"
   },
   "outputs": [],
   "source": [
    "\n",
    "import os\n",
    "from openai import OpenAI\n",
    "\n",
    "# Set the API key in the environment variable\n",
    "os.environ[\"OPENAI_API_KEY\"] = \"sk-MNL1gYbV6CyXkh2rwPxao_D7n8nSxwW4_0wozr5sUtT3BlbkFJoEpwVXUH_Z3deg71NI-mM8QqSOkOGzQ5WDXmQ8FQEA\" # Replace with your actual API key\n",
    "\n",
    "client = OpenAI()\n",
    "\n",
    "def get_chat_response(text):\n",
    "    \"\"\"\n",
    "    This function takes a text input and returns the chat completion message.\n",
    "    \"\"\"\n",
    "    chat_completion = client.chat.completions.create(\n",
    "        messages=[\n",
    "            {\n",
    "                \"role\": \"user\",\n",
    "                \"content\": text,\n",
    "            }\n",
    "        ],\n",
    "        model=\"gpt-3.5-turbo\",\n",
    "    )\n",
    "    return chat_completion.choices[0].message.content\n"
   ]
  },
  {
   "cell_type": "code",
   "execution_count": null,
   "id": "d292c1a5-9e7d-4231-b908-8f3950b8c259",
   "metadata": {
    "id": "d292c1a5-9e7d-4231-b908-8f3950b8c259"
   },
   "outputs": [],
   "source": [
    "import networkx as nx  # For creating and analyzing graphs/networks.\n",
    "\n",
    "import matplotlib.pyplot as plt  # For data visualization and plotting.\n",
    "\n",
    "import numpy as np  # For numerical operations and array handling.\n",
    "\n",
    "import seaborn as sns\n",
    "\n",
    "import pandas as pd\n",
    "\n",
    "import random  # For generating random numbers.\n",
    "\n",
    "from langchain.llms import OpenAI\n",
    "\n",
    "from langchain.graphs.networkx_graph import NetworkxEntityGraph, KnowledgeTriple # Represents (subject, predicate, object) triples.\n",
    "\n",
    "from scipy.spatial.distance import cosine  # For cosine similarity/distance between vectors.\n",
    "\n",
    "from scipy.stats import wasserstein_distance  # For Wasserstein distance (probability distribution comparison).\n",
    "\n",
    "from sklearn.metrics.pairwise import cosine_similarity\n",
    "\n",
    "from sklearn.linear_model import LinearRegression, BayesianRidge  # Regression models.\n",
    "\n",
    "from sklearn.datasets import fetch_20newsgroups  # Fetch the 20 Newsgroups text dataset.\n",
    "\n",
    "from sklearn.metrics import mean_absolute_error, mean_squared_error, r2_score  # Model performance metrics.\n",
    "\n",
    "import matplotlib.colors as mcolors  # For handling and customizing colors in visualizations.\n",
    "\n",
    "import sklearn.metrics  # For evaluation metrics like accuracy, precision, recall, etc.\n",
    "\n",
    "import matplotlib.colors as mcolors  # For handling color schemes in plots\n",
    "\n",
    "import textwrap  # For wrapping text into fixed-width lines\n",
    "\n",
    "from sklearn.metrics import roc_curve, auc\n",
    "\n",
    "from langchain.chains import GraphQAChain  # For question answering over knowledge graphs.\n",
    "\n",
    "# Prompt Engineering\n",
    "from langchain.prompts import PromptTemplate  # To define templates for LLM prompts.\n"
   ]
  },
  {
   "cell_type": "code",
   "execution_count": null,
   "id": "tmp-lg-yHhMc",
   "metadata": {
    "colab": {
     "base_uri": "https://localhost:8080/"
    },
    "id": "tmp-lg-yHhMc",
    "outputId": "68a760c5-eea2-4fd5-dc08-504ea9ab09db"
   },
   "outputs": [],
   "source": [
    "!pip install  rdflib  SPARQLWrapper"
   ]
  },
  {
   "cell_type": "markdown",
   "id": "38451a30-0f18-44af-acd0-e085ab5ed48a",
   "metadata": {
    "id": "38451a30-0f18-44af-acd0-e085ab5ed48a"
   },
   "source": [
    "This script defines a knowledge graph using a set of triples representing entities (nodes) and their relationships (edges). The triples are categorized into parts based on themes, such as LLMs in the legal context, RAG integration, collaborations, and key people involved. The knowledge graph is constructed programmatically by adding these triples into the graph index, which allows for efficient querying and analysis."
   ]
  },
  {
   "cell_type": "code",
   "execution_count": null,
   "id": "aa1R_DL-vTgv",
   "metadata": {
    "colab": {
     "base_uri": "https://localhost:8080/"
    },
    "id": "aa1R_DL-vTgv",
    "outputId": "0e678c1d-1792-4d7e-9969-9ea4d77e1982"
   },
   "outputs": [],
   "source": [
    "from SPARQLWrapper import SPARQLWrapper, JSON\n",
    "\n",
    "# Set up the DBpedia SPARQL endpoint\n",
    "sparql = SPARQLWrapper(\"https://dbpedia.org/sparql\")\n",
    "\n",
    "# SPARQL Query: Retrieve cybersecurity-related concepts and their triples\n",
    "query = \"\"\"\n",
    "PREFIX dbo: <http://dbpedia.org/ontology/>\n",
    "PREFIX dbr: <http://dbpedia.org/resource/>\n",
    "PREFIX rdf: <http://www.w3.org/1999/02/22-rdf-syntax-ns#>\n",
    "PREFIX rdfs: <http://www.w3.org/2000/01/rdf-schema#>\n",
    "\n",
    "SELECT ?concept ?label ?abstract\n",
    "WHERE {\n",
    "  ?concept rdf:type dbo:Software .\n",
    "  ?concept rdfs:label ?label .\n",
    "  ?concept dbo:abstract ?abstract .\n",
    "  FILTER (LANG(?label) = 'en' && LANG(?abstract) = 'en')\n",
    "  FILTER (CONTAINS(LCASE(?label), \"cyber\") || CONTAINS(LCASE(?label), \"security\") || CONTAINS(LCASE(?label), \"malware\"))\n",
    "}\n",
    "LIMIT 10\n",
    "\"\"\"\n",
    "\n",
    "# Execute the query\n",
    "sparql.setQuery(query)\n",
    "sparql.setReturnFormat(JSON)\n",
    "results = sparql.query().convert()\n",
    "\n",
    "# Initialize Knowledge Graph (KG) and portion tracking\n",
    "kg = []\n",
    "portion_indices = {}\n",
    "portion_counter = 1  # Start portion numbering\n",
    "triple_index = 0  # Track overall index\n",
    "\n",
    "print(\"\\nStructured Knowledge Graph:\\n\")\n",
    "\n",
    "for result in results[\"results\"][\"bindings\"]:\n",
    "    concept = result[\"concept\"][\"value\"].split(\"/\")[-1]  # Extracts entity name\n",
    "    label = result[\"label\"][\"value\"]\n",
    "    abstract = result[\"abstract\"][\"value\"]  # Store full abstract without truncation\n",
    "\n",
    "    # Store portion index range\n",
    "    start_index = triple_index\n",
    "    portion_indices[f\"Part {portion_counter}\"] = range(start_index, start_index + 3)  # Each part has 3 triples\n",
    "\n",
    "    # Print structured output\n",
    "    print(f\"\\n# Part {portion_counter}\")\n",
    "    print(f\"({concept}) → (type) → (Software)\")\n",
    "    print(f\"({concept}) → (label) → ({label})\")\n",
    "    print(f\"({concept}) → (abstract) →\")\n",
    "    print(abstract)  # Print full abstract with line breaks\n",
    "    print(\"-\" * 80)\n",
    "\n",
    "    # Store in KG\n",
    "    kg.append((concept, \"type\", \"Software\"))\n",
    "    kg.append((concept, \"label\", label))\n",
    "    kg.append((concept, \"abstract\", abstract))  # Store full abstract\n",
    "\n",
    "    # Increment indices\n",
    "    triple_index += 3\n",
    "    portion_counter += 1\n",
    "\n",
    "# Print portion indices separately\n",
    "print(\"\\nPortion Indices:\\n\")\n",
    "for part, index_range in portion_indices.items():\n",
    "    print(f\"{part}: {index_range}\")\n",
    "\n",
    "# Save KG to a text file\n",
    "with open(\"knowledge_graph_output.txt\", \"w\", encoding=\"utf-8\") as f:\n",
    "    for triple in kg:\n",
    "        f.write(f\"( {triple[0]} , {triple[1]} , {triple[2]})\\n\\n\")  # Ensuring full visibility\n",
    "\n",
    "print(\"\\nFinal Knowledge Graph saved as 'knowledge_graph_output.txt'.\")\n",
    "\n",
    "# Print the final KG in a readable format\n",
    "print(\"\\nFinal Knowledge Graph List:\\n\")\n",
    "for triple in kg:\n",
    "  print(\"(\", triple[0],\",\", triple[1],\", \",triple[2], \")\")  # Print without truncation"
   ]
  },
  {
   "cell_type": "code",
   "execution_count": null,
   "id": "oh4wABT8q8UP",
   "metadata": {
    "colab": {
     "base_uri": "https://localhost:8080/"
    },
    "id": "oh4wABT8q8UP",
    "outputId": "16c36cd2-ee2d-43bd-a4e1-7844dacfce5a"
   },
   "outputs": [],
   "source": [
    "print(\"Original KG node count:\", len(set(node for triple in kg for node in (triple[0], triple[2]))))"
   ]
  },
  {
   "cell_type": "code",
   "execution_count": null,
   "id": "4efG9suFIBXH",
   "metadata": {
    "id": "4efG9suFIBXH"
   },
   "outputs": [],
   "source": [
    "part_indices ={\n",
    "\"Part 1\": range(0, 3),\n",
    "\"Part 2\": range(3, 6),\n",
    "\"Part 3\": range(6, 9),\n",
    "\"Part 4\": range(9, 12),\n",
    "\"Part 5\": range(12, 15),\n",
    "\"Part 6\": range(15, 18),\n",
    "\"Part 7\": range(18, 21),\n",
    "\"Part 8\": range(21, 24),\n",
    "\"Part 9\": range(24, 27),\n",
    "\"Part 10\": range(27, 30)\n",
    "}\n",
    "part_names = list(part_indices.keys())\n",
    "\n",
    "# Instantiate the graph\n",
    "graph = NetworkxEntityGraph()\n",
    "\n",
    "# Build the graph from the knowledge triples\n",
    "for (node1, relation, node2) in kg:\n",
    "    graph.add_triple(KnowledgeTriple(node1, relation, node2))"
   ]
  },
  {
   "cell_type": "raw",
   "id": "818a9197-5541-4b89-ba45-330c0da504a5",
   "metadata": {
    "id": "818a9197-5541-4b89-ba45-330c0da504a5"
   },
   "source": [
    " two different methods for working with knowledge graphs (KGs)\n",
    "\n",
    "| Feature                   | NetworkX (`nx.DiGraph`)                        | Knowledge Graph Framework (`add_triple`)      |\n",
    "|---------------------------|-----------------------------------------------|----------------------------------------------|\n",
    "| **Primary Purpose**       | General-purpose graph operations.             | Semantic knowledge representation and reasoning. |\n",
    "| **Edge Representation**   | Relation stored as edge attribute (`label`).  | Explicitly stores as a `KnowledgeTriple`.    |\n",
    "| **Scalability**           | Efficient for smaller graphs.                 | Often optimized for large-scale KGs.         |\n",
    "| **Functionality**         | Basic graph analysis (e.g., paths, cycles).   | Advanced reasoning, semantic queries, or RAG.|\n",
    "| **Ease of Use**           | Simple and intuitive.                         | May require setup and specific tooling.      |\n",
    "\n",
    "---\n",
    "\n",
    "Which to Use?\n",
    "\n",
    "- Use **NetworkX** if you:\n",
    "  - Need quick, general-purpose graph creation and manipulation.\n",
    "  - Plan to perform basic analysis or visualization.\n",
    "\n",
    "- Use a **dedicated KG framework** if you:\n",
    "  - Are working on semantic reasoning, ontology-based querying, or RAG.\n",
    "  - Need advanced features like integration with NLP pipelines or search engines."
   ]
  },
  {
   "cell_type": "code",
   "execution_count": null,
   "id": "94aaed1b-3781-4810-af20-95a5574fb2de",
   "metadata": {
    "id": "94aaed1b-3781-4810-af20-95a5574fb2de"
   },
   "outputs": [],
   "source": [
    "# Function to wrap text for better display\n",
    "def wrap_text(text, max_words=8):\n",
    "    \"\"\"Wrap text if it contains more than `max_words` words.\"\"\"\n",
    "    words = text.split()\n",
    "    return \"Explanation\" if len(words) > max_words else text"
   ]
  },
  {
   "cell_type": "markdown",
   "id": "a265c98e-4c73-4429-bf6e-0dab5e3a566b",
   "metadata": {
    "id": "a265c98e-4c73-4429-bf6e-0dab5e3a566b"
   },
   "source": [
    "Visualizes the knowledge graph as a directed graph using NetworkX and Matplotlib. Nodes represent entities, and edges depict relationships with labels for clarity. The layout uses spring positioning with increased spacing for readability. Custom node colors and labeled edges enhance the visualization, displayed without axes."
   ]
  },
  {
   "cell_type": "code",
   "execution_count": null,
   "id": "C-KMAYlwYZBV",
   "metadata": {
    "id": "C-KMAYlwYZBV"
   },
   "outputs": [],
   "source": [
    "import networkx as nx\n",
    "import matplotlib.pyplot as plt\n",
    "import matplotlib.colors as mcolors\n",
    "\n",
    "def wrap_text(text, max_words=8):\n",
    "    \"\"\"Wrap text if it contains more than `max_words` words.\"\"\"\n",
    "    words = text.split()\n",
    "    return \"Explanation\" if len(words) > max_words else text\n",
    "\n",
    "def visualize_graph_with_chains(kg, part_indices):\n",
    "    \"\"\"\n",
    "    Visualize a directed graph highlighting nodes and edges by chain membership.\n",
    "\n",
    "    Parameters:\n",
    "        kg (list of tuples): The knowledge graph as a list of (node1, relation, node2).\n",
    "        part_indices (dict): A dictionary where keys are chain names and values are lists of indices\n",
    "                             corresponding to the `kg` entries in each chain.\n",
    "    Returns:\n",
    "        None\n",
    "    \"\"\"\n",
    "    # Create graph\n",
    "    G = nx.DiGraph()\n",
    "    for node1, relation, node2 in kg:\n",
    "        G.add_edge(node1, node2, label=relation)\n",
    "\n",
    "    # Generate positions for the graph\n",
    "    pos = nx.spring_layout(G, k=8, iterations=100, seed=0)\n",
    "\n",
    "    # Define color maps\n",
    "    chain_cmap = mcolors.LinearSegmentedColormap.from_list('chain_colors', ['#66c2a5', '#fc8d62', '#8da0cb', '#e78ac3', '#a6d854'])\n",
    "    chain_norm = mcolors.Normalize(vmin=0, vmax=len(part_indices) - 1)\n",
    "\n",
    "    # Initialize node and edge colors\n",
    "    node_colors = ['lightblue'] * len(G.nodes())\n",
    "    edge_colors = ['gray'] * len(G.edges())\n",
    "\n",
    "    # Step 1: Assign distinct colors for each chain\n",
    "    chain_color_map = {}\n",
    "    for i, (chain_name, indices) in enumerate(part_indices.items()):\n",
    "        color = chain_cmap(chain_norm(i))\n",
    "        chain_color_map[chain_name] = color\n",
    "\n",
    "    # Step 2: Color nodes based on the chain they belong to\n",
    "    node_chain_map = {}\n",
    "    for chain_name, indices in part_indices.items():\n",
    "        color = chain_color_map[chain_name]\n",
    "        for idx in indices:\n",
    "            node1, relation, node2 = kg[idx]\n",
    "\n",
    "            # Update node colors based on chain\n",
    "            if node1 in G.nodes:\n",
    "                node_chain_map[node1] = chain_name\n",
    "                node_colors[list(G.nodes).index(node1)] = color\n",
    "            if node2 in G.nodes:\n",
    "                node_chain_map[node2] = chain_name\n",
    "                node_colors[list(G.nodes).index(node2)] = color\n",
    "\n",
    "    # Step 3: Assign edge colors based on the chain\n",
    "    for i, (node1, node2) in enumerate(G.edges()):\n",
    "        for chain_name, indices in part_indices.items():\n",
    "            color = chain_color_map[chain_name]\n",
    "            for idx in indices:\n",
    "                n1, _, n2 = kg[idx]\n",
    "                if (node1, node2) == (n1, n2):\n",
    "                    edge_colors[i] = color\n",
    "                    break\n",
    "\n",
    "    # Apply label filtering\n",
    "    wrapped_labels = {node: wrap_text(node) for node in G.nodes()}\n",
    "\n",
    "    # Create the figure with subplots\n",
    "    fig, axs = plt.subplots(1, 2, figsize=(20, 8), dpi=600)\n",
    "\n",
    "    # Left: Original Knowledge Graph\n",
    "    nx.draw_networkx_nodes(G, pos, node_color='lightblue', node_size=1200, ax=axs[0])\n",
    "    nx.draw_networkx_edges(G, pos, edge_color='gray', width=1.2, ax=axs[0])\n",
    "    nx.draw_networkx_labels(G, pos, labels=wrapped_labels, font_size=6, ax=axs[0])\n",
    "    edge_labels = nx.get_edge_attributes(G, 'label')\n",
    "    wrapped_edge_labels = {edge: wrap_text(label) for edge, label in edge_labels.items()}\n",
    "    nx.draw_networkx_edge_labels(G, pos, edge_labels=wrapped_edge_labels, font_size=6, ax=axs[0])\n",
    "    axs[0].set_title(\"Original Knowledge Graph\", fontsize=10)\n",
    "    axs[0].axis('off')\n",
    "\n",
    "    # Right: Highlighted Nodes Based on Chains\n",
    "    nx.draw_networkx_nodes(G, pos, node_color=node_colors, node_size=1200, ax=axs[1], edgecolors='black')\n",
    "    nx.draw_networkx_edges(G, pos, edge_color=edge_colors, width=1.5, ax=axs[1])\n",
    "    nx.draw_networkx_labels(G, pos, labels=wrapped_labels, font_size=6, ax=axs[1])\n",
    "    nx.draw_networkx_edge_labels(G, pos, edge_labels=wrapped_edge_labels, font_size=6, ax=axs[1])\n",
    "    axs[1].set_title(\"Graph Highlighted by Chain Membership\", fontsize=10)\n",
    "    axs[1].axis('off')\n",
    "\n",
    "    # Create a legend for chain colors\n",
    "    handles = [plt.Line2D([0], [0], marker='o', color=color, markersize=10, linestyle='', label=chain_name)\n",
    "               for chain_name, color in chain_color_map.items()]\n",
    "    axs[1].legend(handles=handles, title=\"Chains\", loc='upper right', fontsize=8)\n",
    "\n",
    "    # Display the plot\n",
    "    plt.show()\n",
    "\n",
    "    # Print which nodes belong to which chain\n",
    "    print(\"\\n--- Node Chain Mapping ---\")\n",
    "    for node, chain in node_chain_map.items():\n",
    "        print(f\"Node '{node}' belongs to chain '{chain}'.\")\n"
   ]
  },
  {
   "cell_type": "code",
   "execution_count": null,
   "id": "ZEIk-T9uYg9r",
   "metadata": {
    "colab": {
     "base_uri": "https://localhost:8080/",
     "height": 1000
    },
    "id": "ZEIk-T9uYg9r",
    "outputId": "96c42b8f-c404-4163-c4ef-bfc3157ce2ee"
   },
   "outputs": [],
   "source": [
    "visualize_graph_with_chains(kg, part_indices)"
   ]
  },
  {
   "cell_type": "markdown",
   "id": "2d728dc4-f242-451f-94db-b1a5fcd14243",
   "metadata": {
    "id": "2d728dc4-f242-451f-94db-b1a5fcd14243"
   },
   "source": [
    "Defines a function to perturb the knowledge graph by selectively removing triples belonging to specified parts. This allows testing the impact of missing information on downstream tasks or analysis. The function filters out triples associated with the indices of the parts to be removed and returns the modified knowledge graph."
   ]
  },
  {
   "cell_type": "code",
   "execution_count": null,
   "id": "A39WF0Pa_OYY",
   "metadata": {
    "id": "A39WF0Pa_OYY"
   },
   "outputs": [],
   "source": [
    "def perturb_kg_by_removing_parts(kg, parts_to_remove):\n",
    "    \"\"\"\n",
    "    Perturbs the knowledge graph by removing triples from the specified parts.\n",
    "\n",
    "    Parameters:\n",
    "    - kg: The full knowledge graph triples list\n",
    "    - parts_to_remove: List of part names to remove\n",
    "\n",
    "    Returns:\n",
    "    - perturbed_kg: The perturbed KG without the specified parts\n",
    "    \"\"\"\n",
    "    perturbed_kg = []\n",
    "\n",
    "    # Collect indices of the triples to keep based on parts to remove\n",
    "    indices_to_remove = set()\n",
    "    for part in parts_to_remove:\n",
    "        indices_to_remove.update(part_indices[part])\n",
    "\n",
    "    # Add triples that are not in the indices to remove\n",
    "    perturbed_kg = [triple for i, triple in enumerate(kg) if i not in indices_to_remove]\n",
    "\n",
    "    return perturbed_kg"
   ]
  },
  {
   "cell_type": "markdown",
   "id": "69d447e4-a68c-493e-9d49-b3a99a97dc19",
   "metadata": {
    "id": "69d447e4-a68c-493e-9d49-b3a99a97dc19"
   },
   "source": [
    "This function computes the embedding for a given text using a specified model. It processes the text by removing newline characters and queries the OpenAI embeddings API to generate a vector representation, useful for similarity comparisons and downstream tasks."
   ]
  },
  {
   "cell_type": "code",
   "execution_count": null,
   "id": "TLLTyp-y_UFV",
   "metadata": {
    "id": "TLLTyp-y_UFV"
   },
   "outputs": [],
   "source": [
    "import random\n",
    "import json\n",
    "import unicodedata\n",
    "import re\n",
    "embedding_cache = {}\n",
    "EMBEDDING_MODEL = \"text-embedding-3-small\"\n",
    "def normalize_text(text):\n",
    "    \"\"\"\n",
    "    Normalize text by removing excessive spaces, normalizing Unicode characters,\n",
    "    and converting to lowercase.\n",
    "    \"\"\"\n",
    "    text = text.replace(\"\\n\", \" \").strip()  # Remove newlines and extra spaces\n",
    "    text = unicodedata.normalize(\"NFKC\", text)  # Normalize Unicode characters\n",
    "    text = re.sub(r\"\\s+\", \" \", text)  # Replace multiple spaces with a single space\n",
    "    text = text.lower()  # Convert to lowercase (optional but recommended)\n",
    "    return text\n",
    "\n",
    "def get_embedding(text):\n",
    "    text = normalize_text(text)\n",
    "    if text in embedding_cache:\n",
    "        return embedding_cache[text]  # Return cached embedding\n",
    "    embedding = client.embeddings.create(input=[text], model=EMBEDDING_MODEL).data[0].embedding\n",
    "    embedding_cache[text] = embedding  # Store result in cache\n",
    "    return embedding"
   ]
  },
  {
   "cell_type": "markdown",
   "id": "2993aae2-97cc-4198-bdcb-7f950a011929",
   "metadata": {
    "id": "2993aae2-97cc-4198-bdcb-7f950a011929"
   },
   "source": [
    "Defines a function to query a GraphQAChain with a question and temperature setting, returning the answer and its embedding. The function initializes the chain with a specified graph and temperature, processes the question, and computes the embedding for the returned answer, facilitating downstream analysis or comparison"
   ]
  },
  {
   "cell_type": "code",
   "execution_count": null,
   "id": "2286902d-b91b-41d1-ae21-c450a91a5c86",
   "metadata": {
    "id": "2286902d-b91b-41d1-ae21-c450a91a5c86"
   },
   "outputs": [],
   "source": [
    "def get_answer_and_embedding(question: str, temp: float, graph):\n",
    "    \"\"\"\n",
    "    Sends a question and temperature to the GraphQAChain and returns the original answer string\n",
    "    and its embedding as separate outputs.\n",
    "\n",
    "    Args:\n",
    "        question (str): The question to ask the chain.\n",
    "        temp (float): The temperature setting for the OpenAI model.\n",
    "        graph: The graph object for the GraphQAChain.\n",
    "\n",
    "    Returns:\n",
    "        Tuple[str, list]: The original answer as a string and its embedding as a list.\n",
    "    \"\"\"\n",
    "    # Initialize the GraphQAChain with the specified temperature\n",
    "    chain = GraphQAChain.from_llm(OpenAI(temperature=temp), graph=graph, verbose=False)\n",
    "\n",
    "    # Run the question through the chain to get the answer\n",
    "    original_answer = chain.run(question)\n",
    "    original_answer_str = str(original_answer)\n",
    "\n",
    "    # Compute the embedding for the original answer\n",
    "    original_answer_embedding = get_embedding(original_answer)\n",
    "\n",
    "    # Return both answer and embedding separately\n",
    "    return original_answer_str, original_answer_embedding\n"
   ]
  },
  {
   "cell_type": "markdown",
   "id": "1639f196-e0d0-44f9-bc9e-9f03be830357",
   "metadata": {
    "id": "1639f196-e0d0-44f9-bc9e-9f03be830357"
   },
   "source": [
    "This function visualizes the explainability of a knowledge graph by displaying the original graph and an enhanced graph with nodes and edges colored based on their importance coefficients. It leverages a directed graph structure, wraps node labels for readability, adjusts node sizes based on connectivity, and applies a custom colormap to represent the significance of graph components. The visualization is presented in a two-panel layout, highlighting both the original structure and the explainability features derived from Simple SMILE GraphRAG analysis. A color bar provides a reference for importance coefficients"
   ]
  },
  {
   "cell_type": "code",
   "execution_count": null,
   "id": "c1bf9039-4d7b-4772-8763-32dd9b773597",
   "metadata": {
    "id": "c1bf9039-4d7b-4772-8763-32dd9b773597"
   },
   "outputs": [],
   "source": [
    "def plot_knowledge_graph_explainability(kg, part_indices, coeff):\n",
    "    \"\"\"\n",
    "    Improved visualization of a knowledge graph with explainability features.\n",
    "\n",
    "    Parameters:\n",
    "        kg (list): Knowledge graph triplets (node1, relation, node2).\n",
    "        part_indices (dict): Mapping of part names to indices.\n",
    "        coeff (list): Importance coefficients for each part.\n",
    "    \"\"\"\n",
    "    # Create graph\n",
    "    G = nx.DiGraph()\n",
    "    for node1, relation, node2 in kg:\n",
    "        G.add_edge(node1, node2, label=relation)\n",
    "\n",
    "    # Generate positions for the graph with increased spacing\n",
    "    pos = nx.spring_layout(G, k=8, iterations=100, seed=0)\n",
    "\n",
    "    # Create color map (blue for negative, red for positive)\n",
    "    cmap = mcolors.LinearSegmentedColormap.from_list('red_blue', ['blue',  '#d3d3d3', 'red'])\n",
    "    norm = mcolors.Normalize(vmin=-1, vmax=1)\n",
    "\n",
    "    # Adjust node size based on degree (number of connections)\n",
    "    node_sizes = [1500 + 100 * G.degree(node) for node in G.nodes()]\n",
    "\n",
    "    # Assign node and edge colors based on the importance of each part\n",
    "    node_colors = []\n",
    "    edge_colors = []\n",
    "    for node in G.nodes():\n",
    "        for part_name, indices in part_indices.items():\n",
    "            part_idx = int(part_name.split()[-1]) - 1\n",
    "            coeff_value = coeff[part_idx]\n",
    "            color = cmap(norm(coeff_value))\n",
    "            if node in [kg[i][0] for i in indices] or node in [kg[i][2] for i in indices]:\n",
    "                node_colors.append(color)\n",
    "                break\n",
    "        else:\n",
    "            node_colors.append('#8da0cb')  # Default color if no match found\n",
    "\n",
    "    for i, (node1, node2) in enumerate(G.edges()):\n",
    "        for part_name, indices in part_indices.items():\n",
    "            part_idx = int(part_name.split()[-1]) - 1\n",
    "            coeff_value = coeff[part_idx]\n",
    "            color = cmap(norm(coeff_value))\n",
    "            if i in indices:\n",
    "                edge_colors.append(color)\n",
    "                break\n",
    "        else:\n",
    "            edge_colors.append('gray')  # Default color if no match found\n",
    "\n",
    "    # Wrap the text labels\n",
    "    wrapped_labels = {node: wrap_text(node) for node in G.nodes()}\n",
    "\n",
    "    # Create the figure with subplots\n",
    "    fig, axs = plt.subplots(1, 2, figsize=(24, 10), dpi=600, gridspec_kw={'width_ratios': [1, 1.3]})\n",
    "\n",
    "    # Left: Original Knowledge Graph\n",
    "    nx.draw_networkx_nodes(G, pos, node_color= '#d3d3d3', node_size=node_sizes, ax=axs[0])\n",
    "    nx.draw_networkx_edges(G, pos, edge_color='gray', width=1.5, ax=axs[0])\n",
    "    nx.draw_networkx_labels(G, pos, labels=wrapped_labels, font_size=8, ax=axs[0])\n",
    "    edge_labels = nx.get_edge_attributes(G, 'label')\n",
    "    wrapped_edge_labels = {edge: wrap_text(label) for edge, label in edge_labels.items()}\n",
    "    nx.draw_networkx_edge_labels(G, pos, edge_labels=wrapped_edge_labels, font_size=8, ax=axs[0])\n",
    "    axs[0].set_title(\"Original Knowledge Graph\", fontsize=12)\n",
    "    axs[0].axis('off')\n",
    "\n",
    "    # Right: SMILE Explainability with Node and Edge Colors\n",
    "    nx.draw_networkx_nodes(G, pos, node_color=node_colors, node_size=node_sizes, ax=axs[1])\n",
    "    nx.draw_networkx_edges(G, pos, edge_color=edge_colors, width=1.8, ax=axs[1])\n",
    "    nx.draw_networkx_labels(G, pos, labels=wrapped_labels, font_size=8, ax=axs[1])\n",
    "    nx.draw_networkx_edge_labels(G, pos, edge_labels=wrapped_edge_labels, font_size=8, ax=axs[1])\n",
    "    axs[1].set_title(\"Simple SMILE GraphRAG Explainability\", fontsize=12)\n",
    "    axs[1].axis('off')\n",
    "\n",
    "    # Show the color bar\n",
    "    sm = plt.cm.ScalarMappable(cmap=cmap, norm=norm)\n",
    "    sm.set_array([])\n",
    "    fig.colorbar(sm, ax=axs[1], label='Importance Coefficients')\n",
    "\n",
    "    # Save the figure\n",
    "    plt.savefig('knowledge_graph_explainability_improved.png', bbox_inches='tight')\n",
    "\n",
    "    # Display the plot\n",
    "    plt.show()\n"
   ]
  },
  {
   "cell_type": "markdown",
   "id": "4ecce233-c67e-4748-b742-a66dd99f80b4",
   "metadata": {
    "id": "4ecce233-c67e-4748-b742-a66dd99f80b4"
   },
   "source": [
    "Defines the question to query the GraphQAChain or knowledge retrieval system. Here, the question seeks information about it, a framework that integrates external knowledge bases to improve the accuracy and reliability of AI-generated responses"
   ]
  },
  {
   "cell_type": "code",
   "execution_count": null,
   "id": "c9b16783-7c57-42d0-9bfb-ea298af379f0",
   "metadata": {
    "id": "c9b16783-7c57-42d0-9bfb-ea298af379f0"
   },
   "outputs": [],
   "source": [
    "question = \"what is Network_Security_Services?\"\n",
    "#Portion 3"
   ]
  },
  {
   "cell_type": "markdown",
   "id": "5cffabbe-3a4e-420c-aeb9-0a13ddfe3306",
   "metadata": {
    "id": "5cffabbe-3a4e-420c-aeb9-0a13ddfe3306"
   },
   "source": [
    "This snippet sets the temperature parameter to 0 for deterministic response generation and queries the GraphQAChain with the question. The function get_answer_and_embedding returns the original answer as a string along with its embedding. The answer is then printed for review.\n"
   ]
  },
  {
   "cell_type": "code",
   "execution_count": null,
   "id": "10979ac4",
   "metadata": {
    "colab": {
     "base_uri": "https://localhost:8080/"
    },
    "id": "10979ac4",
    "outputId": "6187b3c8-3d23-4c4d-f09a-7b640c0b93cb"
   },
   "outputs": [],
   "source": [
    "# Initialize the LLM\n",
    "llm = OpenAI(temperature=0)\n",
    "temp = 0\n",
    "original_answer_str, original_answer_embedding = get_answer_and_embedding(question, temp, graph)\n",
    "print(original_answer_str)"
   ]
  },
  {
   "cell_type": "code",
   "execution_count": null,
   "id": "caab5a60-2b82-4f71-ba5d-b97972336298",
   "metadata": {
    "id": "caab5a60-2b82-4f71-ba5d-b97972336298"
   },
   "outputs": [],
   "source": [
    "# Define the original vector (all parts present)\n",
    "original = np.array([1, 1, 1, 1, 1,1, 1, 1, 1, 1])\n",
    "original = original.reshape(1, -1)  # Shape becomes (1, 10)"
   ]
  },
  {
   "cell_type": "markdown",
   "id": "5f4cb52d-42cc-4153-a414-5c252c45a11e",
   "metadata": {
    "id": "5f4cb52d-42cc-4153-a414-5c252c45a11e"
   },
   "source": [
    "This function calculates the importance coefficients for perturbations on a knowledge graph while providing\n",
    "detailed logging at each iteration. It removes random parts of the knowledge graph, generates perturbed\n",
    "responses, computes similarities to the original answer, and fits a linear regression model to calculate\n",
    "coefficients. The function includes:\n",
    "\n",
    "- Temperature (`temp`) parameter to adjust the behavior of the GraphQAChain.\n",
    "- Iterative logs showing the removed parts, perturbed responses, and calculated similarities.\n",
    "- A summary of all similarities and weights after processing.\n",
    "The coefficients provide insights into the contribution of each part of the knowledge graph to response fidelity."
   ]
  },
  {
   "cell_type": "code",
   "execution_count": null,
   "id": "AE0bAqgYjHgv",
   "metadata": {
    "id": "AE0bAqgYjHgv"
   },
   "outputs": [],
   "source": [
    "def calculate_coefficients_print_Temerature(temp, original, kg, part_names, question, original_answer_embedding, original_answer_str):\n",
    "    \"\"\"\n",
    "    Function to calculate coefficients for perturbations on a knowledge graph.\n",
    "    It removes parts of the KG, generates perturbed responses, and calculates coefficients.\n",
    "\n",
    "    Parameters:\n",
    "    - temp: Temperature value (0 or 1)\n",
    "    - original: Original vector (numpy array)\n",
    "    - kg: Knowledge graph (list of triples)\n",
    "    - part_names: List of part names in the KG\n",
    "    - question: Question for GraphQAChain\n",
    "    - original_answer_embedding: Embedding of the original answer\n",
    "    - original_answer_str: Original answer text\n",
    "\n",
    "    Returns:\n",
    "    - coeff: Coefficients from linear regression\n",
    "    \"\"\"\n",
    "        # Define the original vector (all parts present)\n",
    "    original = np.array([1, 1, 1, 1, 1,1, 1, 1, 1, 1])\n",
    "    original = original.reshape(1, -1)  # Shape becomes (1, 10)\n",
    "    similarities_wd = []\n",
    "    perturbations_vect2 = []\n",
    "    perturbation_texts = []\n",
    "    generated_embeddings = []\n",
    "    epsilon = 1e-6\n",
    "\n",
    "    for i in range(20):  # Number of perturbations\n",
    "        perturbation_vector = original.copy().flatten()\n",
    "        num_parts_to_remove = random.randint(1, len(part_names))\n",
    "        parts_to_remove_indices = random.sample(range(len(part_names)), num_parts_to_remove)\n",
    "\n",
    "        for part_idx in parts_to_remove_indices:\n",
    "            perturbation_vector[part_idx] = 0\n",
    "\n",
    "        perturbations_vect2.append(perturbation_vector)\n",
    "        parts_to_remove = [part_names[idx] for idx in parts_to_remove_indices]\n",
    "\n",
    "        # Call the perturb_kg_by_removing_parts function directly\n",
    "        perturbed_kg = perturb_kg_by_removing_parts(kg, parts_to_remove)\n",
    "\n",
    "        graph_temp = NetworkxEntityGraph()\n",
    "\n",
    "        for (node1, relation, node2) in perturbed_kg:\n",
    "            graph_temp.add_triple(KnowledgeTriple(node1, relation, node2))\n",
    "\n",
    "        chain = GraphQAChain.from_llm(OpenAI(temperature=temp), graph=graph_temp, verbose=False)\n",
    "        temp_response = chain.run(question)\n",
    "\n",
    "        perturbation_texts.append(temp_response)\n",
    "\n",
    "        # Call the get_embedding function directly\n",
    "        temp_response_embedding = get_embedding(temp_response)\n",
    "        generated_embeddings.append(temp_response_embedding)\n",
    "\n",
    "        # Calculate Wasserstein distance\n",
    "        similarity_wd = wasserstein_distance(original_answer_embedding, temp_response_embedding)\n",
    "        similarities_wd.append(similarity_wd)\n",
    "\n",
    "        # Print progress for each iteration\n",
    "        print(f\"Iteration {i + 1}\")  # Fixed to use `i` defined in the loop\n",
    "        print(f\"Parts removed: {parts_to_remove}\")\n",
    "        print(f\"original_answer response: {original_answer_str}\")\n",
    "        print(f\"Perturbed response: {temp_response}\")\n",
    "        print(f\"Distancee with original answer: {similarity_wd}\\n\")\n",
    "\n",
    "    perturbations_vect2 = np.array(perturbations_vect2)\n",
    "    distances = sklearn.metrics.pairwise_distances(perturbations_vect2, original, metric='cosine').ravel()\n",
    "\n",
    "    kernel_width = 0.25\n",
    "    weights = np.sqrt(np.exp(-(distances**2) / kernel_width**2))\n",
    "\n",
    "    # Print all similarities and weights\n",
    "    print(f\"similarities_wd: {similarities_wd}\")\n",
    "    print(f\"Weights: {weights}\")\n",
    "\n",
    "\n",
    "\n",
    "\n",
    "    # Calculate inverse Wasserstein distances\n",
    "    inverse_similarities_wd = [1.0 / (dist + epsilon) for dist in similarities_wd]\n",
    "\n",
    "    # Scale inverse Wasserstein distances\n",
    "    min_value = min(inverse_similarities_wd)\n",
    "    max_value = max(inverse_similarities_wd)\n",
    "    if min_value == max_value:\n",
    "      print(\"Warning: min_value and max_value are equal. Avoiding division by zero.\")\n",
    "      scaled_inverse_similarities_wd = [1.0 for _ in inverse_similarities_wd]  # Assign a constant\n",
    "    else:\n",
    "      scaled_inverse_similarities_wd = [\n",
    "          (value - min_value) / (max_value - min_value) for value in inverse_similarities_wd\n",
    "      ]\n",
    "    # Linear regression for cosine similarities\n",
    "    simpler_model = LinearRegression()\n",
    "    # Linear regression for scaled inverse Wasserstein distances\n",
    "    simpler_model.fit(X=perturbations_vect2, y=scaled_inverse_similarities_wd, sample_weight=weights)\n",
    "    coeff = simpler_model.coef_\n",
    "    return coeff\n"
   ]
  },
  {
   "cell_type": "markdown",
   "id": "4ccda14d",
   "metadata": {
    "id": "4ccda14d"
   },
   "source": [
    "# Stability: Consistent explanations despite small changes in input or graph structure."
   ]
  },
  {
   "cell_type": "markdown",
   "id": "843eb7d7-9f5e-4a22-bd2c-dcbc5abb48d7",
   "metadata": {
    "id": "843eb7d7-9f5e-4a22-bd2c-dcbc5abb48d7"
   },
   "source": [
    "This script augments the knowledge graph ('kg') with an additional triple to assess stability\n",
    "in response generation and explainability. The stability analysis involves perturbing the knowledge\n",
    "graph by removing random parts over 20 iterations for each temperature setting (0 and 1).\n",
    "\n",
    "Key steps for stability analysis:\n",
    "1. **Augmentation:** Adds a triple to the knowledge graph to introduce a new component for stability assessment.\n",
    "2. **Perturbations:** Randomly removes parts of the knowledge graph multiple times to analyze the system's\n",
    "   ability to maintain consistent and meaningful responses.\n",
    "3. **Temperature Variation:** Runs the process with both deterministic (temperature = 0) and stochastic\n",
    "   (temperature = 1) configurations to observe the impact of randomness on stability.\n",
    "4. **Stability Metric:** Evaluates response consistency and similarity under perturbations, providing insights\n",
    "   into the robustness of the system in preserving the core knowledge structure and response fidelity.\n",
    "\n",
    "The results highlight how stable and resilient the system is to changes in the underlying knowledge graph."
   ]
  },
  {
   "cell_type": "code",
   "execution_count": null,
   "id": "Q6SfGoPB6GKt",
   "metadata": {
    "id": "Q6SfGoPB6GKt"
   },
   "outputs": [],
   "source": [
    "def wrap_label(label, width=15):\n",
    "    \"\"\"Wraps labels to fit within a specified width for better visualization.\"\"\"\n",
    "    return '\\n'.join(textwrap.wrap(label, width))\n",
    "\n",
    "def wrap_text(node1, relation, node2, max_words=8):\n",
    "    \"\"\"Wrap text if it contains more than `max_words` words and append '_explanation' to abstract nodes.\"\"\"\n",
    "    if relation == \"abstract\":\n",
    "        words = node2.split()\n",
    "        return f\"{node1}_explanation\" if len(words) > max_words else node2\n",
    "    return node2\n",
    "\n",
    "def build_graph(kg, coeff, part_indices):\n",
    "    \"\"\"Helper function to build graph, assign colors, and sizes.\"\"\"\n",
    "    G = nx.DiGraph()\n",
    "    for node1, relation, node2 in kg:\n",
    "        wrapped_node1 = wrap_label(node1)\n",
    "        wrapped_node2 = wrap_label(wrap_text(node1, relation, node2))\n",
    "        wrapped_relation = wrap_label(relation)\n",
    "        G.add_edge(wrapped_node1, wrapped_node2, label=wrapped_relation)\n",
    "\n",
    "    pos = nx.spring_layout(G, k=8, iterations=100, seed=0)\n",
    "    cmap = mcolors.LinearSegmentedColormap.from_list('red_blue', ['blue', '#d3d3d3', 'red'])\n",
    "    norm = mcolors.Normalize(vmin=-1, vmax=1)\n",
    "    node_sizes = [1500 + 100 * G.degree(node) for node in G.nodes()]\n",
    "\n",
    "    node_colors = []\n",
    "    for node in G.nodes():\n",
    "        for part_name, indices in part_indices.items():\n",
    "            part_idx = int(part_name.split()[-1]) - 1\n",
    "            coeff_value = coeff[part_idx]\n",
    "            color = cmap(norm(coeff_value))\n",
    "            if any(i < len(kg) and (wrap_label(node) == wrap_label(kg[i][0]) or wrap_label(node) == wrap_label(wrap_text(kg[i][0], kg[i][1], kg[i][2]))) for i in indices):\n",
    "                node_colors.append(color)\n",
    "                break\n",
    "        else:\n",
    "            node_colors.append('#8da0cb')\n",
    "\n",
    "    edge_colors = []\n",
    "    for i, (node1, node2) in enumerate(G.edges()):\n",
    "        for part_name, indices in part_indices.items():\n",
    "            part_idx = int(part_name.split()[-1]) - 1\n",
    "            coeff_value = coeff[part_idx]\n",
    "            color = cmap(norm(coeff_value))\n",
    "            if i in indices:\n",
    "                edge_colors.append(color)\n",
    "                break\n",
    "        else:\n",
    "            edge_colors.append('gray')\n",
    "\n",
    "    return G, pos, node_sizes, node_colors, edge_colors\n",
    "\n",
    "def plot_knowledge_graph_explainability_compare(kg_original, coeff_original, part_indices_original,\n",
    "                                                 kg_added, coeff_added, part_indices_added):\n",
    "    \"\"\"\n",
    "    Visualize two knowledge graphs (original and added) side by side with explainability features.\n",
    "    \"\"\"\n",
    "    G_original, pos_original, node_sizes_original, node_colors_original, edge_colors_original = build_graph(\n",
    "        kg_original, coeff_original, part_indices_original)\n",
    "    G_added, pos_added, node_sizes_added, node_colors_added, edge_colors_added = build_graph(\n",
    "        kg_added, coeff_added, part_indices_added)\n",
    "\n",
    "    fig, axs = plt.subplots(1, 2, figsize=(24, 10), dpi=300)\n",
    "\n",
    "    nx.draw_networkx_nodes(G_original, pos_original, node_color=node_colors_original, node_size=node_sizes_original, ax=axs[0])\n",
    "    nx.draw_networkx_edges(G_original, pos_original, edge_color=edge_colors_original, width=1.5, ax=axs[0])\n",
    "    nx.draw_networkx_labels(G_original, pos_original, font_size=8, ax=axs[0])\n",
    "    edge_labels_original = nx.get_edge_attributes(G_original, 'label')\n",
    "    nx.draw_networkx_edge_labels(G_original, pos_original, edge_labels=edge_labels_original, font_size=8, ax=axs[0])\n",
    "    axs[0].set_title(\"Original Knowledge Graph\", fontsize=14)\n",
    "    axs[0].axis('off')\n",
    "\n",
    "    nx.draw_networkx_nodes(G_added, pos_added, node_color=node_colors_added, node_size=node_sizes_added, ax=axs[1])\n",
    "    nx.draw_networkx_edges(G_added, pos_added, edge_color=edge_colors_added, width=1.5, ax=axs[1])\n",
    "    nx.draw_networkx_labels(G_added, pos_added, font_size=8, ax=axs[1])\n",
    "    edge_labels_added = nx.get_edge_attributes(G_added, 'label')\n",
    "    nx.draw_networkx_edge_labels(G_added, pos_added, edge_labels=edge_labels_added, font_size=8, ax=axs[1])\n",
    "    axs[1].set_title(\"Added Knowledge Graph\", fontsize=14)\n",
    "    axs[1].axis('off')\n",
    "\n",
    "    cmap = mcolors.LinearSegmentedColormap.from_list('red_blue', ['blue', '#d3d3d3', 'red'])\n",
    "    norm = mcolors.Normalize(vmin=-1, vmax=1)\n",
    "    sm = plt.cm.ScalarMappable(cmap=cmap, norm=norm)\n",
    "    sm.set_array([])\n",
    "    fig.colorbar(sm, ax=axs, orientation='horizontal', label='Importance Coefficients', fraction=0.03, pad=0.05)\n",
    "\n",
    "    plt.savefig('knowledge_graph_explainability_comparison.png', bbox_inches='tight')\n",
    "    plt.show()\n"
   ]
  },
  {
   "cell_type": "code",
   "execution_count": null,
   "id": "b6a626f8-1a71-4b69-9161-1b6ef1a2d788",
   "metadata": {
    "id": "b6a626f8-1a71-4b69-9161-1b6ef1a2d788"
   },
   "outputs": [],
   "source": [
    "def calculate_jaccard_index(coeff_original, coeff_added):\n",
    "    \"\"\"\n",
    "    Calculate the Jaccard index (intersection over union) between two coefficient arrays.\n",
    "\n",
    "    Parameters:\n",
    "    coeff_original (np.ndarray): Original coefficients.\n",
    "    coeff_added (np.ndarray): Added coefficients.\n",
    "\n",
    "    Returns:\n",
    "    float: The Jaccard index.\n",
    "    \"\"\"\n",
    "    intersection = np.minimum(coeff_original, coeff_added).sum()\n",
    "    union = np.maximum(coeff_original, coeff_added).sum()\n",
    "    jaccard_index = intersection / union\n",
    "    return jaccard_index"
   ]
  },
  {
   "cell_type": "code",
   "execution_count": null,
   "id": "iBctVL9cYUIc",
   "metadata": {
    "id": "iBctVL9cYUIc"
   },
   "outputs": [],
   "source": [
    "question = \"what is Network_Security_Services?\"\n",
    "#Part 3"
   ]
  },
  {
   "cell_type": "markdown",
   "id": "8938f2c9-3e34-46da-a4b5-1dbcf621cb2d",
   "metadata": {
    "id": "8938f2c9-3e34-46da-a4b5-1dbcf621cb2d"
   },
   "source": [
    "## Stability: Evaluate the explanation for \"what is Network_Security_Services?\" (Temp 1) by introducing small perturbations in the input or graph structure -(Scooby-Doo_and_the_Cyber_Chase_(video_game)) → (platform) → (PlayStation, Game Boy Advance)- and assessing the consistency of generated explanations."
   ]
  },
  {
   "cell_type": "code",
   "execution_count": null,
   "id": "ZZCGQViMjanl",
   "metadata": {
    "id": "ZZCGQViMjanl"
   },
   "outputs": [],
   "source": [
    "kg_added = [\n",
    "    (\"Scooby-Doo_and_the_Cyber_Chase_(video_game)\", \"type\", \"Software\"),\n",
    "    (\"Scooby-Doo_and_the_Cyber_Chase_(video_game)\", \"label\", \"Scooby-Doo and the Cyber Chase (video game)\"),\n",
    "    (\"Scooby-Doo_and_the_Cyber_Chase_(video_game)\", \"abstract\", \"Scooby-Doo and the Cyber Chase is a Scooby-Doo video game based on the Warner Brothers film Scooby-Doo and the Cyber Chase. The game was released for the PlayStation and Game Boy Advance in 2001. The PlayStation version became a 'Greatest Hits' title in 2003.\"),\n",
    "    (\"Scooby-Doo_and_the_Cyber_Chase_(video_game)\" ,\"platform\", \"PlayStation, Game Boy Advance\"),\n",
    "\n",
    "    (\"Mirai_(malware)\", \"type\", \"Software\"),\n",
    "    (\"Mirai_(malware)\", \"label\", \"Mirai (malware)\"),\n",
    "    (\"Mirai_(malware)\", \"abstract\", \"Mirai (from the Japanese word for 'future', 未来) is a malware that turns networked devices running Linux into remotely controlled bots that can be used as part of a botnet in large-scale network attacks. It primarily targets online consumer devices such as IP cameras and home routers. The Mirai botnet was first found in August 2016 by MalwareMustDie, a white hat malware research group, and has been used in some of the largest and most disruptive distributed denial of service (DDoS) attacks, including an attack on 20 September 2016 on computer security journalist Brian Krebs' website, an attack on French web host OVH, and the October 2016 Dyn cyberattack. According to a chat log between Anna-senpai and Robert Coelho, Mirai was named after the 2011 TV anime series Mirai Nikki. The software was initially used by the creators to DDoS Minecraft servers and companies offering DDoS protection to Minecraft servers, with the authors using Mirai to operate a protection racket. The source code for Mirai was subsequently published on Hack Forums as open-source. Since the source code was published, the techniques have been adapted in other malware projects.\"),\n",
    "\n",
    "    (\"Network_Security_Services\", \"type\", \"Software\"),\n",
    "    (\"Network_Security_Services\", \"label\", \"Network Security Services\"),\n",
    "    (\"Network_Security_Services\", \"abstract\", \"Network Security Services (NSS) is a collection of cryptographic computer libraries designed to support cross-platform development of security-enabled client and server applications with optional support for hardware TLS/SSL acceleration on the server side and hardware smart cards on the client side. NSS provides a complete open-source implementation of cryptographic libraries supporting Transport Layer Security (TLS) / Secure Sockets Layer (SSL) and S/MIME. NSS releases prior to version 3.14 are tri-licensed under the Mozilla Public License 1.1, the GNU General Public License, and the GNU Lesser General Public License. Since release 3.14, NSS releases are licensed under GPL-compatible Mozilla Public License 2.0.\"),\n",
    "\n",
    "    (\"MS_Antivirus_(malware)\", \"type\", \"Software\"),\n",
    "    (\"MS_Antivirus_(malware)\", \"label\", \"MS Antivirus (malware)\"),\n",
    "    (\"MS_Antivirus_(malware)\", \"abstract\", \"MS Antivirus (also known as Spyware Protect 2009 and Antivirus XP 2008/Antivirus2009/SecurityTool/etc) is a scareware rogue anti-virus which purports to remove virus infections found on a computer running Microsoft Windows. It attempts to scam the user into purchasing a 'full version' of the software. The company and the individuals behind Bakasoftware operated under other different 'company' names, including Innovagest2000, Innovative Marketing Ukraine, Pandora Software, LocusSoftware, etc.\"),\n",
    "\n",
    "    (\"CyberCIEGE\", \"type\", \"Software\"),\n",
    "    (\"CyberCIEGE\", \"label\", \"CyberCIEGE\"),\n",
    "    (\"CyberCIEGE\", \"abstract\", \"CyberCIEGE is a serious game designed to teach network security concepts. Its development was sponsored by the U.S. Navy, and it is used as a training tool by agencies of the U.S. government, universities and community colleges. CyberCIEGE covers a broad range of cybersecurity topics. Players purchase and configure computers and network devices to keep demanding users happy (e.g., by providing Internet access) all while protecting assets from a variety of attacks. The game includes a number of different scenarios, some of which focus on basic training and awareness, others on more advanced network security concepts.\"),\n",
    "\n",
    "    (\"CyberExtension\", \"type\", \"Software\"),\n",
    "    (\"CyberExtension\", \"label\", \"CyberExtension\"),\n",
    "    (\"CyberExtension\", \"abstract\", \"CyberExtension is a managed virtual learning environment built by Right Reason Technologies (RRT) that is designed to be used as an online extension of a school district in the USA. The system is currently used for homebound students, credit recovery and supplemental coursework, and has been successfully deployed to help students with 'school phobia' and students undergoing medical treatment.\"),\n",
    "\n",
    "    (\"CyberGladiators\", \"type\", \"Software\"),\n",
    "    (\"CyberGladiators\", \"label\", \"CyberGladiators\"),\n",
    "    (\"CyberGladiators\", \"abstract\", \"CyberGladiators is a 1996 fighting game developed by K.A.A. (label of Dynamix) and published by Sierra On-Line. The game is divided of fights between members of the Quaaflax Alliance and members of the terrorist organization Gy Djin. All characters have been transformed by a cosmic storm into CyberGladiators.\"),\n",
    "\n",
    "    (\"CyberLink_MediaShow\", \"type\", \"Software\"),\n",
    "    (\"CyberLink_MediaShow\", \"label\", \"CyberLink MediaShow\"),\n",
    "    (\"CyberLink_MediaShow\", \"abstract\", \"CyberLink MediaShow is a software application for organizing, editing and sharing photos and videos, published by CyberLink Corporation. MediaShow allows users to import video and photo files from digital cameras, phones, and camcorders. Its main competitors are Arcsoft MediaImpression, Adobe Bridge, Roxio Creator and Google Picasa.\"),\n",
    "\n",
    "    (\"CyberQuery\", \"type\", \"Software\"),\n",
    "    (\"CyberQuery\", \"label\", \"CyberQuery\"),\n",
    "    (\"CyberQuery\", \"abstract\", \"Cyberquery is a software product of Cyberscience Corporation Inc. Originally developed for data handling and analysis on Data General AOS and AOS/VS minicomputers, then the available platforms for Cyberquery were extended to all major UNIX platforms, OpenVMS, and Microsoft Windows.\"),\n",
    "\n",
    "    (\"CyberStrike\", \"type\", \"Software\"),\n",
    "    (\"CyberStrike\", \"label\", \"CyberStrike\"),\n",
    "    (\"CyberStrike\", \"abstract\", \"CyberStrike is a futuristic 3D combat online game by Simutronics, involving team combat between customizable mechs, each of which is controlled by a different player. Initially exclusive to the GEnie online service, it opened in February 1993, and later that year it caused Computer Gaming World to create the new category of 'Online Game of the Year' so it could be awarded to CyberStrike. In 1994, it was offered in stores by MicroProse. In 1997, a sequel, Cyberstrike 2, was announced as a joint project between Simutronics and Sony's 989 Studios.\")\n",
    "]\n",
    "\n",
    "part_indices_added ={\n",
    "\"Part 1\": range(0, 3),\n",
    "\"Part 2\": range(3, 6),\n",
    "\"Part 3\": range(6, 9),\n",
    "\"Part 4\": range(9, 12),\n",
    "\"Part 5\": range(12, 15),\n",
    "\"Part 6\": range(15, 18),\n",
    "\"Part 7\": range(18, 21),\n",
    "\"Part 8\": range(21, 24),\n",
    "\"Part 9\": range(24, 27),\n",
    "\"Part 10\": range(27, 30)\n",
    "}\n",
    "part_names_added = list(part_indices_added.keys())\n"
   ]
  },
  {
   "cell_type": "code",
   "execution_count": null,
   "id": "fbDzdyNbpx2i",
   "metadata": {
    "colab": {
     "base_uri": "https://localhost:8080/"
    },
    "id": "fbDzdyNbpx2i",
    "outputId": "b9cec045-864e-4db1-a1fb-c03903bef026"
   },
   "outputs": [],
   "source": [
    "print(\"Original KG node count:\", len(set(node for triple in kg for node in (triple[0], triple[2]))))\n",
    "print(\"Updated KG node count:\", len(set(node for triple in kg_added for node in (triple[0], triple[2]))))"
   ]
  },
  {
   "cell_type": "code",
   "execution_count": null,
   "id": "ca2f1eb6-a535-4fa9-a75f-3ee3e017cba7",
   "metadata": {
    "colab": {
     "base_uri": "https://localhost:8080/",
     "height": 1000
    },
    "id": "ca2f1eb6-a535-4fa9-a75f-3ee3e017cba7",
    "outputId": "bf3e982d-5ec8-4a07-c59a-ba88978f85fa"
   },
   "outputs": [],
   "source": [
    "visualize_graph_with_chains(kg_added, part_indices_added)"
   ]
  },
  {
   "cell_type": "code",
   "execution_count": null,
   "id": "2b731720",
   "metadata": {
    "colab": {
     "base_uri": "https://localhost:8080/"
    },
    "id": "2b731720",
    "outputId": "73014f3d-39a9-4d94-fdf1-4a6a2578cccd"
   },
   "outputs": [],
   "source": [
    "temp = 1\n",
    "original_answer_str, original_answer_embedding = get_answer_and_embedding(question, temp, graph)\n",
    "print(f\"Original answer: {original_answer_str}\")"
   ]
  },
  {
   "cell_type": "code",
   "execution_count": null,
   "id": "T1toRPH4yg_a",
   "metadata": {
    "colab": {
     "base_uri": "https://localhost:8080/"
    },
    "id": "T1toRPH4yg_a",
    "outputId": "b4c7d7f1-e2e7-4822-86a9-2f4babbed49f",
    "scrolled": true
   },
   "outputs": [],
   "source": [
    "temp= 1\n",
    "coeff = calculate_coefficients_print_Temerature(\n",
    "    temp= temp,\n",
    "    original=original,\n",
    "    kg=kg_added,\n",
    "    part_names=part_names_added,\n",
    "    question=question,\n",
    "    original_answer_embedding=original_answer_embedding,\n",
    "    original_answer_str = original_answer_str,\n",
    ")"
   ]
  },
  {
   "cell_type": "code",
   "execution_count": null,
   "id": "ycsMWeO_ygn7",
   "metadata": {
    "colab": {
     "base_uri": "https://localhost:8080/"
    },
    "id": "ycsMWeO_ygn7",
    "outputId": "dc507a00-68de-4422-9298-4e407a98e39a"
   },
   "outputs": [],
   "source": [
    "coeff = np.round(coeff, 3)  # Rounds to 3 decimal places\n",
    "coeff"
   ]
  },
  {
   "cell_type": "code",
   "execution_count": null,
   "id": "n4aul74QnE0S",
   "metadata": {
    "colab": {
     "base_uri": "https://localhost:8080/",
     "height": 739
    },
    "id": "n4aul74QnE0S",
    "outputId": "323ff527-7acc-4ecc-a04d-4b0b9922c7c7"
   },
   "outputs": [],
   "source": [
    "# Define the coefficient arrays\n",
    "coeff_original = np.array([ 0.074, -0.349,  0.278, -0.24 , -0.256,  0.23 ,  0.057, -0.081,\n",
    "        0.373, -0.109])\n",
    "coeff_added =np.array([ 0.175,  0.01 ,  0.289,  0.231, -0.192,  0.171,  0.049, -0.006,\n",
    "       -0.025, -0.465])\n",
    "# Call the function\n",
    "plot_knowledge_graph_explainability_compare(\n",
    "    kg_original= kg,\n",
    "    coeff_original=coeff_original,\n",
    "    part_indices_original=part_indices,\n",
    "    kg_added=kg_added,\n",
    "    coeff_added=coeff_added,\n",
    "    part_indices_added=part_indices_added\n",
    ")"
   ]
  },
  {
   "cell_type": "code",
   "execution_count": null,
   "id": "pUgNVQER0LdB",
   "metadata": {
    "colab": {
     "base_uri": "https://localhost:8080/"
    },
    "id": "pUgNVQER0LdB",
    "outputId": "8c3a89d7-9848-4e80-b7bf-dc0574c1c5e9"
   },
   "outputs": [],
   "source": [
    "jaccard_index = calculate_jaccard_index(coeff_original, coeff_added)\n",
    "print(\"Jaccard Index:\", jaccard_index)"
   ]
  },
  {
   "cell_type": "markdown",
   "id": "1358f091-cf5d-48d6-8f25-8ddad5eb2bec",
   "metadata": {
    "id": "1358f091-cf5d-48d6-8f25-8ddad5eb2bec"
   },
   "source": [
    "## Stability: Evaluate the explanation for \"what is Network_Security_Services?\" (Temp 0) by introducing small perturbations in the input or graph structure -(Scooby-Doo_and_the_Cyber_Chase_(video_game)) → (platform) → (PlayStation, Game Boy Advance)- and assessing the consistency of generated explanations."
   ]
  },
  {
   "cell_type": "code",
   "execution_count": null,
   "id": "ae9eb9e4-4a18-41ed-8359-15d9f9a15ce2",
   "metadata": {
    "colab": {
     "base_uri": "https://localhost:8080/"
    },
    "id": "ae9eb9e4-4a18-41ed-8359-15d9f9a15ce2",
    "outputId": "2bd31f21-68ec-4bbd-97bb-a306821f4079"
   },
   "outputs": [],
   "source": [
    "temp = 0\n",
    "original_answer_str, original_answer_embedding = get_answer_and_embedding(question, temp, graph)\n",
    "print(f\"Original answer: {original_answer_str}\")"
   ]
  },
  {
   "cell_type": "code",
   "execution_count": null,
   "id": "76f10bed-6886-4c1e-a549-91981c3bd895",
   "metadata": {
    "colab": {
     "base_uri": "https://localhost:8080/"
    },
    "id": "76f10bed-6886-4c1e-a549-91981c3bd895",
    "outputId": "20f42df7-ae89-4170-a7f7-d7466b25a5e4"
   },
   "outputs": [],
   "source": [
    "coeff = calculate_coefficients_print_Temerature(\n",
    "    temp= temp,\n",
    "    original=original,\n",
    "    kg=kg_added,\n",
    "    part_names=part_names_added,\n",
    "    question=question,\n",
    "    original_answer_embedding=original_answer_embedding,\n",
    "    original_answer_str = original_answer_str,\n",
    ")"
   ]
  },
  {
   "cell_type": "code",
   "execution_count": null,
   "id": "TIRLEIZF9Ex3",
   "metadata": {
    "colab": {
     "base_uri": "https://localhost:8080/"
    },
    "id": "TIRLEIZF9Ex3",
    "outputId": "89d4ebc5-47da-41a0-a666-0f79d9f560c1"
   },
   "outputs": [],
   "source": [
    "coeff = np.round(coeff, 3)  # Rounds to 3 decimal places\n",
    "coeff"
   ]
  },
  {
   "cell_type": "code",
   "execution_count": null,
   "id": "3ab1f8ba-99b0-4aba-a74c-67defd30b0dd",
   "metadata": {
    "colab": {
     "base_uri": "https://localhost:8080/",
     "height": 739
    },
    "id": "3ab1f8ba-99b0-4aba-a74c-67defd30b0dd",
    "outputId": "1e3203e0-46f8-41e8-857d-611d87de6260"
   },
   "outputs": [],
   "source": [
    "# Define the coefficient arrays\n",
    "coeff_original = np.array([ 0.,  0.,  1.,  0., -0.,  0.,  0.,  0.,  0., -0.])\n",
    "coeff_added = np.array([ 0.,  0.,  1., -0.,  0.,  0., -0., -0.,  0.,  0.])\n",
    "# Call the function\n",
    "plot_knowledge_graph_explainability_compare(\n",
    "    kg_original= kg,\n",
    "    coeff_original=coeff_original,\n",
    "    part_indices_original=part_indices,\n",
    "    kg_added=kg_added,\n",
    "    coeff_added=coeff_added,\n",
    "    part_indices_added=part_indices_added\n",
    ")"
   ]
  },
  {
   "cell_type": "code",
   "execution_count": null,
   "id": "f374b2d3-6454-4562-aaf2-01b8dd4a0af7",
   "metadata": {
    "colab": {
     "base_uri": "https://localhost:8080/"
    },
    "id": "f374b2d3-6454-4562-aaf2-01b8dd4a0af7",
    "outputId": "dd943255-fc91-497f-d1fb-2ed955115a0a"
   },
   "outputs": [],
   "source": [
    "jaccard_index = calculate_jaccard_index(coeff_original, coeff_added)\n",
    "print(\"Jaccard Index:\", jaccard_index)"
   ]
  },
  {
   "cell_type": "markdown",
   "id": "3570d4fb-48a2-4cb3-b7bd-c007ed42e2c4",
   "metadata": {
    "id": "3570d4fb-48a2-4cb3-b7bd-c007ed42e2c4"
   },
   "source": [
    "## Stability: Evaluate the explanation for \"what is Network_Security_Services?\" (Temp 1) by introducing small perturbations in the input or graph structure -(Mirai_(malware)) → (target) → (IoT Devices)- and assessing the consistency of generated explanations."
   ]
  },
  {
   "cell_type": "code",
   "execution_count": null,
   "id": "64e4b5e7",
   "metadata": {
    "id": "64e4b5e7"
   },
   "outputs": [],
   "source": [
    "kg_added = [\n",
    "    (\"Scooby-Doo_and_the_Cyber_Chase_(video_game)\", \"type\", \"Software\"),\n",
    "    (\"Scooby-Doo_and_the_Cyber_Chase_(video_game)\", \"label\", \"Scooby-Doo and the Cyber Chase (video game)\"),\n",
    "    (\"Scooby-Doo_and_the_Cyber_Chase_(video_game)\", \"abstract\", \"Scooby-Doo and the Cyber Chase is a Scooby-Doo video game based on the Warner Brothers film Scooby-Doo and the Cyber Chase. The game was released for the PlayStation and Game Boy Advance in 2001. The PlayStation version became a 'Greatest Hits' title in 2003.\"),\n",
    "\n",
    "    (\"Mirai_(malware)\", \"type\", \"Software\"),\n",
    "    (\"Mirai_(malware)\", \"label\", \"Mirai (malware)\"),\n",
    "    (\"Mirai_(malware)\", \"abstract\", \"Mirai (from the Japanese word for 'future', 未来) is a malware that turns networked devices running Linux into remotely controlled bots that can be used as part of a botnet in large-scale network attacks. It primarily targets online consumer devices such as IP cameras and home routers. The Mirai botnet was first found in August 2016 by MalwareMustDie, a white hat malware research group, and has been used in some of the largest and most disruptive distributed denial of service (DDoS) attacks, including an attack on 20 September 2016 on computer security journalist Brian Krebs' website, an attack on French web host OVH, and the October 2016 Dyn cyberattack. According to a chat log between Anna-senpai and Robert Coelho, Mirai was named after the 2011 TV anime series Mirai Nikki. The software was initially used by the creators to DDoS Minecraft servers and companies offering DDoS protection to Minecraft servers, with the authors using Mirai to operate a protection racket. The source code for Mirai was subsequently published on Hack Forums as open-source. Since the source code was published, the techniques have been adapted in other malware projects.\"),\n",
    "    (\"Mirai_(malware)\",\"target\",\"IoT Devices\"),\n",
    "\n",
    "    (\"Network_Security_Services\", \"type\", \"Software\"),\n",
    "    (\"Network_Security_Services\", \"label\", \"Network Security Services\"),\n",
    "    (\"Network_Security_Services\", \"abstract\", \"Network Security Services (NSS) is a collection of cryptographic computer libraries designed to support cross-platform development of security-enabled client and server applications with optional support for hardware TLS/SSL acceleration on the server side and hardware smart cards on the client side. NSS provides a complete open-source implementation of cryptographic libraries supporting Transport Layer Security (TLS) / Secure Sockets Layer (SSL) and S/MIME. NSS releases prior to version 3.14 are tri-licensed under the Mozilla Public License 1.1, the GNU General Public License, and the GNU Lesser General Public License. Since release 3.14, NSS releases are licensed under GPL-compatible Mozilla Public License 2.0.\"),\n",
    "\n",
    "    (\"MS_Antivirus_(malware)\", \"type\", \"Software\"),\n",
    "    (\"MS_Antivirus_(malware)\", \"label\", \"MS Antivirus (malware)\"),\n",
    "    (\"MS_Antivirus_(malware)\", \"abstract\", \"MS Antivirus (also known as Spyware Protect 2009 and Antivirus XP 2008/Antivirus2009/SecurityTool/etc) is a scareware rogue anti-virus which purports to remove virus infections found on a computer running Microsoft Windows. It attempts to scam the user into purchasing a 'full version' of the software. The company and the individuals behind Bakasoftware operated under other different 'company' names, including Innovagest2000, Innovative Marketing Ukraine, Pandora Software, LocusSoftware, etc.\"),\n",
    "\n",
    "    (\"CyberCIEGE\", \"type\", \"Software\"),\n",
    "    (\"CyberCIEGE\", \"label\", \"CyberCIEGE\"),\n",
    "    (\"CyberCIEGE\", \"abstract\", \"CyberCIEGE is a serious game designed to teach network security concepts. Its development was sponsored by the U.S. Navy, and it is used as a training tool by agencies of the U.S. government, universities and community colleges. CyberCIEGE covers a broad range of cybersecurity topics. Players purchase and configure computers and network devices to keep demanding users happy (e.g., by providing Internet access) all while protecting assets from a variety of attacks. The game includes a number of different scenarios, some of which focus on basic training and awareness, others on more advanced network security concepts.\"),\n",
    "\n",
    "    (\"CyberExtension\", \"type\", \"Software\"),\n",
    "    (\"CyberExtension\", \"label\", \"CyberExtension\"),\n",
    "    (\"CyberExtension\", \"abstract\", \"CyberExtension is a managed virtual learning environment built by Right Reason Technologies (RRT) that is designed to be used as an online extension of a school district in the USA. The system is currently used for homebound students, credit recovery and supplemental coursework, and has been successfully deployed to help students with 'school phobia' and students undergoing medical treatment.\"),\n",
    "\n",
    "    (\"CyberGladiators\", \"type\", \"Software\"),\n",
    "    (\"CyberGladiators\", \"label\", \"CyberGladiators\"),\n",
    "    (\"CyberGladiators\", \"abstract\", \"CyberGladiators is a 1996 fighting game developed by K.A.A. (label of Dynamix) and published by Sierra On-Line. The game is divided of fights between members of the Quaaflax Alliance and members of the terrorist organization Gy Djin. All characters have been transformed by a cosmic storm into CyberGladiators.\"),\n",
    "\n",
    "    (\"CyberLink_MediaShow\", \"type\", \"Software\"),\n",
    "    (\"CyberLink_MediaShow\", \"label\", \"CyberLink MediaShow\"),\n",
    "    (\"CyberLink_MediaShow\", \"abstract\", \"CyberLink MediaShow is a software application for organizing, editing and sharing photos and videos, published by CyberLink Corporation. MediaShow allows users to import video and photo files from digital cameras, phones, and camcorders. Its main competitors are Arcsoft MediaImpression, Adobe Bridge, Roxio Creator and Google Picasa.\"),\n",
    "\n",
    "    (\"CyberQuery\", \"type\", \"Software\"),\n",
    "    (\"CyberQuery\", \"label\", \"CyberQuery\"),\n",
    "    (\"CyberQuery\", \"abstract\", \"Cyberquery is a software product of Cyberscience Corporation Inc. Originally developed for data handling and analysis on Data General AOS and AOS/VS minicomputers, then the available platforms for Cyberquery were extended to all major UNIX platforms, OpenVMS, and Microsoft Windows.\"),\n",
    "\n",
    "    (\"CyberStrike\", \"type\", \"Software\"),\n",
    "    (\"CyberStrike\", \"label\", \"CyberStrike\"),\n",
    "    (\"CyberStrike\", \"abstract\", \"CyberStrike is a futuristic 3D combat online game by Simutronics, involving team combat between customizable mechs, each of which is controlled by a different player. Initially exclusive to the GEnie online service, it opened in February 1993, and later that year it caused Computer Gaming World to create the new category of 'Online Game of the Year' so it could be awarded to CyberStrike. In 1994, it was offered in stores by MicroProse. In 1997, a sequel, Cyberstrike 2, was announced as a joint project between Simutronics and Sony's 989 Studios.\")\n",
    "]\n",
    "part_indices_added = {\n",
    "    \"Part 1\": range(0, 3),   # Scooby-Doo_and_the_Cyber_Chase_(video_game)\n",
    "    \"Part 2\": range(3, 7),   # Mirai_(malware) (has an extra 'target' attribute)\n",
    "    \"Part 3\": range(7, 10),  # Network_Security_Services\n",
    "    \"Part 4\": range(10, 13), # MS_Antivirus_(malware)\n",
    "    \"Part 5\": range(13, 16), # CyberCIEGE\n",
    "    \"Part 6\": range(16, 19), # CyberExtension\n",
    "    \"Part 7\": range(19, 22), # CyberGladiators\n",
    "    \"Part 8\": range(22, 25), # CyberLink_MediaShow\n",
    "    \"Part 9\": range(25, 28), # CyberQuery\n",
    "    \"Part 10\": range(28, 31) # CyberStrike\n",
    "}\n",
    "\n",
    "part_names_added = list(part_indices_added.keys())\n"
   ]
  },
  {
   "cell_type": "code",
   "execution_count": null,
   "id": "52268b71-f533-4d0b-ab49-835796b20cf5",
   "metadata": {
    "colab": {
     "base_uri": "https://localhost:8080/",
     "height": 1000
    },
    "id": "52268b71-f533-4d0b-ab49-835796b20cf5",
    "outputId": "9cf2bd04-8fbe-4da7-b167-511659680840"
   },
   "outputs": [],
   "source": [
    "visualize_graph_with_chains(kg_added, part_indices_added)"
   ]
  },
  {
   "cell_type": "code",
   "execution_count": null,
   "id": "tSrBCFGBlCAl",
   "metadata": {
    "colab": {
     "base_uri": "https://localhost:8080/"
    },
    "id": "tSrBCFGBlCAl",
    "outputId": "d5e3567f-bb49-4811-bc0c-4c8c9d7005a9"
   },
   "outputs": [],
   "source": [
    "temp = 1\n",
    "original_answer_str, original_answer_embedding = get_answer_and_embedding(question, temp, graph)\n",
    "print(original_answer_str)"
   ]
  },
  {
   "cell_type": "code",
   "execution_count": null,
   "id": "37f347bd",
   "metadata": {
    "colab": {
     "base_uri": "https://localhost:8080/"
    },
    "id": "37f347bd",
    "outputId": "50a7815a-7c14-4979-f4d5-f68762c32454",
    "scrolled": true
   },
   "outputs": [],
   "source": [
    "coeff = calculate_coefficients_print_Temerature(\n",
    "    temp= temp,\n",
    "    original=original,\n",
    "    kg=kg_added,\n",
    "    part_names=part_names_added,\n",
    "    question=question,\n",
    "    original_answer_embedding=original_answer_embedding,\n",
    "    original_answer_str = original_answer_str,\n",
    ")"
   ]
  },
  {
   "cell_type": "code",
   "execution_count": null,
   "id": "652769da",
   "metadata": {
    "colab": {
     "base_uri": "https://localhost:8080/"
    },
    "id": "652769da",
    "outputId": "81711dbf-fbfe-49b8-b445-11524deb4f77"
   },
   "outputs": [],
   "source": [
    "coeff"
   ]
  },
  {
   "cell_type": "code",
   "execution_count": null,
   "id": "45f9ecd6-1363-4b63-a113-d024360e9b80",
   "metadata": {
    "colab": {
     "base_uri": "https://localhost:8080/",
     "height": 739
    },
    "id": "45f9ecd6-1363-4b63-a113-d024360e9b80",
    "outputId": "3a6fed93-6d56-42aa-c077-d092b7118d10"
   },
   "outputs": [],
   "source": [
    "# Define the coefficient arrays\n",
    "coeff_original = np.array([ 0.074, -0.349,  0.278, -0.24 , -0.256,  0.23 ,  0.057, -0.081,\n",
    "        0.373, -0.109])\n",
    "coeff_added = np.array([-0.19716259,  0.13965323,  0.37876745, -0.31036451,  0.36941792,\n",
    "        0.54564323, -0.14606655, -0.18255853, -0.64883957, -0.47013287])\n",
    "# Call the function\n",
    "plot_knowledge_graph_explainability_compare(\n",
    "    kg_original= kg,\n",
    "    coeff_original=coeff_original,\n",
    "    part_indices_original=part_indices,\n",
    "    kg_added=kg_added,\n",
    "    coeff_added=coeff_added,\n",
    "    part_indices_added=part_indices_added\n",
    ")"
   ]
  },
  {
   "cell_type": "code",
   "execution_count": null,
   "id": "843ff1d7",
   "metadata": {
    "colab": {
     "base_uri": "https://localhost:8080/"
    },
    "id": "843ff1d7",
    "outputId": "678b583a-8e21-444c-df1b-225fb9b133b0"
   },
   "outputs": [],
   "source": [
    "jaccard_index = calculate_jaccard_index(coeff_original, coeff_added)\n",
    "print(\"Jaccard Index:\", jaccard_index)"
   ]
  },
  {
   "cell_type": "markdown",
   "id": "d9c2dffc-0eef-4f4d-9836-9b0ee52e51e3",
   "metadata": {
    "id": "d9c2dffc-0eef-4f4d-9836-9b0ee52e51e3"
   },
   "source": [
    "## Stability: Evaluate the explanation for \"what is Network_Security_Services?\" (Temp 0) by introducing small perturbations in the input or graph structure -(Mirai_(malware)) → (target) → (IoT Devices)- and assessing the consistency of generated explanations."
   ]
  },
  {
   "cell_type": "code",
   "execution_count": null,
   "id": "9157e257-69d5-40bb-a2d2-ece9e3e8cd11",
   "metadata": {
    "colab": {
     "base_uri": "https://localhost:8080/"
    },
    "id": "9157e257-69d5-40bb-a2d2-ece9e3e8cd11",
    "outputId": "82b9fe8c-f3f2-452b-8296-7be3f23f337c"
   },
   "outputs": [],
   "source": [
    "temp = 0\n",
    "original_answer_str, original_answer_embedding = get_answer_and_embedding(question, temp, graph)\n",
    "print(f\"Original answer: {original_answer_str}\")"
   ]
  },
  {
   "cell_type": "code",
   "execution_count": null,
   "id": "bXWTwCifEWxo",
   "metadata": {
    "colab": {
     "base_uri": "https://localhost:8080/"
    },
    "id": "bXWTwCifEWxo",
    "outputId": "a7adce26-2d3c-4dd5-9508-97aebcf9d3de"
   },
   "outputs": [],
   "source": [
    "coeff = calculate_coefficients_print_Temerature(\n",
    "    temp= temp,\n",
    "    original=original,\n",
    "    kg=kg_added,\n",
    "    part_names=part_names_added,\n",
    "    question=question,\n",
    "    original_answer_embedding=original_answer_embedding,\n",
    "    original_answer_str = original_answer_str,\n",
    ")"
   ]
  },
  {
   "cell_type": "code",
   "execution_count": null,
   "id": "ccabfb5b-dcb0-4daf-8e9f-5bf51dd7c350",
   "metadata": {
    "colab": {
     "base_uri": "https://localhost:8080/"
    },
    "id": "ccabfb5b-dcb0-4daf-8e9f-5bf51dd7c350",
    "outputId": "f56368e2-fa5d-4906-c8b1-b2256551245c"
   },
   "outputs": [],
   "source": [
    "coeff"
   ]
  },
  {
   "cell_type": "code",
   "execution_count": null,
   "id": "9433268d-6d49-4e4e-bb03-50a9289aa8c2",
   "metadata": {
    "colab": {
     "base_uri": "https://localhost:8080/",
     "height": 739
    },
    "id": "9433268d-6d49-4e4e-bb03-50a9289aa8c2",
    "outputId": "95519300-f255-4bf2-a92d-366eb6577904"
   },
   "outputs": [],
   "source": [
    "# Define the coefficient arrays\n",
    "coeff_original = np.array([ 0.,  0.,  1.,  0., -0.,  0.,  0.,  0.,  0., -0.])\n",
    "coeff_added =np.array([-0.19981933,  0.28225844,  0.38885523,  0.38597305, -0.34761973,\n",
    "        0.25943983,  0.22293793, -0.52873037,  0.33054272, -0.45729486])\n",
    "# Call the function\n",
    "plot_knowledge_graph_explainability_compare(\n",
    "    kg_original= kg,\n",
    "    coeff_original=coeff_original,\n",
    "    part_indices_original=part_indices,\n",
    "    kg_added=kg_added,\n",
    "    coeff_added=coeff_added,\n",
    "    part_indices_added=part_indices_added\n",
    ")"
   ]
  },
  {
   "cell_type": "code",
   "execution_count": null,
   "id": "86b1aaab-baa5-43ff-af01-e5015d62a667",
   "metadata": {
    "colab": {
     "base_uri": "https://localhost:8080/"
    },
    "id": "86b1aaab-baa5-43ff-af01-e5015d62a667",
    "outputId": "0764f3ab-a5f9-4ec6-9525-4640ddf65555"
   },
   "outputs": [],
   "source": [
    "jaccard_index = calculate_jaccard_index(coeff_original, coeff_added)\n",
    "print(\"Jaccard Index:\", jaccard_index)"
   ]
  },
  {
   "cell_type": "markdown",
   "id": "595c8115-6982-4536-a5db-5f1a652690a5",
   "metadata": {
    "id": "595c8115-6982-4536-a5db-5f1a652690a5"
   },
   "source": [
    "## Stability: Evaluate the explanation for \"what is Network_Security_Services?\" (Temp 1) by introducing small perturbations in the input or graph structure -(Network_Security_Services) → (developer) → (Mozilla)- and assessing the consistency of generated explanations."
   ]
  },
  {
   "cell_type": "code",
   "execution_count": null,
   "id": "33bc5a68",
   "metadata": {
    "id": "33bc5a68"
   },
   "outputs": [],
   "source": [
    "kg_added = [\n",
    "    (\"Scooby-Doo_and_the_Cyber_Chase_(video_game)\", \"type\", \"Software\"),\n",
    "    (\"Scooby-Doo_and_the_Cyber_Chase_(video_game)\", \"label\", \"Scooby-Doo and the Cyber Chase (video game)\"),\n",
    "    (\"Scooby-Doo_and_the_Cyber_Chase_(video_game)\", \"abstract\", \"Scooby-Doo and the Cyber Chase is a Scooby-Doo video game based on the Warner Brothers film Scooby-Doo and the Cyber Chase. The game was released for the PlayStation and Game Boy Advance in 2001. The PlayStation version became a 'Greatest Hits' title in 2003.\"),\n",
    "\n",
    "    (\"Mirai_(malware)\", \"type\", \"Software\"),\n",
    "    (\"Mirai_(malware)\", \"label\", \"Mirai (malware)\"),\n",
    "    (\"Mirai_(malware)\", \"abstract\", \"Mirai (from the Japanese word for 'future', 未来) is a malware that turns networked devices running Linux into remotely controlled bots that can be used as part of a botnet in large-scale network attacks. It primarily targets online consumer devices such as IP cameras and home routers. The Mirai botnet was first found in August 2016 by MalwareMustDie, a white hat malware research group, and has been used in some of the largest and most disruptive distributed denial of service (DDoS) attacks, including an attack on 20 September 2016 on computer security journalist Brian Krebs' website, an attack on French web host OVH, and the October 2016 Dyn cyberattack. According to a chat log between Anna-senpai and Robert Coelho, Mirai was named after the 2011 TV anime series Mirai Nikki. The software was initially used by the creators to DDoS Minecraft servers and companies offering DDoS protection to Minecraft servers, with the authors using Mirai to operate a protection racket. The source code for Mirai was subsequently published on Hack Forums as open-source. Since the source code was published, the techniques have been adapted in other malware projects.\"),\n",
    "\n",
    "    (\"Network_Security_Services\", \"type\", \"Software\"),\n",
    "    (\"Network_Security_Services\", \"label\", \"Network Security Services\"),\n",
    "    (\"Network_Security_Services\", \"abstract\", \"Network Security Services (NSS) is a collection of cryptographic computer libraries designed to support cross-platform development of security-enabled client and server applications with optional support for hardware TLS/SSL acceleration on the server side and hardware smart cards on the client side. NSS provides a complete open-source implementation of cryptographic libraries supporting Transport Layer Security (TLS) / Secure Sockets Layer (SSL) and S/MIME. NSS releases prior to version 3.14 are tri-licensed under the Mozilla Public License 1.1, the GNU General Public License, and the GNU Lesser General Public License. Since release 3.14, NSS releases are licensed under GPL-compatible Mozilla Public License 2.0.\"),\n",
    "    (\"Network_Security_Services\", \"developer\" , \"Mozilla\"),\n",
    "\n",
    "    (\"MS_Antivirus_(malware)\", \"type\", \"Software\"),\n",
    "    (\"MS_Antivirus_(malware)\", \"label\", \"MS Antivirus (malware)\"),\n",
    "    (\"MS_Antivirus_(malware)\", \"abstract\", \"MS Antivirus (also known as Spyware Protect 2009 and Antivirus XP 2008/Antivirus2009/SecurityTool/etc) is a scareware rogue anti-virus which purports to remove virus infections found on a computer running Microsoft Windows. It attempts to scam the user into purchasing a 'full version' of the software. The company and the individuals behind Bakasoftware operated under other different 'company' names, including Innovagest2000, Innovative Marketing Ukraine, Pandora Software, LocusSoftware, etc.\"),\n",
    "\n",
    "    (\"CyberCIEGE\", \"type\", \"Software\"),\n",
    "    (\"CyberCIEGE\", \"label\", \"CyberCIEGE\"),\n",
    "    (\"CyberCIEGE\", \"abstract\", \"CyberCIEGE is a serious game designed to teach network security concepts. Its development was sponsored by the U.S. Navy, and it is used as a training tool by agencies of the U.S. government, universities and community colleges. CyberCIEGE covers a broad range of cybersecurity topics. Players purchase and configure computers and network devices to keep demanding users happy (e.g., by providing Internet access) all while protecting assets from a variety of attacks. The game includes a number of different scenarios, some of which focus on basic training and awareness, others on more advanced network security concepts.\"),\n",
    "\n",
    "    (\"CyberExtension\", \"type\", \"Software\"),\n",
    "    (\"CyberExtension\", \"label\", \"CyberExtension\"),\n",
    "    (\"CyberExtension\", \"abstract\", \"CyberExtension is a managed virtual learning environment built by Right Reason Technologies (RRT) that is designed to be used as an online extension of a school district in the USA. The system is currently used for homebound students, credit recovery and supplemental coursework, and has been successfully deployed to help students with 'school phobia' and students undergoing medical treatment.\"),\n",
    "\n",
    "    (\"CyberGladiators\", \"type\", \"Software\"),\n",
    "    (\"CyberGladiators\", \"label\", \"CyberGladiators\"),\n",
    "    (\"CyberGladiators\", \"abstract\", \"CyberGladiators is a 1996 fighting game developed by K.A.A. (label of Dynamix) and published by Sierra On-Line. The game is divided of fights between members of the Quaaflax Alliance and members of the terrorist organization Gy Djin. All characters have been transformed by a cosmic storm into CyberGladiators.\"),\n",
    "\n",
    "    (\"CyberLink_MediaShow\", \"type\", \"Software\"),\n",
    "    (\"CyberLink_MediaShow\", \"label\", \"CyberLink MediaShow\"),\n",
    "    (\"CyberLink_MediaShow\", \"abstract\", \"CyberLink MediaShow is a software application for organizing, editing and sharing photos and videos, published by CyberLink Corporation. MediaShow allows users to import video and photo files from digital cameras, phones, and camcorders. Its main competitors are Arcsoft MediaImpression, Adobe Bridge, Roxio Creator and Google Picasa.\"),\n",
    "\n",
    "    (\"CyberQuery\", \"type\", \"Software\"),\n",
    "    (\"CyberQuery\", \"label\", \"CyberQuery\"),\n",
    "    (\"CyberQuery\", \"abstract\", \"Cyberquery is a software product of Cyberscience Corporation Inc. Originally developed for data handling and analysis on Data General AOS and AOS/VS minicomputers, then the available platforms for Cyberquery were extended to all major UNIX platforms, OpenVMS, and Microsoft Windows.\"),\n",
    "\n",
    "    (\"CyberStrike\", \"type\", \"Software\"),\n",
    "    (\"CyberStrike\", \"label\", \"CyberStrike\"),\n",
    "    (\"CyberStrike\", \"abstract\", \"CyberStrike is a futuristic 3D combat online game by Simutronics, involving team combat between customizable mechs, each of which is controlled by a different player. Initially exclusive to the GEnie online service, it opened in February 1993, and later that year it caused Computer Gaming World to create the new category of 'Online Game of the Year' so it could be awarded to CyberStrike. In 1994, it was offered in stores by MicroProse. In 1997, a sequel, Cyberstrike 2, was announced as a joint project between Simutronics and Sony's 989 Studios.\")\n",
    "]\n",
    "part_indices_added = {\n",
    "    \"Part 1\": range(0, 3),   # Scooby-Doo_and_the_Cyber_Chase_(video_game)\n",
    "    \"Part 2\": range(3, 7),   # Mirai_(malware) (has an extra 'target' attribute)\n",
    "    \"Part 3\": range(7, 10),  # Network_Security_Services\n",
    "    \"Part 4\": range(10, 13), # MS_Antivirus_(malware)\n",
    "    \"Part 5\": range(13, 16), # CyberCIEGE\n",
    "    \"Part 6\": range(16, 19), # CyberExtension\n",
    "    \"Part 7\": range(19, 22), # CyberGladiators\n",
    "    \"Part 8\": range(22, 25), # CyberLink_MediaShow\n",
    "    \"Part 9\": range(25, 28), # CyberQuery\n",
    "    \"Part 10\": range(28, 31) # CyberStrike\n",
    "}\n",
    "\n",
    "part_names_added = list(part_indices_added.keys())\n"
   ]
  },
  {
   "cell_type": "code",
   "execution_count": null,
   "id": "82efe010-72fd-4858-b633-722684f9b2bc",
   "metadata": {
    "colab": {
     "base_uri": "https://localhost:8080/",
     "height": 1000
    },
    "id": "82efe010-72fd-4858-b633-722684f9b2bc",
    "outputId": "321266f5-1fea-4d60-f9a0-a5edd8e3e4fa"
   },
   "outputs": [],
   "source": [
    "visualize_graph_with_chains(kg, part_indices)"
   ]
  },
  {
   "cell_type": "code",
   "execution_count": null,
   "id": "f8ff5dfc",
   "metadata": {
    "colab": {
     "base_uri": "https://localhost:8080/"
    },
    "id": "f8ff5dfc",
    "outputId": "5592545f-a820-4b5d-94ca-e7f0d648d512"
   },
   "outputs": [],
   "source": [
    "temp = 1\n",
    "original_answer_str, original_answer_embedding = get_answer_and_embedding(question, temp, graph)\n",
    "print(original_answer_str)"
   ]
  },
  {
   "cell_type": "code",
   "execution_count": null,
   "id": "cfe7455e",
   "metadata": {
    "colab": {
     "base_uri": "https://localhost:8080/"
    },
    "id": "cfe7455e",
    "outputId": "577f402c-e44a-41b7-d0b5-731714243775",
    "scrolled": true
   },
   "outputs": [],
   "source": [
    "coeff = calculate_coefficients_print_Temerature(\n",
    "    temp= temp,\n",
    "    original=original,\n",
    "    kg=kg_added,\n",
    "    part_names=part_names_added,\n",
    "    question=question,\n",
    "    original_answer_embedding=original_answer_embedding,\n",
    "    original_answer_str = original_answer_str,\n",
    ")"
   ]
  },
  {
   "cell_type": "code",
   "execution_count": null,
   "id": "d2d95232",
   "metadata": {
    "colab": {
     "base_uri": "https://localhost:8080/"
    },
    "id": "d2d95232",
    "outputId": "7b684455-dd23-4061-bb68-5add37e2239d"
   },
   "outputs": [],
   "source": [
    "coeff"
   ]
  },
  {
   "cell_type": "code",
   "execution_count": null,
   "id": "pE23oLZvzPdR",
   "metadata": {
    "colab": {
     "base_uri": "https://localhost:8080/",
     "height": 739
    },
    "id": "pE23oLZvzPdR",
    "outputId": "943da299-1188-49fa-bb04-a742016a97da"
   },
   "outputs": [],
   "source": [
    "# Define the coefficient arrays\n",
    "coeff_original = np.array([ 0.074, -0.349,  0.278, -0.24 , -0.256,  0.23 ,  0.057, -0.081,\n",
    "        0.373, -0.109])\n",
    "coeff_added = np.array([ 0.0770485 ,  0.05072621, -0.14007454, -0.4948971 ,  0.0377721 ,\n",
    "        0.33359353,  0.10208947,  0.06688596,  0.29672679,  0.24337406])\n",
    "# Call the function\n",
    "plot_knowledge_graph_explainability_compare(\n",
    "    kg_original= kg,\n",
    "    coeff_original=coeff_original,\n",
    "    part_indices_original=part_indices,\n",
    "    kg_added=kg_added,\n",
    "    coeff_added=coeff_added,\n",
    "    part_indices_added=part_indices_added\n",
    ")"
   ]
  },
  {
   "cell_type": "code",
   "execution_count": null,
   "id": "43ba7084",
   "metadata": {
    "colab": {
     "base_uri": "https://localhost:8080/"
    },
    "id": "43ba7084",
    "outputId": "90ebe014-48ed-42e0-ba9a-33ece3c1f449"
   },
   "outputs": [],
   "source": [
    "jaccard_index = calculate_jaccard_index(coeff_original, coeff_added)\n",
    "print(\"Jaccard Index:\", jaccard_index)"
   ]
  },
  {
   "cell_type": "markdown",
   "id": "134584ec-24d9-4094-b18a-b4200fa89ac8",
   "metadata": {
    "id": "134584ec-24d9-4094-b18a-b4200fa89ac8"
   },
   "source": [
    "## Stability: Evaluate the explanation for \"what is Network_Security_Services?\" (Temp 0) by introducing small perturbations in the input or graph structure -(Network_Security_Services) → (developer) → (Mozilla)- and assessing the consistency of generated explanations."
   ]
  },
  {
   "cell_type": "code",
   "execution_count": null,
   "id": "c8235c99-463e-45b0-b4c0-a593b339731e",
   "metadata": {
    "colab": {
     "base_uri": "https://localhost:8080/"
    },
    "id": "c8235c99-463e-45b0-b4c0-a593b339731e",
    "outputId": "ead2ad62-03a9-4f64-8dd1-6243a3bb2c25"
   },
   "outputs": [],
   "source": [
    "temp = 0\n",
    "original_answer_str, original_answer_embedding = get_answer_and_embedding(question, temp, graph)\n",
    "print(f\"Original answer: {original_answer_str}\")"
   ]
  },
  {
   "cell_type": "code",
   "execution_count": null,
   "id": "81dac721-d16e-4a63-9db3-cc8d753245ab",
   "metadata": {
    "colab": {
     "base_uri": "https://localhost:8080/"
    },
    "id": "81dac721-d16e-4a63-9db3-cc8d753245ab",
    "outputId": "e6eddd16-02ea-4bf2-ece9-e716d5a52d1a"
   },
   "outputs": [],
   "source": [
    "coeff = calculate_coefficients_print_Temerature(\n",
    "    temp= temp,\n",
    "    original=original,\n",
    "    kg=kg_added,\n",
    "    part_names=part_names_added,\n",
    "    question=question,\n",
    "    original_answer_embedding=original_answer_embedding,\n",
    "    original_answer_str = original_answer_str,\n",
    ")"
   ]
  },
  {
   "cell_type": "code",
   "execution_count": null,
   "id": "305cf246-0faf-45b4-9f89-2144985135c1",
   "metadata": {
    "colab": {
     "base_uri": "https://localhost:8080/"
    },
    "id": "305cf246-0faf-45b4-9f89-2144985135c1",
    "outputId": "d17512de-c58a-4b91-aac5-7f6fd70d7736"
   },
   "outputs": [],
   "source": [
    "coeff"
   ]
  },
  {
   "cell_type": "code",
   "execution_count": null,
   "id": "632120f7-faee-4c32-840a-211a80295f3b",
   "metadata": {
    "colab": {
     "base_uri": "https://localhost:8080/",
     "height": 739
    },
    "id": "632120f7-faee-4c32-840a-211a80295f3b",
    "outputId": "a9a4b336-d60f-4b19-c55a-47c308331111"
   },
   "outputs": [],
   "source": [
    "# Define the coefficient arrays\n",
    "coeff_original = np.array([ 0.,  0.,  1.,  0., -0.,  0.,  0.,  0.,  0., -0.])\n",
    "coeff_added = np.array([-0.31144466, -0.01937649,  0.57757609, -0.46581808,  0.09925493,\n",
    "       -0.30095422,  0.00213296,  0.08485401,  0.14835597, -0.01544272])\n",
    "# Call the function\n",
    "plot_knowledge_graph_explainability_compare(\n",
    "    kg_original= kg,\n",
    "    coeff_original=coeff_original,\n",
    "    part_indices_original=part_indices,\n",
    "    kg_added=kg_added,\n",
    "    coeff_added=coeff_added,\n",
    "    part_indices_added=part_indices_added\n",
    ")"
   ]
  },
  {
   "cell_type": "code",
   "execution_count": null,
   "id": "ad48a5dc-e66d-407d-8c34-eef80b1ad333",
   "metadata": {
    "colab": {
     "base_uri": "https://localhost:8080/"
    },
    "id": "ad48a5dc-e66d-407d-8c34-eef80b1ad333",
    "outputId": "da535ac0-4d2f-471f-8661-4e33a097af2f"
   },
   "outputs": [],
   "source": [
    "jaccard_index = calculate_jaccard_index(coeff_original, coeff_added)\n",
    "print(\"Jaccard Index:\", jaccard_index)"
   ]
  },
  {
   "cell_type": "markdown",
   "id": "fb128d28-2f48-4ce9-8e62-10f082c5b071",
   "metadata": {
    "id": "fb128d28-2f48-4ce9-8e62-10f082c5b071"
   },
   "source": [
    "## Stability: Evaluate the explanation for \"what is Network_Security_Services?\" (Temp 1) by introducing small perturbations in the input or graph structure -(MS_Antivirus_(malware)) → (developer) → (Bakasoftware)- and assessing the consistency of generated explanations."
   ]
  },
  {
   "cell_type": "code",
   "execution_count": null,
   "id": "912ad204",
   "metadata": {
    "id": "912ad204"
   },
   "outputs": [],
   "source": [
    "kg_added = [\n",
    "    (\"Scooby-Doo_and_the_Cyber_Chase_(video_game)\", \"type\", \"Software\"),\n",
    "    (\"Scooby-Doo_and_the_Cyber_Chase_(video_game)\", \"label\", \"Scooby-Doo and the Cyber Chase (video game)\"),\n",
    "    (\"Scooby-Doo_and_the_Cyber_Chase_(video_game)\", \"abstract\", \"Scooby-Doo and the Cyber Chase is a Scooby-Doo video game based on the Warner Brothers film Scooby-Doo and the Cyber Chase. The game was released for the PlayStation and Game Boy Advance in 2001. The PlayStation version became a 'Greatest Hits' title in 2003.\"),\n",
    "\n",
    "    (\"Mirai_(malware)\", \"type\", \"Software\"),\n",
    "    (\"Mirai_(malware)\", \"label\", \"Mirai (malware)\"),\n",
    "    (\"Mirai_(malware)\", \"abstract\", \"Mirai (from the Japanese word for 'future', 未来) is a malware that turns networked devices running Linux into remotely controlled bots that can be used as part of a botnet in large-scale network attacks. It primarily targets online consumer devices such as IP cameras and home routers. The Mirai botnet was first found in August 2016 by MalwareMustDie, a white hat malware research group, and has been used in some of the largest and most disruptive distributed denial of service (DDoS) attacks, including an attack on 20 September 2016 on computer security journalist Brian Krebs' website, an attack on French web host OVH, and the October 2016 Dyn cyberattack. According to a chat log between Anna-senpai and Robert Coelho, Mirai was named after the 2011 TV anime series Mirai Nikki. The software was initially used by the creators to DDoS Minecraft servers and companies offering DDoS protection to Minecraft servers, with the authors using Mirai to operate a protection racket. The source code for Mirai was subsequently published on Hack Forums as open-source. Since the source code was published, the techniques have been adapted in other malware projects.\"),\n",
    "\n",
    "    (\"Network_Security_Services\", \"type\", \"Software\"),\n",
    "    (\"Network_Security_Services\", \"label\", \"Network Security Services\"),\n",
    "    (\"Network_Security_Services\", \"abstract\", \"Network Security Services (NSS) is a collection of cryptographic computer libraries designed to support cross-platform development of security-enabled client and server applications with optional support for hardware TLS/SSL acceleration on the server side and hardware smart cards on the client side. NSS provides a complete open-source implementation of cryptographic libraries supporting Transport Layer Security (TLS) / Secure Sockets Layer (SSL) and S/MIME. NSS releases prior to version 3.14 are tri-licensed under the Mozilla Public License 1.1, the GNU General Public License, and the GNU Lesser General Public License. Since release 3.14, NSS releases are licensed under GPL-compatible Mozilla Public License 2.0.\"),\n",
    "\n",
    "    (\"MS_Antivirus_(malware)\", \"type\", \"Software\"),\n",
    "    (\"MS_Antivirus_(malware)\", \"label\", \"MS Antivirus (malware)\"),\n",
    "    (\"MS_Antivirus_(malware)\", \"abstract\", \"MS Antivirus (also known as Spyware Protect 2009 and Antivirus XP 2008/Antivirus2009/SecurityTool/etc) is a scareware rogue anti-virus which purports to remove virus infections found on a computer running Microsoft Windows. It attempts to scam the user into purchasing a 'full version' of the software. The company and the individuals behind Bakasoftware operated under other different 'company' names, including Innovagest2000, Innovative Marketing Ukraine, Pandora Software, LocusSoftware, etc.\"),\n",
    "    (\"MS_Antivirus_(malware)\",\"developer\" ,\"Bakasoftware\"),\n",
    "\n",
    "    (\"CyberCIEGE\", \"type\", \"Software\"),\n",
    "    (\"CyberCIEGE\", \"label\", \"CyberCIEGE\"),\n",
    "    (\"CyberCIEGE\", \"abstract\", \"CyberCIEGE is a serious game designed to teach network security concepts. Its development was sponsored by the U.S. Navy, and it is used as a training tool by agencies of the U.S. government, universities and community colleges. CyberCIEGE covers a broad range of cybersecurity topics. Players purchase and configure computers and network devices to keep demanding users happy (e.g., by providing Internet access) all while protecting assets from a variety of attacks. The game includes a number of different scenarios, some of which focus on basic training and awareness, others on more advanced network security concepts.\"),\n",
    "\n",
    "    (\"CyberExtension\", \"type\", \"Software\"),\n",
    "    (\"CyberExtension\", \"label\", \"CyberExtension\"),\n",
    "    (\"CyberExtension\", \"abstract\", \"CyberExtension is a managed virtual learning environment built by Right Reason Technologies (RRT) that is designed to be used as an online extension of a school district in the USA. The system is currently used for homebound students, credit recovery and supplemental coursework, and has been successfully deployed to help students with 'school phobia' and students undergoing medical treatment.\"),\n",
    "\n",
    "    (\"CyberGladiators\", \"type\", \"Software\"),\n",
    "    (\"CyberGladiators\", \"label\", \"CyberGladiators\"),\n",
    "    (\"CyberGladiators\", \"abstract\", \"CyberGladiators is a 1996 fighting game developed by K.A.A. (label of Dynamix) and published by Sierra On-Line. The game is divided of fights between members of the Quaaflax Alliance and members of the terrorist organization Gy Djin. All characters have been transformed by a cosmic storm into CyberGladiators.\"),\n",
    "\n",
    "    (\"CyberLink_MediaShow\", \"type\", \"Software\"),\n",
    "    (\"CyberLink_MediaShow\", \"label\", \"CyberLink MediaShow\"),\n",
    "    (\"CyberLink_MediaShow\", \"abstract\", \"CyberLink MediaShow is a software application for organizing, editing and sharing photos and videos, published by CyberLink Corporation. MediaShow allows users to import video and photo files from digital cameras, phones, and camcorders. Its main competitors are Arcsoft MediaImpression, Adobe Bridge, Roxio Creator and Google Picasa.\"),\n",
    "\n",
    "    (\"CyberQuery\", \"type\", \"Software\"),\n",
    "    (\"CyberQuery\", \"label\", \"CyberQuery\"),\n",
    "    (\"CyberQuery\", \"abstract\", \"Cyberquery is a software product of Cyberscience Corporation Inc. Originally developed for data handling and analysis on Data General AOS and AOS/VS minicomputers, then the available platforms for Cyberquery were extended to all major UNIX platforms, OpenVMS, and Microsoft Windows.\"),\n",
    "\n",
    "    (\"CyberStrike\", \"type\", \"Software\"),\n",
    "    (\"CyberStrike\", \"label\", \"CyberStrike\"),\n",
    "    (\"CyberStrike\", \"abstract\", \"CyberStrike is a futuristic 3D combat online game by Simutronics, involving team combat between customizable mechs, each of which is controlled by a different player. Initially exclusive to the GEnie online service, it opened in February 1993, and later that year it caused Computer Gaming World to create the new category of 'Online Game of the Year' so it could be awarded to CyberStrike. In 1994, it was offered in stores by MicroProse. In 1997, a sequel, Cyberstrike 2, was announced as a joint project between Simutronics and Sony's 989 Studios.\")\n",
    "]\n",
    "part_indices_added = {\n",
    "    \"Part 1\": range(0, 3),   # Scooby-Doo_and_the_Cyber_Chase_(video_game) (3 attributes)\n",
    "    \"Part 2\": range(3, 6),   # Mirai_(malware) (3 attributes)\n",
    "    \"Part 3\": range(6, 9),   # Network_Security_Services (3 attributes)\n",
    "    \"Part 4\": range(9, 13),  # MS_Antivirus_(malware) (4 attributes, including developer)\n",
    "    \"Part 5\": range(13, 16), # CyberCIEGE (3 attributes)\n",
    "    \"Part 6\": range(16, 19), # CyberExtension (3 attributes)\n",
    "    \"Part 7\": range(19, 22), # CyberGladiators (3 attributes)\n",
    "    \"Part 8\": range(22, 25), # CyberLink_MediaShow (3 attributes)\n",
    "    \"Part 9\": range(25, 28), # CyberQuery (3 attributes)\n",
    "    \"Part 10\": range(28, 31) # CyberStrike (3 attributes)\n",
    "}\n",
    "\n",
    "part_names_added = list(part_indices_added.keys())\n"
   ]
  },
  {
   "cell_type": "code",
   "execution_count": null,
   "id": "97900afa-6b0a-46fe-910f-80b3e4a959f1",
   "metadata": {
    "colab": {
     "base_uri": "https://localhost:8080/",
     "height": 1000
    },
    "id": "97900afa-6b0a-46fe-910f-80b3e4a959f1",
    "outputId": "fc5f04fd-4c9c-49db-fb34-c2d9ae47f47f"
   },
   "outputs": [],
   "source": [
    "visualize_graph_with_chains(kg, part_indices)"
   ]
  },
  {
   "cell_type": "code",
   "execution_count": null,
   "id": "7aee38df",
   "metadata": {
    "colab": {
     "base_uri": "https://localhost:8080/"
    },
    "id": "7aee38df",
    "outputId": "b8d8df42-557c-4bf8-c220-45dbc9880d61"
   },
   "outputs": [],
   "source": [
    "temp = 1\n",
    "original_answer_str, original_answer_embedding = get_answer_and_embedding(question, temp, graph)\n",
    "print(original_answer_str)"
   ]
  },
  {
   "cell_type": "code",
   "execution_count": null,
   "id": "63bb4bfd",
   "metadata": {
    "colab": {
     "base_uri": "https://localhost:8080/"
    },
    "id": "63bb4bfd",
    "outputId": "3fdf41eb-b7b7-4ee3-ea21-87058008a79e",
    "scrolled": true
   },
   "outputs": [],
   "source": [
    "temp= 1\n",
    "coeff = calculate_coefficients_print_Temerature(\n",
    "    temp= temp,\n",
    "    original=original,\n",
    "    kg=kg_added,\n",
    "    part_names=part_names_added,\n",
    "    question=question,\n",
    "    original_answer_embedding=original_answer_embedding,\n",
    "    original_answer_str = original_answer_str,\n",
    ")"
   ]
  },
  {
   "cell_type": "code",
   "execution_count": null,
   "id": "478c1883",
   "metadata": {
    "colab": {
     "base_uri": "https://localhost:8080/"
    },
    "id": "478c1883",
    "outputId": "627541e1-62d9-433e-be84-fed33b702a01"
   },
   "outputs": [],
   "source": [
    "coeff"
   ]
  },
  {
   "cell_type": "code",
   "execution_count": null,
   "id": "600b754a",
   "metadata": {
    "colab": {
     "base_uri": "https://localhost:8080/",
     "height": 739
    },
    "id": "600b754a",
    "outputId": "ec98e661-6d43-4bc4-eeb6-f9f27acd9c5d"
   },
   "outputs": [],
   "source": [
    "# Define the coefficient arrays\n",
    "coeff_original = np.array([ 0.074, -0.349,  0.278, -0.24 , -0.256,  0.23 ,  0.057, -0.081,\n",
    "        0.373, -0.109])\n",
    "coeff_added = np.array([-0.06557593, -0.28650022,  0.25216548,  0.13783945,  0.04449362,\n",
    "       -0.01817797,  0.13227846,  0.05871761, -0.20607784,  0.35022204])\n",
    "# Call the function\n",
    "plot_knowledge_graph_explainability_compare(\n",
    "    kg_original= kg,\n",
    "    coeff_original=coeff_original,\n",
    "    part_indices_original=part_indices,\n",
    "    kg_added=kg_added,\n",
    "    coeff_added=coeff_added,\n",
    "    part_indices_added=part_indices_added\n",
    ")"
   ]
  },
  {
   "cell_type": "code",
   "execution_count": null,
   "id": "e73c5076",
   "metadata": {
    "colab": {
     "base_uri": "https://localhost:8080/"
    },
    "id": "e73c5076",
    "outputId": "02c86812-7f2e-494c-aada-2007c7541515"
   },
   "outputs": [],
   "source": [
    "jaccard_index = calculate_jaccard_index(coeff_original, coeff_added)\n",
    "print(\"Jaccard Index:\", jaccard_index)"
   ]
  },
  {
   "cell_type": "markdown",
   "id": "f30499c2-b790-41f0-b1c9-81c10cae9e14",
   "metadata": {
    "id": "f30499c2-b790-41f0-b1c9-81c10cae9e14"
   },
   "source": [
    "## Stability: Evaluate the explanation for \"what is Network_Security_Services?\" (Temp 0) by introducing small perturbations in the input or graph structure -(MS_Antivirus_(malware)) → (developer) → (Bakasoftware)- and assessing the consistency of generated explanations."
   ]
  },
  {
   "cell_type": "code",
   "execution_count": null,
   "id": "d5d17706-e1d8-4604-9d07-cde27be6900d",
   "metadata": {
    "colab": {
     "base_uri": "https://localhost:8080/"
    },
    "id": "d5d17706-e1d8-4604-9d07-cde27be6900d",
    "outputId": "1b50f56b-633a-4d69-8dba-0c8c91b34c34"
   },
   "outputs": [],
   "source": [
    "temp = 0\n",
    "original_answer_str, original_answer_embedding = get_answer_and_embedding(question, temp, graph)\n",
    "print(f\"Original answer: {original_answer_str}\")"
   ]
  },
  {
   "cell_type": "code",
   "execution_count": null,
   "id": "daca39ea-97fa-4313-84f6-8552b7e0a6eb",
   "metadata": {
    "colab": {
     "base_uri": "https://localhost:8080/"
    },
    "id": "daca39ea-97fa-4313-84f6-8552b7e0a6eb",
    "outputId": "615df53e-6555-4caa-e898-e24e71a65544"
   },
   "outputs": [],
   "source": [
    "coeff = calculate_coefficients_print_Temerature(\n",
    "    temp= temp,\n",
    "    original=original,\n",
    "    kg=kg_added,\n",
    "    part_names=part_names_added,\n",
    "    question=question,\n",
    "    original_answer_embedding=original_answer_embedding,\n",
    "    original_answer_str = original_answer_str,\n",
    ")"
   ]
  },
  {
   "cell_type": "code",
   "execution_count": null,
   "id": "51aa3848-8c37-41f7-8733-d3cdb9f2587a",
   "metadata": {
    "colab": {
     "base_uri": "https://localhost:8080/"
    },
    "id": "51aa3848-8c37-41f7-8733-d3cdb9f2587a",
    "outputId": "6447cfe7-c13f-49c7-d32a-4929515148a3"
   },
   "outputs": [],
   "source": [
    "coeff"
   ]
  },
  {
   "cell_type": "code",
   "execution_count": null,
   "id": "9ead8f11-920b-42f3-847b-a2bf35aadfaa",
   "metadata": {
    "colab": {
     "base_uri": "https://localhost:8080/",
     "height": 739
    },
    "id": "9ead8f11-920b-42f3-847b-a2bf35aadfaa",
    "outputId": "a4e602fe-2ba7-45f6-f584-1f4553232bbe"
   },
   "outputs": [],
   "source": [
    "# Define the coefficient arrays\n",
    "coeff_original = np.array([ 0.,  0.,  1.,  0., -0.,  0.,  0.,  0.,  0., -0.])\n",
    "coeff_added = np.array([-4.09187947e-06,  1.69596629e-05,  9.99908412e-01,  1.48769811e-05,\n",
    "        2.83603444e-06, -1.32556869e-05,  2.66331559e-05,  1.91159129e-05,\n",
    "       -1.92008939e-05,  1.31978667e-05])\n",
    "# Call the function\n",
    "plot_knowledge_graph_explainability_compare(\n",
    "    kg_original= kg,\n",
    "    coeff_original=coeff_original,\n",
    "    part_indices_original=part_indices,\n",
    "    kg_added=kg_added,\n",
    "    coeff_added=coeff_added,\n",
    "    part_indices_added=part_indices_added\n",
    ")"
   ]
  },
  {
   "cell_type": "code",
   "execution_count": null,
   "id": "41f62b56-39b5-4611-95c1-1975a92e962e",
   "metadata": {
    "colab": {
     "base_uri": "https://localhost:8080/"
    },
    "id": "41f62b56-39b5-4611-95c1-1975a92e962e",
    "outputId": "3f8638f3-1dfc-4df3-de6f-f1bbeddebaab"
   },
   "outputs": [],
   "source": [
    "jaccard_index = calculate_jaccard_index(coeff_original, coeff_added)\n",
    "print(\"Jaccard Index:\", jaccard_index)"
   ]
  },
  {
   "cell_type": "markdown",
   "id": "226e33f3-87e6-47c4-8bac-09f704f11590",
   "metadata": {
    "id": "226e33f3-87e6-47c4-8bac-09f704f11590"
   },
   "source": [
    "## Stability: Evaluate the explanation for \"what is Network_Security_Services?\" (Temp 1) by introducing small perturbations in the input or graph structure -(CyberCIEGE) → (developer) → (Naval_Postgraduate_School)- and assessing the consistency of generated explanations."
   ]
  },
  {
   "cell_type": "code",
   "execution_count": null,
   "id": "81d38894",
   "metadata": {
    "id": "81d38894"
   },
   "outputs": [],
   "source": [
    "kg_added = [\n",
    "    (\"Scooby-Doo_and_the_Cyber_Chase_(video_game)\", \"type\", \"Software\"),\n",
    "    (\"Scooby-Doo_and_the_Cyber_Chase_(video_game)\", \"label\", \"Scooby-Doo and the Cyber Chase (video game)\"),\n",
    "    (\"Scooby-Doo_and_the_Cyber_Chase_(video_game)\", \"abstract\", \"Scooby-Doo and the Cyber Chase is a Scooby-Doo video game based on the Warner Brothers film Scooby-Doo and the Cyber Chase. The game was released for the PlayStation and Game Boy Advance in 2001. The PlayStation version became a 'Greatest Hits' title in 2003.\"),\n",
    "\n",
    "    (\"Mirai_(malware)\", \"type\", \"Software\"),\n",
    "    (\"Mirai_(malware)\", \"label\", \"Mirai (malware)\"),\n",
    "    (\"Mirai_(malware)\", \"abstract\", \"Mirai (from the Japanese word for 'future', 未来) is a malware that turns networked devices running Linux into remotely controlled bots that can be used as part of a botnet in large-scale network attacks. It primarily targets online consumer devices such as IP cameras and home routers. The Mirai botnet was first found in August 2016 by MalwareMustDie, a white hat malware research group, and has been used in some of the largest and most disruptive distributed denial of service (DDoS) attacks, including an attack on 20 September 2016 on computer security journalist Brian Krebs' website, an attack on French web host OVH, and the October 2016 Dyn cyberattack. According to a chat log between Anna-senpai and Robert Coelho, Mirai was named after the 2011 TV anime series Mirai Nikki. The software was initially used by the creators to DDoS Minecraft servers and companies offering DDoS protection to Minecraft servers, with the authors using Mirai to operate a protection racket. The source code for Mirai was subsequently published on Hack Forums as open-source. Since the source code was published, the techniques have been adapted in other malware projects.\"),\n",
    "\n",
    "    (\"Network_Security_Services\", \"type\", \"Software\"),\n",
    "    (\"Network_Security_Services\", \"label\", \"Network Security Services\"),\n",
    "    (\"Network_Security_Services\", \"abstract\", \"Network Security Services (NSS) is a collection of cryptographic computer libraries designed to support cross-platform development of security-enabled client and server applications with optional support for hardware TLS/SSL acceleration on the server side and hardware smart cards on the client side. NSS provides a complete open-source implementation of cryptographic libraries supporting Transport Layer Security (TLS) / Secure Sockets Layer (SSL) and S/MIME. NSS releases prior to version 3.14 are tri-licensed under the Mozilla Public License 1.1, the GNU General Public License, and the GNU Lesser General Public License. Since release 3.14, NSS releases are licensed under GPL-compatible Mozilla Public License 2.0.\"),\n",
    "\n",
    "    (\"MS_Antivirus_(malware)\", \"type\", \"Software\"),\n",
    "    (\"MS_Antivirus_(malware)\", \"label\", \"MS Antivirus (malware)\"),\n",
    "    (\"MS_Antivirus_(malware)\", \"abstract\", \"MS Antivirus (also known as Spyware Protect 2009 and Antivirus XP 2008/Antivirus2009/SecurityTool/etc) is a scareware rogue anti-virus which purports to remove virus infections found on a computer running Microsoft Windows. It attempts to scam the user into purchasing a 'full version' of the software. The company and the individuals behind Bakasoftware operated under other different 'company' names, including Innovagest2000, Innovative Marketing Ukraine, Pandora Software, LocusSoftware, etc.\"),\n",
    "\n",
    "    (\"CyberCIEGE\", \"type\", \"Software\"),\n",
    "    (\"CyberCIEGE\", \"label\", \"CyberCIEGE\"),\n",
    "    (\"CyberCIEGE\", \"abstract\", \"CyberCIEGE is a serious game designed to teach network security concepts. Its development was sponsored by the U.S. Navy, and it is used as a training tool by agencies of the U.S. government, universities and community colleges. CyberCIEGE covers a broad range of cybersecurity topics. Players purchase and configure computers and network devices to keep demanding users happy (e.g., by providing Internet access) all while protecting assets from a variety of attacks. The game includes a number of different scenarios, some of which focus on basic training and awareness, others on more advanced network security concepts.\"),\n",
    "    (\"CyberCIEGE\",\"developer\", \"Naval_Postgraduate_School\"),\n",
    "\n",
    "    (\"CyberExtension\", \"type\", \"Software\"),\n",
    "    (\"CyberExtension\", \"label\", \"CyberExtension\"),\n",
    "    (\"CyberExtension\", \"abstract\", \"CyberExtension is a managed virtual learning environment built by Right Reason Technologies (RRT) that is designed to be used as an online extension of a school district in the USA. The system is currently used for homebound students, credit recovery and supplemental coursework, and has been successfully deployed to help students with 'school phobia' and students undergoing medical treatment.\"),\n",
    "\n",
    "    (\"CyberGladiators\", \"type\", \"Software\"),\n",
    "    (\"CyberGladiators\", \"label\", \"CyberGladiators\"),\n",
    "    (\"CyberGladiators\", \"abstract\", \"CyberGladiators is a 1996 fighting game developed by K.A.A. (label of Dynamix) and published by Sierra On-Line. The game is divided of fights between members of the Quaaflax Alliance and members of the terrorist organization Gy Djin. All characters have been transformed by a cosmic storm into CyberGladiators.\"),\n",
    "\n",
    "    (\"CyberLink_MediaShow\", \"type\", \"Software\"),\n",
    "    (\"CyberLink_MediaShow\", \"label\", \"CyberLink MediaShow\"),\n",
    "    (\"CyberLink_MediaShow\", \"abstract\", \"CyberLink MediaShow is a software application for organizing, editing and sharing photos and videos, published by CyberLink Corporation. MediaShow allows users to import video and photo files from digital cameras, phones, and camcorders. Its main competitors are Arcsoft MediaImpression, Adobe Bridge, Roxio Creator and Google Picasa.\"),\n",
    "\n",
    "    (\"CyberQuery\", \"type\", \"Software\"),\n",
    "    (\"CyberQuery\", \"label\", \"CyberQuery\"),\n",
    "    (\"CyberQuery\", \"abstract\", \"Cyberquery is a software product of Cyberscience Corporation Inc. Originally developed for data handling and analysis on Data General AOS and AOS/VS minicomputers, then the available platforms for Cyberquery were extended to all major UNIX platforms, OpenVMS, and Microsoft Windows.\"),\n",
    "\n",
    "    (\"CyberStrike\", \"type\", \"Software\"),\n",
    "    (\"CyberStrike\", \"label\", \"CyberStrike\"),\n",
    "    (\"CyberStrike\", \"abstract\", \"CyberStrike is a futuristic 3D combat online game by Simutronics, involving team combat between customizable mechs, each of which is controlled by a different player. Initially exclusive to the GEnie online service, it opened in February 1993, and later that year it caused Computer Gaming World to create the new category of 'Online Game of the Year' so it could be awarded to CyberStrike. In 1994, it was offered in stores by MicroProse. In 1997, a sequel, Cyberstrike 2, was announced as a joint project between Simutronics and Sony's 989 Studios.\")\n",
    "]\n",
    "part_indices_added = {\n",
    "    \"Part 1\": range(0, 3),   # Scooby-Doo_and_the_Cyber_Chase_(video_game) (3 attributes)\n",
    "    \"Part 2\": range(3, 6),   # Mirai_(malware) (3 attributes)\n",
    "    \"Part 3\": range(6, 9),   # Network_Security_Services (3 attributes)\n",
    "    \"Part 4\": range(9, 12),  # MS_Antivirus_(malware) (3 attributes)\n",
    "    \"Part 5\": range(12, 16), # CyberCIEGE (4 attributes, including developer)\n",
    "    \"Part 6\": range(16, 19), # CyberExtension (3 attributes)\n",
    "    \"Part 7\": range(19, 22), # CyberGladiators (3 attributes)\n",
    "    \"Part 8\": range(22, 25), # CyberLink_MediaShow (3 attributes)\n",
    "    \"Part 9\": range(25, 28), # CyberQuery (3 attributes)\n",
    "    \"Part 10\": range(28, 31) # CyberStrike (3 attributes)\n",
    "}\n",
    "\n",
    "part_names_added = list(part_indices_added.keys())\n"
   ]
  },
  {
   "cell_type": "code",
   "execution_count": null,
   "id": "xWp9qiNFTUL0",
   "metadata": {
    "colab": {
     "base_uri": "https://localhost:8080/",
     "height": 1000
    },
    "id": "xWp9qiNFTUL0",
    "outputId": "4edbacf6-5cc2-450e-fb98-cb165eea33a5"
   },
   "outputs": [],
   "source": [
    "visualize_graph_with_chains(kg, part_indices)"
   ]
  },
  {
   "cell_type": "code",
   "execution_count": null,
   "id": "1b86ab1a",
   "metadata": {
    "colab": {
     "base_uri": "https://localhost:8080/"
    },
    "id": "1b86ab1a",
    "outputId": "d07ca3b6-bf40-48dd-8955-2530b03dcfc5"
   },
   "outputs": [],
   "source": [
    "temp = 1\n",
    "original_answer_str, original_answer_embedding = get_answer_and_embedding(question, temp, graph)\n",
    "print(f\"Original answer: {original_answer_str}\")"
   ]
  },
  {
   "cell_type": "code",
   "execution_count": null,
   "id": "7a18c0a2",
   "metadata": {
    "colab": {
     "base_uri": "https://localhost:8080/"
    },
    "id": "7a18c0a2",
    "outputId": "6a8f3d2f-ee73-40b3-8509-c38faa4eb63e",
    "scrolled": true
   },
   "outputs": [],
   "source": [
    "coeff = calculate_coefficients_print_Temerature(\n",
    "    temp= temp,\n",
    "    original=original,\n",
    "    kg=kg_added,\n",
    "    part_names=part_names_added,\n",
    "    question=question,\n",
    "    original_answer_embedding=original_answer_embedding,\n",
    "    original_answer_str = original_answer_str,\n",
    ")"
   ]
  },
  {
   "cell_type": "code",
   "execution_count": null,
   "id": "9bb09a33",
   "metadata": {
    "colab": {
     "base_uri": "https://localhost:8080/"
    },
    "id": "9bb09a33",
    "outputId": "6b086c5e-4285-4a2d-a477-e8d9d0f2ac52"
   },
   "outputs": [],
   "source": [
    "coeff"
   ]
  },
  {
   "cell_type": "code",
   "execution_count": null,
   "id": "0fb9f96d",
   "metadata": {
    "colab": {
     "base_uri": "https://localhost:8080/",
     "height": 739
    },
    "id": "0fb9f96d",
    "outputId": "9ece048c-5b55-4962-d38b-2f9376ed057b"
   },
   "outputs": [],
   "source": [
    "# Define the coefficient arrays\n",
    "coeff_original = np.array([ 0.074, -0.349,  0.278, -0.24 , -0.256,  0.23 ,  0.057, -0.081,\n",
    "        0.373, -0.109])\n",
    "coeff_added = np.array([ 0.14319166, -0.02258273, -0.25452967,  0.37758658, -0.29612795,\n",
    "        0.08548098,  0.06857783,  0.16150876,  0.06706322,  0.21985503])\n",
    "# Call the function\n",
    "plot_knowledge_graph_explainability_compare(\n",
    "    kg_original= kg,\n",
    "    coeff_original=coeff_original,\n",
    "    part_indices_original=part_indices,\n",
    "    kg_added=kg_added,\n",
    "    coeff_added=coeff_added,\n",
    "    part_indices_added=part_indices_added\n",
    ")"
   ]
  },
  {
   "cell_type": "code",
   "execution_count": null,
   "id": "084aee63",
   "metadata": {
    "colab": {
     "base_uri": "https://localhost:8080/"
    },
    "id": "084aee63",
    "outputId": "324870ad-fa07-4332-c997-21905ba29c70"
   },
   "outputs": [],
   "source": [
    "jaccard_index = calculate_jaccard_index(coeff_original, coeff_added)\n",
    "print(\"Jaccard Index:\", jaccard_index)"
   ]
  },
  {
   "cell_type": "markdown",
   "id": "dd5318d0-d3ed-42c8-bfa7-87356a99fed4",
   "metadata": {
    "id": "dd5318d0-d3ed-42c8-bfa7-87356a99fed4"
   },
   "source": [
    "## Stability: Evaluate the explanation for \"what is Network_Security_Services?\" (Temp 0) by introducing small perturbations in the input or graph structure -(CyberCIEGE) → (developer) → (Naval_Postgraduate_School)- and assessing the consistency of generated explanations."
   ]
  },
  {
   "cell_type": "code",
   "execution_count": null,
   "id": "f18db5c7-b138-4fa0-b1ec-6bbcf305360b",
   "metadata": {
    "colab": {
     "base_uri": "https://localhost:8080/"
    },
    "id": "f18db5c7-b138-4fa0-b1ec-6bbcf305360b",
    "outputId": "b6c5500c-a2bf-4c5f-ec3a-ba04120aec61"
   },
   "outputs": [],
   "source": [
    "temp = 0\n",
    "original_answer_str, original_answer_embedding = get_answer_and_embedding(question, temp, graph)\n",
    "print(f\"Original answer: {original_answer_str}\")"
   ]
  },
  {
   "cell_type": "code",
   "execution_count": null,
   "id": "701d9fb4-3fe1-4cd4-9b3c-5b71962f2d18",
   "metadata": {
    "colab": {
     "base_uri": "https://localhost:8080/"
    },
    "id": "701d9fb4-3fe1-4cd4-9b3c-5b71962f2d18",
    "outputId": "e33be87a-3787-417c-eb3f-c396baafc520"
   },
   "outputs": [],
   "source": [
    "coeff = calculate_coefficients_print_Temerature(\n",
    "    temp= temp,\n",
    "    original=original,\n",
    "    kg=kg_added,\n",
    "    part_names=part_names_added,\n",
    "    question=question,\n",
    "    original_answer_embedding=original_answer_embedding,\n",
    "    original_answer_str = original_answer_str,\n",
    ")"
   ]
  },
  {
   "cell_type": "code",
   "execution_count": null,
   "id": "814745af-87bb-4604-84e7-f7cccf04ac2b",
   "metadata": {
    "colab": {
     "base_uri": "https://localhost:8080/"
    },
    "id": "814745af-87bb-4604-84e7-f7cccf04ac2b",
    "outputId": "a3bf9c62-127f-4a0b-f0ac-50257f15a94a"
   },
   "outputs": [],
   "source": [
    "coeff"
   ]
  },
  {
   "cell_type": "code",
   "execution_count": null,
   "id": "b10ed5e3-fff0-41f8-a1ee-f791839f0fb6",
   "metadata": {
    "colab": {
     "base_uri": "https://localhost:8080/",
     "height": 739
    },
    "id": "b10ed5e3-fff0-41f8-a1ee-f791839f0fb6",
    "outputId": "4119e0cb-9d79-4caf-b513-df6fdaa2ff61"
   },
   "outputs": [],
   "source": [
    "# Define the coefficient arrays\n",
    "coeff_original = np.array([ 0.,  0.,  1.,  0., -0.,  0.,  0.,  0.,  0., -0.])\n",
    "coeff_added =np.array([-8.01450204e-06, -5.46858460e-05,  9.99903293e-01, -2.17888417e-05,\n",
    "        1.41712491e-05,  2.24151886e-05,  5.44893480e-05, -7.80482253e-06,\n",
    "        1.18546742e-05,  2.90112684e-05])\n",
    "# Call the function\n",
    "plot_knowledge_graph_explainability_compare(\n",
    "    kg_original= kg,\n",
    "    coeff_original=coeff_original,\n",
    "    part_indices_original=part_indices,\n",
    "    kg_added=kg_added,\n",
    "    coeff_added=coeff_added,\n",
    "    part_indices_added=part_indices_added\n",
    ")"
   ]
  },
  {
   "cell_type": "code",
   "execution_count": null,
   "id": "790dc38b-aed5-4623-8074-a38edf9badc4",
   "metadata": {
    "colab": {
     "base_uri": "https://localhost:8080/"
    },
    "id": "790dc38b-aed5-4623-8074-a38edf9badc4",
    "outputId": "35b4e711-da45-48d4-bc26-050889445775"
   },
   "outputs": [],
   "source": [
    "jaccard_index = calculate_jaccard_index(coeff_original, coeff_added)\n",
    "print(\"Jaccard Index:\", jaccard_index)"
   ]
  },
  {
   "cell_type": "markdown",
   "id": "5da24364-866d-4fbb-8d34-81bb5cdf09cd",
   "metadata": {
    "id": "5da24364-866d-4fbb-8d34-81bb5cdf09cd"
   },
   "source": [
    "## Stability: Evaluate the explanation for \"what is Network_Security_Services?\" (Temp 1) by introducing small perturbations in the input or graph structure -(CyberExtension) → (developer) → (Right_Reason_Technologies)- and assessing the consistency of generated explanations."
   ]
  },
  {
   "cell_type": "code",
   "execution_count": null,
   "id": "e016dfdf",
   "metadata": {
    "id": "e016dfdf"
   },
   "outputs": [],
   "source": [
    "kg_added = [\n",
    "    (\"Scooby-Doo_and_the_Cyber_Chase_(video_game)\", \"type\", \"Software\"),\n",
    "    (\"Scooby-Doo_and_the_Cyber_Chase_(video_game)\", \"label\", \"Scooby-Doo and the Cyber Chase (video game)\"),\n",
    "    (\"Scooby-Doo_and_the_Cyber_Chase_(video_game)\", \"abstract\", \"Scooby-Doo and the Cyber Chase is a Scooby-Doo video game based on the Warner Brothers film Scooby-Doo and the Cyber Chase. The game was released for the PlayStation and Game Boy Advance in 2001. The PlayStation version became a 'Greatest Hits' title in 2003.\"),\n",
    "\n",
    "    (\"Mirai_(malware)\", \"type\", \"Software\"),\n",
    "    (\"Mirai_(malware)\", \"label\", \"Mirai (malware)\"),\n",
    "    (\"Mirai_(malware)\", \"abstract\", \"Mirai (from the Japanese word for 'future', 未来) is a malware that turns networked devices running Linux into remotely controlled bots that can be used as part of a botnet in large-scale network attacks. It primarily targets online consumer devices such as IP cameras and home routers. The Mirai botnet was first found in August 2016 by MalwareMustDie, a white hat malware research group, and has been used in some of the largest and most disruptive distributed denial of service (DDoS) attacks, including an attack on 20 September 2016 on computer security journalist Brian Krebs' website, an attack on French web host OVH, and the October 2016 Dyn cyberattack. According to a chat log between Anna-senpai and Robert Coelho, Mirai was named after the 2011 TV anime series Mirai Nikki. The software was initially used by the creators to DDoS Minecraft servers and companies offering DDoS protection to Minecraft servers, with the authors using Mirai to operate a protection racket. The source code for Mirai was subsequently published on Hack Forums as open-source. Since the source code was published, the techniques have been adapted in other malware projects.\"),\n",
    "\n",
    "    (\"Network_Security_Services\", \"type\", \"Software\"),\n",
    "    (\"Network_Security_Services\", \"label\", \"Network Security Services\"),\n",
    "    (\"Network_Security_Services\", \"abstract\", \"Network Security Services (NSS) is a collection of cryptographic computer libraries designed to support cross-platform development of security-enabled client and server applications with optional support for hardware TLS/SSL acceleration on the server side and hardware smart cards on the client side. NSS provides a complete open-source implementation of cryptographic libraries supporting Transport Layer Security (TLS) / Secure Sockets Layer (SSL) and S/MIME. NSS releases prior to version 3.14 are tri-licensed under the Mozilla Public License 1.1, the GNU General Public License, and the GNU Lesser General Public License. Since release 3.14, NSS releases are licensed under GPL-compatible Mozilla Public License 2.0.\"),\n",
    "\n",
    "    (\"MS_Antivirus_(malware)\", \"type\", \"Software\"),\n",
    "    (\"MS_Antivirus_(malware)\", \"label\", \"MS Antivirus (malware)\"),\n",
    "    (\"MS_Antivirus_(malware)\", \"abstract\", \"MS Antivirus (also known as Spyware Protect 2009 and Antivirus XP 2008/Antivirus2009/SecurityTool/etc) is a scareware rogue anti-virus which purports to remove virus infections found on a computer running Microsoft Windows. It attempts to scam the user into purchasing a 'full version' of the software. The company and the individuals behind Bakasoftware operated under other different 'company' names, including Innovagest2000, Innovative Marketing Ukraine, Pandora Software, LocusSoftware, etc.\"),\n",
    "\n",
    "    (\"CyberCIEGE\", \"type\", \"Software\"),\n",
    "    (\"CyberCIEGE\", \"label\", \"CyberCIEGE\"),\n",
    "    (\"CyberCIEGE\", \"abstract\", \"CyberCIEGE is a serious game designed to teach network security concepts. Its development was sponsored by the U.S. Navy, and it is used as a training tool by agencies of the U.S. government, universities and community colleges. CyberCIEGE covers a broad range of cybersecurity topics. Players purchase and configure computers and network devices to keep demanding users happy (e.g., by providing Internet access) all while protecting assets from a variety of attacks. The game includes a number of different scenarios, some of which focus on basic training and awareness, others on more advanced network security concepts.\"),\n",
    "\n",
    "    (\"CyberExtension\", \"type\", \"Software\"),\n",
    "    (\"CyberExtension\", \"label\", \"CyberExtension\"),\n",
    "    (\"CyberExtension\", \"abstract\", \"CyberExtension is a managed virtual learning environment built by Right Reason Technologies (RRT) that is designed to be used as an online extension of a school district in the USA. The system is currently used for homebound students, credit recovery and supplemental coursework, and has been successfully deployed to help students with 'school phobia' and students undergoing medical treatment.\"),\n",
    "    (\"CyberExtension\",\"developer\",\"Right_Reason_Technologies\"),\n",
    "\n",
    "    (\"CyberGladiators\", \"type\", \"Software\"),\n",
    "    (\"CyberGladiators\", \"label\", \"CyberGladiators\"),\n",
    "    (\"CyberGladiators\", \"abstract\", \"CyberGladiators is a 1996 fighting game developed by K.A.A. (label of Dynamix) and published by Sierra On-Line. The game is divided of fights between members of the Quaaflax Alliance and members of the terrorist organization Gy Djin. All characters have been transformed by a cosmic storm into CyberGladiators.\"),\n",
    "\n",
    "    (\"CyberLink_MediaShow\", \"type\", \"Software\"),\n",
    "    (\"CyberLink_MediaShow\", \"label\", \"CyberLink MediaShow\"),\n",
    "    (\"CyberLink_MediaShow\", \"abstract\", \"CyberLink MediaShow is a software application for organizing, editing and sharing photos and videos, published by CyberLink Corporation. MediaShow allows users to import video and photo files from digital cameras, phones, and camcorders. Its main competitors are Arcsoft MediaImpression, Adobe Bridge, Roxio Creator and Google Picasa.\"),\n",
    "\n",
    "    (\"CyberQuery\", \"type\", \"Software\"),\n",
    "    (\"CyberQuery\", \"label\", \"CyberQuery\"),\n",
    "    (\"CyberQuery\", \"abstract\", \"Cyberquery is a software product of Cyberscience Corporation Inc. Originally developed for data handling and analysis on Data General AOS and AOS/VS minicomputers, then the available platforms for Cyberquery were extended to all major UNIX platforms, OpenVMS, and Microsoft Windows.\"),\n",
    "\n",
    "    (\"CyberStrike\", \"type\", \"Software\"),\n",
    "    (\"CyberStrike\", \"label\", \"CyberStrike\"),\n",
    "    (\"CyberStrike\", \"abstract\", \"CyberStrike is a futuristic 3D combat online game by Simutronics, involving team combat between customizable mechs, each of which is controlled by a different player. Initially exclusive to the GEnie online service, it opened in February 1993, and later that year it caused Computer Gaming World to create the new category of 'Online Game of the Year' so it could be awarded to CyberStrike. In 1994, it was offered in stores by MicroProse. In 1997, a sequel, Cyberstrike 2, was announced as a joint project between Simutronics and Sony's 989 Studios.\")\n",
    "]\n",
    "part_indices_added = {\n",
    "    \"Part 1\": range(0, 3),   # Scooby-Doo_and_the_Cyber_Chase_(video_game) (3 attributes)\n",
    "    \"Part 2\": range(3, 6),   # Mirai_(malware) (3 attributes)\n",
    "    \"Part 3\": range(6, 9),   # Network_Security_Services (3 attributes)\n",
    "    \"Part 4\": range(9, 12),  # MS_Antivirus_(malware) (3 attributes)\n",
    "    \"Part 5\": range(12, 15), # CyberCIEGE (3 attributes)\n",
    "    \"Part 6\": range(15, 19), # CyberExtension (4 attributes, including developer)\n",
    "    \"Part 7\": range(19, 22), # CyberGladiators (3 attributes)\n",
    "    \"Part 8\": range(22, 25), # CyberLink_MediaShow (3 attributes)\n",
    "    \"Part 9\": range(25, 28), # CyberQuery (3 attributes)\n",
    "    \"Part 10\": range(28, 31) # CyberStrike (3 attributes)\n",
    "}\n",
    "\n",
    "part_names_added = list(part_indices_added.keys())\n",
    "\n"
   ]
  },
  {
   "cell_type": "code",
   "execution_count": null,
   "id": "05f921fa-c009-4205-a27e-d6cf9e3bf689",
   "metadata": {
    "colab": {
     "base_uri": "https://localhost:8080/",
     "height": 1000
    },
    "id": "05f921fa-c009-4205-a27e-d6cf9e3bf689",
    "outputId": "8c0c9bd3-3a18-499d-a737-22adc06b8f4b"
   },
   "outputs": [],
   "source": [
    "visualize_graph_with_chains(kg, part_indices)"
   ]
  },
  {
   "cell_type": "code",
   "execution_count": null,
   "id": "72487cf7",
   "metadata": {
    "colab": {
     "base_uri": "https://localhost:8080/"
    },
    "id": "72487cf7",
    "outputId": "2e296303-131f-4038-96bc-2db0c3f20a54"
   },
   "outputs": [],
   "source": [
    "temp = 1\n",
    "original_answer_str, original_answer_embedding = get_answer_and_embedding(question, temp, graph)\n",
    "print(original_answer_str)"
   ]
  },
  {
   "cell_type": "code",
   "execution_count": null,
   "id": "2fe448b3",
   "metadata": {
    "colab": {
     "base_uri": "https://localhost:8080/"
    },
    "id": "2fe448b3",
    "outputId": "8833e184-3e11-4e10-b69a-b0d20fcc0374",
    "scrolled": true
   },
   "outputs": [],
   "source": [
    "coeff = calculate_coefficients_print_Temerature(\n",
    "    temp= temp,\n",
    "    original=original,\n",
    "    kg=kg_added,\n",
    "    part_names=part_names_added,\n",
    "    question=question,\n",
    "    original_answer_embedding=original_answer_embedding,\n",
    "    original_answer_str = original_answer_str,\n",
    ")"
   ]
  },
  {
   "cell_type": "code",
   "execution_count": null,
   "id": "d19b4890",
   "metadata": {
    "colab": {
     "base_uri": "https://localhost:8080/"
    },
    "id": "d19b4890",
    "outputId": "6d80956a-a759-4c26-dce4-f29f5f0d3948"
   },
   "outputs": [],
   "source": [
    "coeff"
   ]
  },
  {
   "cell_type": "code",
   "execution_count": null,
   "id": "829cf5c0",
   "metadata": {
    "colab": {
     "base_uri": "https://localhost:8080/",
     "height": 739
    },
    "id": "829cf5c0",
    "outputId": "0885c009-3aca-40e8-c5cc-051c7af61800"
   },
   "outputs": [],
   "source": [
    "# Define the coefficient arrays\n",
    "coeff_original = np.array([ 0.074, -0.349,  0.278, -0.24 , -0.256,  0.23 ,  0.057, -0.081,\n",
    "        0.373, -0.109])\n",
    "coeff_added = np.array([ 0.10678415,  0.22178868,  0.20185825, -0.23858348, -0.11948368,\n",
    "        0.08284135,  0.12474184,  0.01595862,  0.05339906, -0.259592  ])\n",
    "# Call the function\n",
    "plot_knowledge_graph_explainability_compare(\n",
    "    kg_original= kg,\n",
    "    coeff_original=coeff_original,\n",
    "    part_indices_original=part_indices,\n",
    "    kg_added=kg_added,\n",
    "    coeff_added=coeff_added,\n",
    "    part_indices_added=part_indices_added\n",
    ")"
   ]
  },
  {
   "cell_type": "code",
   "execution_count": null,
   "id": "5f6b26e8",
   "metadata": {
    "colab": {
     "base_uri": "https://localhost:8080/"
    },
    "id": "5f6b26e8",
    "outputId": "97f82b42-45fb-4726-e742-080cccab766a"
   },
   "outputs": [],
   "source": [
    "jaccard_index = calculate_jaccard_index(coeff_original, coeff_added)\n",
    "print(\"Jaccard Index:\", jaccard_index)"
   ]
  },
  {
   "cell_type": "markdown",
   "id": "3d943f56-f791-4fa7-aff1-211328700e23",
   "metadata": {
    "id": "3d943f56-f791-4fa7-aff1-211328700e23"
   },
   "source": [
    "## Stability: Evaluate the explanation for \"what is Network_Security_Services?\" (Temp 0) by introducing small perturbations in the input or graph structure -(CyberExtension) → (developer) → (Right_Reason_Technologies)- and assessing the consistency of generated explanations."
   ]
  },
  {
   "cell_type": "code",
   "execution_count": null,
   "id": "aac7567e-eaf9-4201-9d5c-4510e035dd33",
   "metadata": {
    "colab": {
     "base_uri": "https://localhost:8080/"
    },
    "id": "aac7567e-eaf9-4201-9d5c-4510e035dd33",
    "outputId": "440f8d5a-5cf0-48cf-82a6-71aaca19fa4a"
   },
   "outputs": [],
   "source": [
    "temp = 0\n",
    "original_answer_str, original_answer_embedding = get_answer_and_embedding(question, temp, graph)\n",
    "print(f\"Original answer: {original_answer_str}\")"
   ]
  },
  {
   "cell_type": "code",
   "execution_count": null,
   "id": "0a500026-df86-4f0b-b1f4-f1a504074274",
   "metadata": {
    "colab": {
     "base_uri": "https://localhost:8080/"
    },
    "id": "0a500026-df86-4f0b-b1f4-f1a504074274",
    "outputId": "ce0ac580-4fbb-4605-d699-d5b44264a22b"
   },
   "outputs": [],
   "source": [
    "coeff = calculate_coefficients_print_Temerature(\n",
    "    temp= temp,\n",
    "    original=original,\n",
    "    kg=kg_added,\n",
    "    part_names=part_names_added,\n",
    "    question=question,\n",
    "    original_answer_embedding=original_answer_embedding,\n",
    "    original_answer_str = original_answer_str,\n",
    ")"
   ]
  },
  {
   "cell_type": "code",
   "execution_count": null,
   "id": "4a33cf24-4ebd-4fb8-af56-5347616632fc",
   "metadata": {
    "colab": {
     "base_uri": "https://localhost:8080/"
    },
    "id": "4a33cf24-4ebd-4fb8-af56-5347616632fc",
    "outputId": "b670adf1-e64f-4784-a6a5-4265005ad941"
   },
   "outputs": [],
   "source": [
    "coeff"
   ]
  },
  {
   "cell_type": "code",
   "execution_count": null,
   "id": "236b6b80-0847-46c1-b001-efaec58f9552",
   "metadata": {
    "colab": {
     "base_uri": "https://localhost:8080/",
     "height": 739
    },
    "id": "236b6b80-0847-46c1-b001-efaec58f9552",
    "outputId": "b3872aea-c01f-4b9e-96bf-5c5a459bb3ee"
   },
   "outputs": [],
   "source": [
    "# Define the coefficient arrays\n",
    "coeff_original = np.array([ 0.,  0.,  1.,  0., -0.,  0.,  0.,  0.,  0., -0.])\n",
    "coeff_added = np.array([-4.08289921e-06,  2.49326864e-05,  9.99956037e-01,  2.40410005e-05,\n",
    "       -1.41619934e-05, -4.39287151e-05, -5.15968390e-06,  1.73034205e-05,\n",
    "       -1.35211510e-05,  1.14660929e-06])\n",
    "# Call the function\n",
    "plot_knowledge_graph_explainability_compare(\n",
    "    kg_original= kg,\n",
    "    coeff_original=coeff_original,\n",
    "    part_indices_original=part_indices,\n",
    "    kg_added=kg_added,\n",
    "    coeff_added=coeff_added,\n",
    "    part_indices_added=part_indices_added\n",
    ")"
   ]
  },
  {
   "cell_type": "code",
   "execution_count": null,
   "id": "cf256d6e-9a41-4faf-93b5-4e7fcc62e90a",
   "metadata": {
    "colab": {
     "base_uri": "https://localhost:8080/"
    },
    "id": "cf256d6e-9a41-4faf-93b5-4e7fcc62e90a",
    "outputId": "eedeedf4-d06c-4eda-a92b-55bc98604d5d"
   },
   "outputs": [],
   "source": [
    "jaccard_index = calculate_jaccard_index(coeff_original, coeff_added)\n",
    "print(\"Jaccard Index:\", jaccard_index)"
   ]
  },
  {
   "cell_type": "markdown",
   "id": "dd6a3372-f1c0-4618-a5ef-3431a926da83",
   "metadata": {
    "id": "dd6a3372-f1c0-4618-a5ef-3431a926da83"
   },
   "source": [
    "## Stability: Evaluate the explanation for \"what is Network_Security_Services?\" (Temp 1) by introducing small perturbations in the input or graph structure -(CyberGladiators) → (publisher) → (Sierra On-Line)- and assessing the consistency of generated explanations."
   ]
  },
  {
   "cell_type": "code",
   "execution_count": null,
   "id": "cbcc2395",
   "metadata": {
    "id": "cbcc2395"
   },
   "outputs": [],
   "source": [
    "kg_added = [\n",
    "    (\"Scooby-Doo_and_the_Cyber_Chase_(video_game)\", \"type\", \"Software\"),\n",
    "    (\"Scooby-Doo_and_the_Cyber_Chase_(video_game)\", \"label\", \"Scooby-Doo and the Cyber Chase (video game)\"),\n",
    "    (\"Scooby-Doo_and_the_Cyber_Chase_(video_game)\", \"abstract\", \"Scooby-Doo and the Cyber Chase is a Scooby-Doo video game based on the Warner Brothers film Scooby-Doo and the Cyber Chase. The game was released for the PlayStation and Game Boy Advance in 2001. The PlayStation version became a 'Greatest Hits' title in 2003.\"),\n",
    "\n",
    "    (\"Mirai_(malware)\", \"type\", \"Software\"),\n",
    "    (\"Mirai_(malware)\", \"label\", \"Mirai (malware)\"),\n",
    "    (\"Mirai_(malware)\", \"abstract\", \"Mirai (from the Japanese word for 'future', 未来) is a malware that turns networked devices running Linux into remotely controlled bots that can be used as part of a botnet in large-scale network attacks. It primarily targets online consumer devices such as IP cameras and home routers. The Mirai botnet was first found in August 2016 by MalwareMustDie, a white hat malware research group, and has been used in some of the largest and most disruptive distributed denial of service (DDoS) attacks, including an attack on 20 September 2016 on computer security journalist Brian Krebs' website, an attack on French web host OVH, and the October 2016 Dyn cyberattack. According to a chat log between Anna-senpai and Robert Coelho, Mirai was named after the 2011 TV anime series Mirai Nikki. The software was initially used by the creators to DDoS Minecraft servers and companies offering DDoS protection to Minecraft servers, with the authors using Mirai to operate a protection racket. The source code for Mirai was subsequently published on Hack Forums as open-source. Since the source code was published, the techniques have been adapted in other malware projects.\"),\n",
    "\n",
    "    (\"Network_Security_Services\", \"type\", \"Software\"),\n",
    "    (\"Network_Security_Services\", \"label\", \"Network Security Services\"),\n",
    "    (\"Network_Security_Services\", \"abstract\", \"Network Security Services (NSS) is a collection of cryptographic computer libraries designed to support cross-platform development of security-enabled client and server applications with optional support for hardware TLS/SSL acceleration on the server side and hardware smart cards on the client side. NSS provides a complete open-source implementation of cryptographic libraries supporting Transport Layer Security (TLS) / Secure Sockets Layer (SSL) and S/MIME. NSS releases prior to version 3.14 are tri-licensed under the Mozilla Public License 1.1, the GNU General Public License, and the GNU Lesser General Public License. Since release 3.14, NSS releases are licensed under GPL-compatible Mozilla Public License 2.0.\"),\n",
    "\n",
    "    (\"MS_Antivirus_(malware)\", \"type\", \"Software\"),\n",
    "    (\"MS_Antivirus_(malware)\", \"label\", \"MS Antivirus (malware)\"),\n",
    "    (\"MS_Antivirus_(malware)\", \"abstract\", \"MS Antivirus (also known as Spyware Protect 2009 and Antivirus XP 2008/Antivirus2009/SecurityTool/etc) is a scareware rogue anti-virus which purports to remove virus infections found on a computer running Microsoft Windows. It attempts to scam the user into purchasing a 'full version' of the software. The company and the individuals behind Bakasoftware operated under other different 'company' names, including Innovagest2000, Innovative Marketing Ukraine, Pandora Software, LocusSoftware, etc.\"),\n",
    "\n",
    "    (\"CyberCIEGE\", \"type\", \"Software\"),\n",
    "    (\"CyberCIEGE\", \"label\", \"CyberCIEGE\"),\n",
    "    (\"CyberCIEGE\", \"abstract\", \"CyberCIEGE is a serious game designed to teach network security concepts. Its development was sponsored by the U.S. Navy, and it is used as a training tool by agencies of the U.S. government, universities and community colleges. CyberCIEGE covers a broad range of cybersecurity topics. Players purchase and configure computers and network devices to keep demanding users happy (e.g., by providing Internet access) all while protecting assets from a variety of attacks. The game includes a number of different scenarios, some of which focus on basic training and awareness, others on more advanced network security concepts.\"),\n",
    "\n",
    "    (\"CyberExtension\", \"type\", \"Software\"),\n",
    "    (\"CyberExtension\", \"label\", \"CyberExtension\"),\n",
    "    (\"CyberExtension\", \"abstract\", \"CyberExtension is a managed virtual learning environment built by Right Reason Technologies (RRT) that is designed to be used as an online extension of a school district in the USA. The system is currently used for homebound students, credit recovery and supplemental coursework, and has been successfully deployed to help students with 'school phobia' and students undergoing medical treatment.\"),\n",
    "\n",
    "    (\"CyberGladiators\", \"type\", \"Software\"),\n",
    "    (\"CyberGladiators\", \"label\", \"CyberGladiators\"),\n",
    "    (\"CyberGladiators\", \"abstract\", \"CyberGladiators is a 1996 fighting game developed by K.A.A. (label of Dynamix) and published by Sierra On-Line. The game is divided of fights between members of the Quaaflax Alliance and members of the terrorist organization Gy Djin. All characters have been transformed by a cosmic storm into CyberGladiators.\"),\n",
    "    (\"CyberGladiators\",\"publisher\",\"Sierra On-Line\"),\n",
    "\n",
    "    (\"CyberLink_MediaShow\", \"type\", \"Software\"),\n",
    "    (\"CyberLink_MediaShow\", \"label\", \"CyberLink MediaShow\"),\n",
    "    (\"CyberLink_MediaShow\", \"abstract\", \"CyberLink MediaShow is a software application for organizing, editing and sharing photos and videos, published by CyberLink Corporation. MediaShow allows users to import video and photo files from digital cameras, phones, and camcorders. Its main competitors are Arcsoft MediaImpression, Adobe Bridge, Roxio Creator and Google Picasa.\"),\n",
    "\n",
    "    (\"CyberQuery\", \"type\", \"Software\"),\n",
    "    (\"CyberQuery\", \"label\", \"CyberQuery\"),\n",
    "    (\"CyberQuery\", \"abstract\", \"Cyberquery is a software product of Cyberscience Corporation Inc. Originally developed for data handling and analysis on Data General AOS and AOS/VS minicomputers, then the available platforms for Cyberquery were extended to all major UNIX platforms, OpenVMS, and Microsoft Windows.\"),\n",
    "\n",
    "    (\"CyberStrike\", \"type\", \"Software\"),\n",
    "    (\"CyberStrike\", \"label\", \"CyberStrike\"),\n",
    "    (\"CyberStrike\", \"abstract\", \"CyberStrike is a futuristic 3D combat online game by Simutronics, involving team combat between customizable mechs, each of which is controlled by a different player. Initially exclusive to the GEnie online service, it opened in February 1993, and later that year it caused Computer Gaming World to create the new category of 'Online Game of the Year' so it could be awarded to CyberStrike. In 1994, it was offered in stores by MicroProse. In 1997, a sequel, Cyberstrike 2, was announced as a joint project between Simutronics and Sony's 989 Studios.\")\n",
    "]\n",
    "part_indices_added = {\n",
    "    \"Part 1\": range(0, 3),   # Scooby-Doo_and_the_Cyber_Chase_(video_game) (3 attributes)\n",
    "    \"Part 2\": range(3, 6),   # Mirai_(malware) (3 attributes)\n",
    "    \"Part 3\": range(6, 9),   # Network_Security_Services (3 attributes)\n",
    "    \"Part 4\": range(9, 12),  # MS_Antivirus_(malware) (3 attributes)\n",
    "    \"Part 5\": range(12, 15), # CyberCIEGE (3 attributes)\n",
    "    \"Part 6\": range(15, 18), # CyberExtension (3 attributes)\n",
    "    \"Part 7\": range(18, 22), # CyberGladiators (4 attributes, including publisher)\n",
    "    \"Part 8\": range(22, 25), # CyberLink_MediaShow (3 attributes)\n",
    "    \"Part 9\": range(25, 28), # CyberQuery (3 attributes)\n",
    "    \"Part 10\": range(28, 31) # CyberStrike (3 attributes)\n",
    "}\n",
    "\n",
    "part_names_added = list(part_indices_added.keys())\n"
   ]
  },
  {
   "cell_type": "code",
   "execution_count": null,
   "id": "d2fd7519-3319-4353-80c4-63f7d8d1e043",
   "metadata": {
    "colab": {
     "base_uri": "https://localhost:8080/",
     "height": 1000
    },
    "id": "d2fd7519-3319-4353-80c4-63f7d8d1e043",
    "outputId": "7fbac469-25d1-4052-fb14-d1a1f50fa468"
   },
   "outputs": [],
   "source": [
    "visualize_graph_with_chains(kg, part_indices)"
   ]
  },
  {
   "cell_type": "code",
   "execution_count": null,
   "id": "dfad7adb",
   "metadata": {
    "colab": {
     "base_uri": "https://localhost:8080/"
    },
    "id": "dfad7adb",
    "outputId": "32fa6f56-6db2-4613-b329-17239eeb216c"
   },
   "outputs": [],
   "source": [
    "temp = 1\n",
    "original_answer_str, original_answer_embedding = get_answer_and_embedding(question, temp, graph)\n",
    "print(f\"Original answer: {original_answer_str}\")"
   ]
  },
  {
   "cell_type": "code",
   "execution_count": null,
   "id": "2a4e863f",
   "metadata": {
    "colab": {
     "base_uri": "https://localhost:8080/"
    },
    "id": "2a4e863f",
    "outputId": "71efc3e5-1f38-45b9-d60c-2e81a9788312",
    "scrolled": true
   },
   "outputs": [],
   "source": [
    "coeff = calculate_coefficients_print_Temerature(\n",
    "    temp= temp,\n",
    "    original=original,\n",
    "    kg=kg_added,\n",
    "    part_names=part_names_added,\n",
    "    question=question,\n",
    "    original_answer_embedding=original_answer_embedding,\n",
    "    original_answer_str = original_answer_str,\n",
    ")"
   ]
  },
  {
   "cell_type": "code",
   "execution_count": null,
   "id": "50aaead2",
   "metadata": {
    "colab": {
     "base_uri": "https://localhost:8080/"
    },
    "id": "50aaead2",
    "outputId": "9bfacac6-7d3f-41b7-b423-3ab66071e3d3"
   },
   "outputs": [],
   "source": [
    "coeff"
   ]
  },
  {
   "cell_type": "code",
   "execution_count": null,
   "id": "d4e1cee7",
   "metadata": {
    "colab": {
     "base_uri": "https://localhost:8080/",
     "height": 739
    },
    "id": "d4e1cee7",
    "outputId": "e981f481-d1d0-470a-8fb1-dae273cc74d2"
   },
   "outputs": [],
   "source": [
    "# Define the coefficient arrays\n",
    "coeff_original = np.array([ 0.074, -0.349,  0.278, -0.24 , -0.256,  0.23 ,  0.057, -0.081,\n",
    "        0.373, -0.109])\n",
    "coeff_added = np.array([-0.03107438, -0.19800958,  0.08834081,  0.04978688, -0.09329162,\n",
    "       -0.00692721,  0.1763618 ,  0.32043549, -0.36494622,  0.18752337])\n",
    "# Call the function\n",
    "plot_knowledge_graph_explainability_compare(\n",
    "    kg_original= kg,\n",
    "    coeff_original=coeff_original,\n",
    "    part_indices_original=part_indices,\n",
    "    kg_added=kg_added,\n",
    "    coeff_added=coeff_added,\n",
    "    part_indices_added=part_indices_added\n",
    ")"
   ]
  },
  {
   "cell_type": "code",
   "execution_count": null,
   "id": "e4658158",
   "metadata": {
    "colab": {
     "base_uri": "https://localhost:8080/"
    },
    "id": "e4658158",
    "outputId": "d16817f6-22e8-4c63-a876-ceb80e216bfb"
   },
   "outputs": [],
   "source": [
    "jaccard_index = calculate_jaccard_index(coeff_original, coeff_added)\n",
    "print(\"Jaccard Index:\", jaccard_index)"
   ]
  },
  {
   "cell_type": "markdown",
   "id": "522ddced-07f5-47f5-b76d-4402c770bd75",
   "metadata": {
    "id": "522ddced-07f5-47f5-b76d-4402c770bd75"
   },
   "source": [
    "## Stability: Evaluate the explanation for \"what is Network_Security_Services?\" (Temp 0) by introducing small perturbations in the input or graph structure -(CyberGladiators) → (publisher) → (Sierra On-Line)- and assessing the consistency of generated explanations."
   ]
  },
  {
   "cell_type": "code",
   "execution_count": null,
   "id": "8af781f5-da70-4512-86ea-7394f7b8a0dc",
   "metadata": {
    "colab": {
     "base_uri": "https://localhost:8080/"
    },
    "id": "8af781f5-da70-4512-86ea-7394f7b8a0dc",
    "outputId": "823116ac-6b29-40c7-a632-068002f691c5"
   },
   "outputs": [],
   "source": [
    "temp = 0\n",
    "original_answer_str, original_answer_embedding = get_answer_and_embedding(question, temp, graph)\n",
    "print(f\"Original answer: {original_answer_str}\")"
   ]
  },
  {
   "cell_type": "code",
   "execution_count": null,
   "id": "e31894d2-67fd-46ec-83dc-3a1267dbeb56",
   "metadata": {
    "colab": {
     "base_uri": "https://localhost:8080/"
    },
    "id": "e31894d2-67fd-46ec-83dc-3a1267dbeb56",
    "outputId": "4b21ebb8-057a-4ab5-d036-377126accdba"
   },
   "outputs": [],
   "source": [
    "coeff = calculate_coefficients_print_Temerature(\n",
    "    temp= temp,\n",
    "    original=original,\n",
    "    kg=kg_added,\n",
    "    part_names=part_names_added,\n",
    "    question=question,\n",
    "    original_answer_embedding=original_answer_embedding,\n",
    "    original_answer_str = original_answer_str,\n",
    ")"
   ]
  },
  {
   "cell_type": "code",
   "execution_count": null,
   "id": "aa04766e-bfb6-4186-935a-a463e5ff1f8e",
   "metadata": {
    "colab": {
     "base_uri": "https://localhost:8080/"
    },
    "id": "aa04766e-bfb6-4186-935a-a463e5ff1f8e",
    "outputId": "4c79e94a-f423-4ae9-8111-4f58d9333cd9"
   },
   "outputs": [],
   "source": [
    "coeff"
   ]
  },
  {
   "cell_type": "code",
   "execution_count": null,
   "id": "1836b622-19b0-4095-9c71-b9a49a40f996",
   "metadata": {
    "colab": {
     "base_uri": "https://localhost:8080/",
     "height": 739
    },
    "id": "1836b622-19b0-4095-9c71-b9a49a40f996",
    "outputId": "4b71dc84-33b6-4ee4-bf94-43f45e020ca5"
   },
   "outputs": [],
   "source": [
    "# Define the coefficient arrays\n",
    "coeff_original = np.array([ 0.,  0.,  1.,  0., -0.,  0.,  0.,  0.,  0., -0.])\n",
    "coeff_added =np.array([ 4.55819005e-06,  3.28670385e-06,  9.99947363e-01,  6.37788091e-06,\n",
    "        1.47029938e-05,  2.58533062e-06,  2.19099366e-06, -1.01250801e-06,\n",
    "        2.85055309e-06, -2.69129808e-05])\n",
    "# Call the function\n",
    "plot_knowledge_graph_explainability_compare(\n",
    "    kg_original= kg,\n",
    "    coeff_original=coeff_original,\n",
    "    part_indices_original=part_indices,\n",
    "    kg_added=kg_added,\n",
    "    coeff_added=coeff_added,\n",
    "    part_indices_added=part_indices_added\n",
    ")"
   ]
  },
  {
   "cell_type": "code",
   "execution_count": null,
   "id": "2caf5abd-cce3-4a77-abde-dfe5088563eb",
   "metadata": {
    "colab": {
     "base_uri": "https://localhost:8080/"
    },
    "id": "2caf5abd-cce3-4a77-abde-dfe5088563eb",
    "outputId": "1dbe4625-f167-4af0-d08b-6ce3f90d6d24"
   },
   "outputs": [],
   "source": [
    "jaccard_index = calculate_jaccard_index(coeff_original, coeff_added)\n",
    "print(\"Jaccard Index:\", jaccard_index)"
   ]
  },
  {
   "cell_type": "markdown",
   "id": "74e406de-dea9-4e35-84d3-96e8d5fab460",
   "metadata": {
    "id": "74e406de-dea9-4e35-84d3-96e8d5fab460"
   },
   "source": [
    "## Stability: Evaluate the explanation for \"what is Network_Security_Services?\" (Temp 1) by introducing small perturbations in the input or graph structure -(CyberLink_MediaShow) → (feature) → (Photo_Editing, Video_Editing)- and assessing the consistency of generated explanations."
   ]
  },
  {
   "cell_type": "code",
   "execution_count": null,
   "id": "c9085c5a",
   "metadata": {
    "id": "c9085c5a"
   },
   "outputs": [],
   "source": [
    "kg_added = [\n",
    "    (\"Scooby-Doo_and_the_Cyber_Chase_(video_game)\", \"type\", \"Software\"),\n",
    "    (\"Scooby-Doo_and_the_Cyber_Chase_(video_game)\", \"label\", \"Scooby-Doo and the Cyber Chase (video game)\"),\n",
    "    (\"Scooby-Doo_and_the_Cyber_Chase_(video_game)\", \"abstract\", \"Scooby-Doo and the Cyber Chase is a Scooby-Doo video game based on the Warner Brothers film Scooby-Doo and the Cyber Chase. The game was released for the PlayStation and Game Boy Advance in 2001. The PlayStation version became a 'Greatest Hits' title in 2003.\"),\n",
    "\n",
    "    (\"Mirai_(malware)\", \"type\", \"Software\"),\n",
    "    (\"Mirai_(malware)\", \"label\", \"Mirai (malware)\"),\n",
    "    (\"Mirai_(malware)\", \"abstract\", \"Mirai (from the Japanese word for 'future', 未来) is a malware that turns networked devices running Linux into remotely controlled bots that can be used as part of a botnet in large-scale network attacks. It primarily targets online consumer devices such as IP cameras and home routers. The Mirai botnet was first found in August 2016 by MalwareMustDie, a white hat malware research group, and has been used in some of the largest and most disruptive distributed denial of service (DDoS) attacks, including an attack on 20 September 2016 on computer security journalist Brian Krebs' website, an attack on French web host OVH, and the October 2016 Dyn cyberattack. According to a chat log between Anna-senpai and Robert Coelho, Mirai was named after the 2011 TV anime series Mirai Nikki. The software was initially used by the creators to DDoS Minecraft servers and companies offering DDoS protection to Minecraft servers, with the authors using Mirai to operate a protection racket. The source code for Mirai was subsequently published on Hack Forums as open-source. Since the source code was published, the techniques have been adapted in other malware projects.\"),\n",
    "\n",
    "    (\"Network_Security_Services\", \"type\", \"Software\"),\n",
    "    (\"Network_Security_Services\", \"label\", \"Network Security Services\"),\n",
    "    (\"Network_Security_Services\", \"abstract\", \"Network Security Services (NSS) is a collection of cryptographic computer libraries designed to support cross-platform development of security-enabled client and server applications with optional support for hardware TLS/SSL acceleration on the server side and hardware smart cards on the client side. NSS provides a complete open-source implementation of cryptographic libraries supporting Transport Layer Security (TLS) / Secure Sockets Layer (SSL) and S/MIME. NSS releases prior to version 3.14 are tri-licensed under the Mozilla Public License 1.1, the GNU General Public License, and the GNU Lesser General Public License. Since release 3.14, NSS releases are licensed under GPL-compatible Mozilla Public License 2.0.\"),\n",
    "\n",
    "    (\"MS_Antivirus_(malware)\", \"type\", \"Software\"),\n",
    "    (\"MS_Antivirus_(malware)\", \"label\", \"MS Antivirus (malware)\"),\n",
    "    (\"MS_Antivirus_(malware)\", \"abstract\", \"MS Antivirus (also known as Spyware Protect 2009 and Antivirus XP 2008/Antivirus2009/SecurityTool/etc) is a scareware rogue anti-virus which purports to remove virus infections found on a computer running Microsoft Windows. It attempts to scam the user into purchasing a 'full version' of the software. The company and the individuals behind Bakasoftware operated under other different 'company' names, including Innovagest2000, Innovative Marketing Ukraine, Pandora Software, LocusSoftware, etc.\"),\n",
    "\n",
    "    (\"CyberCIEGE\", \"type\", \"Software\"),\n",
    "    (\"CyberCIEGE\", \"label\", \"CyberCIEGE\"),\n",
    "    (\"CyberCIEGE\", \"abstract\", \"CyberCIEGE is a serious game designed to teach network security concepts. Its development was sponsored by the U.S. Navy, and it is used as a training tool by agencies of the U.S. government, universities and community colleges. CyberCIEGE covers a broad range of cybersecurity topics. Players purchase and configure computers and network devices to keep demanding users happy (e.g., by providing Internet access) all while protecting assets from a variety of attacks. The game includes a number of different scenarios, some of which focus on basic training and awareness, others on more advanced network security concepts.\"),\n",
    "\n",
    "    (\"CyberExtension\", \"type\", \"Software\"),\n",
    "    (\"CyberExtension\", \"label\", \"CyberExtension\"),\n",
    "    (\"CyberExtension\", \"abstract\", \"CyberExtension is a managed virtual learning environment built by Right Reason Technologies (RRT) that is designed to be used as an online extension of a school district in the USA. The system is currently used for homebound students, credit recovery and supplemental coursework, and has been successfully deployed to help students with 'school phobia' and students undergoing medical treatment.\"),\n",
    "\n",
    "    (\"CyberGladiators\", \"type\", \"Software\"),\n",
    "    (\"CyberGladiators\", \"label\", \"CyberGladiators\"),\n",
    "    (\"CyberGladiators\", \"abstract\", \"CyberGladiators is a 1996 fighting game developed by K.A.A. (label of Dynamix) and published by Sierra On-Line. The game is divided of fights between members of the Quaaflax Alliance and members of the terrorist organization Gy Djin. All characters have been transformed by a cosmic storm into CyberGladiators.\"),\n",
    "\n",
    "    (\"CyberLink_MediaShow\", \"type\", \"Software\"),\n",
    "    (\"CyberLink_MediaShow\", \"label\", \"CyberLink MediaShow\"),\n",
    "    (\"CyberLink_MediaShow\", \"abstract\", \"CyberLink MediaShow is a software application for organizing, editing and sharing photos and videos, published by CyberLink Corporation. MediaShow allows users to import video and photo files from digital cameras, phones, and camcorders. Its main competitors are Arcsoft MediaImpression, Adobe Bridge, Roxio Creator and Google Picasa.\"),\n",
    "    (\"CyberLink_MediaShow\",\"feature\",\"Photo_Editing, Video_Editing\"),\n",
    "\n",
    "    (\"CyberQuery\", \"type\", \"Software\"),\n",
    "    (\"CyberQuery\", \"label\", \"CyberQuery\"),\n",
    "    (\"CyberQuery\", \"abstract\", \"Cyberquery is a software product of Cyberscience Corporation Inc. Originally developed for data handling and analysis on Data General AOS and AOS/VS minicomputers, then the available platforms for Cyberquery were extended to all major UNIX platforms, OpenVMS, and Microsoft Windows.\"),\n",
    "\n",
    "    (\"CyberStrike\", \"type\", \"Software\"),\n",
    "    (\"CyberStrike\", \"label\", \"CyberStrike\"),\n",
    "    (\"CyberStrike\", \"abstract\", \"CyberStrike is a futuristic 3D combat online game by Simutronics, involving team combat between customizable mechs, each of which is controlled by a different player. Initially exclusive to the GEnie online service, it opened in February 1993, and later that year it caused Computer Gaming World to create the new category of 'Online Game of the Year' so it could be awarded to CyberStrike. In 1994, it was offered in stores by MicroProse. In 1997, a sequel, Cyberstrike 2, was announced as a joint project between Simutronics and Sony's 989 Studios.\")\n",
    "]\n",
    "part_indices_added = {\n",
    "    \"Part 1\": range(0, 3),   # Scooby-Doo_and_the_Cyber_Chase_(video_game) (3 attributes)\n",
    "    \"Part 2\": range(3, 6),   # Mirai_(malware) (3 attributes)\n",
    "    \"Part 3\": range(6, 9),   # Network_Security_Services (3 attributes)\n",
    "    \"Part 4\": range(9, 12),  # MS_Antivirus_(malware) (3 attributes)\n",
    "    \"Part 5\": range(12, 15), # CyberCIEGE (3 attributes)\n",
    "    \"Part 6\": range(15, 18), # CyberExtension (3 attributes)\n",
    "    \"Part 7\": range(18, 21), # CyberGladiators (3 attributes)\n",
    "    \"Part 8\": range(21, 25), # CyberLink_MediaShow (4 attributes, including feature)\n",
    "    \"Part 9\": range(25, 28), # CyberQuery (3 attributes)\n",
    "    \"Part 10\": range(28, 31) # CyberStrike (3 attributes)\n",
    "}\n",
    "\n",
    "part_names_added = list(part_indices_added.keys())\n"
   ]
  },
  {
   "cell_type": "code",
   "execution_count": null,
   "id": "26169282-2467-4c3d-94ab-c3be31298100",
   "metadata": {
    "colab": {
     "base_uri": "https://localhost:8080/",
     "height": 1000
    },
    "id": "26169282-2467-4c3d-94ab-c3be31298100",
    "outputId": "cbf463e0-0b8f-4678-bfe6-2d3b4032f050"
   },
   "outputs": [],
   "source": [
    "visualize_graph_with_chains(kg, part_indices)"
   ]
  },
  {
   "cell_type": "code",
   "execution_count": null,
   "id": "ba5edd63",
   "metadata": {
    "colab": {
     "base_uri": "https://localhost:8080/"
    },
    "id": "ba5edd63",
    "outputId": "1fad0995-fdfd-405b-b827-926a83c18ed6"
   },
   "outputs": [],
   "source": [
    "temp = 1\n",
    "original_answer_str, original_answer_embedding = get_answer_and_embedding(question, temp, graph)\n",
    "print(original_answer_str)"
   ]
  },
  {
   "cell_type": "code",
   "execution_count": null,
   "id": "72bc2b39",
   "metadata": {
    "colab": {
     "base_uri": "https://localhost:8080/"
    },
    "id": "72bc2b39",
    "outputId": "3e7fd69f-3343-4e0f-c5d6-90b52743cf80",
    "scrolled": true
   },
   "outputs": [],
   "source": [
    "coeff = calculate_coefficients_print_Temerature(\n",
    "    temp= temp,\n",
    "    original=original,\n",
    "    kg=kg_added,\n",
    "    part_names=part_names_added,\n",
    "    question=question,\n",
    "    original_answer_embedding=original_answer_embedding,\n",
    "    original_answer_str = original_answer_str,\n",
    ")"
   ]
  },
  {
   "cell_type": "code",
   "execution_count": null,
   "id": "9e7a3c68",
   "metadata": {
    "colab": {
     "base_uri": "https://localhost:8080/"
    },
    "id": "9e7a3c68",
    "outputId": "bf85f292-1962-40b4-d91e-14574e90edfc"
   },
   "outputs": [],
   "source": [
    "coeff"
   ]
  },
  {
   "cell_type": "code",
   "execution_count": null,
   "id": "6ca39dbd",
   "metadata": {
    "colab": {
     "base_uri": "https://localhost:8080/",
     "height": 739
    },
    "id": "6ca39dbd",
    "outputId": "14d7d0ba-79f1-4035-c2b1-e2907d6246b6"
   },
   "outputs": [],
   "source": [
    "# Define the coefficient arrays\n",
    "coeff_original = np.array([ 0.074, -0.349,  0.278, -0.24 , -0.256,  0.23 ,  0.057, -0.081,\n",
    "        0.373, -0.109])\n",
    "coeff_added = np.array([ 0.36872479,  0.1481867 , -0.05623355, -0.21282253,  0.18630449,\n",
    "        0.11018158,  0.01199742, -0.21390011,  0.42020456,  0.29721487])\n",
    "# Call the function\n",
    "plot_knowledge_graph_explainability_compare(\n",
    "    kg_original= kg,\n",
    "    coeff_original=coeff_original,\n",
    "    part_indices_original=part_indices,\n",
    "    kg_added=kg_added,\n",
    "    coeff_added=coeff_added,\n",
    "    part_indices_added=part_indices_added\n",
    ")"
   ]
  },
  {
   "cell_type": "code",
   "execution_count": null,
   "id": "cbea9ced",
   "metadata": {
    "colab": {
     "base_uri": "https://localhost:8080/"
    },
    "id": "cbea9ced",
    "outputId": "28ad73fe-f5ca-47c4-fb74-3d6e0dd0fe1c"
   },
   "outputs": [],
   "source": [
    "jaccard_index = calculate_jaccard_index(coeff_original, coeff_added)\n",
    "print(\"Jaccard Index:\", jaccard_index)"
   ]
  },
  {
   "cell_type": "markdown",
   "id": "a16aefaa-ca63-45a5-b1f7-820b8f6fd2c9",
   "metadata": {
    "id": "a16aefaa-ca63-45a5-b1f7-820b8f6fd2c9"
   },
   "source": [
    "## Stability: Evaluate the explanation for \"what is Network_Security_Services?\" (Temp 0) by introducing small perturbations in the input or graph structure -(CyberLink_MediaShow) → (feature) → (Photo_Editing, Video_Editing)- and assessing the consistency of generated explanations."
   ]
  },
  {
   "cell_type": "code",
   "execution_count": null,
   "id": "2eb693a0-5e0c-488c-ba33-39171c48d69e",
   "metadata": {
    "colab": {
     "base_uri": "https://localhost:8080/"
    },
    "id": "2eb693a0-5e0c-488c-ba33-39171c48d69e",
    "outputId": "76ba4136-2099-4305-b969-e93536ba063d"
   },
   "outputs": [],
   "source": [
    "temp = 0\n",
    "original_answer_str, original_answer_embedding = get_answer_and_embedding(question, temp, graph)\n",
    "print(f\"Original answer: {original_answer_str}\")"
   ]
  },
  {
   "cell_type": "code",
   "execution_count": null,
   "id": "9281a967-5c9d-47cf-82a2-07aa5c3091c4",
   "metadata": {
    "colab": {
     "base_uri": "https://localhost:8080/"
    },
    "id": "9281a967-5c9d-47cf-82a2-07aa5c3091c4",
    "outputId": "3af66d9e-fcd6-43fa-aa9c-2c5e7784549b"
   },
   "outputs": [],
   "source": [
    "coeff = calculate_coefficients_print_Temerature(\n",
    "    temp= temp,\n",
    "    original=original,\n",
    "    kg=kg_added,\n",
    "    part_names=part_names_added,\n",
    "    question=question,\n",
    "    original_answer_embedding=original_answer_embedding,\n",
    "    original_answer_str = original_answer_str,\n",
    ")"
   ]
  },
  {
   "cell_type": "code",
   "execution_count": null,
   "id": "e5c4402c-e155-4cc1-963e-d15255b5f0cc",
   "metadata": {
    "colab": {
     "base_uri": "https://localhost:8080/"
    },
    "id": "e5c4402c-e155-4cc1-963e-d15255b5f0cc",
    "outputId": "1131ebd1-99a4-4739-d170-f5c52efb3873"
   },
   "outputs": [],
   "source": [
    "coeff"
   ]
  },
  {
   "cell_type": "code",
   "execution_count": null,
   "id": "3a35401c-8e25-4ed7-a688-89a8d2a9a8e6",
   "metadata": {
    "colab": {
     "base_uri": "https://localhost:8080/",
     "height": 739
    },
    "id": "3a35401c-8e25-4ed7-a688-89a8d2a9a8e6",
    "outputId": "a0ac82e0-12be-45ec-dcb5-ac5855f1e9db"
   },
   "outputs": [],
   "source": [
    "# Define the coefficient arrays\n",
    "coeff_original = np.array([ 0.,  0.,  1.,  0., -0.,  0.,  0.,  0.,  0., -0.])\n",
    "coeff_added = np.array([-1.89823548e-06,  2.43429293e-06,  9.99923737e-01,  1.98800576e-05,\n",
    "       -4.19541694e-06,  9.27024609e-06, -2.49580052e-06, -8.05556684e-07,\n",
    "       -5.39495108e-06,  7.27228729e-06])\n",
    "# Call the function\n",
    "plot_knowledge_graph_explainability_compare(\n",
    "    kg_original= kg,\n",
    "    coeff_original=coeff_original,\n",
    "    part_indices_original=part_indices,\n",
    "    kg_added=kg_added,\n",
    "    coeff_added=coeff_added,\n",
    "    part_indices_added=part_indices_added\n",
    ")"
   ]
  },
  {
   "cell_type": "code",
   "execution_count": null,
   "id": "4ab31642-3171-4063-b93e-b9db0c80e793",
   "metadata": {
    "colab": {
     "base_uri": "https://localhost:8080/"
    },
    "id": "4ab31642-3171-4063-b93e-b9db0c80e793",
    "outputId": "4db4d7b7-e0ea-49d1-b136-915b8822317e"
   },
   "outputs": [],
   "source": [
    "jaccard_index = calculate_jaccard_index(coeff_original, coeff_added)\n",
    "print(\"Jaccard Index:\", jaccard_index)"
   ]
  },
  {
   "cell_type": "markdown",
   "id": "1dfdee14-5f1b-42a2-9a9e-e872fd6aeefc",
   "metadata": {
    "id": "1dfdee14-5f1b-42a2-9a9e-e872fd6aeefc"
   },
   "source": [
    "## Stability: Evaluate the explanation for \"what is Network_Security_Services?\" (Temp 1) by introducing small perturbations in the input or graph structure -(CyberQuery) → (platform) → (Windows, Unix, OpenVMS)- and assessing the consistency of generated explanations."
   ]
  },
  {
   "cell_type": "code",
   "execution_count": null,
   "id": "e0cadd40",
   "metadata": {
    "id": "e0cadd40"
   },
   "outputs": [],
   "source": [
    "kg_added = [\n",
    "    (\"Scooby-Doo_and_the_Cyber_Chase_(video_game)\", \"type\", \"Software\"),\n",
    "    (\"Scooby-Doo_and_the_Cyber_Chase_(video_game)\", \"label\", \"Scooby-Doo and the Cyber Chase (video game)\"),\n",
    "    (\"Scooby-Doo_and_the_Cyber_Chase_(video_game)\", \"abstract\", \"Scooby-Doo and the Cyber Chase is a Scooby-Doo video game based on the Warner Brothers film Scooby-Doo and the Cyber Chase. The game was released for the PlayStation and Game Boy Advance in 2001. The PlayStation version became a 'Greatest Hits' title in 2003.\"),\n",
    "\n",
    "    (\"Mirai_(malware)\", \"type\", \"Software\"),\n",
    "    (\"Mirai_(malware)\", \"label\", \"Mirai (malware)\"),\n",
    "    (\"Mirai_(malware)\", \"abstract\", \"Mirai (from the Japanese word for 'future', 未来) is a malware that turns networked devices running Linux into remotely controlled bots that can be used as part of a botnet in large-scale network attacks. It primarily targets online consumer devices such as IP cameras and home routers. The Mirai botnet was first found in August 2016 by MalwareMustDie, a white hat malware research group, and has been used in some of the largest and most disruptive distributed denial of service (DDoS) attacks, including an attack on 20 September 2016 on computer security journalist Brian Krebs' website, an attack on French web host OVH, and the October 2016 Dyn cyberattack. According to a chat log between Anna-senpai and Robert Coelho, Mirai was named after the 2011 TV anime series Mirai Nikki. The software was initially used by the creators to DDoS Minecraft servers and companies offering DDoS protection to Minecraft servers, with the authors using Mirai to operate a protection racket. The source code for Mirai was subsequently published on Hack Forums as open-source. Since the source code was published, the techniques have been adapted in other malware projects.\"),\n",
    "\n",
    "    (\"Network_Security_Services\", \"type\", \"Software\"),\n",
    "    (\"Network_Security_Services\", \"label\", \"Network Security Services\"),\n",
    "    (\"Network_Security_Services\", \"abstract\", \"Network Security Services (NSS) is a collection of cryptographic computer libraries designed to support cross-platform development of security-enabled client and server applications with optional support for hardware TLS/SSL acceleration on the server side and hardware smart cards on the client side. NSS provides a complete open-source implementation of cryptographic libraries supporting Transport Layer Security (TLS) / Secure Sockets Layer (SSL) and S/MIME. NSS releases prior to version 3.14 are tri-licensed under the Mozilla Public License 1.1, the GNU General Public License, and the GNU Lesser General Public License. Since release 3.14, NSS releases are licensed under GPL-compatible Mozilla Public License 2.0.\"),\n",
    "\n",
    "    (\"MS_Antivirus_(malware)\", \"type\", \"Software\"),\n",
    "    (\"MS_Antivirus_(malware)\", \"label\", \"MS Antivirus (malware)\"),\n",
    "    (\"MS_Antivirus_(malware)\", \"abstract\", \"MS Antivirus (also known as Spyware Protect 2009 and Antivirus XP 2008/Antivirus2009/SecurityTool/etc) is a scareware rogue anti-virus which purports to remove virus infections found on a computer running Microsoft Windows. It attempts to scam the user into purchasing a 'full version' of the software. The company and the individuals behind Bakasoftware operated under other different 'company' names, including Innovagest2000, Innovative Marketing Ukraine, Pandora Software, LocusSoftware, etc.\"),\n",
    "\n",
    "    (\"CyberCIEGE\", \"type\", \"Software\"),\n",
    "    (\"CyberCIEGE\", \"label\", \"CyberCIEGE\"),\n",
    "    (\"CyberCIEGE\", \"abstract\", \"CyberCIEGE is a serious game designed to teach network security concepts. Its development was sponsored by the U.S. Navy, and it is used as a training tool by agencies of the U.S. government, universities and community colleges. CyberCIEGE covers a broad range of cybersecurity topics. Players purchase and configure computers and network devices to keep demanding users happy (e.g., by providing Internet access) all while protecting assets from a variety of attacks. The game includes a number of different scenarios, some of which focus on basic training and awareness, others on more advanced network security concepts.\"),\n",
    "\n",
    "    (\"CyberExtension\", \"type\", \"Software\"),\n",
    "    (\"CyberExtension\", \"label\", \"CyberExtension\"),\n",
    "    (\"CyberExtension\", \"abstract\", \"CyberExtension is a managed virtual learning environment built by Right Reason Technologies (RRT) that is designed to be used as an online extension of a school district in the USA. The system is currently used for homebound students, credit recovery and supplemental coursework, and has been successfully deployed to help students with 'school phobia' and students undergoing medical treatment.\"),\n",
    "\n",
    "    (\"CyberGladiators\", \"type\", \"Software\"),\n",
    "    (\"CyberGladiators\", \"label\", \"CyberGladiators\"),\n",
    "    (\"CyberGladiators\", \"abstract\", \"CyberGladiators is a 1996 fighting game developed by K.A.A. (label of Dynamix) and published by Sierra On-Line. The game is divided of fights between members of the Quaaflax Alliance and members of the terrorist organization Gy Djin. All characters have been transformed by a cosmic storm into CyberGladiators.\"),\n",
    "\n",
    "    (\"CyberLink_MediaShow\", \"type\", \"Software\"),\n",
    "    (\"CyberLink_MediaShow\", \"label\", \"CyberLink MediaShow\"),\n",
    "    (\"CyberLink_MediaShow\", \"abstract\", \"CyberLink MediaShow is a software application for organizing, editing and sharing photos and videos, published by CyberLink Corporation. MediaShow allows users to import video and photo files from digital cameras, phones, and camcorders. Its main competitors are Arcsoft MediaImpression, Adobe Bridge, Roxio Creator and Google Picasa.\"),\n",
    "\n",
    "    (\"CyberQuery\", \"type\", \"Software\"),\n",
    "    (\"CyberQuery\", \"label\", \"CyberQuery\"),\n",
    "    (\"CyberQuery\", \"abstract\", \"Cyberquery is a software product of Cyberscience Corporation Inc. Originally developed for data handling and analysis on Data General AOS and AOS/VS minicomputers, then the available platforms for Cyberquery were extended to all major UNIX platforms, OpenVMS, and Microsoft Windows.\"),\n",
    "    (\"CyberQuery\",\"platform\",\"Windows, Unix, OpenVMS\"),\n",
    "\n",
    "    (\"CyberStrike\", \"type\", \"Software\"),\n",
    "    (\"CyberStrike\", \"label\", \"CyberStrike\"),\n",
    "    (\"CyberStrike\", \"abstract\", \"CyberStrike is a futuristic 3D combat online game by Simutronics, involving team combat between customizable mechs, each of which is controlled by a different player. Initially exclusive to the GEnie online service, it opened in February 1993, and later that year it caused Computer Gaming World to create the new category of 'Online Game of the Year' so it could be awarded to CyberStrike. In 1994, it was offered in stores by MicroProse. In 1997, a sequel, Cyberstrike 2, was announced as a joint project between Simutronics and Sony's 989 Studios.\")\n",
    "]\n",
    "part_indices_added = {\n",
    "    \"Part 1\": range(0, 3),   # Scooby-Doo_and_the_Cyber_Chase_(video_game) (3 attributes)\n",
    "    \"Part 2\": range(3, 6),   # Mirai_(malware) (3 attributes)\n",
    "    \"Part 3\": range(6, 9),   # Network_Security_Services (3 attributes)\n",
    "    \"Part 4\": range(9, 12),  # MS_Antivirus_(malware) (3 attributes)\n",
    "    \"Part 5\": range(12, 15), # CyberCIEGE (3 attributes)\n",
    "    \"Part 6\": range(15, 18), # CyberExtension (3 attributes)\n",
    "    \"Part 7\": range(18, 21), # CyberGladiators (3 attributes)\n",
    "    \"Part 8\": range(21, 24), # CyberLink_MediaShow (3 attributes)\n",
    "    \"Part 9\": range(24, 28), # CyberQuery (4 attributes, including platform)\n",
    "    \"Part 10\": range(28, 31) # CyberStrike (3 attributes)\n",
    "}\n",
    "\n",
    "part_names_added = list(part_indices_added.keys())\n",
    "\n"
   ]
  },
  {
   "cell_type": "code",
   "execution_count": null,
   "id": "b3906935-0d51-4c9f-99fc-a8bfaf29eb58",
   "metadata": {
    "colab": {
     "base_uri": "https://localhost:8080/",
     "height": 1000
    },
    "id": "b3906935-0d51-4c9f-99fc-a8bfaf29eb58",
    "outputId": "aa296760-3b7d-481a-d559-90944f070412"
   },
   "outputs": [],
   "source": [
    "visualize_graph_with_chains(kg, part_indices)"
   ]
  },
  {
   "cell_type": "code",
   "execution_count": null,
   "id": "b6df9d2c",
   "metadata": {
    "colab": {
     "base_uri": "https://localhost:8080/"
    },
    "id": "b6df9d2c",
    "outputId": "b751f97b-f0a0-4a1b-f5ae-d46ec034f22c"
   },
   "outputs": [],
   "source": [
    "temp = 1\n",
    "original_answer_str, original_answer_embedding = get_answer_and_embedding(question, temp, graph)\n",
    "print(original_answer_str)"
   ]
  },
  {
   "cell_type": "code",
   "execution_count": null,
   "id": "50fa0b4e",
   "metadata": {
    "colab": {
     "base_uri": "https://localhost:8080/"
    },
    "id": "50fa0b4e",
    "outputId": "51ccc111-69bd-4da1-b22b-f684e36dfff6",
    "scrolled": true
   },
   "outputs": [],
   "source": [
    "coeff = calculate_coefficients_print_Temerature(\n",
    "    temp= temp,\n",
    "    original=original,\n",
    "    kg=kg_added,\n",
    "    part_names=part_names_added,\n",
    "    question=question,\n",
    "    original_answer_embedding=original_answer_embedding,\n",
    "    original_answer_str = original_answer_str,\n",
    ")"
   ]
  },
  {
   "cell_type": "code",
   "execution_count": null,
   "id": "f632dc2f",
   "metadata": {
    "colab": {
     "base_uri": "https://localhost:8080/"
    },
    "id": "f632dc2f",
    "outputId": "6c182672-941c-468e-ed27-091ad8b3066e"
   },
   "outputs": [],
   "source": [
    "coeff"
   ]
  },
  {
   "cell_type": "code",
   "execution_count": null,
   "id": "b6f36cc1",
   "metadata": {
    "colab": {
     "base_uri": "https://localhost:8080/",
     "height": 739
    },
    "id": "b6f36cc1",
    "outputId": "9a6728dc-9abf-470e-8b93-bec92c386f1c"
   },
   "outputs": [],
   "source": [
    "# Define the coefficient arrays\n",
    "coeff_original = np.array([ 0.074, -0.349,  0.278, -0.24 , -0.256,  0.23 ,  0.057, -0.081,\n",
    "        0.373, -0.109])\n",
    "coeff_added = np.array([ 1.30622777,  0.19885919,  0.22188975, -0.66733012, -0.34512841,\n",
    "        0.10683203,  0.53300889, -0.65396778,  0.10628119, -0.01095575])\n",
    "# Call the function\n",
    "plot_knowledge_graph_explainability_compare(\n",
    "    kg_original= kg,\n",
    "    coeff_original=coeff_original,\n",
    "    part_indices_original=part_indices,\n",
    "    kg_added=kg_added,\n",
    "    coeff_added=coeff_added,\n",
    "    part_indices_added=part_indices_added\n",
    ")"
   ]
  },
  {
   "cell_type": "code",
   "execution_count": null,
   "id": "bfa024cb",
   "metadata": {
    "colab": {
     "base_uri": "https://localhost:8080/"
    },
    "id": "bfa024cb",
    "outputId": "413d78d6-2d0a-4ec1-aaec-7b35de74fb44"
   },
   "outputs": [],
   "source": [
    "jaccard_index = calculate_jaccard_index(coeff_original, coeff_added)\n",
    "print(\"Jaccard Index:\", jaccard_index)"
   ]
  },
  {
   "cell_type": "markdown",
   "id": "d061aa0b-ed07-427d-bb4f-6cb18b354ee7",
   "metadata": {
    "id": "d061aa0b-ed07-427d-bb4f-6cb18b354ee7"
   },
   "source": [
    "## Stability: Evaluate the explanation for \"what is Network_Security_Services?\" (Temp 0) by introducing small perturbations in the input or graph structure -(CyberQuery) → (platform) → (Windows, Unix, OpenVMS)- and assessing the consistency of generated explanations."
   ]
  },
  {
   "cell_type": "code",
   "execution_count": null,
   "id": "0ed4dca7-ec39-435d-aeb3-f1b370904c93",
   "metadata": {
    "colab": {
     "base_uri": "https://localhost:8080/"
    },
    "id": "0ed4dca7-ec39-435d-aeb3-f1b370904c93",
    "outputId": "64619a53-d134-4b34-f215-d9e45fb59e66"
   },
   "outputs": [],
   "source": [
    "temp = 0\n",
    "original_answer_str, original_answer_embedding = get_answer_and_embedding(question, temp, graph)\n",
    "print(f\"Original answer: {original_answer_str}\")"
   ]
  },
  {
   "cell_type": "code",
   "execution_count": null,
   "id": "8dfa7dee-b4b0-49c4-b080-401123dc0fe4",
   "metadata": {
    "colab": {
     "base_uri": "https://localhost:8080/"
    },
    "id": "8dfa7dee-b4b0-49c4-b080-401123dc0fe4",
    "outputId": "a3ccd182-d0dc-4def-f073-365e2a923a83"
   },
   "outputs": [],
   "source": [
    "coeff = calculate_coefficients_print_Temerature(\n",
    "    temp= temp,\n",
    "    original=original,\n",
    "    kg=kg_added,\n",
    "    part_names=part_names_added,\n",
    "    question=question,\n",
    "    original_answer_embedding=original_answer_embedding,\n",
    "    original_answer_str = original_answer_str,\n",
    ")"
   ]
  },
  {
   "cell_type": "code",
   "execution_count": null,
   "id": "f70089a5-c581-4b90-8688-bed6fbc18729",
   "metadata": {
    "colab": {
     "base_uri": "https://localhost:8080/"
    },
    "id": "f70089a5-c581-4b90-8688-bed6fbc18729",
    "outputId": "cab96edf-59c2-4645-9b27-5d55460d83e5"
   },
   "outputs": [],
   "source": [
    "coeff"
   ]
  },
  {
   "cell_type": "code",
   "execution_count": null,
   "id": "cda198c3-fbc4-48cc-a8f3-9d3470c5379b",
   "metadata": {
    "colab": {
     "base_uri": "https://localhost:8080/",
     "height": 739
    },
    "id": "cda198c3-fbc4-48cc-a8f3-9d3470c5379b",
    "outputId": "2847b682-c266-4ef0-95a8-b17b693a4675"
   },
   "outputs": [],
   "source": [
    "# Define the coefficient arrays\n",
    "coeff_original = np.array([ 0.,  0.,  1.,  0., -0.,  0.,  0.,  0.,  0., -0.])\n",
    "coeff_added = np.array([ 5.65870483e-06, -1.81987481e-06,  9.99931971e-01,  7.32212663e-06,\n",
    "       -7.21300851e-06, -3.81859816e-06, -4.53506413e-06,  1.47576528e-05,\n",
    "        1.65984939e-05, -4.42069656e-06])\n",
    "# Call the function\n",
    "plot_knowledge_graph_explainability_compare(\n",
    "    kg_original= kg,\n",
    "    coeff_original=coeff_original,\n",
    "    part_indices_original=part_indices,\n",
    "    kg_added=kg_added,\n",
    "    coeff_added=coeff_added,\n",
    "    part_indices_added=part_indices_added\n",
    ")"
   ]
  },
  {
   "cell_type": "code",
   "execution_count": null,
   "id": "03af85b4-a19b-4b0d-9a76-67ae3d7e0b2c",
   "metadata": {
    "colab": {
     "base_uri": "https://localhost:8080/"
    },
    "id": "03af85b4-a19b-4b0d-9a76-67ae3d7e0b2c",
    "outputId": "dc6b73a4-fb7a-4512-8761-0f5a0192d72f"
   },
   "outputs": [],
   "source": [
    "jaccard_index = calculate_jaccard_index(coeff_original, coeff_added)\n",
    "print(\"Jaccard Index:\", jaccard_index)"
   ]
  },
  {
   "cell_type": "markdown",
   "id": "ae582969-59e8-4ea3-a92d-0d508fc25c45",
   "metadata": {
    "id": "ae582969-59e8-4ea3-a92d-0d508fc25c45"
   },
   "source": [
    "## Stability: Evaluate the explanation for \"what is Network_Security_Services?\" (Temp 1) by introducing small perturbations in the input or graph structure -(CyberStrike) → (developer) → (Simutronics)- and assessing the consistency of generated explanations."
   ]
  },
  {
   "cell_type": "code",
   "execution_count": null,
   "id": "c162bac5-71cf-4d3d-b680-fe7c7376c729",
   "metadata": {
    "id": "c162bac5-71cf-4d3d-b680-fe7c7376c729"
   },
   "outputs": [],
   "source": [
    "kg_added = [\n",
    "    (\"Scooby-Doo_and_the_Cyber_Chase_(video_game)\", \"type\", \"Software\"),\n",
    "    (\"Scooby-Doo_and_the_Cyber_Chase_(video_game)\", \"label\", \"Scooby-Doo and the Cyber Chase (video game)\"),\n",
    "    (\"Scooby-Doo_and_the_Cyber_Chase_(video_game)\", \"abstract\", \"Scooby-Doo and the Cyber Chase is a Scooby-Doo video game based on the Warner Brothers film Scooby-Doo and the Cyber Chase. The game was released for the PlayStation and Game Boy Advance in 2001. The PlayStation version became a 'Greatest Hits' title in 2003.\"),\n",
    "\n",
    "    (\"Mirai_(malware)\", \"type\", \"Software\"),\n",
    "    (\"Mirai_(malware)\", \"label\", \"Mirai (malware)\"),\n",
    "    (\"Mirai_(malware)\", \"abstract\", \"Mirai (from the Japanese word for 'future', 未来) is a malware that turns networked devices running Linux into remotely controlled bots that can be used as part of a botnet in large-scale network attacks. It primarily targets online consumer devices such as IP cameras and home routers. The Mirai botnet was first found in August 2016 by MalwareMustDie, a white hat malware research group, and has been used in some of the largest and most disruptive distributed denial of service (DDoS) attacks, including an attack on 20 September 2016 on computer security journalist Brian Krebs' website, an attack on French web host OVH, and the October 2016 Dyn cyberattack. According to a chat log between Anna-senpai and Robert Coelho, Mirai was named after the 2011 TV anime series Mirai Nikki. The software was initially used by the creators to DDoS Minecraft servers and companies offering DDoS protection to Minecraft servers, with the authors using Mirai to operate a protection racket. The source code for Mirai was subsequently published on Hack Forums as open-source. Since the source code was published, the techniques have been adapted in other malware projects.\"),\n",
    "\n",
    "    (\"Network_Security_Services\", \"type\", \"Software\"),\n",
    "    (\"Network_Security_Services\", \"label\", \"Network Security Services\"),\n",
    "    (\"Network_Security_Services\", \"abstract\", \"Network Security Services (NSS) is a collection of cryptographic computer libraries designed to support cross-platform development of security-enabled client and server applications with optional support for hardware TLS/SSL acceleration on the server side and hardware smart cards on the client side. NSS provides a complete open-source implementation of cryptographic libraries supporting Transport Layer Security (TLS) / Secure Sockets Layer (SSL) and S/MIME. NSS releases prior to version 3.14 are tri-licensed under the Mozilla Public License 1.1, the GNU General Public License, and the GNU Lesser General Public License. Since release 3.14, NSS releases are licensed under GPL-compatible Mozilla Public License 2.0.\"),\n",
    "\n",
    "    (\"MS_Antivirus_(malware)\", \"type\", \"Software\"),\n",
    "    (\"MS_Antivirus_(malware)\", \"label\", \"MS Antivirus (malware)\"),\n",
    "    (\"MS_Antivirus_(malware)\", \"abstract\", \"MS Antivirus (also known as Spyware Protect 2009 and Antivirus XP 2008/Antivirus2009/SecurityTool/etc) is a scareware rogue anti-virus which purports to remove virus infections found on a computer running Microsoft Windows. It attempts to scam the user into purchasing a 'full version' of the software. The company and the individuals behind Bakasoftware operated under other different 'company' names, including Innovagest2000, Innovative Marketing Ukraine, Pandora Software, LocusSoftware, etc.\"),\n",
    "\n",
    "    (\"CyberCIEGE\", \"type\", \"Software\"),\n",
    "    (\"CyberCIEGE\", \"label\", \"CyberCIEGE\"),\n",
    "    (\"CyberCIEGE\", \"abstract\", \"CyberCIEGE is a serious game designed to teach network security concepts. Its development was sponsored by the U.S. Navy, and it is used as a training tool by agencies of the U.S. government, universities and community colleges. CyberCIEGE covers a broad range of cybersecurity topics. Players purchase and configure computers and network devices to keep demanding users happy (e.g., by providing Internet access) all while protecting assets from a variety of attacks. The game includes a number of different scenarios, some of which focus on basic training and awareness, others on more advanced network security concepts.\"),\n",
    "\n",
    "    (\"CyberExtension\", \"type\", \"Software\"),\n",
    "    (\"CyberExtension\", \"label\", \"CyberExtension\"),\n",
    "    (\"CyberExtension\", \"abstract\", \"CyberExtension is a managed virtual learning environment built by Right Reason Technologies (RRT) that is designed to be used as an online extension of a school district in the USA. The system is currently used for homebound students, credit recovery and supplemental coursework, and has been successfully deployed to help students with 'school phobia' and students undergoing medical treatment.\"),\n",
    "\n",
    "    (\"CyberGladiators\", \"type\", \"Software\"),\n",
    "    (\"CyberGladiators\", \"label\", \"CyberGladiators\"),\n",
    "    (\"CyberGladiators\", \"abstract\", \"CyberGladiators is a 1996 fighting game developed by K.A.A. (label of Dynamix) and published by Sierra On-Line. The game is divided of fights between members of the Quaaflax Alliance and members of the terrorist organization Gy Djin. All characters have been transformed by a cosmic storm into CyberGladiators.\"),\n",
    "\n",
    "    (\"CyberLink_MediaShow\", \"type\", \"Software\"),\n",
    "    (\"CyberLink_MediaShow\", \"label\", \"CyberLink MediaShow\"),\n",
    "    (\"CyberLink_MediaShow\", \"abstract\", \"CyberLink MediaShow is a software application for organizing, editing and sharing photos and videos, published by CyberLink Corporation. MediaShow allows users to import video and photo files from digital cameras, phones, and camcorders. Its main competitors are Arcsoft MediaImpression, Adobe Bridge, Roxio Creator and Google Picasa.\"),\n",
    "\n",
    "    (\"CyberQuery\", \"type\", \"Software\"),\n",
    "    (\"CyberQuery\", \"label\", \"CyberQuery\"),\n",
    "    (\"CyberQuery\", \"abstract\", \"Cyberquery is a software product of Cyberscience Corporation Inc. Originally developed for data handling and analysis on Data General AOS and AOS/VS minicomputers, then the available platforms for Cyberquery were extended to all major UNIX platforms, OpenVMS, and Microsoft Windows.\"),\n",
    "\n",
    "    (\"CyberStrike\", \"type\", \"Software\"),\n",
    "    (\"CyberStrike\", \"label\", \"CyberStrike\"),\n",
    "    (\"CyberStrike\", \"abstract\", \"CyberStrike is a futuristic 3D combat online game by Simutronics, involving team combat between customizable mechs, each of which is controlled by a different player. Initially exclusive to the GEnie online service, it opened in February 1993, and later that year it caused Computer Gaming World to create the new category of 'Online Game of the Year' so it could be awarded to CyberStrike. In 1994, it was offered in stores by MicroProse. In 1997, a sequel, Cyberstrike 2, was announced as a joint project between Simutronics and Sony's 989 Studios.\"),\n",
    "    (\"CyberStrike\",\"developer\",\"Simutronics\")\n",
    "]\n",
    "part_indices_added = {\n",
    "    \"Part 1\": range(0, 3),   # Scooby-Doo_and_the_Cyber_Chase_(video_game) (3 attributes)\n",
    "    \"Part 2\": range(3, 6),   # Mirai_(malware) (3 attributes)\n",
    "    \"Part 3\": range(6, 9),   # Network_Security_Services (3 attributes)\n",
    "    \"Part 4\": range(9, 12),  # MS_Antivirus_(malware) (3 attributes)\n",
    "    \"Part 5\": range(12, 15), # CyberCIEGE (3 attributes)\n",
    "    \"Part 6\": range(15, 18), # CyberExtension (3 attributes)\n",
    "    \"Part 7\": range(18, 21), # CyberGladiators (3 attributes)\n",
    "    \"Part 8\": range(21, 24), # CyberLink_MediaShow (3 attributes)\n",
    "    \"Part 9\": range(24, 27), # CyberQuery (3 attributes)\n",
    "    \"Part 10\": range(27, 31) # CyberStrike (4 attributes, including developer)\n",
    "}\n",
    "\n",
    "part_names_added = list(part_indices_added.keys())\n",
    "\n"
   ]
  },
  {
   "cell_type": "code",
   "execution_count": null,
   "id": "8121103c-17b4-47b3-8b96-28430781c506",
   "metadata": {
    "colab": {
     "base_uri": "https://localhost:8080/",
     "height": 1000
    },
    "id": "8121103c-17b4-47b3-8b96-28430781c506",
    "outputId": "bd008fc0-bb81-4810-9814-8e7b18f18f86"
   },
   "outputs": [],
   "source": [
    "visualize_graph_with_chains(kg, part_indices)"
   ]
  },
  {
   "cell_type": "code",
   "execution_count": null,
   "id": "8cbe6cad",
   "metadata": {
    "colab": {
     "base_uri": "https://localhost:8080/"
    },
    "id": "8cbe6cad",
    "outputId": "e4397179-7947-49c3-b2ee-7eccaaf4742d"
   },
   "outputs": [],
   "source": [
    "temp = 1\n",
    "original_answer_str, original_answer_embedding = get_answer_and_embedding(question, temp, graph)\n",
    "print(f\"Original answer: {original_answer_str}\")"
   ]
  },
  {
   "cell_type": "code",
   "execution_count": null,
   "id": "6dbf8569",
   "metadata": {
    "colab": {
     "base_uri": "https://localhost:8080/"
    },
    "id": "6dbf8569",
    "outputId": "d1fdaef4-abb9-48ff-8392-275774bc4212",
    "scrolled": true
   },
   "outputs": [],
   "source": [
    "coeff = calculate_coefficients_print_Temerature(\n",
    "    temp= temp,\n",
    "    original=original,\n",
    "    kg=kg_added,\n",
    "    part_names=part_names_added,\n",
    "    question=question,\n",
    "    original_answer_embedding=original_answer_embedding,\n",
    "    original_answer_str = original_answer_str,\n",
    ")"
   ]
  },
  {
   "cell_type": "code",
   "execution_count": null,
   "id": "2f0d9c68",
   "metadata": {
    "colab": {
     "base_uri": "https://localhost:8080/"
    },
    "id": "2f0d9c68",
    "outputId": "4354d66e-c54a-498d-91fd-558a600cd147"
   },
   "outputs": [],
   "source": [
    "coeff"
   ]
  },
  {
   "cell_type": "code",
   "execution_count": null,
   "id": "eaa048d9",
   "metadata": {
    "colab": {
     "base_uri": "https://localhost:8080/",
     "height": 739
    },
    "id": "eaa048d9",
    "outputId": "14d0f8c3-e82e-4558-f520-806440126c1e"
   },
   "outputs": [],
   "source": [
    "# Define the coefficient arrays\n",
    "coeff_original = np.array([ 0.074, -0.349,  0.278, -0.24 , -0.256,  0.23 ,  0.057, -0.081,\n",
    "        0.373, -0.109])\n",
    "coeff_added =np.array([-0.02234258, -0.01757465,  0.20638687,  0.24100065,  0.159924  ,\n",
    "        0.18545658,  0.00851473,  0.05492822,  0.02198553, -0.04757603])\n",
    "# Call the function\n",
    "plot_knowledge_graph_explainability_compare(\n",
    "    kg_original= kg,\n",
    "    coeff_original=coeff_original,\n",
    "    part_indices_original=part_indices,\n",
    "    kg_added=kg_added,\n",
    "    coeff_added=coeff_added,\n",
    "    part_indices_added=part_indices_added\n",
    ")"
   ]
  },
  {
   "cell_type": "code",
   "execution_count": null,
   "id": "1a4656f9",
   "metadata": {
    "colab": {
     "base_uri": "https://localhost:8080/"
    },
    "id": "1a4656f9",
    "outputId": "0ce82fc9-1b89-46b8-cd5e-89f50e1053a5"
   },
   "outputs": [],
   "source": [
    "jaccard_index = calculate_jaccard_index(coeff_original, coeff_added)\n",
    "print(\"Jaccard Index:\", jaccard_index)"
   ]
  },
  {
   "cell_type": "markdown",
   "id": "d0e2e264-b728-45c1-9cf3-f21f8d37d90f",
   "metadata": {
    "id": "d0e2e264-b728-45c1-9cf3-f21f8d37d90f"
   },
   "source": [
    "## Stability: Evaluate the explanation for \"what is Network_Security_Services?\" (Temp 0) by introducing small perturbations in the input or graph structure -(CyberStrike) → (developer) → (Simutronics)- and assessing the consistency of generated explanations."
   ]
  },
  {
   "cell_type": "code",
   "execution_count": null,
   "id": "4935982d-fc5b-469d-8061-0a34e7562b87",
   "metadata": {
    "colab": {
     "base_uri": "https://localhost:8080/"
    },
    "id": "4935982d-fc5b-469d-8061-0a34e7562b87",
    "outputId": "df18d44e-4665-4151-f35e-f03432438dc9"
   },
   "outputs": [],
   "source": [
    "temp = 0\n",
    "original_answer_str, original_answer_embedding = get_answer_and_embedding(question, temp, graph)\n",
    "print(f\"Original answer: {original_answer_str}\")"
   ]
  },
  {
   "cell_type": "code",
   "execution_count": null,
   "id": "db039eb3-4933-4763-9221-a9e7996ef1e7",
   "metadata": {
    "colab": {
     "base_uri": "https://localhost:8080/"
    },
    "id": "db039eb3-4933-4763-9221-a9e7996ef1e7",
    "outputId": "09113859-e514-454a-b862-9f8e0fb7e5cb"
   },
   "outputs": [],
   "source": [
    "coeff = calculate_coefficients_print_Temerature(\n",
    "    temp= temp,\n",
    "    original=original,\n",
    "    kg=kg_added,\n",
    "    part_names=part_names_added,\n",
    "    question=question,\n",
    "    original_answer_embedding=original_answer_embedding,\n",
    "    original_answer_str = original_answer_str,\n",
    ")"
   ]
  },
  {
   "cell_type": "code",
   "execution_count": null,
   "id": "57c77327-3c8d-4ed6-8e28-55f4a9181a25",
   "metadata": {
    "colab": {
     "base_uri": "https://localhost:8080/"
    },
    "id": "57c77327-3c8d-4ed6-8e28-55f4a9181a25",
    "outputId": "c0b5cfe8-182c-4133-b861-7929dbf409b4"
   },
   "outputs": [],
   "source": [
    "coeff"
   ]
  },
  {
   "cell_type": "code",
   "execution_count": null,
   "id": "fdadbbc0-88c4-44c1-9450-e31b3d7c9673",
   "metadata": {
    "colab": {
     "base_uri": "https://localhost:8080/",
     "height": 739
    },
    "id": "fdadbbc0-88c4-44c1-9450-e31b3d7c9673",
    "outputId": "0df8175c-e956-41a4-e881-3dcb5a0177fa"
   },
   "outputs": [],
   "source": [
    "# Define the coefficient arrays\n",
    "coeff_original = np.array([ 0.,  0.,  1.,  0., -0.,  0.,  0.,  0.,  0., -0.])\n",
    "coeff_added = np.array([ 1.45335520e-06, -1.79713148e-05,  9.99959183e-01, -2.87385559e-05,\n",
    "       -1.12191224e-05, -2.33819231e-06,  2.33958338e-05,  2.30942002e-05,\n",
    "       -2.17664885e-06, -7.10879282e-06])\n",
    "# Call the function\n",
    "plot_knowledge_graph_explainability_compare(\n",
    "    kg_original= kg,\n",
    "    coeff_original=coeff_original,\n",
    "    part_indices_original=part_indices,\n",
    "    kg_added=kg_added,\n",
    "    coeff_added=coeff_added,\n",
    "    part_indices_added=part_indices_added\n",
    ")"
   ]
  },
  {
   "cell_type": "code",
   "execution_count": null,
   "id": "b35ad5d8-7671-4511-a002-560ca96559f2",
   "metadata": {
    "colab": {
     "base_uri": "https://localhost:8080/"
    },
    "id": "b35ad5d8-7671-4511-a002-560ca96559f2",
    "outputId": "077cfbc2-01b1-4a85-d1d3-386f4106253e"
   },
   "outputs": [],
   "source": [
    "jaccard_index = calculate_jaccard_index(coeff_original, coeff_added)\n",
    "print(\"Jaccard Index:\", jaccard_index)"
   ]
  },
  {
   "cell_type": "code",
   "execution_count": null,
   "id": "3ff5314c-538c-4f2a-9c86-0bfc44d4dcb9",
   "metadata": {
    "id": "3ff5314c-538c-4f2a-9c86-0bfc44d4dcb9"
   },
   "outputs": [],
   "source": []
  },
  {
   "cell_type": "code",
   "execution_count": null,
   "id": "50153d79-b3b6-461d-91af-9185048ef57d",
   "metadata": {},
   "outputs": [],
   "source": []
  }
 ],
 "metadata": {
  "colab": {
   "collapsed_sections": [
    "eb1301f0-4ef1-4da4-af3b-a12298d0b3d8"
   ],
   "provenance": []
  },
  "kernelspec": {
   "display_name": "Python 3 (ipykernel)",
   "language": "python",
   "name": "python3"
  },
  "language_info": {
   "codemirror_mode": {
    "name": "ipython",
    "version": 3
   },
   "file_extension": ".py",
   "mimetype": "text/x-python",
   "name": "python",
   "nbconvert_exporter": "python",
   "pygments_lexer": "ipython3",
   "version": "3.12.1"
  }
 },
 "nbformat": 4,
 "nbformat_minor": 5
}
