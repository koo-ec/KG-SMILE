{
 "cells": [
  {
   "cell_type": "code",
   "execution_count": 3,
   "id": "uWz0SMuX5FFp",
   "metadata": {
    "id": "uWz0SMuX5FFp"
   },
   "outputs": [],
   "source": [
    "# Install the OpenAI and LangChain libraries\n",
    "# - `openai`: Provides access to OpenAI's GPT models for tasks like text generation, embeddings, and completions.\n",
    "# - `langchain`: A framework for building applications using large language models (LLMs).\n",
    "#                Includes tools for chaining prompts, memory, and integrations like knowledge graphs.\n",
    "!pip install -q openai langchain\n",
    "# Attempt to install the LangChain Community library\n",
    "# - `langchain-community`: This may refer to a community-supported version or extensions of LangChain.\n",
    "#   Ensure this package exists and is maintained if errors occur during installation.\n",
    "!pip install -q langchain-community"
   ]
  },
  {
   "cell_type": "markdown",
   "id": "5fa45a12-bf97-4b57-85ef-b8bd04ce5d9c",
   "metadata": {
    "id": "5fa45a12-bf97-4b57-85ef-b8bd04ce5d9c"
   },
   "source": [
    "This script initializes the OpenAI API client and defines a function to interact with the GPT model. The get_chat_response function sends a user-provided text input to the GPT model (gpt-3.5-turbo) and returns the model's response."
   ]
  },
  {
   "cell_type": "code",
   "execution_count": 4,
   "id": "v2VIfINowvpp",
   "metadata": {
    "id": "v2VIfINowvpp"
   },
   "outputs": [],
   "source": [
    "import os\n",
    "from openai import OpenAI\n",
    "\n",
    "# Set the API key in the environment variable\n",
    "os.environ[\"OPENAI_API_KEY\"] = \"sk-MNL1gYbV6CyXkh2rwPxao_D7n8nSxwW4_0wozr5sUtT3BlbkFJoEpwVXUH_Z3deg71NI-mM8QqSOkOGzQ5WDXmQ8FQEA\" # Replace with your actual API key\n",
    "\n",
    "client = OpenAI()\n",
    "\n",
    "def get_chat_response(text):\n",
    "    \"\"\"\n",
    "    This function takes a text input and returns the chat completion message.\n",
    "    \"\"\"\n",
    "    chat_completion = client.chat.completions.create(\n",
    "        messages=[\n",
    "            {\n",
    "                \"role\": \"user\",\n",
    "                \"content\": text,\n",
    "            }\n",
    "        ],\n",
    "        model=\"gpt-3.5-turbo\",\n",
    "    )\n",
    "    return chat_completion.choices[0].message.content\n"
   ]
  },
  {
   "cell_type": "code",
   "execution_count": null,
   "id": "d292c1a5-9e7d-4231-b908-8f3950b8c259",
   "metadata": {
    "id": "d292c1a5-9e7d-4231-b908-8f3950b8c259"
   },
   "outputs": [],
   "source": [
    "# Install required packages\n",
    "!pip install -q langchain langchain-community rdflib SPARQLWrapper\n",
    "\n",
    "# Standard libraries\n",
    "import os\n",
    "import re\n",
    "import json\n",
    "import random\n",
    "import textwrap\n",
    "import unicodedata\n",
    "import urllib.parse\n",
    "from collections import defaultdict\n",
    "\n",
    "# Data handling & scientific computing\n",
    "import numpy as np\n",
    "import pandas as pd\n",
    "\n",
    "# Visualization\n",
    "import matplotlib.pyplot as plt\n",
    "import matplotlib.colors as mcolors\n",
    "import seaborn as sns\n",
    "\n",
    "# Graphs / Networks\n",
    "import networkx as nx\n",
    "from langchain.graphs.networkx_graph import NetworkxEntityGraph, KnowledgeTriple\n",
    "\n",
    "# Machine Learning / Statistics\n",
    "from sklearn.linear_model import LinearRegression, BayesianRidge\n",
    "from sklearn.metrics import (\n",
    "    mean_absolute_error, mean_squared_error, r2_score,\n",
    "    roc_curve, auc\n",
    ")\n",
    "import sklearn.metrics  # For additional metrics if needed\n",
    "from sklearn.datasets import fetch_20newsgroups\n",
    "\n",
    "from scipy.spatial.distance import cosine\n",
    "from scipy.stats import wasserstein_distance\n",
    "\n",
    "# LangChain & OpenAI\n",
    "from langchain.llms import OpenAI as LangChainOpenAI\n",
    "from langchain.chains import GraphQAChain\n",
    "from langchain.prompts import PromptTemplate\n",
    "from openai import OpenAI\n",
    "\n",
    "# Colab specific\n",
    "from google.colab import drive\n"
   ]
  },
  {
   "cell_type": "markdown",
   "id": "38451a30-0f18-44af-acd0-e085ab5ed48a",
   "metadata": {
    "id": "38451a30-0f18-44af-acd0-e085ab5ed48a"
   },
   "source": [
    "This script defines a knowledge graph using a set of triples representing entities (nodes) and their relationships (edges). The triples are categorized into parts based on themes, such as LLMs in the legal context, RAG integration, collaborations, and key people involved. The knowledge graph is constructed programmatically by adding these triples into the graph index, which allows for efficient querying and analysis."
   ]
  },
  {
   "cell_type": "code",
   "execution_count": null,
   "id": "aa1R_DL-vTgv",
   "metadata": {
    "colab": {
     "base_uri": "https://localhost:8080/",
     "height": 1000
    },
    "id": "aa1R_DL-vTgv",
    "outputId": "07123b8b-1683-4242-c8cc-965ba112e5fc"
   },
   "outputs": [],
   "source": [
    "# Mount Google Drive\n",
    "drive.mount('/content/drive')\n",
    "\n",
    "# Set the API key in the environment variable and initialize client\n",
    "os.environ[\"OPENAI_API_KEY\"] = \"sk-MNL1gYbV6CyXkh2rwPxao_D7n8nSxwW4_0wozr5sUtT3BlbkFJoEpwVXUH_Z3deg71NI-mM8QqSOkOGzQ5WDXmQ8FQEA\"\n",
    "client = OpenAI(api_key=os.environ[\"OPENAI_API_KEY\"])  # Explicitly set API key\n",
    "\n",
    "# Paths\n",
    "file_path = \"/content/drive/MyDrive/PrimeKG_Data/final_test.json\"\n",
    "output_dir = \"/content/drive/MyDrive/PrimeKG_Data/\"\n",
    "\n",
    "# Embedding cache and model\n",
    "embedding_cache = {}\n",
    "EMBEDDING_MODEL = \"text-embedding-ada-002\"  # Unified model\n",
    "\n",
    "def get_chat_response(text):\n",
    "    chat_completion = client.chat.completions.create(\n",
    "        messages=[{\"role\": \"user\", \"content\": text}],\n",
    "        model=\"gpt-3.5-turbo\",\n",
    "    )\n",
    "    return chat_completion.choices[0].message.content\n",
    "\n",
    "def load_primekg_data(file_path):\n",
    "    try:\n",
    "        with open(file_path, 'r', encoding='utf-8') as f:\n",
    "            data = json.load(f)\n",
    "        print(f\"Successfully loaded {len(data)} entries from {file_path}\")\n",
    "        return data\n",
    "    except Exception as e:\n",
    "        print(f\"Error loading data: {e}\")\n",
    "        return []\n",
    "\n",
    "def is_diabetes_related(text):\n",
    "    core_diabetes_terms = ['diabetes', 'diabetic', 'insulin', 'glucose', 'type 1 diabetes', 'type 2 diabetes', 't1d', 't2d']\n",
    "    secondary_terms = ['hyperglycemia', 'hypoglycemia', 'glycemic', 'a1c', 'hemoglobin a1c', 'gestational diabetes', 'prediabetes', 'metabolic syndrome', 'pancreatic', 'islet', 'beta cell', 'metformin', 'glucagon', 'diabetic retinopathy', 'diabetic nephropathy', 'diabetic neuropathy']\n",
    "    text_lower = text.lower()\n",
    "    for term in core_diabetes_terms:\n",
    "        if term in text_lower:\n",
    "            return 2\n",
    "    for term in secondary_terms:\n",
    "        if term in text_lower:\n",
    "            return 1\n",
    "    return 0\n",
    "\n",
    "def extract_diabetes_knowledge_graph(data, max_parts=10):\n",
    "    all_diabetes_triples = []\n",
    "    for entry in data:\n",
    "        triples = entry.get('value', [])\n",
    "        if not triples:\n",
    "            continue\n",
    "        for triple in triples:\n",
    "            if len(triple) == 3:\n",
    "                subject, predicate, obj = triple\n",
    "                subject_decoded = urllib.parse.unquote(subject)\n",
    "                predicate_decoded = urllib.parse.unquote(predicate)\n",
    "                obj_decoded = urllib.parse.unquote(obj)\n",
    "                total_score = is_diabetes_related(subject_decoded) + is_diabetes_related(predicate_decoded) + is_diabetes_related(obj_decoded)\n",
    "                if total_score > 0:\n",
    "                    all_diabetes_triples.append((triple, total_score))\n",
    "\n",
    "    all_diabetes_triples.sort(key=lambda x: x[1], reverse=True)\n",
    "    G = nx.Graph()\n",
    "    for (triple, _) in all_diabetes_triples:\n",
    "        subject, predicate, obj = triple\n",
    "        subject_decoded = urllib.parse.unquote(subject)\n",
    "        obj_decoded = urllib.parse.unquote(obj)\n",
    "        G.add_edge(subject_decoded, obj_decoded, relation=predicate)\n",
    "\n",
    "    connected_components = list(nx.connected_components(G))\n",
    "    connected_components.sort(key=len, reverse=True)\n",
    "    components_to_use = connected_components[:max_parts]\n",
    "\n",
    "    nodes_to_keep = set()\n",
    "    for component in components_to_use:\n",
    "        nodes_to_keep.update(component)\n",
    "\n",
    "    filtered_triples = []\n",
    "    for (triple, score) in all_diabetes_triples:\n",
    "        subject, predicate, obj = triple\n",
    "        subject_decoded = urllib.parse.unquote(subject)\n",
    "        obj_decoded = urllib.parse.unquote(obj)\n",
    "        if subject_decoded in nodes_to_keep and obj_decoded in nodes_to_keep:\n",
    "            filtered_triples.append(triple)\n",
    "\n",
    "    kg = []\n",
    "    portion_indices = {}\n",
    "    triple_index = 0\n",
    "    portion_counter = 1\n",
    "\n",
    "    print(\"\\nStructured Diabetes Knowledge Graph (Focused on Strong Connections):\\n\")\n",
    "    component_to_triples = defaultdict(list)\n",
    "    for triple in filtered_triples:\n",
    "        subject, _, obj = triple\n",
    "        subject_decoded = urllib.parse.unquote(subject)\n",
    "        obj_decoded = urllib.parse.unquote(obj)\n",
    "        for i, component in enumerate(components_to_use):\n",
    "            if subject_decoded in component and obj_decoded in component:\n",
    "                component_to_triples[i].append(triple)\n",
    "                break\n",
    "\n",
    "    for component_idx, triples in component_to_triples.items():\n",
    "        if not triples or portion_counter > max_parts:\n",
    "            continue\n",
    "        triples = triples[:20]  # Limit to 20 triples per part\n",
    "        start_index = triple_index\n",
    "        end_index = start_index + len(triples)\n",
    "        portion_indices[f\"Part {portion_counter}\"] = range(start_index, end_index)\n",
    "        print(f\"\\n# Part {portion_counter}\")\n",
    "        for triple in triples:\n",
    "            subject, predicate, obj = triple\n",
    "            subject_decoded = urllib.parse.unquote(subject)\n",
    "            predicate_decoded = urllib.parse.unquote(predicate)\n",
    "            obj_decoded = urllib.parse.unquote(obj)\n",
    "            print(f\"({subject_decoded}) → ({predicate_decoded}) → ({obj_decoded})\")\n",
    "            kg.append((subject_decoded, predicate_decoded, obj_decoded))\n",
    "            triple_index += 1\n",
    "        print(\"-\" * 80)\n",
    "        portion_counter += 1\n",
    "        if portion_counter > max_parts:\n",
    "            break\n",
    "\n",
    "    return kg, portion_indices\n",
    "\n",
    "def save_knowledge_graph(kg, output_file=os.path.join(output_dir, \"focused_diabetes_kg.txt\")):\n",
    "    try:\n",
    "        with open(output_file, \"w\", encoding=\"utf-8\") as f:\n",
    "            for triple in kg:\n",
    "                f.write(f\"( {triple[0]} , {triple[1]} , {triple[2]} )\\n\\n\")\n",
    "        print(f\"\\nFocused Diabetes Knowledge Graph saved as '{output_file}'.\")\n",
    "    except Exception as e:\n",
    "        print(f\"Error saving knowledge graph: {e}\")\n",
    "\n",
    "def wrap_text(text, max_words=8):\n",
    "    words = text.split()\n",
    "    return \"\\n\".join(textwrap.wrap(text, width=15)) if len(words) > max_words else text\n",
    "\n",
    "def visualize_graph_with_chains(kg, part_indices):\n",
    "    G = nx.DiGraph()\n",
    "    for node1, relation, node2 in kg:\n",
    "        G.add_edge(node1, node2, label=relation)\n",
    "    pos = nx.spring_layout(G, k=8, iterations=100, seed=0)\n",
    "    chain_cmap = mcolors.LinearSegmentedColormap.from_list('chain_colors', ['#66c2a5', '#fc8d62', '#8da0cb', '#e78ac3', '#a6d854'])\n",
    "    chain_norm = mcolors.Normalize(vmin=0, vmax=len(part_indices) - 1)\n",
    "    node_colors = ['lightblue'] * len(G.nodes())\n",
    "    edge_colors = ['gray'] * len(G.edges())\n",
    "    chain_color_map = {f\"Part {i+1}\": chain_cmap(chain_norm(i)) for i in range(len(part_indices))}\n",
    "    node_chain_map = {}\n",
    "    for chain_name, indices in part_indices.items():\n",
    "        color = chain_color_map[chain_name]\n",
    "        for idx in indices:\n",
    "            node1, _, node2 = kg[idx]\n",
    "            if node1 in G.nodes:\n",
    "                node_chain_map[node1] = chain_name\n",
    "                node_colors[list(G.nodes).index(node1)] = color\n",
    "            if node2 in G.nodes:\n",
    "                node_chain_map[node2] = chain_name\n",
    "                node_colors[list(G.nodes).index(node2)] = color\n",
    "    for i, (node1, node2) in enumerate(G.edges()):\n",
    "        for chain_name, indices in part_indices.items():\n",
    "            color = chain_color_map[chain_name]\n",
    "            for idx in indices:\n",
    "                n1, _, n2 = kg[idx]\n",
    "                if (node1, node2) == (n1, n2):\n",
    "                    edge_colors[i] = color\n",
    "                    break\n",
    "    wrapped_labels = {node: wrap_text(node) for node in G.nodes()}\n",
    "    fig, axs = plt.subplots(1, 2, figsize=(20, 8), dpi=600)\n",
    "    nx.draw_networkx_nodes(G, pos, node_color='#d3d3d3', node_size=1200, ax=axs[0])\n",
    "    nx.draw_networkx_edges(G, pos, edge_color='gray', width=1.2, ax=axs[0])\n",
    "    nx.draw_networkx_labels(G, pos, labels=wrapped_labels, font_size=6, ax=axs[0])\n",
    "    edge_labels = nx.get_edge_attributes(G, 'label')\n",
    "    wrapped_edge_labels = {edge: wrap_text(label) for edge, label in edge_labels.items()}\n",
    "    nx.draw_networkx_edge_labels(G, pos, edge_labels=wrapped_edge_labels, font_size=6, ax=axs[0])\n",
    "    axs[0].set_title(\"Original Diabetes Knowledge Graph\", fontsize=10)\n",
    "    axs[0].axis('off')\n",
    "    nx.draw_networkx_nodes(G, pos, node_color=node_colors, node_size=1200, ax=axs[1], edgecolors='black')\n",
    "    nx.draw_networkx_edges(G, pos, edge_color=edge_colors, width=1.5, ax=axs[1])\n",
    "    nx.draw_networkx_labels(G, pos, labels=wrapped_labels, font_size=6, ax=axs[1])\n",
    "    nx.draw_networkx_edge_labels(G, pos, edge_labels=wrapped_edge_labels, font_size=6, ax=axs[1])\n",
    "    axs[1].set_title(\"Diabetes Graph Highlighted by Chain Membership\", fontsize=10)\n",
    "    axs[1].axis('off')\n",
    "    handles = [plt.Line2D([0], [0], marker='o', color=color, markersize=10, linestyle='', label=chain_name) for chain_name, color in chain_color_map.items()]\n",
    "    axs[1].legend(handles=handles, title=\"Chains\", loc='upper right', fontsize=8)\n",
    "    plt.show()\n",
    "    print(\"\\n--- Node Chain Mapping ---\")\n",
    "    for node, chain in node_chain_map.items():\n",
    "        print(f\"Node '{node}' belongs to chain '{chain}'.\")\n",
    "\n",
    "def perturb_kg_by_removing_parts(kg, parts_to_remove, portion_indices):\n",
    "    indices_to_remove = set()\n",
    "    for part in parts_to_remove:\n",
    "        if part in portion_indices:\n",
    "            indices_to_remove.update(portion_indices[part])\n",
    "    perturbed_kg = [triple for i, triple in enumerate(kg) if i not in indices_to_remove]\n",
    "    return perturbed_kg\n",
    "\n",
    "def normalize_text(text):\n",
    "    text = text.replace(\"\\n\", \" \").strip()\n",
    "    text = unicodedata.normalize(\"NFKC\", text)\n",
    "    text = re.sub(r\"\\s+\", \" \", text)\n",
    "    text = text.lower()\n",
    "    return text\n",
    "\n",
    "def get_embedding(text):\n",
    "    text = normalize_text(text)\n",
    "    if text in embedding_cache:\n",
    "        return embedding_cache[text]\n",
    "    try:\n",
    "        response = client.embeddings.create(input=[text], model=EMBEDDING_MODEL)\n",
    "        embedding = response.data[0].embedding\n",
    "        embedding_cache[text] = embedding\n",
    "        return embedding\n",
    "    except AttributeError:\n",
    "        print(f\"Error: 'embeddings' attribute not found. Please update the OpenAI library using '!pip install -U openai' and restart the runtime. Returning zero vector for '{text}'.\")\n",
    "        return [0] * 1536\n",
    "    except Exception as e:\n",
    "        print(f\"Error getting embedding for '{text}': {e}\")\n",
    "        return [0] * 1536\n",
    "\n",
    "def get_answer_and_embedding(question: str, temp: float, graph):\n",
    "    \"\"\"\n",
    "    Sends a question and temperature to the GraphQAChain and returns the original answer string and its embedding.\n",
    "    \"\"\"\n",
    "    # Initialize the GraphQAChain with OpenAI LLM\n",
    "    llm = LangChainOpenAI(temperature=temp, api_key=os.environ[\"OPENAI_API_KEY\"])  # Explicit API key\n",
    "    chain = GraphQAChain.from_llm(llm, graph=graph, verbose=False)\n",
    "    original_answer = chain.run(question)\n",
    "    original_answer_str = str(original_answer)\n",
    "\n",
    "    # Generate embedding using the OpenAI client\n",
    "    try:\n",
    "        response = client.embeddings.create(\n",
    "            model=EMBEDDING_MODEL,  # Use the same model as get_embedding\n",
    "            input=original_answer_str\n",
    "        )\n",
    "        original_answer_embedding = response.data[0].embedding\n",
    "        print(f\"Embedding generated successfully. Length: {len(original_answer_embedding)}\")\n",
    "    except Exception as e:\n",
    "        print(f\"Error generating embedding: {e}. Returning zero vector.\")\n",
    "        original_answer_embedding = [0] * 1536  # Fallback to zero vector\n",
    "\n",
    "    return original_answer_str, original_answer_embedding\n",
    "\n",
    "def plot_knowledge_graph_explainability(kg, part_indices, coeff):\n",
    "    G = nx.DiGraph()\n",
    "    for node1, relation, node2 in kg:\n",
    "        G.add_edge(node1, node2, label=relation)\n",
    "    pos = nx.spring_layout(G, k=8, iterations=100, seed=0)\n",
    "    cmap = mcolors.LinearSegmentedColormap.from_list('red_blue', ['blue', '#d3d3d3', 'red'])\n",
    "    norm = mcolors.Normalize(vmin=-1, vmax=1)\n",
    "    node_sizes = [1500 + 100 * G.degree(node) for node in G.nodes()]\n",
    "    node_colors = []\n",
    "    edge_colors = []\n",
    "    for node in G.nodes():\n",
    "        for part_name, indices in part_indices.items():\n",
    "            part_idx = int(part_name.split()[-1]) - 1\n",
    "            coeff_value = coeff[part_idx]\n",
    "            color = cmap(norm(coeff_value))\n",
    "            if node in [kg[i][0] for i in indices] or node in [kg[i][2] for i in indices]:\n",
    "                node_colors.append(color)\n",
    "                break\n",
    "        else:\n",
    "            node_colors.append('#8da0cb')\n",
    "    for i, (node1, node2) in enumerate(G.edges()):\n",
    "        for part_name, indices in part_indices.items():\n",
    "            part_idx = int(part_name.split()[-1]) - 1\n",
    "            coeff_value = coeff[part_idx]\n",
    "            color = cmap(norm(coeff_value))\n",
    "            if i in indices:\n",
    "                edge_colors.append(color)\n",
    "                break\n",
    "        else:\n",
    "            edge_colors.append('gray')\n",
    "    wrapped_labels = {node: wrap_text(node) for node in G.nodes()}\n",
    "    fig, axs = plt.subplots(1, 2, figsize=(24, 10), dpi=600, gridspec_kw={'width_ratios': [1, 1.3]})\n",
    "    nx.draw_networkx_nodes(G, pos, node_color='#d3d3d3', node_size=node_sizes, ax=axs[0])\n",
    "    nx.draw_networkx_edges(G, pos, edge_color='gray', width=1.5, ax=axs[0])\n",
    "    nx.draw_networkx_labels(G, pos, labels=wrapped_labels, font_size=8, ax=axs[0])\n",
    "    edge_labels = nx.get_edge_attributes(G, 'label')\n",
    "    wrapped_edge_labels = {edge: wrap_text(label) for edge, label in edge_labels.items()}\n",
    "    nx.draw_networkx_edge_labels(G, pos, edge_labels=wrapped_edge_labels, font_size=8, ax=axs[0])\n",
    "    axs[0].set_title(\"Original Diabetes Knowledge Graph\", fontsize=12)\n",
    "    axs[0].axis('off')\n",
    "    nx.draw_networkx_nodes(G, pos, node_color=node_colors, node_size=node_sizes, ax=axs[1])\n",
    "    nx.draw_networkx_edges(G, pos, edge_color=edge_colors, width=1.8, ax=axs[1])\n",
    "    nx.draw_networkx_labels(G, pos, labels=wrapped_labels, font_size=8, ax=axs[1])\n",
    "    nx.draw_networkx_edge_labels(G, pos, edge_labels=wrapped_edge_labels, font_size=8, ax=axs[1])\n",
    "    axs[1].set_title(\"Simple SMILE GraphRAG Explainability\", fontsize=12)\n",
    "    axs[1].axis('off')\n",
    "    sm = plt.cm.ScalarMappable(cmap=cmap, norm=norm)\n",
    "    sm.set_array([])\n",
    "    fig.colorbar(sm, ax=axs[1], label='Importance Coefficients')\n",
    "    plt.savefig(os.path.join(output_dir, 'knowledge_graph_explainability_improved.png'), bbox_inches='tight')\n",
    "    plt.show()\n",
    "\n",
    "\n",
    "def calculate_coefficients_print_Temperature(temp, original, kg, part_names, portion_indices, question, original_answer_embedding, original_answer_str):\n",
    "    \"\"\"\n",
    "    Function to calculate coefficients for perturbations on a knowledge graph.\n",
    "    It removes parts of the KG, generates perturbed responses, and calculates coefficients.\n",
    "    Uses Wasserstein distance as the similarity metric, aligned with DBpedia code.\n",
    "\n",
    "    Parameters:\n",
    "    - temp: Temperature value (0 or 1)\n",
    "    - original: Original vector (numpy array)\n",
    "    - kg: Knowledge graph (list of triples)\n",
    "    - part_names: List of part names in the KG\n",
    "    - portion_indices: Dictionary mapping part names to index ranges\n",
    "    - question: Question for GraphQAChain\n",
    "    - original_answer_embedding: Embedding of the original answer\n",
    "    - original_answer_str: Original answer text\n",
    "\n",
    "    Returns:\n",
    "    - coeff: Coefficients from linear regression\n",
    "    \"\"\"\n",
    "    # Define the original vector (all parts present) based on the number of parts\n",
    "    original = np.ones(len(part_names))\n",
    "    original = original.reshape(1, -1)  # Shape becomes (1, number of parts)\n",
    "\n",
    "    similarities_wd = []\n",
    "    perturbations_vect2 = []\n",
    "    perturbation_texts = []\n",
    "    generated_embeddings = []\n",
    "\n",
    "    # Increase epsilon for better numerical stability\n",
    "    epsilon = 1e-3\n",
    "\n",
    "    # Adjust temperature if it's 0 to add some randomness\n",
    "    adjusted_temp = max(temp, 0.001) if temp == 0 else temp\n",
    "\n",
    "    # Increase number of perturbations for better diversity\n",
    "    num_perturbations = 20\n",
    "\n",
    "    for i in range(num_perturbations):\n",
    "        perturbation_vector = original.copy().flatten()\n",
    "\n",
    "        # Ensure more diverse perturbations\n",
    "        if len(part_names) > 3:\n",
    "            # Remove between 1 and len(part_names)-1 parts (never remove all)\n",
    "            num_parts_to_remove = random.randint(1, max(1, len(part_names) - 1))\n",
    "        else:\n",
    "            num_parts_to_remove = random.randint(1, len(part_names))\n",
    "\n",
    "        parts_to_remove_indices = random.sample(range(len(part_names)), num_parts_to_remove)\n",
    "\n",
    "        for part_idx in parts_to_remove_indices:\n",
    "            perturbation_vector[part_idx] = 0\n",
    "\n",
    "        perturbations_vect2.append(perturbation_vector)\n",
    "        parts_to_remove = [part_names[idx] for idx in parts_to_remove_indices]\n",
    "\n",
    "        # Call the perturb_kg_by_removing_parts function with portion_indices\n",
    "        perturbed_kg = perturb_kg_by_removing_parts(kg, parts_to_remove, portion_indices)\n",
    "\n",
    "        graph_temp = NetworkxEntityGraph()\n",
    "        for (node1, relation, node2) in perturbed_kg:\n",
    "            graph_temp.add_triple(KnowledgeTriple(node1, relation, node2))\n",
    "\n",
    "        # Use adjusted temperature for better response diversity\n",
    "        llm = LangChainOpenAI(temperature=adjusted_temp, api_key=os.environ[\"OPENAI_API_KEY\"])\n",
    "        chain = GraphQAChain.from_llm(llm, graph=graph_temp, verbose=False)\n",
    "        temp_response = chain.run(question)\n",
    "        perturbation_texts.append(temp_response)\n",
    "\n",
    "        # Call the get_embedding function directly\n",
    "        temp_response_embedding = get_embedding(temp_response)\n",
    "        generated_embeddings.append(temp_response_embedding)\n",
    "\n",
    "        # Calculate Wasserstein distance\n",
    "        orig_emb = np.array(original_answer_embedding) if isinstance(original_answer_embedding, list) else original_answer_embedding\n",
    "        temp_emb = np.array(temp_response_embedding) if isinstance(temp_response_embedding, list) else temp_response_embedding\n",
    "        similarity_wd = wasserstein_distance(orig_emb, temp_emb)\n",
    "        similarities_wd.append(similarity_wd)\n",
    "\n",
    "        # Print progress for each iteration\n",
    "        print(f\"Iteration {i + 1}\")\n",
    "        print(f\"Parts removed: {parts_to_remove}\")\n",
    "        print(f\"Original answer response: {original_answer_str}\")\n",
    "        print(f\"Perturbed response: {temp_response}\")\n",
    "        print(f\"Wasserstein distance with original answer: {similarity_wd}\\n\")\n",
    "\n",
    "    perturbations_vect2 = np.array(perturbations_vect2)\n",
    "    distances = sklearn.metrics.pairwise_distances(perturbations_vect2, original, metric='cosine').ravel()\n",
    "\n",
    "    kernel_width = 0.25\n",
    "    weights = np.sqrt(np.exp(-(distances**2) / kernel_width**2))\n",
    "\n",
    "    # Print all similarities and weights\n",
    "    print(f\"similarities_wd: {similarities_wd}\")\n",
    "    print(f\"Weights: {weights}\")\n",
    "\n",
    "    # Calculate inverse Wasserstein distances with larger epsilon\n",
    "    inverse_similarities_wd = [1.0 / (dist + epsilon) for dist in similarities_wd]\n",
    "\n",
    "    print(f\"Inverse similarities range: {min(inverse_similarities_wd):.6f} to {max(inverse_similarities_wd):.6f}\")\n",
    "\n",
    "    # Scale inverse Wasserstein distances with better error handling\n",
    "    min_value = min(inverse_similarities_wd)\n",
    "    max_value = max(inverse_similarities_wd)\n",
    "\n",
    "    # Check if the range is too small (essentially equal values)\n",
    "    value_range = max_value - min_value\n",
    "    if value_range < 1e-10:  # Very small range\n",
    "        print(f\"Warning: Very small range in similarities ({value_range:.2e}). Using alternative scaling.\")\n",
    "        # Alternative: use the raw inverse similarities without scaling\n",
    "        scaled_inverse_similarities_wd = inverse_similarities_wd\n",
    "        # Or use a small amount of noise\n",
    "        # scaled_inverse_similarities_wd = [val + random.uniform(-1e-4, 1e-4) for val in inverse_similarities_wd]\n",
    "    else:\n",
    "        scaled_inverse_similarities_wd = [\n",
    "            (value - min_value) / (max_value - min_value) for value in inverse_similarities_wd\n",
    "        ]\n",
    "\n",
    "    print(f\"Scaled similarities range: {min(scaled_inverse_similarities_wd):.6f} to {max(scaled_inverse_similarities_wd):.6f}\")\n",
    "\n",
    "    # Linear regression for scaled inverse Wasserstein distances\n",
    "    simpler_model = LinearRegression()\n",
    "    simpler_model.fit(X=perturbations_vect2, y=scaled_inverse_similarities_wd, sample_weight=weights)\n",
    "    coeff = simpler_model.coef_\n",
    "\n",
    "    print(f\"Regression R² score: {simpler_model.score(perturbations_vect2, scaled_inverse_similarities_wd):.4f}\")\n",
    "\n",
    "    return coeff\n",
    "# Main execution\n",
    "if __name__ == \"__main__\":\n",
    "    primekg_data = load_primekg_data(file_path)\n",
    "    if not primekg_data:\n",
    "        print(\"No data loaded.\")\n",
    "        exit()\n",
    "    kg, portion_indices = extract_diabetes_knowledge_graph(primekg_data, max_parts=10)\n",
    "    if not kg:\n",
    "        print(\"No diabetes-related information found.\")\n",
    "        exit()\n",
    "    print(f\"\\nFound {len(kg)} strongly connected diabetes-related triples in {len(portion_indices)} parts.\")\n",
    "    print(\"\\nPortion Indices:\\n\")\n",
    "    for part, index_range in portion_indices.items():\n",
    "        print(f\"{part}: {index_range}\")\n",
    "    save_knowledge_graph(kg)\n",
    "    print(\"\\nFinal Focused Diabetes Knowledge Graph List:\\n\")\n",
    "    for triple in kg:\n",
    "        print(\"(\", triple[0], \",\", triple[1], \", \", triple[2], \")\")\n",
    "    print(\"Original KG node count:\", len(set(node for triple in kg for node in (triple[0], triple[2]))))\n",
    "\n",
    "    graph = NetworkxEntityGraph()\n",
    "    for node1, relation, node2 in kg:\n",
    "        graph.add_triple(KnowledgeTriple(node1, relation, node2))\n",
    "\n",
    "    visualize_graph_with_chains(kg, portion_indices)\n",
    "\n",
    "    question = 'What is insulin-like growth factor receptor binding associated with?'\n",
    "    #question = \"What are the key biological and medical factors and terms involved in diabetes?\"\n",
    "    temp = 0\n",
    "    original_answer_str, original_answer_embedding = get_answer_and_embedding(question, temp, graph)\n",
    "    print(f\"\\nOriginal Answer: {original_answer_str}\")\n",
    "\n",
    "    original = np.ones(len(portion_indices)).reshape(1, -1)\n",
    "\n",
    "    coeff = calculate_coefficients_print_Temerature(temp, original, kg, list(portion_indices.keys()), portion_indices, question, original_answer_embedding, original_answer_str)\n",
    "    plot_knowledge_graph_explainability(kg, portion_indices, coeff)"
   ]
  },
  {
   "cell_type": "markdown",
   "id": "a265c98e-4c73-4429-bf6e-0dab5e3a566b",
   "metadata": {
    "id": "a265c98e-4c73-4429-bf6e-0dab5e3a566b"
   },
   "source": [
    "Visualizes the knowledge graph as a directed graph using NetworkX and Matplotlib. Nodes represent entities, and edges depict relationships with labels for clarity. The layout uses spring positioning with increased spacing for readability. Custom node colors and labeled edges enhance the visualization, displayed without axes."
   ]
  },
  {
   "cell_type": "markdown",
   "id": "2d728dc4-f242-451f-94db-b1a5fcd14243",
   "metadata": {
    "id": "2d728dc4-f242-451f-94db-b1a5fcd14243"
   },
   "source": [
    "Defines a function to perturb the knowledge graph by selectively removing triples belonging to specified parts. This allows testing the impact of missing information on downstream tasks or analysis. The function filters out triples associated with the indices of the parts to be removed and returns the modified knowledge graph."
   ]
  },
  {
   "cell_type": "markdown",
   "id": "69d447e4-a68c-493e-9d49-b3a99a97dc19",
   "metadata": {
    "id": "69d447e4-a68c-493e-9d49-b3a99a97dc19"
   },
   "source": [
    "This function computes the embedding for a given text using a specified model. It processes the text by removing newline characters and queries the OpenAI embeddings API to generate a vector representation, useful for similarity comparisons and downstream tasks."
   ]
  },
  {
   "cell_type": "markdown",
   "id": "2993aae2-97cc-4198-bdcb-7f950a011929",
   "metadata": {
    "id": "2993aae2-97cc-4198-bdcb-7f950a011929"
   },
   "source": [
    "Defines a function to query a GraphQAChain with a question and temperature setting, returning the answer and its embedding. The function initializes the chain with a specified graph and temperature, processes the question, and computes the embedding for the returned answer, facilitating downstream analysis or comparison"
   ]
  },
  {
   "cell_type": "markdown",
   "id": "1639f196-e0d0-44f9-bc9e-9f03be830357",
   "metadata": {
    "id": "1639f196-e0d0-44f9-bc9e-9f03be830357"
   },
   "source": [
    "This function visualizes the explainability of a knowledge graph by displaying the original graph and an enhanced graph with nodes and edges colored based on their importance coefficients. It leverages a directed graph structure, wraps node labels for readability, adjusts node sizes based on connectivity, and applies a custom colormap to represent the significance of graph components. The visualization is presented in a two-panel layout, highlighting both the original structure and the explainability features derived from Simple SMILE GraphRAG analysis. A color bar provides a reference for importance coefficients"
   ]
  },
  {
   "cell_type": "markdown",
   "id": "4ecce233-c67e-4748-b742-a66dd99f80b4",
   "metadata": {
    "id": "4ecce233-c67e-4748-b742-a66dd99f80b4"
   },
   "source": [
    "Defines the question to query the GraphQAChain or knowledge retrieval system. Here, the question seeks information about it, a framework that integrates external knowledge bases to improve the accuracy and reliability of AI-generated responses"
   ]
  },
  {
   "cell_type": "markdown",
   "id": "5cffabbe-3a4e-420c-aeb9-0a13ddfe3306",
   "metadata": {
    "id": "5cffabbe-3a4e-420c-aeb9-0a13ddfe3306"
   },
   "source": [
    "This snippet sets the temperature parameter to 0 for deterministic response generation and queries the GraphQAChain with the question. The function get_answer_and_embedding returns the original answer as a string along with its embedding. The answer is then printed for review.\n"
   ]
  },
  {
   "cell_type": "markdown",
   "id": "5f4cb52d-42cc-4153-a414-5c252c45a11e",
   "metadata": {
    "id": "5f4cb52d-42cc-4153-a414-5c252c45a11e"
   },
   "source": [
    "This function calculates the importance coefficients for perturbations on a knowledge graph while providing\n",
    "detailed logging at each iteration. It removes random parts of the knowledge graph, generates perturbed\n",
    "responses, computes similarities to the original answer, and fits a linear regression model to calculate\n",
    "coefficients. The function includes:\n",
    "\n",
    "- Temperature (`temp`) parameter to adjust the behavior of the GraphQAChain.\n",
    "- Iterative logs showing the removed parts, perturbed responses, and calculated similarities.\n",
    "- A summary of all similarities and weights after processing.\n",
    "The coefficients provide insights into the contribution of each part of the knowledge graph to response fidelity."
   ]
  },
  {
   "cell_type": "markdown",
   "id": "4ccda14d",
   "metadata": {
    "id": "4ccda14d"
   },
   "source": [
    "# Stability: Consistent explanations despite small changes in input or graph structure."
   ]
  },
  {
   "cell_type": "markdown",
   "id": "843eb7d7-9f5e-4a22-bd2c-dcbc5abb48d7",
   "metadata": {
    "id": "843eb7d7-9f5e-4a22-bd2c-dcbc5abb48d7"
   },
   "source": [
    "This script augments the knowledge graph ('kg') with an additional triple to assess stability\n",
    "in response generation and explainability. The stability analysis involves perturbing the knowledge\n",
    "graph by removing random parts over 20 iterations for each temperature setting (0 and 1).\n",
    "\n",
    "Key steps for stability analysis:\n",
    "1. **Augmentation:** Adds a triple to the knowledge graph to introduce a new component for stability assessment.\n",
    "2. **Perturbations:** Randomly removes parts of the knowledge graph multiple times to analyze the system's\n",
    "   ability to maintain consistent and meaningful responses.\n",
    "3. **Temperature Variation:** Runs the process with both deterministic (temperature = 0) and stochastic\n",
    "   (temperature = 1) configurations to observe the impact of randomness on stability.\n",
    "4. **Stability Metric:** Evaluates response consistency and similarity under perturbations, providing insights\n",
    "   into the robustness of the system in preserving the core knowledge structure and response fidelity.\n",
    "\n",
    "The results highlight how stable and resilient the system is to changes in the underlying knowledge graph."
   ]
  },
  {
   "cell_type": "code",
   "execution_count": null,
   "id": "m01FoynfTEe7",
   "metadata": {
    "id": "m01FoynfTEe7"
   },
   "outputs": [],
   "source": [
    "def wrap_label(label, width=15):\n",
    "    \"\"\"Wraps labels to fit within a specified width for better visualization.\"\"\"\n",
    "    return '\\n'.join(textwrap.wrap(label, width))\n",
    "\n",
    "def wrap_text(node1, relation, node2, max_words=8):\n",
    "    \"\"\"Wrap text if it contains more than `max_words` words.\"\"\"\n",
    "    words = node2.split()\n",
    "    return '\\n'.join(textwrap.wrap(node2, width=15)) if len(words) > max_words else node2\n",
    "\n",
    "def build_graph(kg, coeff, part_indices):\n",
    "    \"\"\"Helper function to build graph, assign colors, and sizes.\"\"\"\n",
    "    G = nx.DiGraph()\n",
    "    for node1, relation, node2 in kg:\n",
    "        wrapped_node1 = wrap_label(node1)\n",
    "        wrapped_node2 = wrap_label(wrap_text(node1, relation, node2))\n",
    "        wrapped_relation = wrap_label(relation)\n",
    "        G.add_edge(wrapped_node1, wrapped_node2, label=wrapped_relation)\n",
    "    pos = nx.spring_layout(G, k=8, iterations=100, seed=0)\n",
    "    cmap = mcolors.LinearSegmentedColormap.from_list('red_blue', ['blue', '#d3d3d3', 'red'])\n",
    "    norm = mcolors.Normalize(vmin=-1, vmax=1)\n",
    "    node_sizes = [1500 + 100 * G.degree(node) for node in G.nodes()]\n",
    "    node_colors = []\n",
    "    for node in G.nodes():\n",
    "        for part_name, indices in part_indices.items():\n",
    "            part_idx = int(part_name.split()[-1]) - 1\n",
    "            coeff_value = coeff[part_idx]\n",
    "            color = cmap(norm(coeff_value))\n",
    "            if any(i < len(kg) and (wrap_label(node) == wrap_label(kg[i][0]) or wrap_label(node) == wrap_label(wrap_text(kg[i][0], kg[i][1], kg[i][2]))) for i in indices):\n",
    "                node_colors.append(color)\n",
    "                break\n",
    "        else:\n",
    "            node_colors.append('#8da0cb')\n",
    "    edge_colors = []\n",
    "    for i, (node1, node2) in enumerate(G.edges()):\n",
    "        for part_name, indices in part_indices.items():\n",
    "            part_idx = int(part_name.split()[-1]) - 1\n",
    "            coeff_value = coeff[part_idx]\n",
    "            color = cmap(norm(coeff_value))\n",
    "            if i in indices:\n",
    "                edge_colors.append(color)\n",
    "                break\n",
    "        else:\n",
    "            edge_colors.append('gray')\n",
    "    return G, pos, node_sizes, node_colors, edge_colors\n",
    "\n",
    "def plot_knowledge_graph_explainability_compare(kg_original, coeff_original, part_indices_original,\n",
    "                                               kg_added, coeff_added, part_indices_added):\n",
    "    \"\"\"Visualize two knowledge graphs (original and added) side by side with explainability features.\"\"\"\n",
    "    G_original, pos_original, node_sizes_original, node_colors_original, edge_colors_original = build_graph(\n",
    "        kg_original, coeff_original, part_indices_original)\n",
    "    G_added, pos_added, node_sizes_added, node_colors_added, edge_colors_added = build_graph(\n",
    "        kg_added, coeff_added, part_indices_added)\n",
    "    fig, axs = plt.subplots(1, 2, figsize=(24, 10), dpi=300)\n",
    "    nx.draw_networkx_nodes(G_original, pos_original, node_color=node_colors_original, node_size=node_sizes_original, ax=axs[0])\n",
    "    nx.draw_networkx_edges(G_original, pos_original, edge_color=edge_colors_original, width=1.5, ax=axs[0])\n",
    "    nx.draw_networkx_labels(G_original, pos_original, font_size=8, ax=axs[0])\n",
    "    edge_labels_original = nx.get_edge_attributes(G_original, 'label')\n",
    "    nx.draw_networkx_edge_labels(G_original, pos_original, edge_labels=edge_labels_original, font_size=8, ax=axs[0])\n",
    "    axs[0].set_title(\"Original Knowledge Graph\", fontsize=14)\n",
    "    axs[0].axis('off')\n",
    "    nx.draw_networkx_nodes(G_added, pos_added, node_color=node_colors_added, node_size=node_sizes_added, ax=axs[1])\n",
    "    nx.draw_networkx_edges(G_added, pos_added, edge_color=edge_colors_added, width=1.5, ax=axs[1])\n",
    "    nx.draw_networkx_labels(G_added, pos_added, font_size=8, ax=axs[1])\n",
    "    edge_labels_added = nx.get_edge_attributes(G_added, 'label')\n",
    "    nx.draw_networkx_edge_labels(G_added, pos_added, edge_labels=edge_labels_added, font_size=8, ax=axs[1])\n",
    "    axs[1].set_title(\"Added Knowledge Graph\", fontsize=14)\n",
    "    axs[1].axis('off')\n",
    "    cmap = mcolors.LinearSegmentedColormap.from_list('red_blue', ['blue', '#d3d3d3', 'red'])\n",
    "    norm = mcolors.Normalize(vmin=-1, vmax=1)\n",
    "    sm = plt.cm.ScalarMappable(cmap=cmap, norm=norm)\n",
    "    sm.set_array([])\n",
    "    fig.colorbar(sm, ax=axs, orientation='horizontal', label='Importance Coefficients', fraction=0.03, pad=0.05)\n",
    "    plt.savefig('knowledge_graph_explainability_comparison.png', bbox_inches='tight')\n",
    "    plt.show()"
   ]
  },
  {
   "cell_type": "code",
   "execution_count": null,
   "id": "xwqDheNbtdn6",
   "metadata": {
    "id": "xwqDheNbtdn6"
   },
   "outputs": [],
   "source": [
    "def calculate_jaccard_index(coeff_original, coeff_added):\n",
    "    \"\"\"\n",
    "    Calculate the Jaccard index using ABSOLUTE VALUES of coefficients.\n",
    "    This treats both positive and negative coefficients as indicating importance.\n",
    "\n",
    "    Parameters:\n",
    "    coeff_original (np.ndarray): Original coefficients from the PrimeKGQA graph.\n",
    "    coeff_added (np.ndarray): Added coefficients from the augmented PrimeKGQA graph.\n",
    "\n",
    "    Returns:\n",
    "    float: The Jaccard index.\n",
    "    \"\"\"\n",
    "    from sklearn.metrics import jaccard_score\n",
    "    import numpy as np\n",
    "\n",
    "    coeff_original = np.array(coeff_original)\n",
    "    coeff_added = np.array(coeff_added)\n",
    "\n",
    "    print(f\"Original coefficients: {coeff_original}\")\n",
    "    print(f\"Added coefficients: {coeff_added}\")\n",
    "\n",
    "    # Ensure both arrays have the same length by truncating the longer one\n",
    "    if len(coeff_original) > len(coeff_added):\n",
    "        coeff_original = coeff_original[:len(coeff_added)]\n",
    "        print(f\"Truncated original to length {len(coeff_added)}\")\n",
    "    elif len(coeff_added) > len(coeff_original):\n",
    "        coeff_added = coeff_added[:len(coeff_original)]\n",
    "        print(f\"Truncated added to length {len(coeff_original)}\")\n",
    "\n",
    "    # Check for empty arrays\n",
    "    if len(coeff_original) == 0 or len(coeff_added) == 0:\n",
    "        print(\"Warning: Empty coefficient arrays\")\n",
    "        return 0.0\n",
    "\n",
    "    # Use ABSOLUTE VALUES - both positive and negative coefficients indicate importance\n",
    "    abs_original = np.abs(coeff_original)\n",
    "    abs_added = np.abs(coeff_added)\n",
    "\n",
    "    print(f\"Absolute original: {abs_original}\")\n",
    "    print(f\"Absolute added: {abs_added}\")\n",
    "\n",
    "    # Check if coefficients are very similar (min/max equal condition)\n",
    "    orig_range = np.max(abs_original) - np.min(abs_original)\n",
    "    added_range = np.max(abs_added) - np.min(abs_added)\n",
    "    combined_range = np.max(np.concatenate([abs_original, abs_added])) - np.min(np.concatenate([abs_original, abs_added]))\n",
    "\n",
    "    print(f\"Original abs range: {orig_range:.6f}\")\n",
    "    print(f\"Added abs range: {added_range:.6f}\")\n",
    "    print(f\"Combined abs range: {combined_range:.6f}\")\n",
    "\n",
    "    # Check if both arrays have very small ranges (essentially equal min/max)\n",
    "    small_range_threshold = 1e-6\n",
    "    if combined_range < small_range_threshold:\n",
    "        print(f\"All absolute coefficients very similar (range: {combined_range:.2e}) - Jaccard = 1.0\")\n",
    "        return 1.0\n",
    "\n",
    "    # Check if arrays are nearly identical in absolute terms\n",
    "    if np.allclose(abs_original, abs_added, atol=1e-6, rtol=1e-4):\n",
    "        print(\"Absolute arrays are nearly identical - Jaccard = 1.0\")\n",
    "        return 1.0\n",
    "\n",
    "    # Use a threshold based on the combined distribution\n",
    "    # Option 1: Simple > 0 threshold on absolute values\n",
    "    threshold = 0\n",
    "\n",
    "    # Option 2: Use mean of absolute values as threshold (uncomment to try)\n",
    "    # threshold = np.mean(np.concatenate([abs_original, abs_added]))\n",
    "    # print(f\"Using mean threshold: {threshold:.6f}\")\n",
    "\n",
    "    # Convert coefficients to binary arrays using absolute values\n",
    "    coeff_original_binary = (abs_original > threshold).astype(int)\n",
    "    coeff_added_binary = (abs_added > threshold).astype(int)\n",
    "\n",
    "    print(f\"Original binary (abs > {threshold}): {coeff_original_binary} (sum: {np.sum(coeff_original_binary)})\")\n",
    "    print(f\"Added binary (abs > {threshold}): {coeff_added_binary} (sum: {np.sum(coeff_added_binary)})\")\n",
    "\n",
    "    # Check if both binary arrays are identical\n",
    "    if np.array_equal(coeff_original_binary, coeff_added_binary):\n",
    "        print(\"Binary arrays are identical - Jaccard = 1.0\")\n",
    "        return 1.0\n",
    "\n",
    "    # Check if both arrays are all zeros\n",
    "    if np.sum(coeff_original_binary) == 0 and np.sum(coeff_added_binary) == 0:\n",
    "        print(\"Both binary arrays are all zeros - Jaccard = 1.0\")\n",
    "        return 1.0\n",
    "\n",
    "    # Calculate Jaccard index\n",
    "    try:\n",
    "        jaccard_index = jaccard_score(coeff_original_binary, coeff_added_binary, zero_division=1)\n",
    "        print(f\"Jaccard Index: {jaccard_index}\")\n",
    "\n",
    "        # Manual verification\n",
    "        intersection = np.sum(coeff_original_binary & coeff_added_binary)\n",
    "        union = np.sum(coeff_original_binary | coeff_added_binary)\n",
    "        manual_jaccard = intersection / union if union > 0 else 1.0\n",
    "        print(f\"Manual verification - Intersection: {intersection}, Union: {union}, Jaccard: {manual_jaccard}\")\n",
    "\n",
    "        return jaccard_index\n",
    "    except Exception as e:\n",
    "        print(f\"Error calculating Jaccard score: {e}\")\n",
    "        return 0.0\n",
    "\n"
   ]
  },
  {
   "cell_type": "code",
   "execution_count": null,
   "id": "Fpg7xioY62hi",
   "metadata": {
    "id": "Fpg7xioY62hi"
   },
   "outputs": [],
   "source": [
    "question = \"What is insulin-like growth factor receptor binding associated with?\""
   ]
  },
  {
   "cell_type": "markdown",
   "id": "5AcZgbeVqkxZ",
   "metadata": {
    "id": "5AcZgbeVqkxZ"
   },
   "source": [
    "Get original coeffiencets for temp = 0 and temp = 1"
   ]
  },
  {
   "cell_type": "code",
   "execution_count": null,
   "id": "CLz_YGAjkfmz",
   "metadata": {
    "id": "CLz_YGAjkfmz"
   },
   "outputs": [],
   "source": [
    "def get_coefficients(question, kg, part_names, portion_indices, temp=0):\n",
    "    \"\"\"\n",
    "    Calculate coefficients for a given question using hybrid text metrics.\n",
    "\n",
    "    Parameters:\n",
    "    - question: Question string (e.g., \"What is polycystic ovary syndrome?\")\n",
    "    - kg: Knowledge graph (list of triples)\n",
    "    - part_names: List of part names in the KG\n",
    "    - portion_indices: Dictionary mapping part names to index ranges\n",
    "    - temp: Temperature (default 0)\n",
    "\n",
    "    Returns:\n",
    "    - coeff: Coefficients array\n",
    "    \"\"\"\n",
    "    import sklearn.metrics\n",
    "    import numpy as np\n",
    "    from scipy.stats import wasserstein_distance\n",
    "    from scipy.spatial.distance import cosine\n",
    "    from sklearn.linear_model import LinearRegression\n",
    "    import random\n",
    "\n",
    "    # Define the original vector (all parts present)\n",
    "    original = np.ones(len(part_names)).reshape(1, -1)\n",
    "\n",
    "    # Create original graph\n",
    "    graph = NetworkxEntityGraph()\n",
    "    for node1, relation, node2 in kg:\n",
    "        graph.add_triple(KnowledgeTriple(node1, relation, node2))\n",
    "\n",
    "    # Get original answer and embedding\n",
    "    original_answer_str, original_answer_embedding = get_answer_and_embedding(question, temp, graph)\n",
    "\n",
    "    # Initialize lists\n",
    "    similarities_wd = []\n",
    "    similarities_cosine = []\n",
    "    perturbations_vect2 = []\n",
    "    epsilon = 1e-6\n",
    "\n",
    "    # Loop for perturbations\n",
    "    for i in range(20):\n",
    "        perturbation_vector = original.copy().flatten()\n",
    "        num_parts_to_remove = random.randint(1, len(part_names))\n",
    "        parts_to_remove_indices = random.sample(range(len(part_names)), num_parts_to_remove)\n",
    "\n",
    "        for part_idx in parts_to_remove_indices:\n",
    "            perturbation_vector[part_idx] = 0\n",
    "\n",
    "        perturbations_vect2.append(perturbation_vector)\n",
    "        parts_to_remove = [part_names[idx] for idx in parts_to_remove_indices]\n",
    "\n",
    "        # Create perturbed graph\n",
    "        perturbed_kg = perturb_kg_by_removing_parts(kg, parts_to_remove, portion_indices)\n",
    "        graph_temp = NetworkxEntityGraph()\n",
    "        for node1, relation, node2 in perturbed_kg:\n",
    "            graph_temp.add_triple(KnowledgeTriple(node1, relation, node2))\n",
    "\n",
    "        # Get perturbed answer and embedding\n",
    "        temp_response, temp_response_embedding = get_answer_and_embedding(question, temp, graph_temp)\n",
    "\n",
    "        # Convert embeddings to numpy arrays if needed\n",
    "        orig_emb = np.array(original_answer_embedding) if isinstance(original_answer_embedding, list) else original_answer_embedding\n",
    "        temp_emb = np.array(temp_response_embedding) if isinstance(temp_response_embedding, list) else temp_response_embedding\n",
    "\n",
    "        # Calculate metrics\n",
    "        similarity_wd = wasserstein_distance(orig_emb, temp_emb)\n",
    "        similarities_wd.append(similarity_wd)\n",
    "\n",
    "        #similarity_cosine = 1 - cosine(orig_emb, temp_emb)\n",
    "        #similarities_cosine.append(similarity_cosine)\n",
    "\n",
    "    # Convert to numpy array\n",
    "    perturbations_vect2 = np.array(perturbations_vect2)\n",
    "\n",
    "    # Calculate weights\n",
    "    distances = sklearn.metrics.pairwise_distances(perturbations_vect2, original, metric='cosine').ravel()\n",
    "    kernel_width = 0.25\n",
    "    weights = np.sqrt(np.exp(-(distances**2)/kernel_width**2))\n",
    "\n",
    "    # Scale Wasserstein distances\n",
    "    inverse_similarities_wd = [1.0 / (dist + epsilon) for dist in similarities_wd]\n",
    "    min_value = min(inverse_similarities_wd)\n",
    "    max_value = max(inverse_similarities_wd)\n",
    "\n",
    "    if max_value == min_value:\n",
    "        scaled_similarities_wd = [1.0 for _ in inverse_similarities_wd]\n",
    "    else:\n",
    "        scaled_similarities_wd = [(value - min_value) / (max_value - min_value) for value in inverse_similarities_wd]\n",
    "\n",
    "    # Combine similarities\n",
    "    #Similarities_ = [wd + cos for wd, cos in zip(scaled_similarities_wd, similarities_cosine)]\n",
    "    Similarities_ = scaled_similarities_wd\n",
    "\n",
    "    # Train model and get coefficients\n",
    "    model = LinearRegression()\n",
    "    model.fit(X=perturbations_vect2, y=Similarities_, sample_weight=weights)\n",
    "    coeff = model.coef_\n",
    "\n",
    "    return coeff"
   ]
  },
  {
   "cell_type": "code",
   "execution_count": null,
   "id": "o7MBNmHukjw0",
   "metadata": {
    "colab": {
     "base_uri": "https://localhost:8080/"
    },
    "id": "o7MBNmHukjw0",
    "outputId": "1ca43178-97a5-42b4-c094-d5f98b3832ad"
   },
   "outputs": [],
   "source": [
    "# Get coefficients for your question\n",
    "coeff0 = get_coefficients(\n",
    "    question =\" What is insulin-like growth factor receptor binding associated with?\",\n",
    "    kg=kg,\n",
    "    part_names=list(portion_indices.keys()),\n",
    "    portion_indices=portion_indices,\n",
    "    temp=0\n",
    ")\n",
    "\n",
    "print(\"Coefficients:\", coeff0)"
   ]
  },
  {
   "cell_type": "code",
   "execution_count": null,
   "id": "pVj4wjmFqcUq",
   "metadata": {
    "id": "pVj4wjmFqcUq"
   },
   "outputs": [],
   "source": [
    "def get_coefficients(question, kg, part_names, portion_indices, temp=1):\n",
    "    \"\"\"\n",
    "    Calculate coefficients for a given question using hybrid text metrics.\n",
    "\n",
    "    Parameters:\n",
    "    - question: Question string (e.g., \"What is polycystic ovary syndrome?\")\n",
    "    - kg: Knowledge graph (list of triples)\n",
    "    - part_names: List of part names in the KG\n",
    "    - portion_indices: Dictionary mapping part names to index ranges\n",
    "    - temp: Temperature (default 0)\n",
    "\n",
    "    Returns:\n",
    "    - coeff: Coefficients array\n",
    "    \"\"\"\n",
    "    import sklearn.metrics\n",
    "    import numpy as np\n",
    "    from scipy.stats import wasserstein_distance\n",
    "    from scipy.spatial.distance import cosine\n",
    "    from sklearn.linear_model import LinearRegression\n",
    "    import random\n",
    "    temp = 1\n",
    "    # Define the original vector (all parts present)\n",
    "    original = np.ones(len(part_names)).reshape(1, -1)\n",
    "\n",
    "    # Create original graph\n",
    "    graph = NetworkxEntityGraph()\n",
    "    for node1, relation, node2 in kg:\n",
    "        graph.add_triple(KnowledgeTriple(node1, relation, node2))\n",
    "\n",
    "    # Get original answer and embedding\n",
    "    original_answer_str, original_answer_embedding = get_answer_and_embedding(question, temp, graph)\n",
    "\n",
    "    # Initialize lists\n",
    "    similarities_wd = []\n",
    "    similarities_cosine = []\n",
    "    perturbations_vect2 = []\n",
    "    epsilon = 1e-6\n",
    "\n",
    "    # Loop for perturbations\n",
    "    for i in range(20):\n",
    "        perturbation_vector = original.copy().flatten()\n",
    "        num_parts_to_remove = random.randint(1, len(part_names))\n",
    "        parts_to_remove_indices = random.sample(range(len(part_names)), num_parts_to_remove)\n",
    "\n",
    "        for part_idx in parts_to_remove_indices:\n",
    "            perturbation_vector[part_idx] = 0\n",
    "\n",
    "        perturbations_vect2.append(perturbation_vector)\n",
    "        parts_to_remove = [part_names[idx] for idx in parts_to_remove_indices]\n",
    "\n",
    "        # Create perturbed graph\n",
    "        perturbed_kg = perturb_kg_by_removing_parts(kg, parts_to_remove, portion_indices)\n",
    "        graph_temp = NetworkxEntityGraph()\n",
    "        for node1, relation, node2 in perturbed_kg:\n",
    "            graph_temp.add_triple(KnowledgeTriple(node1, relation, node2))\n",
    "\n",
    "        # Get perturbed answer and embedding\n",
    "        temp_response, temp_response_embedding = get_answer_and_embedding(question, temp, graph_temp)\n",
    "\n",
    "        # Convert embeddings to numpy arrays if needed\n",
    "        orig_emb = np.array(original_answer_embedding) if isinstance(original_answer_embedding, list) else original_answer_embedding\n",
    "        temp_emb = np.array(temp_response_embedding) if isinstance(temp_response_embedding, list) else temp_response_embedding\n",
    "\n",
    "        # Calculate metrics\n",
    "        similarity_wd = wasserstein_distance(orig_emb, temp_emb)\n",
    "        similarities_wd.append(similarity_wd)\n",
    "\n",
    "        #similarity_cosine = 1 - cosine(orig_emb, temp_emb)\n",
    "        #similarities_cosine.append(similarity_cosine)\n",
    "\n",
    "    # Convert to numpy array\n",
    "    perturbations_vect2 = np.array(perturbations_vect2)\n",
    "\n",
    "    # Calculate weights\n",
    "    distances = sklearn.metrics.pairwise_distances(perturbations_vect2, original, metric='cosine').ravel()\n",
    "    kernel_width = 0.25\n",
    "    weights = np.sqrt(np.exp(-(distances**2)/kernel_width**2))\n",
    "\n",
    "    # Scale Wasserstein distances\n",
    "    inverse_similarities_wd = [1.0 / (dist + epsilon) for dist in similarities_wd]\n",
    "    min_value = min(inverse_similarities_wd)\n",
    "    max_value = max(inverse_similarities_wd)\n",
    "\n",
    "    if max_value == min_value:\n",
    "        scaled_similarities_wd = [1.0 for _ in inverse_similarities_wd]\n",
    "    else:\n",
    "        scaled_similarities_wd = [(value - min_value) / (max_value - min_value) for value in inverse_similarities_wd]\n",
    "\n",
    "    # Combine similarities\n",
    "    Similarities_ = scaled_similarities_wd #[wd + cos for wd, cos in zip(scaled_similarities_wd, similarities_cosine)]\n",
    "\n",
    "    # Train model and get coefficients\n",
    "    model = LinearRegression()\n",
    "    model.fit(X=perturbations_vect2, y=Similarities_, sample_weight=weights)\n",
    "    coeff = model.coef_\n",
    "\n",
    "    return coeff"
   ]
  },
  {
   "cell_type": "code",
   "execution_count": null,
   "id": "OTYlUKCIqfni",
   "metadata": {
    "colab": {
     "base_uri": "https://localhost:8080/"
    },
    "id": "OTYlUKCIqfni",
    "outputId": "93d64eff-1014-4732-dca3-a7446454f90f"
   },
   "outputs": [],
   "source": [
    "# Get coefficients for your question\n",
    "coeff1 = get_coefficients(\n",
    "    question =\"What is insulin-like growth factor receptor binding associated with?\",\n",
    "    kg=kg,\n",
    "    part_names=list(portion_indices.keys()),\n",
    "    portion_indices=portion_indices,\n",
    "    temp=0\n",
    ")\n",
    "\n",
    "print(\"Coefficients:\", coeff1)"
   ]
  },
  {
   "cell_type": "markdown",
   "id": "8938f2c9-3e34-46da-a4b5-1dbcf621cb2d",
   "metadata": {
    "id": "8938f2c9-3e34-46da-a4b5-1dbcf621cb2d"
   },
   "source": [
    "## Stability: Evaluate the explanation for \"Question\" (Temp 1) by introducing small perturbations in the input or graph structure -\"Neonatal insulin-dependent diabetes mellitus\", \"treated_with\", \"insulin_therapy\""
   ]
  },
  {
   "cell_type": "code",
   "execution_count": null,
   "id": "NkA292uJieDC",
   "metadata": {
    "id": "NkA292uJieDC"
   },
   "outputs": [],
   "source": [
    "kg_added_base = [\n",
    "    # Part 1 (20 original + 1 augmentation)\n",
    "    (\"Neonatal insulin-dependent diabetes mellitus\", \"associated with\", \"insulin-like growth factor receptor binding\"),\n",
    "    (\"insulin-like growth factor receptor binding\", \"ppi\", \"Neonatal insulin-dependent diabetes mellitus\"),\n",
    "    (\"Neonatal insulin-dependent diabetes mellitus\", \"associated with\", \"insulin-like growth factor receptor binding\"),\n",
    "    (\"insulin-like growth factor receptor binding\", \"ppi\", \"Neonatal insulin-dependent diabetes mellitus\"),\n",
    "    (\"Neonatal insulin-dependent diabetes mellitus\", \"ppi\", \"insulin-like growth factor receptor binding\"),\n",
    "    (\"insulin-like growth factor receptor binding\", \"associated with\", \"Neonatal insulin-dependent diabetes mellitus\"),\n",
    "    (\"Neonatal insulin-dependent diabetes mellitus\", \"ppi\", \"insulin-like growth factor receptor binding\"),\n",
    "    (\"insulin-like growth factor receptor binding\", \"associated with\", \"Neonatal insulin-dependent diabetes mellitus\"),\n",
    "    (\"pancreatic A cell fate commitment\", \"ppi\", \"insulin-like growth factor receptor binding\"),\n",
    "    (\"insulin-like growth factor receptor binding\", \"associated with\", \"pancreatic A cell fate commitment\"),\n",
    "    (\"pancreatic serous cystadenocarcinoma\", \"interacts with\", \"insulin-like growth factor receptor binding\"),\n",
    "    (\"insulin-like growth factor receptor binding\", \"associated with\", \"pancreatic serous cystadenocarcinoma\"),\n",
    "    (\"pancreatic A cell fate commitment\", \"associated with\", \"insulin-like growth factor receptor binding\"),\n",
    "    (\"insulin-like growth factor receptor binding\", \"ppi\", \"pancreatic A cell fate commitment\"),\n",
    "    (\"pancreatic serous cystadenocarcinoma\", \"interacts with\", \"insulin-like growth factor receptor binding\"),\n",
    "    (\"insulin-like growth factor receptor binding\", \"associated with\", \"pancreatic serous cystadenocarcinoma\"),\n",
    "    (\"pancreatic serous cystadenocarcinoma\", \"associated with\", \"insulin-like growth factor receptor binding\"),\n",
    "    (\"insulin-like growth factor receptor binding\", \"interacts with\", \"pancreatic serous cystadenocarcinoma\"),\n",
    "    (\"glucagon receptor activity\", \"ppi\", \"low-affinity glucose:proton symporter activity\"),\n",
    "    (\"low-affinity glucose:proton symporter activity\", \"associated with\", \"glucagon receptor activity\"),\n",
    "    (\"Neonatal insulin-dependent diabetes mellitus\", \"treated_with\", \"insulin_therapy\"),  # Common augmentation\n",
    "    # Part 2\n",
    "    (\"vasoconstriction of artery involved in baroreceptor response to lowering of systemic arterial blood pressure\", \"expression present\", \"glucose binding\"),\n",
    "    (\"glucose binding\", \"expression present\", \"Neurofibrillary tangles\"),\n",
    "    (\"Neurofibrillary tangles\", \"ppi\", \"glucose binding\"),\n",
    "    # Part 3\n",
    "    (\"Flurandrenolide\", \"synergistic interaction\", \"Insulin peglispro\"),\n",
    "    # Part 4\n",
    "    (\"glucose 1-phosphate phosphorylation\", \"ppi\", \"mitochondrial genome maintenance\"),\n",
    "    (\"mitochondrial genome maintenance\", \"expression present\", \"glucose 1-phosphate phosphorylation\"),\n",
    "    (\"glucose 1-phosphate phosphorylation\", \"expression present\", \"mitochondrial genome maintenance\"),\n",
    "    (\"mitochondrial genome maintenance\", \"ppi\", \"glucose 1-phosphate phosphorylation\"),\n",
    "    # Part 5\n",
    "    (\"UDP-glucose:glycoprotein glucosyltransferase activity\", \"ppi\", \"serotonin:sodium symporter activity\"),\n",
    "    (\"serotonin:sodium symporter activity\", \"associated with\", \"UDP-glucose:glycoprotein glucosyltransferase activity\"),\n",
    "    # Part 6\n",
    "    (\"Insulin tregopil\", \"synergistic interaction\", \"Cyclothiazide\"),\n",
    "    # Part 7\n",
    "    (\"UDP-glucose transmembrane transporter activity\", \"associated with\", \"protein-DNA-RNA complex remodeling\"),\n",
    "    # Part 8\n",
    "    (\"Severe intrauterine growth retardation\", \"phenotype present\", \"glucose-1-phosphate thymidylyltransferase activity\"),\n",
    "    (\"glucose-1-phosphate thymidylyltransferase activity\", \"ppi\", \"CCL4L1\"),\n",
    "    # Part 9\n",
    "    (\"SFT2D2\", \"expression present\", \"adrenal gland\"),\n",
    "    (\"SFT2D2\", \"expression present\", \"deltoid\"),\n",
    "    # Part 10\n",
    "    (\"diabetic peripheral angiopathy\", \"associated with\", \"calcium-release channel activity\"),\n",
    "    (\"diabetic peripheral angiopathy\", \"associated with\", \"acute myeloid leukemia with t(8;21)(q22;q22) translocation\")\n",
    "]"
   ]
  },
  {
   "cell_type": "code",
   "execution_count": null,
   "id": "jv1gSKTvih55",
   "metadata": {
    "id": "jv1gSKTvih55"
   },
   "outputs": [],
   "source": [
    "part_indices_added_base = {\n",
    "    \"Part 1\": range(0, 21),   # 20 original + 1 augmentation\n",
    "    \"Part 2\": range(21, 24),  # 3 triples\n",
    "    \"Part 3\": range(24, 25),  # 1 triple\n",
    "    \"Part 4\": range(25, 29),  # 4 triples\n",
    "    \"Part 5\": range(29, 31),  # 2 triples\n",
    "    \"Part 6\": range(31, 32),  # 1 triple\n",
    "    \"Part 7\": range(32, 33),  # 1 triple\n",
    "    \"Part 8\": range(33, 35),  # 2 triples\n",
    "    \"Part 9\": range(35, 37),  # 2 triples\n",
    "    \"Part 10\": range(37, 39)  # 2 triples\n",
    "}\n",
    "part_names_added = list(part_indices_added_base.keys())"
   ]
  },
  {
   "cell_type": "code",
   "execution_count": null,
   "id": "ZZCGQViMjanl",
   "metadata": {
    "colab": {
     "base_uri": "https://localhost:8080/"
    },
    "id": "ZZCGQViMjanl",
    "outputId": "8d4ad833-2df6-4795-e726-e62931c3e360"
   },
   "outputs": [],
   "source": [
    "kg_added = kg_added_base + [\n",
    "    (\"insulin-like growth factor receptor binding\", \"associated_with\", \"type_1_diabetes\")\n",
    "]\n",
    "\n",
    "part_indices_added = {\n",
    "\n",
    "    \"Part 1\": range(0, 22),   # 21 base + 1 perturbation\n",
    "    \"Part 2\": range(22, 25),\n",
    "    \"Part 3\": range(25, 26),\n",
    "    \"Part 4\": range(26, 30),\n",
    "    \"Part 5\": range(30, 32),\n",
    "    \"Part 6\": range(32, 33),\n",
    "    \"Part 7\": range(33, 34),\n",
    "    \"Part 8\": range(34, 36),\n",
    "    \"Part 9\": range(36, 38),\n",
    "    \"Part 10\": range(38, 40)\n",
    "}\n",
    "part_names_added = list(part_indices_added.keys())\n",
    "\n",
    "# Print node counts for verification\n",
    "print(\"Original KG node count:\", len(set(node for triple in kg for node in (triple[0], triple[2]))))\n",
    "print(\"Updated KG node count:\", len(set(node for triple in kg_added for node in (triple[0], triple[2]))))"
   ]
  },
  {
   "cell_type": "code",
   "execution_count": null,
   "id": "2b731720",
   "metadata": {
    "colab": {
     "base_uri": "https://localhost:8080/"
    },
    "id": "2b731720",
    "outputId": "7a31140a-d027-40c6-a741-17a7ec2a3001"
   },
   "outputs": [],
   "source": [
    "temp = 1\n",
    "original_answer_str, original_answer_embedding = get_answer_and_embedding(question, temp, graph)\n",
    "print(f\"Original answer: {original_answer_str}\")"
   ]
  },
  {
   "cell_type": "code",
   "execution_count": null,
   "id": "T1toRPH4yg_a",
   "metadata": {
    "colab": {
     "base_uri": "https://localhost:8080/"
    },
    "id": "T1toRPH4yg_a",
    "outputId": "b6534422-6263-48c1-932b-bac22286e3f7",
    "scrolled": true
   },
   "outputs": [],
   "source": [
    "temp= 1\n",
    "coeff = calculate_coefficients_print_Temerature(\n",
    "    temp= temp,\n",
    "    original=original,\n",
    "    kg=kg_added,\n",
    "    part_names=part_names_added,\n",
    "    portion_indices=part_indices_added,\n",
    "    question=question,\n",
    "    original_answer_embedding=original_answer_embedding,\n",
    "    original_answer_str = original_answer_str,\n",
    ")"
   ]
  },
  {
   "cell_type": "code",
   "execution_count": null,
   "id": "ycsMWeO_ygn7",
   "metadata": {
    "colab": {
     "base_uri": "https://localhost:8080/"
    },
    "id": "ycsMWeO_ygn7",
    "outputId": "3aa82b33-2b6f-4794-bca3-a170fea48265"
   },
   "outputs": [],
   "source": [
    "coeff = np.round(coeff, 3)  # Rounds to 3 decimal places\n",
    "coeff"
   ]
  },
  {
   "cell_type": "code",
   "execution_count": null,
   "id": "n4aul74QnE0S",
   "metadata": {
    "colab": {
     "base_uri": "https://localhost:8080/",
     "height": 663
    },
    "id": "n4aul74QnE0S",
    "outputId": "e88c63af-5cde-43ad-ba25-b3be2540015c"
   },
   "outputs": [],
   "source": [
    "coeff_original = coeff1\n",
    "coeff_added =coeff\n",
    "\n",
    "# Call the function\n",
    "plot_knowledge_graph_explainability_compare(\n",
    "    kg_original= kg,\n",
    "    coeff_original=coeff_original,\n",
    "    part_indices_original=portion_indices,\n",
    "    kg_added=kg_added,\n",
    "    coeff_added=coeff_added,\n",
    "    part_indices_added=part_indices_added\n",
    ")"
   ]
  },
  {
   "cell_type": "code",
   "execution_count": null,
   "id": "pUgNVQER0LdB",
   "metadata": {
    "colab": {
     "base_uri": "https://localhost:8080/"
    },
    "id": "pUgNVQER0LdB",
    "outputId": "c3c27457-f559-4b40-ffa9-74cba71344aa"
   },
   "outputs": [],
   "source": [
    "jaccard_index = calculate_jaccard_index(coeff_original, coeff_added)\n",
    "print(\"Jaccard Index:\", jaccard_index)"
   ]
  },
  {
   "cell_type": "markdown",
   "id": "1358f091-cf5d-48d6-8f25-8ddad5eb2bec",
   "metadata": {
    "id": "1358f091-cf5d-48d6-8f25-8ddad5eb2bec"
   },
   "source": [
    "## Stability: Evaluate the explanation (Temp 0) by introducing small perturbations in the input or graph structure -\"Neonatal insulin-dependent diabetes mellitus\", \"treated_with\", \"insulin_therapy"
   ]
  },
  {
   "cell_type": "code",
   "execution_count": null,
   "id": "ae9eb9e4-4a18-41ed-8359-15d9f9a15ce2",
   "metadata": {
    "colab": {
     "base_uri": "https://localhost:8080/"
    },
    "id": "ae9eb9e4-4a18-41ed-8359-15d9f9a15ce2",
    "outputId": "f1ce1085-5787-464f-8863-ea1911225bf1"
   },
   "outputs": [],
   "source": [
    "temp = 0\n",
    "original_answer_str, original_answer_embedding = get_answer_and_embedding(question, temp, graph)\n",
    "print(f\"Original answer: {original_answer_str}\")"
   ]
  },
  {
   "cell_type": "code",
   "execution_count": null,
   "id": "76f10bed-6886-4c1e-a549-91981c3bd895",
   "metadata": {
    "colab": {
     "base_uri": "https://localhost:8080/"
    },
    "id": "76f10bed-6886-4c1e-a549-91981c3bd895",
    "outputId": "b6d1983f-2400-4be9-b411-111c7cb9d78d"
   },
   "outputs": [],
   "source": [
    "coeff = calculate_coefficients_print_Temerature(\n",
    "    temp= temp,\n",
    "    original=original,\n",
    "    kg=kg_added,\n",
    "    part_names=part_names_added,\n",
    "    portion_indices=portion_indices,\n",
    "    question=question,\n",
    "    original_answer_embedding=original_answer_embedding,\n",
    "    original_answer_str = original_answer_str,\n",
    ")"
   ]
  },
  {
   "cell_type": "code",
   "execution_count": null,
   "id": "TIRLEIZF9Ex3",
   "metadata": {
    "colab": {
     "base_uri": "https://localhost:8080/"
    },
    "id": "TIRLEIZF9Ex3",
    "outputId": "688c2c77-0d66-48b1-9932-8a9189dc5a28"
   },
   "outputs": [],
   "source": [
    "coeff = np.round(coeff, 3)  # Rounds to 3 decimal places\n",
    "coeff"
   ]
  },
  {
   "cell_type": "code",
   "execution_count": null,
   "id": "3ab1f8ba-99b0-4aba-a74c-67defd30b0dd",
   "metadata": {
    "colab": {
     "base_uri": "https://localhost:8080/",
     "height": 663
    },
    "id": "3ab1f8ba-99b0-4aba-a74c-67defd30b0dd",
    "outputId": "8d9d8b09-8cae-4c05-e0f8-4c21fd4d0777"
   },
   "outputs": [],
   "source": [
    "# Define the coefficient arrays\n",
    "coeff_original = coeff0\n",
    "coeff_added = coeff\n",
    "# Call the function\n",
    "plot_knowledge_graph_explainability_compare(\n",
    "    kg_original= kg,\n",
    "    coeff_original=coeff_original,\n",
    "    part_indices_original=portion_indices,\n",
    "    kg_added=kg_added,\n",
    "    coeff_added=coeff_added,\n",
    "    part_indices_added=part_indices_added\n",
    ")"
   ]
  },
  {
   "cell_type": "code",
   "execution_count": null,
   "id": "f374b2d3-6454-4562-aaf2-01b8dd4a0af7",
   "metadata": {
    "colab": {
     "base_uri": "https://localhost:8080/"
    },
    "id": "f374b2d3-6454-4562-aaf2-01b8dd4a0af7",
    "outputId": "9a1283a6-1a13-4c7c-c411-20605a752483"
   },
   "outputs": [],
   "source": [
    "jaccard_index = calculate_jaccard_index(coeff_original, coeff_added)\n",
    "print(\"Jaccard Index:\", jaccard_index)"
   ]
  },
  {
   "cell_type": "markdown",
   "id": "3570d4fb-48a2-4cb3-b7bd-c007ed42e2c4",
   "metadata": {
    "id": "3570d4fb-48a2-4cb3-b7bd-c007ed42e2c4"
   },
   "source": [
    "## Stability: Evaluate the explanation (Temp 1) by introducing small perturbations in the input or graph structure -(\"pancreatic serous cystadenocarcinoma\", \"treated_with\", \"chemotherapy\")- and assessing the consistency of generated explanations."
   ]
  },
  {
   "cell_type": "code",
   "execution_count": null,
   "id": "64e4b5e7",
   "metadata": {
    "id": "64e4b5e7"
   },
   "outputs": [],
   "source": [
    "kg_added = kg_added_base + [\n",
    "    (\"pancreatic serous cystadenocarcinoma\", \"treated_with\", \"chemotherapy\")\n",
    "]\n",
    "\n",
    "part_indices_added = {\n",
    "    \"Part 1\": range(0, 22),   # 21 base + 1 perturbation\n",
    "    \"Part 2\": range(22, 25),\n",
    "    \"Part 3\": range(25, 26),\n",
    "    \"Part 4\": range(26, 30),\n",
    "    \"Part 5\": range(30, 32),\n",
    "    \"Part 6\": range(32, 33),\n",
    "    \"Part 7\": range(33, 34),\n",
    "    \"Part 8\": range(34, 36),\n",
    "    \"Part 9\": range(36, 38),\n",
    "    \"Part 10\": range(38, 40)\n",
    "}\n",
    "part_names_added = list(part_indices_added.keys())\n"
   ]
  },
  {
   "cell_type": "code",
   "execution_count": null,
   "id": "tSrBCFGBlCAl",
   "metadata": {
    "colab": {
     "base_uri": "https://localhost:8080/"
    },
    "id": "tSrBCFGBlCAl",
    "outputId": "1d661931-e56b-4b74-d94a-8f508ca080f0"
   },
   "outputs": [],
   "source": [
    "temp = 1\n",
    "original_answer_str, original_answer_embedding = get_answer_and_embedding(question, temp, graph)\n",
    "print(original_answer_str)"
   ]
  },
  {
   "cell_type": "code",
   "execution_count": null,
   "id": "37f347bd",
   "metadata": {
    "colab": {
     "base_uri": "https://localhost:8080/"
    },
    "id": "37f347bd",
    "outputId": "9498b96d-7789-4278-dfde-dc9529553080",
    "scrolled": true
   },
   "outputs": [],
   "source": [
    "coeff = calculate_coefficients_print_Temerature(\n",
    "    temp= temp,\n",
    "    original=original,\n",
    "    kg=kg_added,\n",
    "    part_names=part_names_added,\n",
    "    portion_indices=portion_indices,\n",
    "    question=question,\n",
    "    original_answer_embedding=original_answer_embedding,\n",
    "    original_answer_str = original_answer_str,\n",
    ")"
   ]
  },
  {
   "cell_type": "code",
   "execution_count": null,
   "id": "652769da",
   "metadata": {
    "colab": {
     "base_uri": "https://localhost:8080/"
    },
    "id": "652769da",
    "outputId": "a2bcee9f-ecc3-4615-901e-8b054f11f324"
   },
   "outputs": [],
   "source": [
    "coeff"
   ]
  },
  {
   "cell_type": "code",
   "execution_count": null,
   "id": "45f9ecd6-1363-4b63-a113-d024360e9b80",
   "metadata": {
    "colab": {
     "base_uri": "https://localhost:8080/",
     "height": 663
    },
    "id": "45f9ecd6-1363-4b63-a113-d024360e9b80",
    "outputId": "5c69d847-5023-4720-ca11-2c5c5daaf5f9"
   },
   "outputs": [],
   "source": [
    "coeff_original = coeff1\n",
    "coeff_added = coeff\n",
    "# Call the function\n",
    "plot_knowledge_graph_explainability_compare(\n",
    "    kg_original= kg,\n",
    "    coeff_original=coeff_original,\n",
    "    part_indices_original=portion_indices,\n",
    "    kg_added=kg_added,\n",
    "    coeff_added=coeff_added,\n",
    "    part_indices_added=part_indices_added\n",
    ")"
   ]
  },
  {
   "cell_type": "code",
   "execution_count": null,
   "id": "843ff1d7",
   "metadata": {
    "colab": {
     "base_uri": "https://localhost:8080/"
    },
    "id": "843ff1d7",
    "outputId": "928799ea-6ca8-4045-95c7-a5b7f9812ef4"
   },
   "outputs": [],
   "source": [
    "jaccard_index = calculate_jaccard_index(coeff_original, coeff_added)\n",
    "print(\"Jaccard Index:\", jaccard_index)"
   ]
  },
  {
   "cell_type": "markdown",
   "id": "d9c2dffc-0eef-4f4d-9836-9b0ee52e51e3",
   "metadata": {
    "id": "d9c2dffc-0eef-4f4d-9836-9b0ee52e51e3"
   },
   "source": [
    "## Stability: Evaluate the explanation(Temp 0) by introducing small perturbations in the input or graph structure -(\"pancreatic serous cystadenocarcinoma\", \"treated_with\", \"chemotherapy\")- and assessing the consistency of generated explanations."
   ]
  },
  {
   "cell_type": "code",
   "execution_count": null,
   "id": "9157e257-69d5-40bb-a2d2-ece9e3e8cd11",
   "metadata": {
    "colab": {
     "base_uri": "https://localhost:8080/"
    },
    "id": "9157e257-69d5-40bb-a2d2-ece9e3e8cd11",
    "outputId": "1abd284a-4463-43c5-acb7-25372c826528"
   },
   "outputs": [],
   "source": [
    "temp = 0\n",
    "original_answer_str, original_answer_embedding = get_answer_and_embedding(question, temp, graph)\n",
    "print(f\"Original answer: {original_answer_str}\")"
   ]
  },
  {
   "cell_type": "code",
   "execution_count": null,
   "id": "bXWTwCifEWxo",
   "metadata": {
    "colab": {
     "base_uri": "https://localhost:8080/"
    },
    "id": "bXWTwCifEWxo",
    "outputId": "d3007374-008b-4bcc-ae7c-85fd0e8272df"
   },
   "outputs": [],
   "source": [
    "coeff = calculate_coefficients_print_Temerature(\n",
    "    temp= temp,\n",
    "    original=original,\n",
    "    kg=kg_added,\n",
    "    part_names=part_names_added,\n",
    "    portion_indices=portion_indices,\n",
    "    question=question,\n",
    "    original_answer_embedding=original_answer_embedding,\n",
    "    original_answer_str = original_answer_str,\n",
    ")"
   ]
  },
  {
   "cell_type": "code",
   "execution_count": null,
   "id": "ccabfb5b-dcb0-4daf-8e9f-5bf51dd7c350",
   "metadata": {
    "colab": {
     "base_uri": "https://localhost:8080/"
    },
    "id": "ccabfb5b-dcb0-4daf-8e9f-5bf51dd7c350",
    "outputId": "82d33d0b-40bc-41ee-d5da-607ad4e82d45"
   },
   "outputs": [],
   "source": [
    "coeff"
   ]
  },
  {
   "cell_type": "code",
   "execution_count": null,
   "id": "9433268d-6d49-4e4e-bb03-50a9289aa8c2",
   "metadata": {
    "colab": {
     "base_uri": "https://localhost:8080/",
     "height": 663
    },
    "id": "9433268d-6d49-4e4e-bb03-50a9289aa8c2",
    "outputId": "7befddae-fe97-4c09-b786-eec8f5332598"
   },
   "outputs": [],
   "source": [
    "coeff_original = coeff0\n",
    "coeff_added =coeff\n",
    "# Call the function\n",
    "plot_knowledge_graph_explainability_compare(\n",
    "    kg_original= kg,\n",
    "    coeff_original=coeff_original,\n",
    "    part_indices_original=portion_indices,\n",
    "    kg_added=kg_added,\n",
    "    coeff_added=coeff_added,\n",
    "    part_indices_added=part_indices_added\n",
    ")"
   ]
  },
  {
   "cell_type": "code",
   "execution_count": null,
   "id": "86b1aaab-baa5-43ff-af01-e5015d62a667",
   "metadata": {
    "colab": {
     "base_uri": "https://localhost:8080/"
    },
    "id": "86b1aaab-baa5-43ff-af01-e5015d62a667",
    "outputId": "e5276e1e-bcfd-487c-9781-bcd1973bec5d"
   },
   "outputs": [],
   "source": [
    "jaccard_index = calculate_jaccard_index(coeff_original, coeff_added)\n",
    "print(\"Jaccard Index:\", jaccard_index)"
   ]
  },
  {
   "cell_type": "markdown",
   "id": "595c8115-6982-4536-a5db-5f1a652690a5",
   "metadata": {
    "id": "595c8115-6982-4536-a5db-5f1a652690a5"
   },
   "source": [
    "## Stability: Evaluate the explanation f(Temp 1) by introducing small perturbations in the input or graph structure -(\"glucagon receptor activity\", \"inhibited_by\", \"insulin\")- and assessing the consistency of generated explanations."
   ]
  },
  {
   "cell_type": "code",
   "execution_count": null,
   "id": "33bc5a68",
   "metadata": {
    "id": "33bc5a68"
   },
   "outputs": [],
   "source": [
    "kg_added = kg_added_base + [\n",
    "    (\"glucagon receptor activity\", \"inhibited_by\", \"insulin\")\n",
    "]\n",
    "part_indices_added = {\n",
    "    \"Part 1\": range(0, 22),   # 21 base + 1 perturbation\n",
    "    \"Part 2\": range(22, 25),\n",
    "    \"Part 3\": range(25, 26),\n",
    "    \"Part 4\": range(26, 30),\n",
    "    \"Part 5\": range(30, 32),\n",
    "    \"Part 6\": range(32, 33),\n",
    "    \"Part 7\": range(33, 34),\n",
    "    \"Part 8\": range(34, 36),\n",
    "    \"Part 9\": range(36, 38),\n",
    "    \"Part 10\": range(38, 40)\n",
    "}\n",
    "part_names_added = list(part_indices_added.keys())\n"
   ]
  },
  {
   "cell_type": "code",
   "execution_count": null,
   "id": "f8ff5dfc",
   "metadata": {
    "colab": {
     "base_uri": "https://localhost:8080/"
    },
    "id": "f8ff5dfc",
    "outputId": "88c7026a-de27-412c-c1f7-6a0050fb90a9"
   },
   "outputs": [],
   "source": [
    "temp = 1\n",
    "original_answer_str, original_answer_embedding = get_answer_and_embedding(question, temp, graph)\n",
    "print(original_answer_str)"
   ]
  },
  {
   "cell_type": "code",
   "execution_count": null,
   "id": "cfe7455e",
   "metadata": {
    "colab": {
     "base_uri": "https://localhost:8080/"
    },
    "id": "cfe7455e",
    "outputId": "7abab77e-d205-4bec-842b-47ec5585d34c",
    "scrolled": true
   },
   "outputs": [],
   "source": [
    "coeff = calculate_coefficients_print_Temerature(\n",
    "    temp= temp,\n",
    "    original=original,\n",
    "    kg=kg_added,\n",
    "    part_names=part_names_added,\n",
    "    portion_indices=portion_indices,\n",
    "    question=question,\n",
    "    original_answer_embedding=original_answer_embedding,\n",
    "    original_answer_str = original_answer_str,\n",
    ")"
   ]
  },
  {
   "cell_type": "code",
   "execution_count": null,
   "id": "d2d95232",
   "metadata": {
    "colab": {
     "base_uri": "https://localhost:8080/"
    },
    "id": "d2d95232",
    "outputId": "a84f53dd-706e-4d04-90cd-e9d175836648"
   },
   "outputs": [],
   "source": [
    "coeff"
   ]
  },
  {
   "cell_type": "code",
   "execution_count": null,
   "id": "pE23oLZvzPdR",
   "metadata": {
    "colab": {
     "base_uri": "https://localhost:8080/",
     "height": 663
    },
    "id": "pE23oLZvzPdR",
    "outputId": "04614cf7-e47e-48b2-f982-3ab4e5b7153e"
   },
   "outputs": [],
   "source": [
    "coeff_original = coeff1\n",
    "coeff_added = coeff\n",
    "# Call the function\n",
    "plot_knowledge_graph_explainability_compare(\n",
    "    kg_original= kg,\n",
    "    coeff_original=coeff_original,\n",
    "    part_indices_original=portion_indices,\n",
    "    kg_added=kg_added,\n",
    "    coeff_added=coeff_added,\n",
    "    part_indices_added=part_indices_added\n",
    ")"
   ]
  },
  {
   "cell_type": "code",
   "execution_count": null,
   "id": "43ba7084",
   "metadata": {
    "colab": {
     "base_uri": "https://localhost:8080/"
    },
    "id": "43ba7084",
    "outputId": "47e9f760-c0e5-4c44-f8f6-b92fd59fa435"
   },
   "outputs": [],
   "source": [
    "jaccard_index = calculate_jaccard_index(coeff_original, coeff_added)\n",
    "print(\"Jaccard Index:\", jaccard_index)"
   ]
  },
  {
   "cell_type": "markdown",
   "id": "134584ec-24d9-4094-b18a-b4200fa89ac8",
   "metadata": {
    "id": "134584ec-24d9-4094-b18a-b4200fa89ac8"
   },
   "source": [
    "## Stability: Evaluate the explanation (Temp 0) by introducing small perturbations in the input or graph structure -(\"glucagon receptor activity\", \"inhibited_by\", \"insulin\")- and assessing the consistency of generated explanations."
   ]
  },
  {
   "cell_type": "code",
   "execution_count": null,
   "id": "c8235c99-463e-45b0-b4c0-a593b339731e",
   "metadata": {
    "colab": {
     "base_uri": "https://localhost:8080/"
    },
    "id": "c8235c99-463e-45b0-b4c0-a593b339731e",
    "outputId": "785741f6-1f78-4ee5-9978-650f235ac57b"
   },
   "outputs": [],
   "source": [
    "temp = 0\n",
    "original_answer_str, original_answer_embedding = get_answer_and_embedding(question, temp, graph)\n",
    "print(f\"Original answer: {original_answer_str}\")"
   ]
  },
  {
   "cell_type": "code",
   "execution_count": null,
   "id": "81dac721-d16e-4a63-9db3-cc8d753245ab",
   "metadata": {
    "colab": {
     "base_uri": "https://localhost:8080/"
    },
    "id": "81dac721-d16e-4a63-9db3-cc8d753245ab",
    "outputId": "d918ef67-fb55-442f-9026-f2c35ad839e1"
   },
   "outputs": [],
   "source": [
    "coeff = calculate_coefficients_print_Temerature(\n",
    "    temp= temp,\n",
    "    original=original,\n",
    "    kg=kg_added,\n",
    "    part_names=part_names_added,\n",
    "    portion_indices=portion_indices,\n",
    "    question=question,\n",
    "    original_answer_embedding=original_answer_embedding,\n",
    "    original_answer_str = original_answer_str,\n",
    ")"
   ]
  },
  {
   "cell_type": "code",
   "execution_count": null,
   "id": "305cf246-0faf-45b4-9f89-2144985135c1",
   "metadata": {
    "colab": {
     "base_uri": "https://localhost:8080/"
    },
    "id": "305cf246-0faf-45b4-9f89-2144985135c1",
    "outputId": "704c4db8-de8e-4f7f-da69-2287a739a389"
   },
   "outputs": [],
   "source": [
    "coeff"
   ]
  },
  {
   "cell_type": "code",
   "execution_count": null,
   "id": "632120f7-faee-4c32-840a-211a80295f3b",
   "metadata": {
    "colab": {
     "base_uri": "https://localhost:8080/",
     "height": 663
    },
    "id": "632120f7-faee-4c32-840a-211a80295f3b",
    "outputId": "d22521f5-7ba4-48c9-af8e-3ce0c461265f"
   },
   "outputs": [],
   "source": [
    "coeff_original = coeff0\n",
    "coeff_added = coeff\n",
    "\n",
    "# Call the function\n",
    "plot_knowledge_graph_explainability_compare(\n",
    "    kg_original= kg,\n",
    "    coeff_original=coeff_original,\n",
    "    part_indices_original=portion_indices,\n",
    "    kg_added=kg_added,\n",
    "    coeff_added=coeff_added,\n",
    "    part_indices_added=part_indices_added\n",
    ")"
   ]
  },
  {
   "cell_type": "code",
   "execution_count": null,
   "id": "ad48a5dc-e66d-407d-8c34-eef80b1ad333",
   "metadata": {
    "colab": {
     "base_uri": "https://localhost:8080/"
    },
    "id": "ad48a5dc-e66d-407d-8c34-eef80b1ad333",
    "outputId": "4cb7e4c0-7d26-45d7-b2b2-c9802554126f"
   },
   "outputs": [],
   "source": [
    "jaccard_index = calculate_jaccard_index(coeff_original, coeff_added)\n",
    "print(\"Jaccard Index:\", jaccard_index)"
   ]
  },
  {
   "cell_type": "markdown",
   "id": "fb128d28-2f48-4ce9-8e62-10f082c5b071",
   "metadata": {
    "id": "fb128d28-2f48-4ce9-8e62-10f082c5b071"
   },
   "source": [
    "## Stability: Evaluate the explanation (Temp 1) by introducing small perturbations in the input or graph structure -(\"glucose binding\", \"expression_present\", \"pancreas\")- and assessing the consistency of generated explanations."
   ]
  },
  {
   "cell_type": "code",
   "execution_count": null,
   "id": "912ad204",
   "metadata": {
    "id": "912ad204"
   },
   "outputs": [],
   "source": [
    "kg_added =   kg_added_base + [\n",
    "    (\"glucose binding\", \"expression_present\", \"pancreas\")\n",
    "]\n",
    "part_indices_added = {\n",
    "    \"Part 1\": range(0, 21),\n",
    "    \"Part 2\": range(21, 25),  # 3 base + 1 perturbation\n",
    "    \"Part 3\": range(25, 26),\n",
    "    \"Part 4\": range(26, 30),\n",
    "    \"Part 5\": range(30, 32),\n",
    "    \"Part 6\": range(32, 33),\n",
    "    \"Part 7\": range(33, 34),\n",
    "    \"Part 8\": range(34, 36),\n",
    "    \"Part 9\": range(36, 38),\n",
    "    \"Part 10\": range(38, 40)\n",
    "}\n",
    "part_names_added = list(part_indices_added.keys())"
   ]
  },
  {
   "cell_type": "code",
   "execution_count": null,
   "id": "7aee38df",
   "metadata": {
    "colab": {
     "base_uri": "https://localhost:8080/"
    },
    "id": "7aee38df",
    "outputId": "f9999e06-7778-433e-9488-68d02b021607"
   },
   "outputs": [],
   "source": [
    "temp = 1\n",
    "original_answer_str, original_answer_embedding = get_answer_and_embedding(question, temp, graph)\n",
    "print(original_answer_str)"
   ]
  },
  {
   "cell_type": "code",
   "execution_count": null,
   "id": "63bb4bfd",
   "metadata": {
    "colab": {
     "base_uri": "https://localhost:8080/"
    },
    "id": "63bb4bfd",
    "outputId": "0daad511-a8dc-4fe4-ad7e-3c1285fc9db6",
    "scrolled": true
   },
   "outputs": [],
   "source": [
    "temp= 1\n",
    "coeff = calculate_coefficients_print_Temerature(\n",
    "    temp= temp,\n",
    "    original=original,\n",
    "    kg=kg_added,\n",
    "    part_names=part_names_added,\n",
    "    portion_indices = portion_indices,\n",
    "    question=question,\n",
    "    original_answer_embedding=original_answer_embedding,\n",
    "    original_answer_str = original_answer_str,\n",
    ")"
   ]
  },
  {
   "cell_type": "code",
   "execution_count": null,
   "id": "478c1883",
   "metadata": {
    "colab": {
     "base_uri": "https://localhost:8080/"
    },
    "id": "478c1883",
    "outputId": "1ba7b0b1-2aab-43c0-9315-a575bc461202"
   },
   "outputs": [],
   "source": [
    "coeff"
   ]
  },
  {
   "cell_type": "code",
   "execution_count": null,
   "id": "600b754a",
   "metadata": {
    "colab": {
     "base_uri": "https://localhost:8080/",
     "height": 663
    },
    "id": "600b754a",
    "outputId": "bc774a3a-32f3-4105-8634-24b572686b6f"
   },
   "outputs": [],
   "source": [
    "coeff_original = coeff1\n",
    "coeff_added = coeff\n",
    "# Call the function\n",
    "plot_knowledge_graph_explainability_compare(\n",
    "    kg_original= kg,\n",
    "    coeff_original=coeff_original,\n",
    "    part_indices_original=portion_indices,\n",
    "    kg_added=kg_added,\n",
    "    coeff_added=coeff_added,\n",
    "    part_indices_added=part_indices_added\n",
    ")"
   ]
  },
  {
   "cell_type": "code",
   "execution_count": null,
   "id": "e73c5076",
   "metadata": {
    "colab": {
     "base_uri": "https://localhost:8080/"
    },
    "id": "e73c5076",
    "outputId": "28ab8b5e-e907-447e-e4bb-79b9dd50c594"
   },
   "outputs": [],
   "source": [
    "jaccard_index = calculate_jaccard_index(coeff_original, coeff_added)\n",
    "print(\"Jaccard Index:\", jaccard_index)"
   ]
  },
  {
   "cell_type": "markdown",
   "id": "f30499c2-b790-41f0-b1c9-81c10cae9e14",
   "metadata": {
    "id": "f30499c2-b790-41f0-b1c9-81c10cae9e14"
   },
   "source": [
    "## Stability: Evaluate the explanation (Temp 0) by introducing small perturbations in the input or graph structure -(\"glucose binding\", \"expression_present\", \"pancreas\")- and assessing the consistency of generated explanations."
   ]
  },
  {
   "cell_type": "code",
   "execution_count": null,
   "id": "d5d17706-e1d8-4604-9d07-cde27be6900d",
   "metadata": {
    "colab": {
     "base_uri": "https://localhost:8080/"
    },
    "id": "d5d17706-e1d8-4604-9d07-cde27be6900d",
    "outputId": "03da69fb-0431-42d5-eb78-c16acfab273a"
   },
   "outputs": [],
   "source": [
    "temp = 0\n",
    "original_answer_str, original_answer_embedding = get_answer_and_embedding(question, temp, graph)\n",
    "print(f\"Original answer: {original_answer_str}\")"
   ]
  },
  {
   "cell_type": "code",
   "execution_count": null,
   "id": "daca39ea-97fa-4313-84f6-8552b7e0a6eb",
   "metadata": {
    "colab": {
     "base_uri": "https://localhost:8080/"
    },
    "id": "daca39ea-97fa-4313-84f6-8552b7e0a6eb",
    "outputId": "3037a5db-e643-436a-9e7a-4dd0dfade34c"
   },
   "outputs": [],
   "source": [
    "coeff = calculate_coefficients_print_Temerature(\n",
    "    temp= temp,\n",
    "    original=original,\n",
    "    kg=kg_added,\n",
    "    part_names=part_names_added,\n",
    "    portion_indices =  portion_indices,\n",
    "    question=question,\n",
    "    original_answer_embedding=original_answer_embedding,\n",
    "    original_answer_str = original_answer_str,\n",
    ")"
   ]
  },
  {
   "cell_type": "code",
   "execution_count": null,
   "id": "51aa3848-8c37-41f7-8733-d3cdb9f2587a",
   "metadata": {
    "colab": {
     "base_uri": "https://localhost:8080/"
    },
    "id": "51aa3848-8c37-41f7-8733-d3cdb9f2587a",
    "outputId": "06411ded-e3cc-4b2f-c6ca-fec3a910caa8"
   },
   "outputs": [],
   "source": [
    "coeff"
   ]
  },
  {
   "cell_type": "code",
   "execution_count": null,
   "id": "9ead8f11-920b-42f3-847b-a2bf35aadfaa",
   "metadata": {
    "colab": {
     "base_uri": "https://localhost:8080/",
     "height": 663
    },
    "id": "9ead8f11-920b-42f3-847b-a2bf35aadfaa",
    "outputId": "81fc33a2-7df9-420b-ebcd-cbbadf707af3"
   },
   "outputs": [],
   "source": [
    "coeff_original = coeff0\n",
    "coeff_added = coeff\n",
    "\n",
    "# Call the function\n",
    "plot_knowledge_graph_explainability_compare(\n",
    "    kg_original= kg,\n",
    "    coeff_original=coeff_original,\n",
    "    part_indices_original=portion_indices,\n",
    "    kg_added=kg_added,\n",
    "    coeff_added=coeff_added,\n",
    "    part_indices_added=part_indices_added\n",
    ")"
   ]
  },
  {
   "cell_type": "code",
   "execution_count": null,
   "id": "41f62b56-39b5-4611-95c1-1975a92e962e",
   "metadata": {
    "colab": {
     "base_uri": "https://localhost:8080/"
    },
    "id": "41f62b56-39b5-4611-95c1-1975a92e962e",
    "outputId": "5850db12-cb82-4421-961a-5b3e27b19756"
   },
   "outputs": [],
   "source": [
    "jaccard_index = calculate_jaccard_index(coeff_original, coeff_added)\n",
    "print(\"Jaccard Index:\", jaccard_index)"
   ]
  },
  {
   "cell_type": "markdown",
   "id": "226e33f3-87e6-47c4-8bac-09f704f11590",
   "metadata": {
    "id": "226e33f3-87e6-47c4-8bac-09f704f11590"
   },
   "source": [
    "## Stability: Evaluate the explanation for (Temp 1) by introducing small perturbations in the input or graph structure -(\"Flurandrenolide\", \"used_for\", \"diabetic_skin_conditions\")- and assessing the consistency of generated explanations."
   ]
  },
  {
   "cell_type": "code",
   "execution_count": null,
   "id": "81d38894",
   "metadata": {
    "id": "81d38894"
   },
   "outputs": [],
   "source": [
    "kg_added = kg_added_base + [\n",
    "    (\"Flurandrenolide\", \"used_for\", \"diabetic_skin_conditions\")\n",
    "]\n",
    "part_indices_added = {\n",
    "    \"Part 1\": range(0, 21),\n",
    "    \"Part 2\": range(21, 24),\n",
    "    \"Part 3\": range(24, 26),  # 1 base + 1 perturbation\n",
    "    \"Part 4\": range(26, 30),\n",
    "    \"Part 5\": range(30, 32),\n",
    "    \"Part 6\": range(32, 33),\n",
    "    \"Part 7\": range(33, 34),\n",
    "    \"Part 8\": range(34, 36),\n",
    "    \"Part 9\": range(36, 38),\n",
    "    \"Part 10\": range(38, 40)\n",
    "}\n",
    "part_names_added = list(part_indices_added.keys())\n"
   ]
  },
  {
   "cell_type": "code",
   "execution_count": null,
   "id": "xWp9qiNFTUL0",
   "metadata": {
    "id": "xWp9qiNFTUL0"
   },
   "outputs": [],
   "source": [
    "#visualize_graph_with_chains(kg, portion_indices)"
   ]
  },
  {
   "cell_type": "code",
   "execution_count": null,
   "id": "1b86ab1a",
   "metadata": {
    "colab": {
     "base_uri": "https://localhost:8080/"
    },
    "id": "1b86ab1a",
    "outputId": "c6384e6e-802e-4713-9054-45d5ed7e6dc8"
   },
   "outputs": [],
   "source": [
    "temp = 1\n",
    "original_answer_str, original_answer_embedding = get_answer_and_embedding(question, temp, graph)\n",
    "print(f\"Original answer: {original_answer_str}\")"
   ]
  },
  {
   "cell_type": "code",
   "execution_count": null,
   "id": "7a18c0a2",
   "metadata": {
    "colab": {
     "base_uri": "https://localhost:8080/"
    },
    "id": "7a18c0a2",
    "outputId": "666cd674-ccd4-4cae-d6cc-26a61a733d1a",
    "scrolled": true
   },
   "outputs": [],
   "source": [
    "coeff = calculate_coefficients_print_Temerature(\n",
    "    temp= temp,\n",
    "    original=original,\n",
    "    kg=kg_added,\n",
    "    part_names=part_names_added,\n",
    "    portion_indices =  portion_indices,\n",
    "    question=question,\n",
    "    original_answer_embedding=original_answer_embedding,\n",
    "    original_answer_str = original_answer_str,\n",
    ")"
   ]
  },
  {
   "cell_type": "code",
   "execution_count": null,
   "id": "9bb09a33",
   "metadata": {
    "colab": {
     "base_uri": "https://localhost:8080/"
    },
    "id": "9bb09a33",
    "outputId": "499b6068-44db-4c6d-f492-2effb44f0d3c"
   },
   "outputs": [],
   "source": [
    "coeff"
   ]
  },
  {
   "cell_type": "code",
   "execution_count": null,
   "id": "0fb9f96d",
   "metadata": {
    "colab": {
     "base_uri": "https://localhost:8080/",
     "height": 663
    },
    "id": "0fb9f96d",
    "outputId": "1ea613f7-e8de-4bd4-f681-1f9e5ddc356e"
   },
   "outputs": [],
   "source": [
    "coeff_original = coeff1\n",
    "coeff_added = coeff\n",
    "# Call the function\n",
    "plot_knowledge_graph_explainability_compare(\n",
    "    kg_original= kg,\n",
    "    coeff_original=coeff_original,\n",
    "    part_indices_original=portion_indices,\n",
    "    kg_added=kg_added,\n",
    "    coeff_added=coeff_added,\n",
    "    part_indices_added=part_indices_added\n",
    ")"
   ]
  },
  {
   "cell_type": "code",
   "execution_count": null,
   "id": "084aee63",
   "metadata": {
    "colab": {
     "base_uri": "https://localhost:8080/"
    },
    "id": "084aee63",
    "outputId": "d6b753b2-3d0d-40f9-e810-814dfbd91b46"
   },
   "outputs": [],
   "source": [
    "jaccard_index = calculate_jaccard_index(coeff_original, coeff_added)\n",
    "print(\"Jaccard Index:\", jaccard_index)"
   ]
  },
  {
   "cell_type": "markdown",
   "id": "dd5318d0-d3ed-42c8-bfa7-87356a99fed4",
   "metadata": {
    "id": "dd5318d0-d3ed-42c8-bfa7-87356a99fed4"
   },
   "source": [
    "## Stability: Evaluate the explanation (Temp 0) by introducing small perturbations in the input or graph structure -((\"Flurandrenolide\", \"used_for\", \"diabetic_skin_conditions\")- and assessing the consistency of generated explanations."
   ]
  },
  {
   "cell_type": "code",
   "execution_count": null,
   "id": "f18db5c7-b138-4fa0-b1ec-6bbcf305360b",
   "metadata": {
    "colab": {
     "base_uri": "https://localhost:8080/"
    },
    "id": "f18db5c7-b138-4fa0-b1ec-6bbcf305360b",
    "outputId": "738b605c-f70e-43e2-8dc7-7507ffb4749d"
   },
   "outputs": [],
   "source": [
    "temp = 0\n",
    "original_answer_str, original_answer_embedding = get_answer_and_embedding(question, temp, graph)\n",
    "print(f\"Original answer: {original_answer_str}\")"
   ]
  },
  {
   "cell_type": "code",
   "execution_count": null,
   "id": "701d9fb4-3fe1-4cd4-9b3c-5b71962f2d18",
   "metadata": {
    "colab": {
     "base_uri": "https://localhost:8080/"
    },
    "id": "701d9fb4-3fe1-4cd4-9b3c-5b71962f2d18",
    "outputId": "a355038e-7aa0-4d7f-8449-dcaaa8b7595b"
   },
   "outputs": [],
   "source": [
    "coeff = calculate_coefficients_print_Temerature(\n",
    "    temp= temp,\n",
    "    original=original,\n",
    "    kg=kg_added,\n",
    "    part_names=part_names_added,\n",
    "    portion_indices =  portion_indices,\n",
    "    question=question,\n",
    "    original_answer_embedding=original_answer_embedding,\n",
    "    original_answer_str = original_answer_str,\n",
    ")"
   ]
  },
  {
   "cell_type": "code",
   "execution_count": null,
   "id": "814745af-87bb-4604-84e7-f7cccf04ac2b",
   "metadata": {
    "colab": {
     "base_uri": "https://localhost:8080/"
    },
    "id": "814745af-87bb-4604-84e7-f7cccf04ac2b",
    "outputId": "f16f37d7-e5a9-48fd-a20b-ac12b181b987"
   },
   "outputs": [],
   "source": [
    "coeff"
   ]
  },
  {
   "cell_type": "code",
   "execution_count": null,
   "id": "b10ed5e3-fff0-41f8-a1ee-f791839f0fb6",
   "metadata": {
    "colab": {
     "base_uri": "https://localhost:8080/",
     "height": 663
    },
    "id": "b10ed5e3-fff0-41f8-a1ee-f791839f0fb6",
    "outputId": "d83e99be-30a2-4851-ee63-bc6daf93c8a5"
   },
   "outputs": [],
   "source": [
    "coeff_original = coeff0\n",
    "coeff_added = coeff\n",
    "# Call the function\n",
    "plot_knowledge_graph_explainability_compare(\n",
    "    kg_original= kg,\n",
    "    coeff_original=coeff_original,\n",
    "    part_indices_original=portion_indices,\n",
    "    kg_added=kg_added,\n",
    "    coeff_added=coeff_added,\n",
    "    part_indices_added=part_indices_added\n",
    ")"
   ]
  },
  {
   "cell_type": "code",
   "execution_count": null,
   "id": "790dc38b-aed5-4623-8074-a38edf9badc4",
   "metadata": {
    "colab": {
     "base_uri": "https://localhost:8080/"
    },
    "id": "790dc38b-aed5-4623-8074-a38edf9badc4",
    "outputId": "9876b14c-066d-4567-bc6b-748b4dcd20e2"
   },
   "outputs": [],
   "source": [
    "jaccard_index = calculate_jaccard_index(coeff_original, coeff_added)\n",
    "print(\"Jaccard Index:\", jaccard_index)"
   ]
  },
  {
   "cell_type": "markdown",
   "id": "5da24364-866d-4fbb-8d34-81bb5cdf09cd",
   "metadata": {
    "id": "5da24364-866d-4fbb-8d34-81bb5cdf09cd"
   },
   "source": [
    "## Stability: Evaluate the explanation (Temp 1) by introducing small perturbations in the input or graph structure -((\"glucose 1-phosphate phosphorylation\", \"associated_with\", \"glycogen_storage_disease\")- and assessing the consistency of generated explanations."
   ]
  },
  {
   "cell_type": "code",
   "execution_count": null,
   "id": "e016dfdf",
   "metadata": {
    "id": "e016dfdf"
   },
   "outputs": [],
   "source": [
    "kg_added = kg_added_base + [\n",
    "    (\"glucose 1-phosphate phosphorylation\", \"associated_with\", \"glycogen_storage_disease\")\n",
    "]\n",
    "\n",
    "part_indices_added = {\n",
    "    \"Part 1\": range(0, 21),\n",
    "    \"Part 2\": range(21, 24),\n",
    "    \"Part 3\": range(24, 25),\n",
    "    \"Part 4\": range(25, 30),  # 4 base + 1 perturbation\n",
    "    \"Part 5\": range(30, 32),\n",
    "    \"Part 6\": range(32, 33),\n",
    "    \"Part 7\": range(33, 34),\n",
    "    \"Part 8\": range(34, 36),\n",
    "    \"Part 9\": range(36, 38),\n",
    "    \"Part 10\": range(38, 40)\n",
    "}\n",
    "part_names_added = list(part_indices_added.keys())\n",
    "\n"
   ]
  },
  {
   "cell_type": "code",
   "execution_count": null,
   "id": "72487cf7",
   "metadata": {
    "colab": {
     "base_uri": "https://localhost:8080/"
    },
    "id": "72487cf7",
    "outputId": "7123ef4b-bd8a-4465-82f6-9bd4bca66be2"
   },
   "outputs": [],
   "source": [
    "temp = 1\n",
    "original_answer_str, original_answer_embedding = get_answer_and_embedding(question, temp, graph)\n",
    "print(original_answer_str)"
   ]
  },
  {
   "cell_type": "code",
   "execution_count": null,
   "id": "2fe448b3",
   "metadata": {
    "colab": {
     "base_uri": "https://localhost:8080/"
    },
    "id": "2fe448b3",
    "outputId": "b59f9a2b-f6ca-49b3-8d73-0ddf314dc222",
    "scrolled": true
   },
   "outputs": [],
   "source": [
    "coeff = calculate_coefficients_print_Temerature(\n",
    "    temp= temp,\n",
    "    original=original,\n",
    "    kg=kg_added,\n",
    "    part_names=part_names_added,\n",
    "    portion_indices =  portion_indices,\n",
    "    question=question,\n",
    "    original_answer_embedding=original_answer_embedding,\n",
    "    original_answer_str = original_answer_str,\n",
    ")"
   ]
  },
  {
   "cell_type": "code",
   "execution_count": null,
   "id": "d19b4890",
   "metadata": {
    "colab": {
     "base_uri": "https://localhost:8080/"
    },
    "id": "d19b4890",
    "outputId": "74ab00f6-9685-4952-855d-681f9a12ad44"
   },
   "outputs": [],
   "source": [
    "coeff"
   ]
  },
  {
   "cell_type": "code",
   "execution_count": null,
   "id": "829cf5c0",
   "metadata": {
    "colab": {
     "base_uri": "https://localhost:8080/",
     "height": 663
    },
    "id": "829cf5c0",
    "outputId": "c4f17d30-f77b-4527-a632-9014debf4631"
   },
   "outputs": [],
   "source": [
    "coeff_added = coeff\n",
    "coeff_original = coeff1\n",
    "# Call the function\n",
    "plot_knowledge_graph_explainability_compare(\n",
    "    kg_original= kg,\n",
    "    coeff_original=coeff_original,\n",
    "    part_indices_original=portion_indices,\n",
    "    kg_added=kg_added,\n",
    "    coeff_added=coeff_added,\n",
    "    part_indices_added=part_indices_added\n",
    ")"
   ]
  },
  {
   "cell_type": "code",
   "execution_count": null,
   "id": "5f6b26e8",
   "metadata": {
    "colab": {
     "base_uri": "https://localhost:8080/"
    },
    "id": "5f6b26e8",
    "outputId": "a8d2d369-532e-49d6-b643-6e2c60173876"
   },
   "outputs": [],
   "source": [
    "jaccard_index = calculate_jaccard_index(coeff_original, coeff_added)\n",
    "print(\"Jaccard Index:\", jaccard_index)"
   ]
  },
  {
   "cell_type": "markdown",
   "id": "3d943f56-f791-4fa7-aff1-211328700e23",
   "metadata": {
    "id": "3d943f56-f791-4fa7-aff1-211328700e23"
   },
   "source": [
    "## Stability: Evaluate the explanation (Temp 0) by introducing small perturbations in the input or graph structure -(\"glucose 1-phosphate phosphorylation\", \"associated_with\", \"glycogen_storage_disease\")- and assessing the consistency of generated explanations."
   ]
  },
  {
   "cell_type": "code",
   "execution_count": null,
   "id": "aac7567e-eaf9-4201-9d5c-4510e035dd33",
   "metadata": {
    "colab": {
     "base_uri": "https://localhost:8080/"
    },
    "id": "aac7567e-eaf9-4201-9d5c-4510e035dd33",
    "outputId": "463415b9-dc87-4a67-f032-4912223f7666"
   },
   "outputs": [],
   "source": [
    "temp = 0\n",
    "original_answer_str, original_answer_embedding = get_answer_and_embedding(question, temp, graph)\n",
    "print(f\"Original answer: {original_answer_str}\")"
   ]
  },
  {
   "cell_type": "code",
   "execution_count": null,
   "id": "0a500026-df86-4f0b-b1f4-f1a504074274",
   "metadata": {
    "colab": {
     "base_uri": "https://localhost:8080/"
    },
    "id": "0a500026-df86-4f0b-b1f4-f1a504074274",
    "outputId": "1e6e35d2-a0d0-4866-8bbc-45d7eed5df75"
   },
   "outputs": [],
   "source": [
    "coeff = calculate_coefficients_print_Temerature(\n",
    "    temp= temp,\n",
    "    original=original,\n",
    "    kg=kg_added,\n",
    "    part_names=part_names_added,\n",
    "    portion_indices =  portion_indices,\n",
    "    question=question,\n",
    "    original_answer_embedding=original_answer_embedding,\n",
    "    original_answer_str = original_answer_str,\n",
    ")"
   ]
  },
  {
   "cell_type": "code",
   "execution_count": null,
   "id": "4a33cf24-4ebd-4fb8-af56-5347616632fc",
   "metadata": {
    "colab": {
     "base_uri": "https://localhost:8080/"
    },
    "id": "4a33cf24-4ebd-4fb8-af56-5347616632fc",
    "outputId": "b935aebe-61b7-44a2-c746-fa8b14369c27"
   },
   "outputs": [],
   "source": [
    "coeff"
   ]
  },
  {
   "cell_type": "code",
   "execution_count": null,
   "id": "236b6b80-0847-46c1-b001-efaec58f9552",
   "metadata": {
    "colab": {
     "base_uri": "https://localhost:8080/",
     "height": 663
    },
    "id": "236b6b80-0847-46c1-b001-efaec58f9552",
    "outputId": "eb1c7114-ca0d-456a-b47f-b9b5ef6bedcc"
   },
   "outputs": [],
   "source": [
    "coeff_original = coeff0\n",
    "coeff_added = coeff\n",
    "# Call the function, can we use kg added instead of original\n",
    "plot_knowledge_graph_explainability_compare(\n",
    "    kg_original= kg,\n",
    "    coeff_original=coeff_original,\n",
    "    part_indices_original=portion_indices,\n",
    "    kg_added=kg_added,\n",
    "    coeff_added=coeff_added,\n",
    "    part_indices_added=part_indices_added\n",
    ")"
   ]
  },
  {
   "cell_type": "code",
   "execution_count": null,
   "id": "cf256d6e-9a41-4faf-93b5-4e7fcc62e90a",
   "metadata": {
    "colab": {
     "base_uri": "https://localhost:8080/"
    },
    "id": "cf256d6e-9a41-4faf-93b5-4e7fcc62e90a",
    "outputId": "b3387ee3-6fce-4ea7-8f10-7f6bfb571009"
   },
   "outputs": [],
   "source": [
    "jaccard_index = calculate_jaccard_index(coeff_original, coeff_added)\n",
    "print(\"Jaccard Index:\", jaccard_index)"
   ]
  },
  {
   "cell_type": "markdown",
   "id": "dd6a3372-f1c0-4618-a5ef-3431a926da83",
   "metadata": {
    "id": "dd6a3372-f1c0-4618-a5ef-3431a926da83"
   },
   "source": [
    "## Stability: Evaluate the explanation (Temp 1) by introducing small perturbations in the input or graph structure -((\"UDP-glucose:glycoprotein glucosyltransferase activity\", \"regulates\", \"protein_folding\")- and assessing the consistency of generated explanations."
   ]
  },
  {
   "cell_type": "code",
   "execution_count": null,
   "id": "cbcc2395",
   "metadata": {
    "id": "cbcc2395"
   },
   "outputs": [],
   "source": [
    "kg_added = kg_added_base + [\n",
    "    (\"UDP-glucose:glycoprotein glucosyltransferase activity\", \"regulates\", \"protein_folding\")\n",
    "]\n",
    "\n",
    "part_indices_added = {\n",
    "    \"Part 1\": range(0, 21),\n",
    "    \"Part 2\": range(21, 24),\n",
    "    \"Part 3\": range(24, 25),\n",
    "    \"Part 4\": range(25, 29),\n",
    "    \"Part 5\": range(29, 32),  # 2 base + 1 perturbation\n",
    "    \"Part 6\": range(32, 33),\n",
    "    \"Part 7\": range(33, 34),\n",
    "    \"Part 8\": range(34, 36),\n",
    "    \"Part 9\": range(36, 38),\n",
    "    \"Part 10\": range(38, 40)\n",
    "}\n",
    "part_names_added = list(part_indices_added.keys())\n"
   ]
  },
  {
   "cell_type": "code",
   "execution_count": null,
   "id": "dfad7adb",
   "metadata": {
    "colab": {
     "base_uri": "https://localhost:8080/"
    },
    "id": "dfad7adb",
    "outputId": "1d6072d4-3d37-409e-f7b6-2158156b9fac"
   },
   "outputs": [],
   "source": [
    "temp = 1\n",
    "original_answer_str, original_answer_embedding = get_answer_and_embedding(question, temp, graph)\n",
    "print(f\"Original answer: {original_answer_str}\")"
   ]
  },
  {
   "cell_type": "code",
   "execution_count": null,
   "id": "2a4e863f",
   "metadata": {
    "colab": {
     "base_uri": "https://localhost:8080/"
    },
    "id": "2a4e863f",
    "outputId": "b8b75408-52ef-4f71-e423-a1633adca4d1",
    "scrolled": true
   },
   "outputs": [],
   "source": [
    "coeff = calculate_coefficients_print_Temerature(\n",
    "    temp= temp,\n",
    "    original=original,\n",
    "    kg=kg_added,\n",
    "    part_names=part_names_added,\n",
    "    portion_indices =  portion_indices,\n",
    "    question=question,\n",
    "    original_answer_embedding=original_answer_embedding,\n",
    "    original_answer_str = original_answer_str,\n",
    ")"
   ]
  },
  {
   "cell_type": "code",
   "execution_count": null,
   "id": "50aaead2",
   "metadata": {
    "colab": {
     "base_uri": "https://localhost:8080/"
    },
    "id": "50aaead2",
    "outputId": "5c07678a-c169-421e-8984-8273304cb45a"
   },
   "outputs": [],
   "source": [
    "coeff"
   ]
  },
  {
   "cell_type": "code",
   "execution_count": null,
   "id": "d4e1cee7",
   "metadata": {
    "colab": {
     "base_uri": "https://localhost:8080/",
     "height": 663
    },
    "id": "d4e1cee7",
    "outputId": "f28f7eec-6169-4fcb-8a96-24b9a9484fd5"
   },
   "outputs": [],
   "source": [
    "coeff_original = coeff1\n",
    "\n",
    "coeff_added = coeff\n",
    "# Call the function\n",
    "plot_knowledge_graph_explainability_compare(\n",
    "    kg_original= kg,\n",
    "    coeff_original=coeff_original,\n",
    "    part_indices_original=portion_indices,\n",
    "    kg_added=kg_added,\n",
    "    coeff_added=coeff_added,\n",
    "    part_indices_added=part_indices_added\n",
    ")"
   ]
  },
  {
   "cell_type": "code",
   "execution_count": null,
   "id": "e4658158",
   "metadata": {
    "colab": {
     "base_uri": "https://localhost:8080/"
    },
    "id": "e4658158",
    "outputId": "a204ff38-fc21-4a52-d583-3c4cf393f8f2"
   },
   "outputs": [],
   "source": [
    "jaccard_index = calculate_jaccard_index(coeff_original, coeff_added)\n",
    "print(\"Jaccard Index:\", jaccard_index)"
   ]
  },
  {
   "cell_type": "markdown",
   "id": "522ddced-07f5-47f5-b76d-4402c770bd75",
   "metadata": {
    "id": "522ddced-07f5-47f5-b76d-4402c770bd75"
   },
   "source": [
    "## Stability: Evaluate the explanation (Temp 0) by introducing small perturbations in the input or graph structure -(\"UDP-glucose:glycoprotein glucosyltransferase activity\", \"regulates\", \"protein_folding\")- and assessing the consistency of generated explanations."
   ]
  },
  {
   "cell_type": "code",
   "execution_count": null,
   "id": "8af781f5-da70-4512-86ea-7394f7b8a0dc",
   "metadata": {
    "colab": {
     "base_uri": "https://localhost:8080/"
    },
    "id": "8af781f5-da70-4512-86ea-7394f7b8a0dc",
    "outputId": "f1ec2387-7efe-4419-869c-216bab5ce040"
   },
   "outputs": [],
   "source": [
    "temp = 0\n",
    "original_answer_str, original_answer_embedding = get_answer_and_embedding(question, temp, graph)\n",
    "print(f\"Original answer: {original_answer_str}\")"
   ]
  },
  {
   "cell_type": "code",
   "execution_count": null,
   "id": "e31894d2-67fd-46ec-83dc-3a1267dbeb56",
   "metadata": {
    "colab": {
     "base_uri": "https://localhost:8080/"
    },
    "id": "e31894d2-67fd-46ec-83dc-3a1267dbeb56",
    "outputId": "bcc544a1-6b15-453f-b35d-d1f4d06edc46"
   },
   "outputs": [],
   "source": [
    "coeff = calculate_coefficients_print_Temerature(\n",
    "    temp= temp,\n",
    "    original=original,\n",
    "    kg=kg_added,\n",
    "    part_names=part_names_added,\n",
    "    portion_indices =  portion_indices,\n",
    "    question=question,\n",
    "    original_answer_embedding=original_answer_embedding,\n",
    "    original_answer_str = original_answer_str,\n",
    ")"
   ]
  },
  {
   "cell_type": "code",
   "execution_count": null,
   "id": "aa04766e-bfb6-4186-935a-a463e5ff1f8e",
   "metadata": {
    "colab": {
     "base_uri": "https://localhost:8080/"
    },
    "id": "aa04766e-bfb6-4186-935a-a463e5ff1f8e",
    "outputId": "432ed79b-b3d2-4a9d-8055-c2297fcc7b5e"
   },
   "outputs": [],
   "source": [
    "coeff"
   ]
  },
  {
   "cell_type": "code",
   "execution_count": null,
   "id": "1836b622-19b0-4095-9c71-b9a49a40f996",
   "metadata": {
    "colab": {
     "base_uri": "https://localhost:8080/",
     "height": 663
    },
    "id": "1836b622-19b0-4095-9c71-b9a49a40f996",
    "outputId": "79f466ff-ad6f-48ac-c349-b756e37f8015"
   },
   "outputs": [],
   "source": [
    "coeff_original = coeff0\n",
    "coeff_added = coeff\n",
    "# Call the function\n",
    "plot_knowledge_graph_explainability_compare(\n",
    "    kg_original= kg,\n",
    "    coeff_original=coeff_original,\n",
    "    part_indices_original=portion_indices,\n",
    "    kg_added=kg_added,\n",
    "    coeff_added=coeff_added,\n",
    "    part_indices_added=part_indices_added\n",
    ")"
   ]
  },
  {
   "cell_type": "code",
   "execution_count": null,
   "id": "2caf5abd-cce3-4a77-abde-dfe5088563eb",
   "metadata": {
    "colab": {
     "base_uri": "https://localhost:8080/"
    },
    "id": "2caf5abd-cce3-4a77-abde-dfe5088563eb",
    "outputId": "3cbe8925-f34f-47d4-f713-c45db96243e2"
   },
   "outputs": [],
   "source": [
    "jaccard_index = calculate_jaccard_index(coeff_original, coeff_added)\n",
    "print(\"Jaccard Index:\", jaccard_index)"
   ]
  },
  {
   "cell_type": "markdown",
   "id": "74e406de-dea9-4e35-84d3-96e8d5fab460",
   "metadata": {
    "id": "74e406de-dea9-4e35-84d3-96e8d5fab460"
   },
   "source": [
    "## Stability: Evaluate the explanation(Temp 1) by introducing small perturbations in the input or graph structure -(\"SFT2D2\", \"expression_present\", \"pancreatic_islets\")- and assessing the consistency of generated explanations."
   ]
  },
  {
   "cell_type": "code",
   "execution_count": null,
   "id": "c9085c5a",
   "metadata": {
    "id": "c9085c5a"
   },
   "outputs": [],
   "source": [
    "kg_added = kg_added_base + [\n",
    "    (\"SFT2D2\", \"expression_present\", \"pancreatic_islets\")\n",
    "]\n",
    "part_indices_added ={\n",
    "    \"Part 1\": range(0, 21),\n",
    "    \"Part 2\": range(21, 24),\n",
    "    \"Part 3\": range(24, 25),\n",
    "    \"Part 4\": range(25, 29),\n",
    "    \"Part 5\": range(29, 31),\n",
    "    \"Part 6\": range(31, 32),\n",
    "    \"Part 7\": range(32, 33),\n",
    "    \"Part 8\": range(33, 35),\n",
    "    \"Part 9\": range(35, 38),  # 2 base + 1 perturbation\n",
    "    \"Part 10\": range(38, 40)\n",
    "}\n",
    "part_names_added = list(part_indices_added.keys())\n"
   ]
  },
  {
   "cell_type": "code",
   "execution_count": null,
   "id": "ba5edd63",
   "metadata": {
    "colab": {
     "base_uri": "https://localhost:8080/"
    },
    "id": "ba5edd63",
    "outputId": "78dfd0b1-acdd-4edf-d070-bbd34580da78"
   },
   "outputs": [],
   "source": [
    "temp = 1\n",
    "original_answer_str, original_answer_embedding = get_answer_and_embedding(question, temp, graph)\n",
    "print(original_answer_str)"
   ]
  },
  {
   "cell_type": "code",
   "execution_count": null,
   "id": "72bc2b39",
   "metadata": {
    "colab": {
     "base_uri": "https://localhost:8080/"
    },
    "id": "72bc2b39",
    "outputId": "b4696e7f-2c92-49f0-ea2f-09d491d667c2",
    "scrolled": true
   },
   "outputs": [],
   "source": [
    "coeff = calculate_coefficients_print_Temerature(\n",
    "    temp= temp,\n",
    "    original=original,\n",
    "    kg=kg_added,\n",
    "    part_names=part_names_added,\n",
    "    portion_indices =  portion_indices,\n",
    "    question=question,\n",
    "    original_answer_embedding=original_answer_embedding,\n",
    "    original_answer_str = original_answer_str,\n",
    ")"
   ]
  },
  {
   "cell_type": "code",
   "execution_count": null,
   "id": "9e7a3c68",
   "metadata": {
    "colab": {
     "base_uri": "https://localhost:8080/"
    },
    "id": "9e7a3c68",
    "outputId": "79d5c6f6-6543-444f-ac2a-0aaf0eb639e7"
   },
   "outputs": [],
   "source": [
    "coeff"
   ]
  },
  {
   "cell_type": "code",
   "execution_count": null,
   "id": "6ca39dbd",
   "metadata": {
    "colab": {
     "base_uri": "https://localhost:8080/",
     "height": 663
    },
    "id": "6ca39dbd",
    "outputId": "c43ef1c2-b5ea-4cb1-da3f-c86d36d24759"
   },
   "outputs": [],
   "source": [
    "coeff_original = coeff1\n",
    "\n",
    "coeff_added = coeff\n",
    "# Call the function\n",
    "plot_knowledge_graph_explainability_compare(\n",
    "    kg_original= kg,\n",
    "    coeff_original=coeff_original,\n",
    "    part_indices_original=portion_indices,\n",
    "    kg_added=kg_added,\n",
    "    coeff_added=coeff_added,\n",
    "    part_indices_added=part_indices_added\n",
    ")"
   ]
  },
  {
   "cell_type": "code",
   "execution_count": null,
   "id": "cbea9ced",
   "metadata": {
    "colab": {
     "base_uri": "https://localhost:8080/"
    },
    "id": "cbea9ced",
    "outputId": "94a1a02c-e74c-41b7-9333-df8894fd91d8"
   },
   "outputs": [],
   "source": [
    "jaccard_index = calculate_jaccard_index(coeff_original, coeff_added)\n",
    "print(\"Jaccard Index:\", jaccard_index)"
   ]
  },
  {
   "cell_type": "markdown",
   "id": "a16aefaa-ca63-45a5-b1f7-820b8f6fd2c9",
   "metadata": {
    "id": "a16aefaa-ca63-45a5-b1f7-820b8f6fd2c9"
   },
   "source": [
    "## Stability: Evaluate the explanation (Temp 0) by introducing small perturbations in the input or graph structure -(\"SFT2D2\", \"expression_present\", \"pancreatic_islets\")- and assessing the consistency of generated explanations."
   ]
  },
  {
   "cell_type": "code",
   "execution_count": null,
   "id": "2eb693a0-5e0c-488c-ba33-39171c48d69e",
   "metadata": {
    "colab": {
     "base_uri": "https://localhost:8080/"
    },
    "id": "2eb693a0-5e0c-488c-ba33-39171c48d69e",
    "outputId": "3cf0f5be-176f-4207-a017-79b5aa06041b"
   },
   "outputs": [],
   "source": [
    "temp = 0\n",
    "original_answer_str, original_answer_embedding = get_answer_and_embedding(question, temp, graph)\n",
    "print(f\"Original answer: {original_answer_str}\")"
   ]
  },
  {
   "cell_type": "code",
   "execution_count": null,
   "id": "9281a967-5c9d-47cf-82a2-07aa5c3091c4",
   "metadata": {
    "colab": {
     "base_uri": "https://localhost:8080/"
    },
    "id": "9281a967-5c9d-47cf-82a2-07aa5c3091c4",
    "outputId": "85a3338c-6e5d-4161-8db1-2e39e9452008"
   },
   "outputs": [],
   "source": [
    "coeff = calculate_coefficients_print_Temerature(\n",
    "    temp= temp,\n",
    "    original=original,\n",
    "    kg=kg_added,\n",
    "    part_names=part_names_added,\n",
    "    portion_indices =  portion_indices,\n",
    "    question=question,\n",
    "    original_answer_embedding=original_answer_embedding,\n",
    "    original_answer_str = original_answer_str,\n",
    ")"
   ]
  },
  {
   "cell_type": "code",
   "execution_count": null,
   "id": "e5c4402c-e155-4cc1-963e-d15255b5f0cc",
   "metadata": {
    "colab": {
     "base_uri": "https://localhost:8080/"
    },
    "id": "e5c4402c-e155-4cc1-963e-d15255b5f0cc",
    "outputId": "ffed8433-6f8c-482c-89bd-87e1c7cc0541"
   },
   "outputs": [],
   "source": [
    "coeff"
   ]
  },
  {
   "cell_type": "code",
   "execution_count": null,
   "id": "3a35401c-8e25-4ed7-a688-89a8d2a9a8e6",
   "metadata": {
    "colab": {
     "base_uri": "https://localhost:8080/",
     "height": 663
    },
    "id": "3a35401c-8e25-4ed7-a688-89a8d2a9a8e6",
    "outputId": "5ba0ba82-3d34-4977-d215-687c66fd5c79"
   },
   "outputs": [],
   "source": [
    "coeff_original = coeff0\n",
    "\n",
    "coeff_added = coeff\n",
    "# Call the function\n",
    "plot_knowledge_graph_explainability_compare(\n",
    "    kg_original= kg,\n",
    "    coeff_original=coeff_original,\n",
    "    part_indices_original=portion_indices,\n",
    "    kg_added=kg_added,\n",
    "    coeff_added=coeff_added,\n",
    "    part_indices_added=part_indices_added\n",
    ")"
   ]
  },
  {
   "cell_type": "code",
   "execution_count": null,
   "id": "4ab31642-3171-4063-b93e-b9db0c80e793",
   "metadata": {
    "colab": {
     "base_uri": "https://localhost:8080/"
    },
    "id": "4ab31642-3171-4063-b93e-b9db0c80e793",
    "outputId": "ffeace63-6cd0-46eb-fd70-9703218e45a8"
   },
   "outputs": [],
   "source": [
    "jaccard_index = calculate_jaccard_index(coeff_original, coeff_added)\n",
    "print(\"Jaccard Index:\", jaccard_index)"
   ]
  },
  {
   "cell_type": "markdown",
   "id": "1dfdee14-5f1b-42a2-9a9e-e872fd6aeefc",
   "metadata": {
    "id": "1dfdee14-5f1b-42a2-9a9e-e872fd6aeefc"
   },
   "source": [
    "## Stability: Evaluate the explanation (Temp 1) by introducing small perturbations in the input or graph structure -(\"diabetic peripheral angiopathy\", \"caused_by\", \"chronic_hyperglycemia\")- and assessing the consistency of generated explanations."
   ]
  },
  {
   "cell_type": "code",
   "execution_count": null,
   "id": "e0cadd40",
   "metadata": {
    "id": "e0cadd40"
   },
   "outputs": [],
   "source": [
    "kg_added = kg_added_base + [\n",
    "    (\"diabetic peripheral angiopathy\", \"caused_by\", \"chronic_hyperglycemia\")\n",
    "]\n",
    "part_indices_added = {\n",
    "    \"Part 1\": range(0, 21),\n",
    "    \"Part 2\": range(21, 24),\n",
    "    \"Part 3\": range(24, 25),\n",
    "    \"Part 4\": range(25, 29),\n",
    "    \"Part 5\": range(29, 31),\n",
    "    \"Part 6\": range(31, 32),\n",
    "    \"Part 7\": range(32, 33),\n",
    "    \"Part 8\": range(33, 35),\n",
    "    \"Part 9\": range(35, 37),\n",
    "    \"Part 10\": range(37, 40)  # 2 base + 1 perturbation\n",
    "}\n",
    "part_names_added = list(part_indices_added.keys())\n",
    "\n"
   ]
  },
  {
   "cell_type": "code",
   "execution_count": null,
   "id": "b3906935-0d51-4c9f-99fc-a8bfaf29eb58",
   "metadata": {
    "id": "b3906935-0d51-4c9f-99fc-a8bfaf29eb58"
   },
   "outputs": [],
   "source": [
    "#visualize_graph_with_chains(kg, part_indices)"
   ]
  },
  {
   "cell_type": "code",
   "execution_count": null,
   "id": "b6df9d2c",
   "metadata": {
    "colab": {
     "base_uri": "https://localhost:8080/"
    },
    "id": "b6df9d2c",
    "outputId": "4cf5adde-b5d2-4e9b-a5a0-d4a7475cafbf"
   },
   "outputs": [],
   "source": [
    "temp = 1\n",
    "original_answer_str, original_answer_embedding = get_answer_and_embedding(question, temp, graph)\n",
    "print(original_answer_str)"
   ]
  },
  {
   "cell_type": "code",
   "execution_count": null,
   "id": "50fa0b4e",
   "metadata": {
    "colab": {
     "base_uri": "https://localhost:8080/"
    },
    "id": "50fa0b4e",
    "outputId": "715b5d3b-c749-4770-a84c-217032bb6fc7",
    "scrolled": true
   },
   "outputs": [],
   "source": [
    "coeff = calculate_coefficients_print_Temerature(\n",
    "    temp= temp,\n",
    "    original=original,\n",
    "    kg=kg_added,\n",
    "    part_names=part_names_added,\n",
    "    portion_indices =  portion_indices,\n",
    "    question=question,\n",
    "    original_answer_embedding=original_answer_embedding,\n",
    "    original_answer_str = original_answer_str,\n",
    ")"
   ]
  },
  {
   "cell_type": "code",
   "execution_count": null,
   "id": "f632dc2f",
   "metadata": {
    "colab": {
     "base_uri": "https://localhost:8080/"
    },
    "id": "f632dc2f",
    "outputId": "415378df-79af-4007-8aae-22ef2537dd15"
   },
   "outputs": [],
   "source": [
    "coeff"
   ]
  },
  {
   "cell_type": "code",
   "execution_count": null,
   "id": "b6f36cc1",
   "metadata": {
    "colab": {
     "base_uri": "https://localhost:8080/",
     "height": 663
    },
    "id": "b6f36cc1",
    "outputId": "e559ef57-3d05-4fd2-9cf6-7d490d0fe47d"
   },
   "outputs": [],
   "source": [
    "coeff_original = coeff1\n",
    "coeff_added = coeff\n",
    "# Call the function\n",
    "plot_knowledge_graph_explainability_compare(\n",
    "    kg_original= kg,\n",
    "    coeff_original=coeff_original,\n",
    "    part_indices_original=portion_indices,\n",
    "    kg_added=kg_added,\n",
    "    coeff_added=coeff_added,\n",
    "    part_indices_added=part_indices_added\n",
    ")"
   ]
  },
  {
   "cell_type": "code",
   "execution_count": null,
   "id": "bfa024cb",
   "metadata": {
    "colab": {
     "base_uri": "https://localhost:8080/"
    },
    "id": "bfa024cb",
    "outputId": "71c887d1-941d-41af-c70e-c9bed82ff531"
   },
   "outputs": [],
   "source": [
    "jaccard_index = calculate_jaccard_index(coeff_original, coeff_added)\n",
    "print(\"Jaccard Index:\", jaccard_index)"
   ]
  },
  {
   "cell_type": "markdown",
   "id": "d061aa0b-ed07-427d-bb4f-6cb18b354ee7",
   "metadata": {
    "id": "d061aa0b-ed07-427d-bb4f-6cb18b354ee7"
   },
   "source": [
    "## Stability: Evaluate the explanation (Temp 0) by introducing small perturbations in the input or graph structure -(\"diabetic peripheral angiopathy\", \"caused_by\", \"chronic_hyperglycemia\"))- and assessing the consistency of generated explanations."
   ]
  },
  {
   "cell_type": "code",
   "execution_count": null,
   "id": "0ed4dca7-ec39-435d-aeb3-f1b370904c93",
   "metadata": {
    "colab": {
     "base_uri": "https://localhost:8080/"
    },
    "id": "0ed4dca7-ec39-435d-aeb3-f1b370904c93",
    "outputId": "38c25d0b-0067-4d5b-d908-7cc9ddb2222b"
   },
   "outputs": [],
   "source": [
    "temp = 0\n",
    "original_answer_str, original_answer_embedding = get_answer_and_embedding(question, temp, graph)\n",
    "print(f\"Original answer: {original_answer_str}\")"
   ]
  },
  {
   "cell_type": "code",
   "execution_count": null,
   "id": "8dfa7dee-b4b0-49c4-b080-401123dc0fe4",
   "metadata": {
    "colab": {
     "base_uri": "https://localhost:8080/"
    },
    "id": "8dfa7dee-b4b0-49c4-b080-401123dc0fe4",
    "outputId": "eca82790-5873-4784-bebb-dc17d12f6f5a"
   },
   "outputs": [],
   "source": [
    "coeff = calculate_coefficients_print_Temerature(\n",
    "    temp= temp,\n",
    "    original=original,\n",
    "    kg=kg_added,\n",
    "    part_names=part_names_added,\n",
    "    portion_indices =  portion_indices,\n",
    "    question=question,\n",
    "    original_answer_embedding=original_answer_embedding,\n",
    "    original_answer_str = original_answer_str,\n",
    ")"
   ]
  },
  {
   "cell_type": "code",
   "execution_count": null,
   "id": "f70089a5-c581-4b90-8688-bed6fbc18729",
   "metadata": {
    "colab": {
     "base_uri": "https://localhost:8080/"
    },
    "id": "f70089a5-c581-4b90-8688-bed6fbc18729",
    "outputId": "3bae0078-3edd-40f6-9eb5-f322dd424a3b"
   },
   "outputs": [],
   "source": [
    "coeff"
   ]
  },
  {
   "cell_type": "code",
   "execution_count": null,
   "id": "cda198c3-fbc4-48cc-a8f3-9d3470c5379b",
   "metadata": {
    "colab": {
     "base_uri": "https://localhost:8080/",
     "height": 663
    },
    "id": "cda198c3-fbc4-48cc-a8f3-9d3470c5379b",
    "outputId": "0f97264a-8988-4d0c-9d7a-a1c7f6bd735b"
   },
   "outputs": [],
   "source": [
    "coeff_original = coeff0\n",
    "coeff_added = coeff\n",
    "# Call the function\n",
    "plot_knowledge_graph_explainability_compare(\n",
    "    kg_original= kg,\n",
    "    coeff_original=coeff_original,\n",
    "    part_indices_original=portion_indices,\n",
    "    kg_added=kg_added,\n",
    "    coeff_added=coeff_added,\n",
    "    part_indices_added=part_indices_added\n",
    ")"
   ]
  },
  {
   "cell_type": "code",
   "execution_count": null,
   "id": "03af85b4-a19b-4b0d-9a76-67ae3d7e0b2c",
   "metadata": {
    "colab": {
     "base_uri": "https://localhost:8080/"
    },
    "id": "03af85b4-a19b-4b0d-9a76-67ae3d7e0b2c",
    "outputId": "ed0c413a-29ec-4224-c6ef-171e8f8cbd6e"
   },
   "outputs": [],
   "source": [
    "jaccard_index = calculate_jaccard_index(coeff_original, coeff_added)\n",
    "print(\"Jaccard Index:\", jaccard_index)"
   ]
  },
  {
   "cell_type": "markdown",
   "id": "ae582969-59e8-4ea3-a92d-0d508fc25c45",
   "metadata": {
    "id": "ae582969-59e8-4ea3-a92d-0d508fc25c45"
   },
   "source": [
    "## Stability: Evaluate the explanation (Temp 1) by introducing small perturbations in the input or graph structure -(\"Neonatal insulin-dependent diabetes mellitus\", \"treated_with\", \"insulin_therapy\")- and assessing the consistency of generated explanations."
   ]
  },
  {
   "cell_type": "code",
   "execution_count": null,
   "id": "c162bac5-71cf-4d3d-b680-fe7c7376c729",
   "metadata": {
    "id": "c162bac5-71cf-4d3d-b680-fe7c7376c729"
   },
   "outputs": [],
   "source": [
    "kg_added = [\n",
    "    # Part 1 (20 original + 1 augmentation)\n",
    "    (\"Neonatal insulin-dependent diabetes mellitus\", \"associated with\", \"insulin-like growth factor receptor binding\"),\n",
    "    (\"insulin-like growth factor receptor binding\", \"ppi\", \"Neonatal insulin-dependent diabetes mellitus\"),\n",
    "    (\"Neonatal insulin-dependent diabetes mellitus\", \"associated with\", \"insulin-like growth factor receptor binding\"),\n",
    "    (\"insulin-like growth factor receptor binding\", \"ppi\", \"Neonatal insulin-dependent diabetes mellitus\"),\n",
    "    (\"Neonatal insulin-dependent diabetes mellitus\", \"ppi\", \"insulin-like growth factor receptor binding\"),\n",
    "    (\"insulin-like growth factor receptor binding\", \"associated with\", \"Neonatal insulin-dependent diabetes mellitus\"),\n",
    "    (\"Neonatal insulin-dependent diabetes mellitus\", \"ppi\", \"insulin-like growth factor receptor binding\"),\n",
    "    (\"insulin-like growth factor receptor binding\", \"associated with\", \"Neonatal insulin-dependent diabetes mellitus\"),\n",
    "    (\"pancreatic A cell fate commitment\", \"ppi\", \"insulin-like growth factor receptor binding\"),\n",
    "    (\"insulin-like growth factor receptor binding\", \"associated with\", \"pancreatic A cell fate commitment\"),\n",
    "    (\"pancreatic serous cystadenocarcinoma\", \"interacts with\", \"insulin-like growth factor receptor binding\"),\n",
    "    (\"insulin-like growth factor receptor binding\", \"associated with\", \"pancreatic serous cystadenocarcinoma\"),\n",
    "    (\"pancreatic A cell fate commitment\", \"associated with\", \"insulin-like growth factor receptor binding\"),\n",
    "    (\"insulin-like growth factor receptor binding\", \"ppi\", \"pancreatic A cell fate commitment\"),\n",
    "    (\"pancreatic serous cystadenocarcinoma\", \"interacts with\", \"insulin-like growth factor receptor binding\"),\n",
    "    (\"insulin-like growth factor receptor binding\", \"associated with\", \"pancreatic serous cystadenocarcinoma\"),\n",
    "    (\"pancreatic serous cystadenocarcinoma\", \"associated with\", \"insulin-like growth factor receptor binding\"),\n",
    "    (\"insulin-like growth factor receptor binding\", \"interacts with\", \"pancreatic serous cystadenocarcinoma\"),\n",
    "    (\"glucagon receptor activity\", \"ppi\", \"low-affinity glucose:proton symporter activity\"),\n",
    "    (\"low-affinity glucose:proton symporter activity\", \"associated with\", \"glucagon receptor activity\"),\n",
    "    (\"Neonatal insulin-dependent diabetes mellitus\", \"treated_with\", \"insulin_therapy\"),  # Common augmentation\n",
    "    # Part 2\n",
    "    (\"vasoconstriction of artery involved in baroreceptor response to lowering of systemic arterial blood pressure\", \"expression present\", \"glucose binding\"),\n",
    "    (\"glucose binding\", \"expression present\", \"Neurofibrillary tangles\"),\n",
    "    (\"Neurofibrillary tangles\", \"ppi\", \"glucose binding\"),\n",
    "    # Part 3\n",
    "    (\"Flurandrenolide\", \"synergistic interaction\", \"Insulin peglispro\"),\n",
    "    # Part 4\n",
    "    (\"glucose 1-phosphate phosphorylation\", \"ppi\", \"mitochondrial genome maintenance\"),\n",
    "    (\"mitochondrial genome maintenance\", \"expression present\", \"glucose 1-phosphate phosphorylation\"),\n",
    "    (\"glucose 1-phosphate phosphorylation\", \"expression present\", \"mitochondrial genome maintenance\"),\n",
    "    (\"mitochondrial genome maintenance\", \"ppi\", \"glucose 1-phosphate phosphorylation\"),\n",
    "    # Part 5\n",
    "    (\"UDP-glucose:glycoprotein glucosyltransferase activity\", \"ppi\", \"serotonin:sodium symporter activity\"),\n",
    "    (\"serotonin:sodium symporter activity\", \"associated with\", \"UDP-glucose:glycoprotein glucosyltransferase activity\"),\n",
    "    # Part 6\n",
    "    (\"Insulin tregopil\", \"synergistic interaction\", \"Cyclothiazide\"),\n",
    "    (\"Insulin tregopil\", \"used_for\", \"type_2_diabetes\"),  # Perturbation triple\n",
    "    # Part 7\n",
    "    (\"UDP-glucose transmembrane transporter activity\", \"associated with\", \"protein-DNA-RNA complex remodeling\"),\n",
    "    # Part 8\n",
    "    (\"Severe intrauterine growth retardation\", \"phenotype present\", \"glucose-1-phosphate thymidylyltransferase activity\"),\n",
    "    (\"glucose-1-phosphate thymidylyltransferase activity\", \"ppi\", \"CCL4L1\"),\n",
    "    # Part 9\n",
    "    (\"SFT2D2\", \"expression present\", \"adrenal gland\"),\n",
    "    (\"SFT2D2\", \"expression present\", \"deltoid\"),\n",
    "    # Part 10\n",
    "    (\"diabetic peripheral angiopathy\", \"associated with\", \"calcium-release channel activity\"),\n",
    "    (\"diabetic peripheral angiopathy\", \"associated with\", \"acute myeloid leukemia with t(8;21)(q22;q22) translocation\")\n",
    "]\n",
    "\n",
    "part_indices_added = {\n",
    "    \"Part 1\": range(0, 21),   # 21 triples\n",
    "    \"Part 2\": range(21, 24),  # 3 triples\n",
    "    \"Part 3\": range(24, 25),  # 1 triple\n",
    "    \"Part 4\": range(25, 29),  # 4 triples\n",
    "    \"Part 5\": range(29, 31),  # 2 triples\n",
    "    \"Part 6\": range(31, 33),  # 1 base + 1 perturbation\n",
    "    \"Part 7\": range(33, 34),  # 1 triple\n",
    "    \"Part 8\": range(34, 36),  # 2 triples\n",
    "    \"Part 9\": range(36, 38),  # 2 triples\n",
    "    \"Part 10\": range(38, 40)  # 2 triples\n",
    "}\n",
    "part_names_added = list(part_indices_added.keys())\n",
    "\n"
   ]
  },
  {
   "cell_type": "code",
   "execution_count": null,
   "id": "8cbe6cad",
   "metadata": {
    "colab": {
     "base_uri": "https://localhost:8080/"
    },
    "id": "8cbe6cad",
    "outputId": "7501df4a-2ac1-49d2-9144-2b59eff66787"
   },
   "outputs": [],
   "source": [
    "temp = 1\n",
    "original_answer_str, original_answer_embedding = get_answer_and_embedding(question, temp, graph)\n",
    "print(f\"Original answer: {original_answer_str}\")"
   ]
  },
  {
   "cell_type": "code",
   "execution_count": null,
   "id": "6dbf8569",
   "metadata": {
    "colab": {
     "base_uri": "https://localhost:8080/"
    },
    "id": "6dbf8569",
    "outputId": "3d917bc7-70ec-4d1b-bde7-a18a42cfc50a",
    "scrolled": true
   },
   "outputs": [],
   "source": [
    "coeff = calculate_coefficients_print_Temerature(\n",
    "    temp= temp,\n",
    "    original=original,\n",
    "    kg=kg_added,\n",
    "    part_names=part_names_added,\n",
    "    portion_indices =  portion_indices,\n",
    "    question=question,\n",
    "    original_answer_embedding=original_answer_embedding,\n",
    "    original_answer_str = original_answer_str,\n",
    ")"
   ]
  },
  {
   "cell_type": "code",
   "execution_count": null,
   "id": "2f0d9c68",
   "metadata": {
    "colab": {
     "base_uri": "https://localhost:8080/"
    },
    "id": "2f0d9c68",
    "outputId": "9dcdde64-bf85-41a3-c017-f0a17d03db4c"
   },
   "outputs": [],
   "source": [
    "coeff"
   ]
  },
  {
   "cell_type": "code",
   "execution_count": null,
   "id": "eaa048d9",
   "metadata": {
    "colab": {
     "base_uri": "https://localhost:8080/",
     "height": 663
    },
    "id": "eaa048d9",
    "outputId": "a899f4cb-4fb5-4e32-fc55-a6ca259b7b0a"
   },
   "outputs": [],
   "source": [
    "coeff_original = coeff1\n",
    "coeff_added =coeff\n",
    "# Call the function\n",
    "plot_knowledge_graph_explainability_compare(\n",
    "    kg_original= kg,\n",
    "    coeff_original=coeff_original,\n",
    "    part_indices_original=portion_indices,\n",
    "    kg_added=kg_added,\n",
    "    coeff_added=coeff_added,\n",
    "    part_indices_added=part_indices_added\n",
    ")"
   ]
  },
  {
   "cell_type": "code",
   "execution_count": null,
   "id": "1a4656f9",
   "metadata": {
    "colab": {
     "base_uri": "https://localhost:8080/"
    },
    "id": "1a4656f9",
    "outputId": "90002db2-506a-4ebc-9668-1b2eaa9fe1ee"
   },
   "outputs": [],
   "source": [
    "jaccard_index = calculate_jaccard_index(coeff_original, coeff_added)\n",
    "print(\"Jaccard Index:\", jaccard_index)"
   ]
  },
  {
   "cell_type": "markdown",
   "id": "d0e2e264-b728-45c1-9cf3-f21f8d37d90f",
   "metadata": {
    "id": "d0e2e264-b728-45c1-9cf3-f21f8d37d90f"
   },
   "source": [
    "## Stability: Evaluate the explanation(Temp 0) by introducing small perturbations in the input or graph structure -(\"Neonatal insulin-dependent diabetes mellitus\", \"treated_with\", \"insulin_therapy\")- and assessing the consistency of generated explanations."
   ]
  },
  {
   "cell_type": "code",
   "execution_count": null,
   "id": "4935982d-fc5b-469d-8061-0a34e7562b87",
   "metadata": {
    "colab": {
     "base_uri": "https://localhost:8080/"
    },
    "id": "4935982d-fc5b-469d-8061-0a34e7562b87",
    "outputId": "dc3d45eb-6e68-4ba4-adbe-1a098ce70d55"
   },
   "outputs": [],
   "source": [
    "temp = 0\n",
    "original_answer_str, original_answer_embedding = get_answer_and_embedding(question, temp, graph)\n",
    "print(f\"Original answer: {original_answer_str}\")"
   ]
  },
  {
   "cell_type": "code",
   "execution_count": null,
   "id": "db039eb3-4933-4763-9221-a9e7996ef1e7",
   "metadata": {
    "colab": {
     "base_uri": "https://localhost:8080/"
    },
    "id": "db039eb3-4933-4763-9221-a9e7996ef1e7",
    "outputId": "c1963e1b-8ddb-44a0-b6f6-09a66383fb6d"
   },
   "outputs": [],
   "source": [
    "coeff = calculate_coefficients_print_Temerature(\n",
    "    temp= temp,\n",
    "    original=original,\n",
    "    kg=kg_added,\n",
    "    part_names=part_names_added,\n",
    "    portion_indices =  portion_indices,\n",
    "    question=question,\n",
    "    original_answer_embedding=original_answer_embedding,\n",
    "    original_answer_str = original_answer_str,\n",
    ")"
   ]
  },
  {
   "cell_type": "code",
   "execution_count": null,
   "id": "57c77327-3c8d-4ed6-8e28-55f4a9181a25",
   "metadata": {
    "colab": {
     "base_uri": "https://localhost:8080/"
    },
    "id": "57c77327-3c8d-4ed6-8e28-55f4a9181a25",
    "outputId": "11c7d4b0-a389-4cd5-bbb7-d22da8544e34"
   },
   "outputs": [],
   "source": [
    "coeff"
   ]
  },
  {
   "cell_type": "code",
   "execution_count": null,
   "id": "fdadbbc0-88c4-44c1-9450-e31b3d7c9673",
   "metadata": {
    "colab": {
     "base_uri": "https://localhost:8080/",
     "height": 663
    },
    "id": "fdadbbc0-88c4-44c1-9450-e31b3d7c9673",
    "outputId": "69e70e2a-9406-4ee9-f36b-33a4d914cd11"
   },
   "outputs": [],
   "source": [
    "coeff_original = coeff0\n",
    "coeff_added =coeff\n",
    "# Call the function\n",
    "plot_knowledge_graph_explainability_compare(\n",
    "    kg_original= kg,\n",
    "    coeff_original=coeff_original,\n",
    "    part_indices_original=portion_indices,\n",
    "    kg_added=kg_added,\n",
    "    coeff_added=coeff_added,\n",
    "    part_indices_added=part_indices_added\n",
    ")"
   ]
  },
  {
   "cell_type": "code",
   "execution_count": null,
   "id": "b35ad5d8-7671-4511-a002-560ca96559f2",
   "metadata": {
    "colab": {
     "base_uri": "https://localhost:8080/"
    },
    "id": "b35ad5d8-7671-4511-a002-560ca96559f2",
    "outputId": "3ffd8f68-fc3c-447e-f2dc-1b17c5c541df"
   },
   "outputs": [],
   "source": [
    "jaccard_index = calculate_jaccard_index(coeff_original, coeff_added)\n",
    "print(\"Jaccard Index:\", jaccard_index)"
   ]
  }
 ],
 "metadata": {
  "colab": {
   "provenance": []
  },
  "kernelspec": {
   "display_name": "Python 3 (ipykernel)",
   "language": "python",
   "name": "python3"
  },
  "language_info": {
   "codemirror_mode": {
    "name": "ipython",
    "version": 3
   },
   "file_extension": ".py",
   "mimetype": "text/x-python",
   "name": "python",
   "nbconvert_exporter": "python",
   "pygments_lexer": "ipython3",
   "version": "3.12.1"
  }
 },
 "nbformat": 4,
 "nbformat_minor": 5
}
